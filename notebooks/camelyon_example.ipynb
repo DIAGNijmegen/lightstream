{
 "cells": [
  {
   "cell_type": "code",
   "execution_count": 1,
   "id": "initial_id",
   "metadata": {
    "collapsed": true,
    "ExecuteTime": {
     "end_time": "2024-03-27T18:26:58.537434Z",
     "start_time": "2024-03-27T18:26:41.515348400Z"
    }
   },
   "outputs": [],
   "source": [
    "import torch\n",
    "import pyvips\n",
    "import pandas as pd\n",
    "import albumentationsxl as A\n",
    "\n",
    "from pathlib import Path\n",
    "from torch.utils.data import Dataset, DataLoader\n",
    "from lightstream.models.resnet.resnet import StreamingResNet\n",
    "from sklearn.model_selection import train_test_split\n",
    "from lightning.pytorch import Trainer"
   ]
  },
  {
   "cell_type": "code",
   "execution_count": 2,
   "outputs": [],
   "source": [
    "ROOT_DIR = Path(\"/data/pathology/archives/breast/camelyon/CAMELYON16\")\n",
    "label_df = pd.read_csv(str(ROOT_DIR / Path(\"evaluation/reference.csv\")))\n",
    "image_dir = ROOT_DIR / Path(\"images\")\n",
    "\n",
    "label_df[\"label\"] = label_df[\"class\"].apply(lambda x: 0 if x ==\"negative\" else 1)"
   ],
   "metadata": {
    "collapsed": false,
    "ExecuteTime": {
     "end_time": "2024-03-27T18:26:58.564941900Z",
     "start_time": "2024-03-27T18:26:58.537434Z"
    }
   },
   "id": "a3471843663327ed"
  },
  {
   "cell_type": "code",
   "execution_count": 3,
   "outputs": [],
   "source": [
    "test_df = label_df[label_df[\"image\"].str.startswith(\"test\")]\n",
    "train_df = label_df[label_df[\"image\"].str.startswith(\"normal\") | label_df[\"image\"].str.startswith(\"tumor\")]\n",
    "train_df, val_df = train_test_split(train_df, test_size=0.2, random_state=42,stratify=train_df[\"label\"])"
   ],
   "metadata": {
    "collapsed": false,
    "ExecuteTime": {
     "end_time": "2024-03-27T18:26:58.683609200Z",
     "start_time": "2024-03-27T18:26:58.586941800Z"
    }
   },
   "id": "eb6081b00071e300"
  },
  {
   "cell_type": "code",
   "execution_count": 4,
   "outputs": [],
   "source": [
    "# Normalizing with imagenet statistics is done during streaming in scnn.py, so we don't do that here\n",
    "image_size=4096\n",
    "train_transforms  = A.Compose([A.CropOrPad(image_size, image_size), A.Flip(p=0.5), A.ToDtype(\"float\", scale=True), A.ToTensor()])\n",
    "test_transforms = A.Compose([A.CropOrPad(image_size, image_size), A.ToDtype(\"float\", scale=True), A.ToTensor()])"
   ],
   "metadata": {
    "collapsed": false,
    "ExecuteTime": {
     "end_time": "2024-03-27T18:26:58.742940800Z",
     "start_time": "2024-03-27T18:26:58.694621600Z"
    }
   },
   "id": "d401d6004fc0dcf1"
  },
  {
   "cell_type": "code",
   "execution_count": 5,
   "outputs": [],
   "source": [
    "class CamelyonDataset(Dataset):\n",
    "    def __init__(self, image_dir: list, df: pd.DataFrame, transform: A.Compose| None=None):\n",
    "        self.image_dir = image_dir\n",
    "        self.df = df\n",
    "        self.transforms = transform\n",
    "        self.df[\"image_path\"] = self.df[\"image\"].apply(lambda x: image_dir / Path(x).with_suffix(\".tif\"))\n",
    "        \n",
    "        self.images = self.df[\"image_path\"].tolist()\n",
    "        self.labels = self.df[\"label\"].tolist()\n",
    "        \n",
    "    def __len__(self):\n",
    "        return len(self.df)\n",
    "    \n",
    "    def __getitem__(self, item):\n",
    "        try:\n",
    "            image = pyvips.Image.new_from_file(self.images[item], level=5)[0:3]\n",
    "        except Exception as e:\n",
    "            image = pyvips.Image.new_from_file(self.images[item], page=5)[0:3]\n",
    "            \n",
    "        label = self.labels[item]\n",
    "        if self.transforms is not None:\n",
    "            image = self.transforms(image=image)[\"image\"]\n",
    "        return image, label\n",
    "        "
   ],
   "metadata": {
    "collapsed": false,
    "ExecuteTime": {
     "end_time": "2024-03-27T18:26:58.834430200Z",
     "start_time": "2024-03-27T18:26:58.748944600Z"
    }
   },
   "id": "cec38921fb05e15e"
  },
  {
   "cell_type": "code",
   "execution_count": 6,
   "outputs": [
    {
     "name": "stderr",
     "output_type": "stream",
     "text": [
      "/tmp/ipykernel_3837923/2746024284.py:6: SettingWithCopyWarning: \n",
      "A value is trying to be set on a copy of a slice from a DataFrame.\n",
      "Try using .loc[row_indexer,col_indexer] = value instead\n",
      "\n",
      "See the caveats in the documentation: https://pandas.pydata.org/pandas-docs/stable/user_guide/indexing.html#returning-a-view-versus-a-copy\n",
      "  self.df[\"image_path\"] = self.df[\"image\"].apply(lambda x: image_dir / Path(x).with_suffix(\".tif\"))\n"
     ]
    }
   ],
   "source": [
    "train_loader = DataLoader(dataset=CamelyonDataset(image_dir=image_dir, df=train_df, transform=train_transforms), num_workers=1)\n",
    "valid_loader = DataLoader(dataset=CamelyonDataset(image_dir=image_dir, df=val_df, transform=test_transforms), num_workers=1)\n",
    "test_loader = DataLoader(dataset=CamelyonDataset(image_dir=image_dir, df=test_df, transform=test_transforms), num_workers=1)"
   ],
   "metadata": {
    "collapsed": false,
    "ExecuteTime": {
     "end_time": "2024-03-27T18:26:58.955013200Z",
     "start_time": "2024-03-27T18:26:58.834430200Z"
    }
   },
   "id": "e6016bb9d625b3ab"
  },
  {
   "cell_type": "code",
   "execution_count": 7,
   "outputs": [
    {
     "name": "stdout",
     "output_type": "stream",
     "text": [
      "metrics None\n",
      "Loading tile cache from /tmp/pycharm_project_179/notebooks/tile_cache_1_3_2880_2880\n",
      "previous tile cache found and overwrite is false, not saving\n",
      "WARNING: Streaming network will not be trained\n"
     ]
    }
   ],
   "source": [
    "model = StreamingResNet(model_name=\"resnet18\", tile_size=2880, num_classes=2, train_streaming_layers=False, loss_fn=torch.nn.CrossEntropyLoss())"
   ],
   "metadata": {
    "collapsed": false,
    "ExecuteTime": {
     "end_time": "2024-03-27T18:27:00.215805300Z",
     "start_time": "2024-03-27T18:26:58.964012900Z"
    }
   },
   "id": "e88744eab8f570f8"
  },
  {
   "cell_type": "code",
   "execution_count": 8,
   "outputs": [
    {
     "name": "stderr",
     "output_type": "stream",
     "text": [
      "Using 16bit Automatic Mixed Precision (AMP)\n",
      "GPU available: True (cuda), used: True\n",
      "TPU available: False, using: 0 TPU cores\n",
      "IPU available: False, using: 0 IPUs\n",
      "HPU available: False, using: 0 HPUs\n"
     ]
    }
   ],
   "source": [
    "trainer = Trainer(\n",
    "        default_root_dir=\"./\",\n",
    "        accelerator=\"gpu\",\n",
    "        max_epochs=15,\n",
    "        devices=1,\n",
    "        precision=\"16-mixed\",\n",
    "        strategy=\"auto\",\n",
    "    )"
   ],
   "metadata": {
    "collapsed": false,
    "ExecuteTime": {
     "end_time": "2024-03-27T18:27:00.581658900Z",
     "start_time": "2024-03-27T18:27:00.223805400Z"
    }
   },
   "id": "1d39a4e5766a599e"
  },
  {
   "cell_type": "code",
   "execution_count": 9,
   "outputs": [
    {
     "name": "stderr",
     "output_type": "stream",
     "text": [
      "Missing logger folder: ./lightning_logs\n",
      "LOCAL_RANK: 0 - CUDA_VISIBLE_DEVICES: [0]\n",
      "\n",
      "  | Name           | Type             | Params\n",
      "----------------------------------------------------\n",
      "0 | stream_network | StreamingCNN     | 11.2 M\n",
      "1 | head           | Sequential       | 1.0 K \n",
      "2 | loss_fn        | CrossEntropyLoss | 0     \n",
      "----------------------------------------------------\n",
      "1.0 K     Trainable params\n",
      "11.2 M    Non-trainable params\n",
      "11.2 M    Total params\n",
      "44.710    Total estimated model params size (MB)\n"
     ]
    },
    {
     "data": {
      "text/plain": "Sanity Checking: |          | 0/? [00:00<?, ?it/s]",
      "application/vnd.jupyter.widget-view+json": {
       "version_major": 2,
       "version_minor": 0,
       "model_id": "a049094adb9d47e29bc4ee03118863aa"
      }
     },
     "metadata": {},
     "output_type": "display_data"
    },
    {
     "name": "stderr",
     "output_type": "stream",
     "text": [
      "/usr/local/lib/python3.11/site-packages/lightning/pytorch/trainer/connectors/data_connector.py:441: The 'val_dataloader' does not have many workers which may be a bottleneck. Consider increasing the value of the `num_workers` argument` to `num_workers=5` in the `DataLoader` to improve performance.\n",
      "/usr/local/lib/python3.11/site-packages/lightning/pytorch/trainer/connectors/data_connector.py:441: The 'train_dataloader' does not have many workers which may be a bottleneck. Consider increasing the value of the `num_workers` argument` to `num_workers=5` in the `DataLoader` to improve performance.\n"
     ]
    },
    {
     "data": {
      "text/plain": "Training: |          | 0/? [00:00<?, ?it/s]",
      "application/vnd.jupyter.widget-view+json": {
       "version_major": 2,
       "version_minor": 0,
       "model_id": "c5e8dd97ee284d28abc7ff6658c15e2b"
      }
     },
     "metadata": {},
     "output_type": "display_data"
    },
    {
     "data": {
      "text/plain": "Validation: |          | 0/? [00:00<?, ?it/s]",
      "application/vnd.jupyter.widget-view+json": {
       "version_major": 2,
       "version_minor": 0,
       "model_id": "f5b123c24cb24151968cabfbcde08421"
      }
     },
     "metadata": {},
     "output_type": "display_data"
    },
    {
     "data": {
      "text/plain": "Validation: |          | 0/? [00:00<?, ?it/s]",
      "application/vnd.jupyter.widget-view+json": {
       "version_major": 2,
       "version_minor": 0,
       "model_id": "501f42849b144e9fa8e367d58243e0fe"
      }
     },
     "metadata": {},
     "output_type": "display_data"
    },
    {
     "data": {
      "text/plain": "Validation: |          | 0/? [00:00<?, ?it/s]",
      "application/vnd.jupyter.widget-view+json": {
       "version_major": 2,
       "version_minor": 0,
       "model_id": "b5ef4b3ee7da4c5ab483c030a7c75fbb"
      }
     },
     "metadata": {},
     "output_type": "display_data"
    },
    {
     "data": {
      "text/plain": "Validation: |          | 0/? [00:00<?, ?it/s]",
      "application/vnd.jupyter.widget-view+json": {
       "version_major": 2,
       "version_minor": 0,
       "model_id": "84af8c5c78eb4a5687c9263da3f96d7e"
      }
     },
     "metadata": {},
     "output_type": "display_data"
    },
    {
     "data": {
      "text/plain": "Validation: |          | 0/? [00:00<?, ?it/s]",
      "application/vnd.jupyter.widget-view+json": {
       "version_major": 2,
       "version_minor": 0,
       "model_id": "b68ce9c4ea2d4a1ea9b18c8788f4f72b"
      }
     },
     "metadata": {},
     "output_type": "display_data"
    },
    {
     "data": {
      "text/plain": "Validation: |          | 0/? [00:00<?, ?it/s]",
      "application/vnd.jupyter.widget-view+json": {
       "version_major": 2,
       "version_minor": 0,
       "model_id": "d90975556d7d46089aeaf61a940026d5"
      }
     },
     "metadata": {},
     "output_type": "display_data"
    },
    {
     "data": {
      "text/plain": "Validation: |          | 0/? [00:00<?, ?it/s]",
      "application/vnd.jupyter.widget-view+json": {
       "version_major": 2,
       "version_minor": 0,
       "model_id": "dae9ee811e06429d83120b4fa80a8385"
      }
     },
     "metadata": {},
     "output_type": "display_data"
    },
    {
     "data": {
      "text/plain": "Validation: |          | 0/? [00:00<?, ?it/s]",
      "application/vnd.jupyter.widget-view+json": {
       "version_major": 2,
       "version_minor": 0,
       "model_id": "1ab294fbca774aedbe177c6d5c612a3d"
      }
     },
     "metadata": {},
     "output_type": "display_data"
    },
    {
     "data": {
      "text/plain": "Validation: |          | 0/? [00:00<?, ?it/s]",
      "application/vnd.jupyter.widget-view+json": {
       "version_major": 2,
       "version_minor": 0,
       "model_id": "80b02e695b014488a1a78836ad92e3bc"
      }
     },
     "metadata": {},
     "output_type": "display_data"
    },
    {
     "data": {
      "text/plain": "Validation: |          | 0/? [00:00<?, ?it/s]",
      "application/vnd.jupyter.widget-view+json": {
       "version_major": 2,
       "version_minor": 0,
       "model_id": "cb03f31198bb4efbb0df7e7a3eb0e112"
      }
     },
     "metadata": {},
     "output_type": "display_data"
    },
    {
     "data": {
      "text/plain": "Validation: |          | 0/? [00:00<?, ?it/s]",
      "application/vnd.jupyter.widget-view+json": {
       "version_major": 2,
       "version_minor": 0,
       "model_id": "ab04235ad10a451fa5a1fa9fc9feabb0"
      }
     },
     "metadata": {},
     "output_type": "display_data"
    },
    {
     "data": {
      "text/plain": "Validation: |          | 0/? [00:00<?, ?it/s]",
      "application/vnd.jupyter.widget-view+json": {
       "version_major": 2,
       "version_minor": 0,
       "model_id": "0a473485a86345858c25fb53fd0a3b9f"
      }
     },
     "metadata": {},
     "output_type": "display_data"
    },
    {
     "data": {
      "text/plain": "Validation: |          | 0/? [00:00<?, ?it/s]",
      "application/vnd.jupyter.widget-view+json": {
       "version_major": 2,
       "version_minor": 0,
       "model_id": "98a2ae91636c4355880b3a634200d903"
      }
     },
     "metadata": {},
     "output_type": "display_data"
    },
    {
     "data": {
      "text/plain": "Validation: |          | 0/? [00:00<?, ?it/s]",
      "application/vnd.jupyter.widget-view+json": {
       "version_major": 2,
       "version_minor": 0,
       "model_id": "fd941e7430be4df2b56660d020fd0e12"
      }
     },
     "metadata": {},
     "output_type": "display_data"
    },
    {
     "data": {
      "text/plain": "Validation: |          | 0/? [00:00<?, ?it/s]",
      "application/vnd.jupyter.widget-view+json": {
       "version_major": 2,
       "version_minor": 0,
       "model_id": "a3b86cc5a35648d5ac8925d69a557ad1"
      }
     },
     "metadata": {},
     "output_type": "display_data"
    },
    {
     "name": "stderr",
     "output_type": "stream",
     "text": [
      "`Trainer.fit` stopped: `max_epochs=15` reached.\n"
     ]
    }
   ],
   "source": [
    "trainer.fit(model=model, train_dataloaders=train_loader, val_dataloaders=valid_loader)"
   ],
   "metadata": {
    "collapsed": false,
    "ExecuteTime": {
     "end_time": "2024-03-27T19:18:23.098189Z",
     "start_time": "2024-03-27T18:27:00.623737200Z"
    }
   },
   "id": "6428abfa349c40d6"
  },
  {
   "cell_type": "code",
   "execution_count": 10,
   "outputs": [
    {
     "data": {
      "text/plain": "<pyvips.Image 741x1645 uchar, 3 bands, srgb>"
     },
     "execution_count": 10,
     "metadata": {},
     "output_type": "execute_result"
    }
   ],
   "source": [
    "image = pyvips.Image.new_from_file('/data/pathology/archives/breast/camelyon/CAMELYON16/images/normal_144.tif', page=7)\n",
    "image"
   ],
   "metadata": {
    "collapsed": false,
    "ExecuteTime": {
     "end_time": "2024-03-27T19:18:23.134234900Z",
     "start_time": "2024-03-27T19:18:23.104189100Z"
    }
   },
   "id": "154eaaeb61202055"
  },
  {
   "cell_type": "code",
   "execution_count": 85,
   "outputs": [
    {
     "name": "stdout",
     "output_type": "stream",
     "text": [
      "opening file /data/pathology/archives/breast/camelyon/CAMELYON16/images/tumor_062.tif\n",
      "opening file /data/pathology/archives/breast/camelyon/CAMELYON16/images/normal_124.tif\n",
      "opening file /data/pathology/archives/breast/camelyon/CAMELYON16/images/test_012.tif\n",
      "opening file /data/pathology/archives/breast/camelyon/CAMELYON16/images/normal_158.tif\n",
      "opening file /data/pathology/archives/breast/camelyon/CAMELYON16/images/tumor_019.tif\n",
      "opening file /data/pathology/archives/breast/camelyon/CAMELYON16/images/test_015.tif\n",
      "opening file /data/pathology/archives/breast/camelyon/CAMELYON16/images/normal_007.tif\n",
      "opening file /data/pathology/archives/breast/camelyon/CAMELYON16/images/test_069.tif\n",
      "opening file /data/pathology/archives/breast/camelyon/CAMELYON16/images/tumor_065.tif\n",
      "opening file /data/pathology/archives/breast/camelyon/CAMELYON16/images/normal_123.tif\n",
      "opening file /data/pathology/archives/breast/camelyon/CAMELYON16/images/tumor_017.tif\n",
      "opening file /data/pathology/archives/breast/camelyon/CAMELYON16/images/normal_151.tif\n",
      "opening file /data/pathology/archives/breast/camelyon/CAMELYON16/images/normal_009.tif\n",
      "opening file /data/pathology/archives/breast/camelyon/CAMELYON16/images/test_067.tif\n",
      "opening file /data/pathology/archives/breast/camelyon/CAMELYON16/images/normal_075.tif\n",
      "opening file /data/pathology/archives/breast/camelyon/CAMELYON16/images/test_060.tif\n",
      "opening file /data/pathology/archives/breast/camelyon/CAMELYON16/images/normal_072.tif\n",
      "opening file /data/pathology/archives/breast/camelyon/CAMELYON16/images/tumor_010.tif\n",
      "opening file /data/pathology/archives/breast/camelyon/CAMELYON16/images/normal_156.tif\n",
      "opening file /data/pathology/archives/breast/camelyon/CAMELYON16/images/test_084.tif\n",
      "opening file /data/pathology/archives/breast/camelyon/CAMELYON16/images/tumor_088.tif\n",
      "opening file /data/pathology/archives/breast/camelyon/CAMELYON16/images/tumor_059.tif\n",
      "opening file /data/pathology/archives/breast/camelyon/CAMELYON16/images/test_055.tif\n",
      "opening file /data/pathology/archives/breast/camelyon/CAMELYON16/images/tumor_101.tif\n",
      "opening file /data/pathology/archives/breast/camelyon/CAMELYON16/images/normal_096.tif\n",
      "opening file /data/pathology/archives/breast/camelyon/CAMELYON16/images/normal_047.tif\n",
      "opening file /data/pathology/archives/breast/camelyon/CAMELYON16/images/test_029.tif\n",
      "opening file /data/pathology/archives/breast/camelyon/CAMELYON16/images/tumor_025.tif\n",
      "opening file /data/pathology/archives/breast/camelyon/CAMELYON16/images/tumor_022.tif\n",
      "opening file /data/pathology/archives/breast/camelyon/CAMELYON16/images/normal_118.tif\n",
      "opening file /data/pathology/archives/breast/camelyon/CAMELYON16/images/test_083.tif\n",
      "opening file /data/pathology/archives/breast/camelyon/CAMELYON16/images/test_052.tif\n",
      "opening file /data/pathology/archives/breast/camelyon/CAMELYON16/images/tumor_106.tif\n",
      "opening file /data/pathology/archives/breast/camelyon/CAMELYON16/images/normal_091.tif\n",
      "opening file /data/pathology/archives/breast/camelyon/CAMELYON16/images/normal_040.tif\n",
      "opening file /data/pathology/archives/breast/camelyon/CAMELYON16/images/test_020.tif\n",
      "opening file /data/pathology/archives/breast/camelyon/CAMELYON16/images/normal_032.tif\n",
      "opening file /data/pathology/archives/breast/camelyon/CAMELYON16/images/normal_116.tif\n",
      "opening file /data/pathology/archives/breast/camelyon/CAMELYON16/images/tumor_081.tif\n",
      "opening file /data/pathology/archives/breast/camelyon/CAMELYON16/images/tumor_050.tif\n",
      "opening file /data/pathology/archives/breast/camelyon/CAMELYON16/images/tumor_108.tif\n",
      "opening file /data/pathology/archives/breast/camelyon/CAMELYON16/images/test_104.tif\n",
      "opening file /data/pathology/archives/breast/camelyon/CAMELYON16/images/normal_111.tif\n",
      "opening file /data/pathology/archives/breast/camelyon/CAMELYON16/images/tumor_086.tif\n",
      "opening file /data/pathology/archives/breast/camelyon/CAMELYON16/images/tumor_057.tif\n",
      "opening file /data/pathology/archives/breast/camelyon/CAMELYON16/images/test_103.tif\n",
      "opening file /data/pathology/archives/breast/camelyon/CAMELYON16/images/normal_098.tif\n",
      "opening file /data/pathology/archives/breast/camelyon/CAMELYON16/images/normal_049.tif\n",
      "opening file /data/pathology/archives/breast/camelyon/CAMELYON16/images/test_027.tif\n",
      "opening file /data/pathology/archives/breast/camelyon/CAMELYON16/images/normal_035.tif\n",
      "opening file /data/pathology/archives/breast/camelyon/CAMELYON16/images/normal_058.tif\n",
      "opening file /data/pathology/archives/breast/camelyon/CAMELYON16/images/test_112.tif\n",
      "opening file /data/pathology/archives/breast/camelyon/CAMELYON16/images/normal_089.tif\n",
      "opening file /data/pathology/archives/breast/camelyon/CAMELYON16/images/tumor_046.tif\n",
      "opening file /data/pathology/archives/breast/camelyon/CAMELYON16/images/normal_100.tif\n",
      "opening file /data/pathology/archives/breast/camelyon/CAMELYON16/images/tumor_097.tif\n",
      "opening file /data/pathology/archives/breast/camelyon/CAMELYON16/images/normal_024.tif\n",
      "opening file /data/pathology/archives/breast/camelyon/CAMELYON16/images/test_036.tif\n",
      "opening file /data/pathology/archives/breast/camelyon/CAMELYON16/images/normal_023.tif\n",
      "opening file /data/pathology/archives/breast/camelyon/CAMELYON16/images/test_031.tif\n",
      "opening file /data/pathology/archives/breast/camelyon/CAMELYON16/images/test_115.tif\n",
      "opening file /data/pathology/archives/breast/camelyon/CAMELYON16/images/tumor_041.tif\n",
      "opening file /data/pathology/archives/breast/camelyon/CAMELYON16/images/normal_107.tif\n",
      "opening file /data/pathology/archives/breast/camelyon/CAMELYON16/images/tumor_090.tif\n",
      "opening file /data/pathology/archives/breast/camelyon/CAMELYON16/images/tumor_033.tif\n",
      "opening file /data/pathology/archives/breast/camelyon/CAMELYON16/images/normal_051.tif\n",
      "opening file /data/pathology/archives/breast/camelyon/CAMELYON16/images/normal_080.tif\n",
      "opening file /data/pathology/archives/breast/camelyon/CAMELYON16/images/test_043.tif\n",
      "opening file /data/pathology/archives/breast/camelyon/CAMELYON16/images/normal_109.tif\n",
      "opening file /data/pathology/archives/breast/camelyon/CAMELYON16/images/test_092.tif\n",
      "opening file /data/pathology/archives/breast/camelyon/CAMELYON16/images/normal_056.tif\n",
      "opening file /data/pathology/archives/breast/camelyon/CAMELYON16/images/tumor_110.tif\n",
      "opening file /data/pathology/archives/breast/camelyon/CAMELYON16/images/normal_087.tif\n",
      "opening file /data/pathology/archives/breast/camelyon/CAMELYON16/images/test_044.tif\n",
      "opening file /data/pathology/archives/breast/camelyon/CAMELYON16/images/tumor_048.tif\n",
      "opening file /data/pathology/archives/breast/camelyon/CAMELYON16/images/tumor_099.tif\n",
      "opening file /data/pathology/archives/breast/camelyon/CAMELYON16/images/test_095.tif\n",
      "opening file /data/pathology/archives/breast/camelyon/CAMELYON16/images/tumor_034.tif\n",
      "opening file /data/pathology/archives/breast/camelyon/CAMELYON16/images/test_038.tif\n",
      "opening file /data/pathology/archives/breast/camelyon/CAMELYON16/images/test_129.tif\n",
      "opening file /data/pathology/archives/breast/camelyon/CAMELYON16/images/normal_063.tif\n",
      "opening file /data/pathology/archives/breast/camelyon/CAMELYON16/images/test_071.tif\n",
      "opening file /data/pathology/archives/breast/camelyon/CAMELYON16/images/normal_147.tif\n",
      "opening file /data/pathology/archives/breast/camelyon/CAMELYON16/images/tumor_001.tif\n",
      "opening file /data/pathology/archives/breast/camelyon/CAMELYON16/images/normal_018.tif\n",
      "opening file /data/pathology/archives/breast/camelyon/CAMELYON16/images/normal_140.tif\n",
      "opening file /data/pathology/archives/breast/camelyon/CAMELYON16/images/tumor_006.tif\n",
      "opening file /data/pathology/archives/breast/camelyon/CAMELYON16/images/normal_064.tif\n",
      "opening file /data/pathology/archives/breast/camelyon/CAMELYON16/images/test_076.tif\n",
      "opening file /data/pathology/archives/breast/camelyon/CAMELYON16/images/normal_016.tif\n",
      "opening file /data/pathology/archives/breast/camelyon/CAMELYON16/images/test_004.tif\n",
      "opening file /data/pathology/archives/breast/camelyon/CAMELYON16/images/tumor_008.tif\n",
      "opening file /data/pathology/archives/breast/camelyon/CAMELYON16/images/test_120.tif\n",
      "opening file /data/pathology/archives/breast/camelyon/CAMELYON16/images/normal_132.tif\n",
      "opening file /data/pathology/archives/breast/camelyon/CAMELYON16/images/tumor_074.tif\n",
      "opening file /data/pathology/archives/breast/camelyon/CAMELYON16/images/test_078.tif\n",
      "opening file /data/pathology/archives/breast/camelyon/CAMELYON16/images/test_127.tif\n",
      "opening file /data/pathology/archives/breast/camelyon/CAMELYON16/images/normal_135.tif\n",
      "opening file /data/pathology/archives/breast/camelyon/CAMELYON16/images/tumor_073.tif\n",
      "opening file /data/pathology/archives/breast/camelyon/CAMELYON16/images/normal_011.tif\n",
      "opening file /data/pathology/archives/breast/camelyon/CAMELYON16/images/normal_149.tif\n",
      "opening file /data/pathology/archives/breast/camelyon/CAMELYON16/images/test_003.tif\n",
      "opening file /data/pathology/archives/breast/camelyon/CAMELYON16/images/normal_110.tif\n",
      "opening file /data/pathology/archives/breast/camelyon/CAMELYON16/images/tumor_087.tif\n",
      "opening file /data/pathology/archives/breast/camelyon/CAMELYON16/images/tumor_056.tif\n",
      "opening file /data/pathology/archives/breast/camelyon/CAMELYON16/images/test_102.tif\n",
      "opening file /data/pathology/archives/breast/camelyon/CAMELYON16/images/normal_099.tif\n",
      "opening file /data/pathology/archives/breast/camelyon/CAMELYON16/images/normal_048.tif\n",
      "opening file /data/pathology/archives/breast/camelyon/CAMELYON16/images/test_026.tif\n",
      "opening file /data/pathology/archives/breast/camelyon/CAMELYON16/images/normal_034.tif\n",
      "opening file /data/pathology/archives/breast/camelyon/CAMELYON16/images/test_021.tif\n",
      "opening file /data/pathology/archives/breast/camelyon/CAMELYON16/images/normal_033.tif\n",
      "opening file /data/pathology/archives/breast/camelyon/CAMELYON16/images/normal_117.tif\n",
      "opening file /data/pathology/archives/breast/camelyon/CAMELYON16/images/tumor_080.tif\n",
      "opening file /data/pathology/archives/breast/camelyon/CAMELYON16/images/tumor_051.tif\n",
      "opening file /data/pathology/archives/breast/camelyon/CAMELYON16/images/test_105.tif\n",
      "opening file /data/pathology/archives/breast/camelyon/CAMELYON16/images/tumor_109.tif\n",
      "opening file /data/pathology/archives/breast/camelyon/CAMELYON16/images/tumor_023.tif\n",
      "opening file /data/pathology/archives/breast/camelyon/CAMELYON16/images/normal_119.tif\n",
      "opening file /data/pathology/archives/breast/camelyon/CAMELYON16/images/test_082.tif\n",
      "opening file /data/pathology/archives/breast/camelyon/CAMELYON16/images/test_053.tif\n",
      "opening file /data/pathology/archives/breast/camelyon/CAMELYON16/images/tumor_107.tif\n",
      "opening file /data/pathology/archives/breast/camelyon/CAMELYON16/images/normal_090.tif\n",
      "opening file /data/pathology/archives/breast/camelyon/CAMELYON16/images/normal_041.tif\n",
      "opening file /data/pathology/archives/breast/camelyon/CAMELYON16/images/tumor_089.tif\n",
      "opening file /data/pathology/archives/breast/camelyon/CAMELYON16/images/test_085.tif\n",
      "opening file /data/pathology/archives/breast/camelyon/CAMELYON16/images/test_054.tif\n",
      "opening file /data/pathology/archives/breast/camelyon/CAMELYON16/images/tumor_058.tif\n",
      "opening file /data/pathology/archives/breast/camelyon/CAMELYON16/images/tumor_100.tif\n",
      "opening file /data/pathology/archives/breast/camelyon/CAMELYON16/images/normal_097.tif\n",
      "opening file /data/pathology/archives/breast/camelyon/CAMELYON16/images/normal_046.tif\n",
      "opening file /data/pathology/archives/breast/camelyon/CAMELYON16/images/tumor_024.tif\n",
      "opening file /data/pathology/archives/breast/camelyon/CAMELYON16/images/test_028.tif\n",
      "opening file /data/pathology/archives/breast/camelyon/CAMELYON16/images/test_061.tif\n",
      "opening file /data/pathology/archives/breast/camelyon/CAMELYON16/images/normal_073.tif\n",
      "opening file /data/pathology/archives/breast/camelyon/CAMELYON16/images/tumor_011.tif\n",
      "opening file /data/pathology/archives/breast/camelyon/CAMELYON16/images/normal_157.tif\n",
      "opening file /data/pathology/archives/breast/camelyon/CAMELYON16/images/tumor_016.tif\n",
      "opening file /data/pathology/archives/breast/camelyon/CAMELYON16/images/normal_150.tif\n",
      "opening file /data/pathology/archives/breast/camelyon/CAMELYON16/images/normal_008.tif\n",
      "opening file /data/pathology/archives/breast/camelyon/CAMELYON16/images/test_066.tif\n",
      "opening file /data/pathology/archives/breast/camelyon/CAMELYON16/images/normal_074.tif\n",
      "opening file /data/pathology/archives/breast/camelyon/CAMELYON16/images/test_014.tif\n",
      "opening file /data/pathology/archives/breast/camelyon/CAMELYON16/images/tumor_018.tif\n",
      "opening file /data/pathology/archives/breast/camelyon/CAMELYON16/images/normal_006.tif\n",
      "opening file /data/pathology/archives/breast/camelyon/CAMELYON16/images/tumor_064.tif\n",
      "opening file /data/pathology/archives/breast/camelyon/CAMELYON16/images/test_068.tif\n",
      "opening file /data/pathology/archives/breast/camelyon/CAMELYON16/images/normal_122.tif\n",
      "opening file /data/pathology/archives/breast/camelyon/CAMELYON16/images/test_130.tif\n",
      "opening file /data/pathology/archives/breast/camelyon/CAMELYON16/images/tumor_063.tif\n",
      "opening file /data/pathology/archives/breast/camelyon/CAMELYON16/images/normal_125.tif\n",
      "opening file /data/pathology/archives/breast/camelyon/CAMELYON16/images/test_013.tif\n",
      "opening file /data/pathology/archives/breast/camelyon/CAMELYON16/images/normal_159.tif\n",
      "opening file /data/pathology/archives/breast/camelyon/CAMELYON16/images/normal_001.tif\n",
      "opening file /data/pathology/archives/breast/camelyon/CAMELYON16/images/test_126.tif\n",
      "opening file /data/pathology/archives/breast/camelyon/CAMELYON16/images/normal_134.tif\n",
      "opening file /data/pathology/archives/breast/camelyon/CAMELYON16/images/tumor_072.tif\n",
      "opening file /data/pathology/archives/breast/camelyon/CAMELYON16/images/normal_010.tif\n",
      "opening file /data/pathology/archives/breast/camelyon/CAMELYON16/images/normal_148.tif\n",
      "opening file /data/pathology/archives/breast/camelyon/CAMELYON16/images/test_002.tif\n",
      "opening file /data/pathology/archives/breast/camelyon/CAMELYON16/images/normal_017.tif\n",
      "opening file /data/pathology/archives/breast/camelyon/CAMELYON16/images/tumor_009.tif\n",
      "opening file /data/pathology/archives/breast/camelyon/CAMELYON16/images/test_005.tif\n",
      "opening file /data/pathology/archives/breast/camelyon/CAMELYON16/images/test_121.tif\n",
      "opening file /data/pathology/archives/breast/camelyon/CAMELYON16/images/normal_133.tif\n",
      "opening file /data/pathology/archives/breast/camelyon/CAMELYON16/images/test_079.tif\n",
      "opening file /data/pathology/archives/breast/camelyon/CAMELYON16/images/tumor_075.tif\n",
      "opening file /data/pathology/archives/breast/camelyon/CAMELYON16/images/normal_019.tif\n",
      "opening file /data/pathology/archives/breast/camelyon/CAMELYON16/images/normal_141.tif\n",
      "opening file /data/pathology/archives/breast/camelyon/CAMELYON16/images/tumor_007.tif\n",
      "opening file /data/pathology/archives/breast/camelyon/CAMELYON16/images/normal_065.tif\n",
      "opening file /data/pathology/archives/breast/camelyon/CAMELYON16/images/test_077.tif\n",
      "opening file /data/pathology/archives/breast/camelyon/CAMELYON16/images/test_128.tif\n",
      "opening file /data/pathology/archives/breast/camelyon/CAMELYON16/images/normal_062.tif\n",
      "opening file /data/pathology/archives/breast/camelyon/CAMELYON16/images/test_070.tif\n",
      "opening file /data/pathology/archives/breast/camelyon/CAMELYON16/images/normal_146.tif\n",
      "opening file /data/pathology/archives/breast/camelyon/CAMELYON16/images/normal_057.tif\n",
      "opening file /data/pathology/archives/breast/camelyon/CAMELYON16/images/tumor_111.tif\n",
      "opening file /data/pathology/archives/breast/camelyon/CAMELYON16/images/tumor_049.tif\n",
      "opening file /data/pathology/archives/breast/camelyon/CAMELYON16/images/test_045.tif\n",
      "opening file /data/pathology/archives/breast/camelyon/CAMELYON16/images/test_094.tif\n",
      "opening file /data/pathology/archives/breast/camelyon/CAMELYON16/images/tumor_098.tif\n",
      "opening file /data/pathology/archives/breast/camelyon/CAMELYON16/images/test_039.tif\n",
      "opening file /data/pathology/archives/breast/camelyon/CAMELYON16/images/tumor_035.tif\n",
      "opening file /data/pathology/archives/breast/camelyon/CAMELYON16/images/tumor_032.tif\n",
      "opening file /data/pathology/archives/breast/camelyon/CAMELYON16/images/normal_050.tif\n",
      "opening file /data/pathology/archives/breast/camelyon/CAMELYON16/images/normal_081.tif\n",
      "opening file /data/pathology/archives/breast/camelyon/CAMELYON16/images/test_042.tif\n",
      "opening file /data/pathology/archives/breast/camelyon/CAMELYON16/images/normal_108.tif\n",
      "opening file /data/pathology/archives/breast/camelyon/CAMELYON16/images/test_093.tif\n",
      "opening file /data/pathology/archives/breast/camelyon/CAMELYON16/images/normal_022.tif\n",
      "opening file /data/pathology/archives/breast/camelyon/CAMELYON16/images/test_030.tif\n",
      "opening file /data/pathology/archives/breast/camelyon/CAMELYON16/images/test_114.tif\n",
      "opening file /data/pathology/archives/breast/camelyon/CAMELYON16/images/tumor_040.tif\n",
      "opening file /data/pathology/archives/breast/camelyon/CAMELYON16/images/normal_106.tif\n",
      "opening file /data/pathology/archives/breast/camelyon/CAMELYON16/images/tumor_091.tif\n",
      "opening file /data/pathology/archives/breast/camelyon/CAMELYON16/images/normal_059.tif\n",
      "opening file /data/pathology/archives/breast/camelyon/CAMELYON16/images/test_113.tif\n",
      "opening file /data/pathology/archives/breast/camelyon/CAMELYON16/images/normal_088.tif\n",
      "opening file /data/pathology/archives/breast/camelyon/CAMELYON16/images/tumor_047.tif\n",
      "opening file /data/pathology/archives/breast/camelyon/CAMELYON16/images/normal_101.tif\n",
      "opening file /data/pathology/archives/breast/camelyon/CAMELYON16/images/tumor_096.tif\n",
      "opening file /data/pathology/archives/breast/camelyon/CAMELYON16/images/normal_025.tif\n",
      "opening file /data/pathology/archives/breast/camelyon/CAMELYON16/images/test_037.tif\n",
      "opening file /data/pathology/archives/breast/camelyon/CAMELYON16/images/normal_014.tif\n",
      "opening file /data/pathology/archives/breast/camelyon/CAMELYON16/images/test_006.tif\n",
      "opening file /data/pathology/archives/breast/camelyon/CAMELYON16/images/test_122.tif\n",
      "opening file /data/pathology/archives/breast/camelyon/CAMELYON16/images/normal_068.tif\n",
      "opening file /data/pathology/archives/breast/camelyon/CAMELYON16/images/normal_130.tif\n",
      "opening file /data/pathology/archives/breast/camelyon/CAMELYON16/images/tumor_076.tif\n",
      "opening file /data/pathology/archives/breast/camelyon/CAMELYON16/images/test_125.tif\n",
      "opening file /data/pathology/archives/breast/camelyon/CAMELYON16/images/normal_137.tif\n",
      "opening file /data/pathology/archives/breast/camelyon/CAMELYON16/images/tumor_071.tif\n",
      "opening file /data/pathology/archives/breast/camelyon/CAMELYON16/images/normal_013.tif\n",
      "opening file /data/pathology/archives/breast/camelyon/CAMELYON16/images/test_001.tif\n",
      "opening file /data/pathology/archives/breast/camelyon/CAMELYON16/images/normal_061.tif\n",
      "opening file /data/pathology/archives/breast/camelyon/CAMELYON16/images/normal_139.tif\n",
      "opening file /data/pathology/archives/breast/camelyon/CAMELYON16/images/test_073.tif\n",
      "opening file /data/pathology/archives/breast/camelyon/CAMELYON16/images/normal_145.tif\n",
      "opening file /data/pathology/archives/breast/camelyon/CAMELYON16/images/tumor_003.tif\n",
      "opening file /data/pathology/archives/breast/camelyon/CAMELYON16/images/normal_142.tif\n",
      "opening file /data/pathology/archives/breast/camelyon/CAMELYON16/images/tumor_004.tif\n",
      "opening file /data/pathology/archives/breast/camelyon/CAMELYON16/images/test_008.tif\n",
      "opening file /data/pathology/archives/breast/camelyon/CAMELYON16/images/normal_066.tif\n",
      "opening file /data/pathology/archives/breast/camelyon/CAMELYON16/images/test_074.tif\n",
      "opening file /data/pathology/archives/breast/camelyon/CAMELYON16/images/tumor_078.tif\n",
      "opening file /data/pathology/archives/breast/camelyon/CAMELYON16/images/tumor_031.tif\n",
      "opening file /data/pathology/archives/breast/camelyon/CAMELYON16/images/normal_053.tif\n",
      "opening file /data/pathology/archives/breast/camelyon/CAMELYON16/images/normal_082.tif\n",
      "opening file /data/pathology/archives/breast/camelyon/CAMELYON16/images/test_119.tif\n",
      "opening file /data/pathology/archives/breast/camelyon/CAMELYON16/images/test_041.tif\n",
      "opening file /data/pathology/archives/breast/camelyon/CAMELYON16/images/test_090.tif\n",
      "opening file /data/pathology/archives/breast/camelyon/CAMELYON16/images/normal_054.tif\n",
      "opening file /data/pathology/archives/breast/camelyon/CAMELYON16/images/normal_085.tif\n",
      "opening file /data/pathology/archives/breast/camelyon/CAMELYON16/images/test_046.tif\n",
      "opening file /data/pathology/archives/breast/camelyon/CAMELYON16/images/test_097.tif\n",
      "opening file /data/pathology/archives/breast/camelyon/CAMELYON16/images/normal_028.tif\n",
      "opening file /data/pathology/archives/breast/camelyon/CAMELYON16/images/tumor_036.tif\n",
      "opening file /data/pathology/archives/breast/camelyon/CAMELYON16/images/test_110.tif\n",
      "opening file /data/pathology/archives/breast/camelyon/CAMELYON16/images/tumor_044.tif\n",
      "opening file /data/pathology/archives/breast/camelyon/CAMELYON16/images/test_048.tif\n",
      "opening file /data/pathology/archives/breast/camelyon/CAMELYON16/images/test_099.tif\n",
      "opening file /data/pathology/archives/breast/camelyon/CAMELYON16/images/tumor_095.tif\n",
      "opening file /data/pathology/archives/breast/camelyon/CAMELYON16/images/normal_102.tif\n",
      "opening file /data/pathology/archives/breast/camelyon/CAMELYON16/images/normal_026.tif\n",
      "opening file /data/pathology/archives/breast/camelyon/CAMELYON16/images/test_034.tif\n",
      "opening file /data/pathology/archives/breast/camelyon/CAMELYON16/images/tumor_038.tif\n",
      "opening file /data/pathology/archives/breast/camelyon/CAMELYON16/images/normal_021.tif\n",
      "opening file /data/pathology/archives/breast/camelyon/CAMELYON16/images/test_033.tif\n",
      "opening file /data/pathology/archives/breast/camelyon/CAMELYON16/images/test_117.tif\n",
      "opening file /data/pathology/archives/breast/camelyon/CAMELYON16/images/tumor_043.tif\n",
      "opening file /data/pathology/archives/breast/camelyon/CAMELYON16/images/tumor_092.tif\n",
      "opening file /data/pathology/archives/breast/camelyon/CAMELYON16/images/normal_105.tif\n",
      "opening file /data/pathology/archives/breast/camelyon/CAMELYON16/images/test_022.tif\n",
      "opening file /data/pathology/archives/breast/camelyon/CAMELYON16/images/normal_030.tif\n",
      "opening file /data/pathology/archives/breast/camelyon/CAMELYON16/images/tumor_083.tif\n",
      "opening file /data/pathology/archives/breast/camelyon/CAMELYON16/images/normal_114.tif\n",
      "opening file /data/pathology/archives/breast/camelyon/CAMELYON16/images/tumor_052.tif\n",
      "opening file /data/pathology/archives/breast/camelyon/CAMELYON16/images/test_106.tif\n",
      "opening file /data/pathology/archives/breast/camelyon/CAMELYON16/images/tumor_084.tif\n",
      "opening file /data/pathology/archives/breast/camelyon/CAMELYON16/images/test_088.tif\n",
      "opening file /data/pathology/archives/breast/camelyon/CAMELYON16/images/normal_113.tif\n",
      "opening file /data/pathology/archives/breast/camelyon/CAMELYON16/images/test_059.tif\n",
      "opening file /data/pathology/archives/breast/camelyon/CAMELYON16/images/tumor_055.tif\n",
      "opening file /data/pathology/archives/breast/camelyon/CAMELYON16/images/test_101.tif\n",
      "opening file /data/pathology/archives/breast/camelyon/CAMELYON16/images/tumor_029.tif\n",
      "opening file /data/pathology/archives/breast/camelyon/CAMELYON16/images/test_025.tif\n",
      "opening file /data/pathology/archives/breast/camelyon/CAMELYON16/images/normal_037.tif\n",
      "opening file /data/pathology/archives/breast/camelyon/CAMELYON16/images/test_086.tif\n",
      "opening file /data/pathology/archives/breast/camelyon/CAMELYON16/images/test_057.tif\n",
      "opening file /data/pathology/archives/breast/camelyon/CAMELYON16/images/normal_094.tif\n",
      "opening file /data/pathology/archives/breast/camelyon/CAMELYON16/images/tumor_103.tif\n",
      "opening file /data/pathology/archives/breast/camelyon/CAMELYON16/images/normal_045.tif\n",
      "opening file /data/pathology/archives/breast/camelyon/CAMELYON16/images/tumor_027.tif\n",
      "opening file /data/pathology/archives/breast/camelyon/CAMELYON16/images/normal_039.tif\n",
      "opening file /data/pathology/archives/breast/camelyon/CAMELYON16/images/tumor_020.tif\n",
      "opening file /data/pathology/archives/breast/camelyon/CAMELYON16/images/test_081.tif\n",
      "opening file /data/pathology/archives/breast/camelyon/CAMELYON16/images/test_050.tif\n",
      "opening file /data/pathology/archives/breast/camelyon/CAMELYON16/images/normal_093.tif\n",
      "opening file /data/pathology/archives/breast/camelyon/CAMELYON16/images/test_108.tif\n",
      "opening file /data/pathology/archives/breast/camelyon/CAMELYON16/images/tumor_104.tif\n",
      "opening file /data/pathology/archives/breast/camelyon/CAMELYON16/images/normal_042.tif\n",
      "opening file /data/pathology/archives/breast/camelyon/CAMELYON16/images/test_019.tif\n",
      "opening file /data/pathology/archives/breast/camelyon/CAMELYON16/images/tumor_015.tif\n",
      "opening file /data/pathology/archives/breast/camelyon/CAMELYON16/images/normal_153.tif\n",
      "opening file /data/pathology/archives/breast/camelyon/CAMELYON16/images/tumor_069.tif\n",
      "opening file /data/pathology/archives/breast/camelyon/CAMELYON16/images/test_065.tif\n",
      "opening file /data/pathology/archives/breast/camelyon/CAMELYON16/images/normal_077.tif\n",
      "opening file /data/pathology/archives/breast/camelyon/CAMELYON16/images/test_062.tif\n",
      "opening file /data/pathology/archives/breast/camelyon/CAMELYON16/images/normal_128.tif\n",
      "opening file /data/pathology/archives/breast/camelyon/CAMELYON16/images/normal_070.tif\n",
      "opening file /data/pathology/archives/breast/camelyon/CAMELYON16/images/tumor_012.tif\n",
      "opening file /data/pathology/archives/breast/camelyon/CAMELYON16/images/normal_154.tif\n",
      "opening file /data/pathology/archives/breast/camelyon/CAMELYON16/images/tumor_060.tif\n",
      "opening file /data/pathology/archives/breast/camelyon/CAMELYON16/images/normal_126.tif\n",
      "opening file /data/pathology/archives/breast/camelyon/CAMELYON16/images/test_010.tif\n",
      "opening file /data/pathology/archives/breast/camelyon/CAMELYON16/images/normal_002.tif\n",
      "opening file /data/pathology/archives/breast/camelyon/CAMELYON16/images/test_017.tif\n",
      "opening file /data/pathology/archives/breast/camelyon/CAMELYON16/images/normal_005.tif\n",
      "opening file /data/pathology/archives/breast/camelyon/CAMELYON16/images/tumor_067.tif\n",
      "opening file /data/pathology/archives/breast/camelyon/CAMELYON16/images/normal_121.tif\n",
      "opening file /data/pathology/archives/breast/camelyon/CAMELYON16/images/normal_079.tif\n",
      "opening file /data/pathology/archives/breast/camelyon/CAMELYON16/images/normal_020.tif\n",
      "opening file /data/pathology/archives/breast/camelyon/CAMELYON16/images/test_032.tif\n",
      "opening file /data/pathology/archives/breast/camelyon/CAMELYON16/images/test_116.tif\n",
      "opening file /data/pathology/archives/breast/camelyon/CAMELYON16/images/tumor_042.tif\n",
      "opening file /data/pathology/archives/breast/camelyon/CAMELYON16/images/tumor_093.tif\n",
      "opening file /data/pathology/archives/breast/camelyon/CAMELYON16/images/normal_104.tif\n",
      "opening file /data/pathology/archives/breast/camelyon/CAMELYON16/images/test_111.tif\n",
      "opening file /data/pathology/archives/breast/camelyon/CAMELYON16/images/tumor_045.tif\n",
      "opening file /data/pathology/archives/breast/camelyon/CAMELYON16/images/tumor_094.tif\n",
      "opening file /data/pathology/archives/breast/camelyon/CAMELYON16/images/test_098.tif\n",
      "opening file /data/pathology/archives/breast/camelyon/CAMELYON16/images/normal_103.tif\n",
      "opening file /data/pathology/archives/breast/camelyon/CAMELYON16/images/normal_027.tif\n",
      "opening file /data/pathology/archives/breast/camelyon/CAMELYON16/images/tumor_039.tif\n",
      "opening file /data/pathology/archives/breast/camelyon/CAMELYON16/images/test_035.tif\n",
      "opening file /data/pathology/archives/breast/camelyon/CAMELYON16/images/normal_055.tif\n",
      "opening file /data/pathology/archives/breast/camelyon/CAMELYON16/images/normal_084.tif\n",
      "opening file /data/pathology/archives/breast/camelyon/CAMELYON16/images/test_047.tif\n",
      "opening file /data/pathology/archives/breast/camelyon/CAMELYON16/images/test_096.tif\n",
      "opening file /data/pathology/archives/breast/camelyon/CAMELYON16/images/normal_029.tif\n",
      "opening file /data/pathology/archives/breast/camelyon/CAMELYON16/images/tumor_037.tif\n",
      "opening file /data/pathology/archives/breast/camelyon/CAMELYON16/images/tumor_030.tif\n",
      "opening file /data/pathology/archives/breast/camelyon/CAMELYON16/images/normal_052.tif\n",
      "opening file /data/pathology/archives/breast/camelyon/CAMELYON16/images/normal_083.tif\n",
      "opening file /data/pathology/archives/breast/camelyon/CAMELYON16/images/test_118.tif\n",
      "opening file /data/pathology/archives/breast/camelyon/CAMELYON16/images/test_040.tif\n",
      "opening file /data/pathology/archives/breast/camelyon/CAMELYON16/images/test_091.tif\n",
      "opening file /data/pathology/archives/breast/camelyon/CAMELYON16/images/normal_143.tif\n",
      "opening file /data/pathology/archives/breast/camelyon/CAMELYON16/images/test_009.tif\n",
      "opening file /data/pathology/archives/breast/camelyon/CAMELYON16/images/tumor_005.tif\n",
      "opening file /data/pathology/archives/breast/camelyon/CAMELYON16/images/normal_067.tif\n",
      "opening file /data/pathology/archives/breast/camelyon/CAMELYON16/images/tumor_079.tif\n",
      "opening file /data/pathology/archives/breast/camelyon/CAMELYON16/images/test_075.tif\n",
      "opening file /data/pathology/archives/breast/camelyon/CAMELYON16/images/normal_060.tif\n",
      "opening file /data/pathology/archives/breast/camelyon/CAMELYON16/images/normal_138.tif\n",
      "opening file /data/pathology/archives/breast/camelyon/CAMELYON16/images/test_072.tif\n",
      "opening file /data/pathology/archives/breast/camelyon/CAMELYON16/images/normal_144.tif\n"
     ]
    },
    {
     "ename": "Error",
     "evalue": "VipsForeignLoadTiffFile does not support optional argument level\n  ",
     "output_type": "error",
     "traceback": [
      "\u001B[0;31m---------------------------------------------------------------------------\u001B[0m",
      "\u001B[0;31mError\u001B[0m                                     Traceback (most recent call last)",
      "Cell \u001B[0;32mIn[85], line 5\u001B[0m\n\u001B[1;32m      3\u001B[0m \u001B[38;5;28;01mfor\u001B[39;00m i,image_path \u001B[38;5;129;01min\u001B[39;00m \u001B[38;5;28menumerate\u001B[39m(image_paths):\n\u001B[1;32m      4\u001B[0m     \u001B[38;5;28mprint\u001B[39m(\u001B[38;5;124m\"\u001B[39m\u001B[38;5;124mopening file\u001B[39m\u001B[38;5;124m\"\u001B[39m, image_path)\n\u001B[0;32m----> 5\u001B[0m     image \u001B[38;5;241m=\u001B[39m \u001B[43mpyvips\u001B[49m\u001B[38;5;241;43m.\u001B[39;49m\u001B[43mImage\u001B[49m\u001B[38;5;241;43m.\u001B[39;49m\u001B[43mnew_from_file\u001B[49m\u001B[43m(\u001B[49m\u001B[43mimage_path\u001B[49m\u001B[43m,\u001B[49m\u001B[43m \u001B[49m\u001B[43mlevel\u001B[49m\u001B[38;5;241;43m=\u001B[39;49m\u001B[38;5;241;43m7\u001B[39;49m\u001B[43m)\u001B[49m\n",
      "File \u001B[0;32m/usr/local/lib/python3.11/site-packages/pyvips/vimage.py:352\u001B[0m, in \u001B[0;36mImage.new_from_file\u001B[0;34m(vips_filename, **kwargs)\u001B[0m\n\u001B[1;32m    349\u001B[0m     \u001B[38;5;28;01mraise\u001B[39;00m Error(\u001B[38;5;124m'\u001B[39m\u001B[38;5;124munable to load from file \u001B[39m\u001B[38;5;132;01m{0}\u001B[39;00m\u001B[38;5;124m'\u001B[39m\u001B[38;5;241m.\u001B[39mformat(vips_filename))\n\u001B[1;32m    350\u001B[0m name \u001B[38;5;241m=\u001B[39m _to_string(pointer)\n\u001B[0;32m--> 352\u001B[0m \u001B[38;5;28;01mreturn\u001B[39;00m \u001B[43mpyvips\u001B[49m\u001B[38;5;241;43m.\u001B[39;49m\u001B[43mOperation\u001B[49m\u001B[38;5;241;43m.\u001B[39;49m\u001B[43mcall\u001B[49m\u001B[43m(\u001B[49m\u001B[43mname\u001B[49m\u001B[43m,\u001B[49m\u001B[43m \u001B[49m\u001B[43mfilename\u001B[49m\u001B[43m,\u001B[49m\n\u001B[1;32m    353\u001B[0m \u001B[43m                             \u001B[49m\u001B[43mstring_options\u001B[49m\u001B[38;5;241;43m=\u001B[39;49m\u001B[43moptions\u001B[49m\u001B[43m,\u001B[49m\u001B[43m \u001B[49m\u001B[38;5;241;43m*\u001B[39;49m\u001B[38;5;241;43m*\u001B[39;49m\u001B[43mkwargs\u001B[49m\u001B[43m)\u001B[49m\n",
      "File \u001B[0;32m/usr/local/lib/python3.11/site-packages/pyvips/voperation.py:288\u001B[0m, in \u001B[0;36mOperation.call\u001B[0;34m(operation_name, *args, **kwargs)\u001B[0m\n\u001B[1;32m    285\u001B[0m \u001B[38;5;28;01mfor\u001B[39;00m name \u001B[38;5;129;01min\u001B[39;00m kwargs:\n\u001B[1;32m    286\u001B[0m     \u001B[38;5;28;01mif\u001B[39;00m (name \u001B[38;5;129;01mnot\u001B[39;00m \u001B[38;5;129;01min\u001B[39;00m intro\u001B[38;5;241m.\u001B[39moptional_input \u001B[38;5;129;01mand\u001B[39;00m\n\u001B[1;32m    287\u001B[0m             name \u001B[38;5;129;01mnot\u001B[39;00m \u001B[38;5;129;01min\u001B[39;00m intro\u001B[38;5;241m.\u001B[39moptional_output):\n\u001B[0;32m--> 288\u001B[0m         \u001B[38;5;28;01mraise\u001B[39;00m Error(\u001B[38;5;124m'\u001B[39m\u001B[38;5;132;01m{0}\u001B[39;00m\u001B[38;5;124m does not support optional argument \u001B[39m\u001B[38;5;132;01m{1}\u001B[39;00m\u001B[38;5;124m'\u001B[39m\n\u001B[1;32m    289\u001B[0m                     \u001B[38;5;241m.\u001B[39mformat(operation_name, name))\n\u001B[1;32m    291\u001B[0m     value \u001B[38;5;241m=\u001B[39m kwargs[name]\n\u001B[1;32m    292\u001B[0m     details \u001B[38;5;241m=\u001B[39m intro\u001B[38;5;241m.\u001B[39mdetails[name]\n",
      "\u001B[0;31mError\u001B[0m: VipsForeignLoadTiffFile does not support optional argument level\n  "
     ]
    }
   ],
   "source": [
    "image_paths = Path(\"/data/pathology/archives/breast/camelyon/CAMELYON16/images/\").rglob(\"*.tif\")\n",
    "\n",
    "for i,image_path in enumerate(image_paths):\n",
    "    print(\"opening file\", image_path)\n",
    "    image = pyvips.Image.new_from_file(image_path, level=7)\n",
    "    print(\"done with file\", image_path)"
   ],
   "metadata": {
    "collapsed": false,
    "ExecuteTime": {
     "end_time": "2024-03-27T17:02:48.325971300Z",
     "start_time": "2024-03-27T17:02:04.201234200Z"
    }
   },
   "id": "74085e6bfa376679"
  }
 ],
 "metadata": {
  "kernelspec": {
   "display_name": "Python 3",
   "language": "python",
   "name": "python3"
  },
  "language_info": {
   "codemirror_mode": {
    "name": "ipython",
    "version": 2
   },
   "file_extension": ".py",
   "mimetype": "text/x-python",
   "name": "python",
   "nbconvert_exporter": "python",
   "pygments_lexer": "ipython2",
   "version": "2.7.6"
  }
 },
 "nbformat": 4,
 "nbformat_minor": 5
}
