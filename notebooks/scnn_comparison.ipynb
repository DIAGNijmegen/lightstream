{
 "cells": [
  {
   "cell_type": "code",
   "execution_count": null,
   "outputs": [],
   "source": [
    "import torch\n",
    "import torch.nn as nn\n",
    "from src.scnn import StreamingCNN, StreamingConv2d\n",
    "from torchvision.models import resnet18, resnet34, resnet50"
   ],
   "metadata": {
    "collapsed": false,
    "is_executing": true
   },
   "id": "821154fb6c154597"
  },
  {
   "cell_type": "code",
   "execution_count": null,
   "outputs": [],
   "source": [
    "torch.set_printoptions(precision=10)"
   ],
   "metadata": {
    "collapsed": false,
    "is_executing": true
   },
   "id": "ce68884f32700708"
  },
  {
   "cell_type": "markdown",
   "source": [
    "## Model definition"
   ],
   "metadata": {
    "collapsed": false
   },
   "id": "95718ab1767415d4"
  },
  {
   "cell_type": "code",
   "execution_count": 3,
   "outputs": [],
   "source": [
    "resnet = resnet18(weights=\"IMAGENET1K_V1\")\n",
    "\n",
    "def split_model(model):\n",
    "    stream_net = nn.Sequential(\n",
    "        model.conv1,\n",
    "        model.bn1,\n",
    "        model.relu,\n",
    "        model.maxpool,\n",
    "        model.layer1,\n",
    "        model.layer2,\n",
    "        model.layer3,\n",
    "        model.layer4,\n",
    "    )\n",
    "    head = nn.Sequential(model.avgpool, nn.Flatten(), model.fc)\n",
    "    return stream_net, head"
   ],
   "metadata": {
    "collapsed": false,
    "ExecuteTime": {
     "end_time": "2023-10-08T15:50:51.276771100Z",
     "start_time": "2023-10-08T15:50:51.169772Z"
    }
   },
   "id": "a284519901de2ba9"
  },
  {
   "cell_type": "code",
   "execution_count": 4,
   "outputs": [],
   "source": [
    "stream_net, head = split_model(resnet)\n",
    "\n",
    "def freeze_bn_layers(model):\n",
    "    for mod in model.modules():\n",
    "        if isinstance(mod, torch.nn.BatchNorm2d):\n",
    "            mod.eval()\n",
    "\n",
    "freeze_bn_layers(stream_net)"
   ],
   "metadata": {
    "collapsed": false,
    "ExecuteTime": {
     "end_time": "2023-10-08T15:50:51.296772200Z",
     "start_time": "2023-10-08T15:50:51.277771800Z"
    }
   },
   "id": "532ffc4af7d148f4"
  },
  {
   "cell_type": "code",
   "execution_count": 5,
   "outputs": [
    {
     "data": {
      "text/plain": "'\\npadding = 0\\n\\nstream_net = torch.nn.Sequential(\\n    torch.nn.Conv2d(3, 16, kernel_size=3, padding=padding), torch.nn.ReLU(),\\n    torch.nn.Conv2d(16, 16, kernel_size=3, padding=padding), torch.nn.ReLU(),\\n    torch.nn.MaxPool2d(2),\\n    torch.nn.Conv2d(16, 16, kernel_size=3, padding=padding), torch.nn.ReLU(),\\n    torch.nn.Conv2d(16, 16, kernel_size=3, padding=padding), torch.nn.ReLU(),\\n    torch.nn.MaxPool2d(2),\\n    torch.nn.Conv2d(16, 16, kernel_size=3, padding=padding), torch.nn.ReLU(),\\n    torch.nn.Conv2d(16, 16, kernel_size=3, padding=padding), torch.nn.ReLU(),\\n    torch.nn.MaxPool2d(2))\\n'"
     },
     "execution_count": 5,
     "metadata": {},
     "output_type": "execute_result"
    }
   ],
   "source": [
    "\"\"\"\n",
    "padding = 0\n",
    "\n",
    "stream_net = torch.nn.Sequential(\n",
    "    torch.nn.Conv2d(3, 16, kernel_size=3, padding=padding), torch.nn.ReLU(),\n",
    "    torch.nn.Conv2d(16, 16, kernel_size=3, padding=padding), torch.nn.ReLU(),\n",
    "    torch.nn.MaxPool2d(2),\n",
    "    torch.nn.Conv2d(16, 16, kernel_size=3, padding=padding), torch.nn.ReLU(),\n",
    "    torch.nn.Conv2d(16, 16, kernel_size=3, padding=padding), torch.nn.ReLU(),\n",
    "    torch.nn.MaxPool2d(2),\n",
    "    torch.nn.Conv2d(16, 16, kernel_size=3, padding=padding), torch.nn.ReLU(),\n",
    "    torch.nn.Conv2d(16, 16, kernel_size=3, padding=padding), torch.nn.ReLU(),\n",
    "    torch.nn.MaxPool2d(2))\n",
    "\"\"\""
   ],
   "metadata": {
    "collapsed": false,
    "ExecuteTime": {
     "end_time": "2023-10-08T15:50:51.337770700Z",
     "start_time": "2023-10-08T15:50:51.295772200Z"
    }
   },
   "id": "bd6f8d91181799c8"
  },
  {
   "cell_type": "code",
   "execution_count": 6,
   "outputs": [],
   "source": [
    "for i, layer in enumerate(stream_net.modules()):\n",
    "    if isinstance(layer, torch.nn.Conv2d):\n",
    "        layer.weight.data *= 1.0\n",
    "        \n",
    "        if layer.bias is not None:\n",
    "            layer.bias.data.zero_()"
   ],
   "metadata": {
    "collapsed": false,
    "ExecuteTime": {
     "end_time": "2023-10-08T15:50:51.347771200Z",
     "start_time": "2023-10-08T15:50:51.308771900Z"
    }
   },
   "id": "65a3d6c1f50a4d37"
  },
  {
   "cell_type": "code",
   "execution_count": 7,
   "outputs": [
    {
     "name": "stdout",
     "output_type": "stream",
     "text": [
      "Sequential(\n",
      "  (0): Conv2d(3, 64, kernel_size=(7, 7), stride=(2, 2), padding=(3, 3), bias=False)\n",
      "  (1): BatchNorm2d(64, eps=1e-05, momentum=0.1, affine=True, track_running_stats=True)\n",
      "  (2): ReLU(inplace=True)\n",
      "  (3): MaxPool2d(kernel_size=3, stride=2, padding=1, dilation=1, ceil_mode=False)\n",
      "  (4): Sequential(\n",
      "    (0): BasicBlock(\n",
      "      (conv1): Conv2d(64, 64, kernel_size=(3, 3), stride=(1, 1), padding=(1, 1), bias=False)\n",
      "      (bn1): BatchNorm2d(64, eps=1e-05, momentum=0.1, affine=True, track_running_stats=True)\n",
      "      (relu): ReLU(inplace=True)\n",
      "      (conv2): Conv2d(64, 64, kernel_size=(3, 3), stride=(1, 1), padding=(1, 1), bias=False)\n",
      "      (bn2): BatchNorm2d(64, eps=1e-05, momentum=0.1, affine=True, track_running_stats=True)\n",
      "    )\n",
      "    (1): BasicBlock(\n",
      "      (conv1): Conv2d(64, 64, kernel_size=(3, 3), stride=(1, 1), padding=(1, 1), bias=False)\n",
      "      (bn1): BatchNorm2d(64, eps=1e-05, momentum=0.1, affine=True, track_running_stats=True)\n",
      "      (relu): ReLU(inplace=True)\n",
      "      (conv2): Conv2d(64, 64, kernel_size=(3, 3), stride=(1, 1), padding=(1, 1), bias=False)\n",
      "      (bn2): BatchNorm2d(64, eps=1e-05, momentum=0.1, affine=True, track_running_stats=True)\n",
      "    )\n",
      "  )\n",
      "  (5): Sequential(\n",
      "    (0): BasicBlock(\n",
      "      (conv1): Conv2d(64, 128, kernel_size=(3, 3), stride=(2, 2), padding=(1, 1), bias=False)\n",
      "      (bn1): BatchNorm2d(128, eps=1e-05, momentum=0.1, affine=True, track_running_stats=True)\n",
      "      (relu): ReLU(inplace=True)\n",
      "      (conv2): Conv2d(128, 128, kernel_size=(3, 3), stride=(1, 1), padding=(1, 1), bias=False)\n",
      "      (bn2): BatchNorm2d(128, eps=1e-05, momentum=0.1, affine=True, track_running_stats=True)\n",
      "      (downsample): Sequential(\n",
      "        (0): Conv2d(64, 128, kernel_size=(1, 1), stride=(2, 2), bias=False)\n",
      "        (1): BatchNorm2d(128, eps=1e-05, momentum=0.1, affine=True, track_running_stats=True)\n",
      "      )\n",
      "    )\n",
      "    (1): BasicBlock(\n",
      "      (conv1): Conv2d(128, 128, kernel_size=(3, 3), stride=(1, 1), padding=(1, 1), bias=False)\n",
      "      (bn1): BatchNorm2d(128, eps=1e-05, momentum=0.1, affine=True, track_running_stats=True)\n",
      "      (relu): ReLU(inplace=True)\n",
      "      (conv2): Conv2d(128, 128, kernel_size=(3, 3), stride=(1, 1), padding=(1, 1), bias=False)\n",
      "      (bn2): BatchNorm2d(128, eps=1e-05, momentum=0.1, affine=True, track_running_stats=True)\n",
      "    )\n",
      "  )\n",
      "  (6): Sequential(\n",
      "    (0): BasicBlock(\n",
      "      (conv1): Conv2d(128, 256, kernel_size=(3, 3), stride=(2, 2), padding=(1, 1), bias=False)\n",
      "      (bn1): BatchNorm2d(256, eps=1e-05, momentum=0.1, affine=True, track_running_stats=True)\n",
      "      (relu): ReLU(inplace=True)\n",
      "      (conv2): Conv2d(256, 256, kernel_size=(3, 3), stride=(1, 1), padding=(1, 1), bias=False)\n",
      "      (bn2): BatchNorm2d(256, eps=1e-05, momentum=0.1, affine=True, track_running_stats=True)\n",
      "      (downsample): Sequential(\n",
      "        (0): Conv2d(128, 256, kernel_size=(1, 1), stride=(2, 2), bias=False)\n",
      "        (1): BatchNorm2d(256, eps=1e-05, momentum=0.1, affine=True, track_running_stats=True)\n",
      "      )\n",
      "    )\n",
      "    (1): BasicBlock(\n",
      "      (conv1): Conv2d(256, 256, kernel_size=(3, 3), stride=(1, 1), padding=(1, 1), bias=False)\n",
      "      (bn1): BatchNorm2d(256, eps=1e-05, momentum=0.1, affine=True, track_running_stats=True)\n",
      "      (relu): ReLU(inplace=True)\n",
      "      (conv2): Conv2d(256, 256, kernel_size=(3, 3), stride=(1, 1), padding=(1, 1), bias=False)\n",
      "      (bn2): BatchNorm2d(256, eps=1e-05, momentum=0.1, affine=True, track_running_stats=True)\n",
      "    )\n",
      "  )\n",
      "  (7): Sequential(\n",
      "    (0): BasicBlock(\n",
      "      (conv1): Conv2d(256, 512, kernel_size=(3, 3), stride=(2, 2), padding=(1, 1), bias=False)\n",
      "      (bn1): BatchNorm2d(512, eps=1e-05, momentum=0.1, affine=True, track_running_stats=True)\n",
      "      (relu): ReLU(inplace=True)\n",
      "      (conv2): Conv2d(512, 512, kernel_size=(3, 3), stride=(1, 1), padding=(1, 1), bias=False)\n",
      "      (bn2): BatchNorm2d(512, eps=1e-05, momentum=0.1, affine=True, track_running_stats=True)\n",
      "      (downsample): Sequential(\n",
      "        (0): Conv2d(256, 512, kernel_size=(1, 1), stride=(2, 2), bias=False)\n",
      "        (1): BatchNorm2d(512, eps=1e-05, momentum=0.1, affine=True, track_running_stats=True)\n",
      "      )\n",
      "    )\n",
      "    (1): BasicBlock(\n",
      "      (conv1): Conv2d(512, 512, kernel_size=(3, 3), stride=(1, 1), padding=(1, 1), bias=False)\n",
      "      (bn1): BatchNorm2d(512, eps=1e-05, momentum=0.1, affine=True, track_running_stats=True)\n",
      "      (relu): ReLU(inplace=True)\n",
      "      (conv2): Conv2d(512, 512, kernel_size=(3, 3), stride=(1, 1), padding=(1, 1), bias=False)\n",
      "      (bn2): BatchNorm2d(512, eps=1e-05, momentum=0.1, affine=True, track_running_stats=True)\n",
      "    )\n",
      "  )\n",
      ")\n"
     ]
    }
   ],
   "source": [
    "print(stream_net)"
   ],
   "metadata": {
    "collapsed": false,
    "ExecuteTime": {
     "end_time": "2023-10-08T15:50:51.349771900Z",
     "start_time": "2023-10-08T15:50:51.323771600Z"
    }
   },
   "id": "2206f8e70f1d06de"
  },
  {
   "cell_type": "markdown",
   "source": [
    "## Configurations"
   ],
   "metadata": {
    "collapsed": false
   },
   "id": "f6664c577e2c5beb"
  },
  {
   "cell_type": "code",
   "execution_count": 8,
   "outputs": [],
   "source": [
    "tile_size = 1024\n",
    "img_size = 1504\n",
    "\n",
    "cuda = True  # execute this notebook on the GPU\n",
    "verbose = True   # enable / disable logging\n",
    "dtype = torch.double  # test with double precision"
   ],
   "metadata": {
    "collapsed": false,
    "ExecuteTime": {
     "end_time": "2023-10-08T15:50:51.363771800Z",
     "start_time": "2023-10-08T15:50:51.339771600Z"
    }
   },
   "id": "7a0f0baa666c29c8"
  },
  {
   "cell_type": "code",
   "execution_count": 9,
   "outputs": [],
   "source": [
    "\n",
    "stream_net.type(dtype)\n",
    "if cuda: stream_net.cuda()"
   ],
   "metadata": {
    "collapsed": false,
    "ExecuteTime": {
     "end_time": "2023-10-08T15:50:51.509772300Z",
     "start_time": "2023-10-08T15:50:51.354772500Z"
    }
   },
   "id": "f478abffc3ce9fdb"
  },
  {
   "cell_type": "markdown",
   "source": [
    "## Configure streamingCNN\n",
    "IMPORTANT: setting gather_gradients to True makes the class save all the gradients of the intermediate feature maps. This is needed because we want to compare the feature map gradients between streaming and conventional backpropagation. However this also counteracts the memory gains by StreamingCNN. If you want to test the memory efficiency, set gather_gradients to False"
   ],
   "metadata": {
    "collapsed": false
   },
   "id": "d37d70c0d3421f13"
  },
  {
   "cell_type": "code",
   "execution_count": 10,
   "outputs": [
    {
     "name": "stdout",
     "output_type": "stream",
     "text": [
      "Conv2d(3, 64, kernel_size=(7, 7), stride=(2, 2), padding=(3, 3), bias=False) \n",
      " Lost(top:2.0, left:2.0, bottom:1.0, right:1.0)\n",
      "MaxPool2d(kernel_size=3, stride=2, padding=1, dilation=1, ceil_mode=False) \n",
      " Lost(top:2.0, left:2.0, bottom:1.0, right:1.0)\n",
      "Conv2d(64, 64, kernel_size=(3, 3), stride=(1, 1), padding=(1, 1), bias=False) \n",
      " Lost(top:3.0, left:3.0, bottom:2.0, right:2.0)\n",
      "Conv2d(64, 64, kernel_size=(3, 3), stride=(1, 1), padding=(1, 1), bias=False) \n",
      " Lost(top:4.0, left:4.0, bottom:3.0, right:3.0)\n",
      "Conv2d(64, 64, kernel_size=(3, 3), stride=(1, 1), padding=(1, 1), bias=False) \n",
      " Lost(top:5.0, left:5.0, bottom:4.0, right:4.0)\n",
      "Conv2d(64, 64, kernel_size=(3, 3), stride=(1, 1), padding=(1, 1), bias=False) \n",
      " Lost(top:6.0, left:6.0, bottom:5.0, right:5.0)\n",
      "Conv2d(64, 128, kernel_size=(3, 3), stride=(2, 2), padding=(1, 1), bias=False) \n",
      " Lost(top:4.0, left:4.0, bottom:3.0, right:3.0)\n",
      "Conv2d(128, 128, kernel_size=(3, 3), stride=(1, 1), padding=(1, 1), bias=False) \n",
      " Lost(top:5.0, left:5.0, bottom:4.0, right:4.0)\n",
      "Conv2d(64, 128, kernel_size=(1, 1), stride=(2, 2), bias=False) \n",
      " Lost(top:3.0, left:3.0, bottom:2.0, right:2.0)\n",
      "Conv2d(128, 128, kernel_size=(3, 3), stride=(1, 1), padding=(1, 1), bias=False) \n",
      " Lost(top:6.0, left:6.0, bottom:5.0, right:5.0)\n",
      "Conv2d(128, 128, kernel_size=(3, 3), stride=(1, 1), padding=(1, 1), bias=False) \n",
      " Lost(top:7.0, left:7.0, bottom:6.0, right:6.0)\n",
      "Conv2d(128, 256, kernel_size=(3, 3), stride=(2, 2), padding=(1, 1), bias=False) \n",
      " Lost(top:4.0, left:4.0, bottom:3.0, right:3.0)\n",
      "Conv2d(256, 256, kernel_size=(3, 3), stride=(1, 1), padding=(1, 1), bias=False) \n",
      " Lost(top:5.0, left:5.0, bottom:4.0, right:4.0)\n",
      "Conv2d(128, 256, kernel_size=(1, 1), stride=(2, 2), bias=False) \n",
      " Lost(top:4.0, left:4.0, bottom:3.0, right:3.0)\n",
      "Conv2d(256, 256, kernel_size=(3, 3), stride=(1, 1), padding=(1, 1), bias=False) \n",
      " Lost(top:6.0, left:6.0, bottom:5.0, right:5.0)\n",
      "Conv2d(256, 256, kernel_size=(3, 3), stride=(1, 1), padding=(1, 1), bias=False) \n",
      " Lost(top:7.0, left:7.0, bottom:6.0, right:6.0)\n",
      "Conv2d(256, 512, kernel_size=(3, 3), stride=(2, 2), padding=(1, 1), bias=False) \n",
      " Lost(top:4.0, left:4.0, bottom:3.0, right:3.0)\n",
      "Conv2d(512, 512, kernel_size=(3, 3), stride=(1, 1), padding=(1, 1), bias=False) \n",
      " Lost(top:5.0, left:5.0, bottom:4.0, right:4.0)\n",
      "Conv2d(256, 512, kernel_size=(1, 1), stride=(2, 2), bias=False) \n",
      " Lost(top:4.0, left:4.0, bottom:3.0, right:3.0)\n",
      "Conv2d(512, 512, kernel_size=(3, 3), stride=(1, 1), padding=(1, 1), bias=False) \n",
      " Lost(top:6.0, left:6.0, bottom:5.0, right:5.0)\n",
      "Conv2d(512, 512, kernel_size=(3, 3), stride=(1, 1), padding=(1, 1), bias=False) \n",
      " Lost(top:7.0, left:7.0, bottom:6.0, right:6.0)\n",
      "\n",
      " Output lost Lost(top:7.0, left:7.0, bottom:6.0, right:6.0)\n"
     ]
    },
    {
     "name": "stderr",
     "output_type": "stream",
     "text": [
      "C:\\Users\\Stephan\\anaconda3\\envs\\lightstream\\lib\\site-packages\\torch\\nn\\modules\\module.py:1359: UserWarning: Using a non-full backward hook when the forward contains multiple autograd Nodes is deprecated and will be removed in future versions. This hook will be missing some grad_input. Please use register_full_backward_hook to get the documented behavior.\n",
      "  warnings.warn(\"Using a non-full backward hook when the forward contains multiple autograd Nodes \"\n"
     ]
    },
    {
     "name": "stdout",
     "output_type": "stream",
     "text": [
      "Conv2d(512, 512, kernel_size=(3, 3), stride=(1, 1), padding=(1, 1), bias=False) \n",
      " Lost(top:7.0, left:7.0, bottom:6.0, right:6.0)\n",
      "Conv2d(512, 512, kernel_size=(3, 3), stride=(1, 1), padding=(1, 1), bias=False) \n",
      " Lost(top:8.0, left:8.0, bottom:7.0, right:7.0)\n",
      "Conv2d(256, 512, kernel_size=(1, 1), stride=(2, 2), bias=False) \n",
      " Lost(top:9.0, left:9.0, bottom:8.0, right:8.0)\n",
      "Conv2d(512, 512, kernel_size=(3, 3), stride=(1, 1), padding=(1, 1), bias=False) \n",
      " Lost(top:9.0, left:9.0, bottom:8.0, right:8.0)\n",
      "Conv2d(256, 512, kernel_size=(3, 3), stride=(2, 2), padding=(1, 1), bias=False) \n",
      " Lost(top:10.0, left:10.0, bottom:9.0, right:9.0)\n",
      "Conv2d(256, 256, kernel_size=(3, 3), stride=(1, 1), padding=(1, 1), bias=False) \n",
      " Lost(top:22.0, left:22.0, bottom:21.0, right:21.0)\n",
      "Conv2d(256, 256, kernel_size=(3, 3), stride=(1, 1), padding=(1, 1), bias=False) \n",
      " Lost(top:23.0, left:23.0, bottom:22.0, right:22.0)\n",
      "Conv2d(128, 256, kernel_size=(1, 1), stride=(2, 2), bias=False) \n",
      " Lost(top:24.0, left:24.0, bottom:23.0, right:23.0)\n",
      "Conv2d(256, 256, kernel_size=(3, 3), stride=(1, 1), padding=(1, 1), bias=False) \n",
      " Lost(top:24.0, left:24.0, bottom:23.0, right:23.0)\n",
      "Conv2d(128, 256, kernel_size=(3, 3), stride=(2, 2), padding=(1, 1), bias=False) \n",
      " Lost(top:25.0, left:25.0, bottom:24.0, right:24.0)\n",
      "Conv2d(128, 128, kernel_size=(3, 3), stride=(1, 1), padding=(1, 1), bias=False) \n",
      " Lost(top:52.0, left:52.0, bottom:51.0, right:51.0)\n",
      "Conv2d(128, 128, kernel_size=(3, 3), stride=(1, 1), padding=(1, 1), bias=False) \n",
      " Lost(top:52.0, left:52.0, bottom:51.0, right:51.0)\n",
      "Conv2d(64, 128, kernel_size=(1, 1), stride=(2, 2), bias=False) \n",
      " Lost(top:56.0, left:56.0, bottom:55.0, right:55.0)\n",
      "Conv2d(128, 128, kernel_size=(3, 3), stride=(1, 1), padding=(1, 1), bias=False) \n",
      " Lost(top:56.0, left:56.0, bottom:55.0, right:55.0)\n",
      "Conv2d(64, 128, kernel_size=(3, 3), stride=(2, 2), padding=(1, 1), bias=False) \n",
      " Lost(top:55.0, left:55.0, bottom:54.0, right:54.0)\n",
      "Conv2d(64, 64, kernel_size=(3, 3), stride=(1, 1), padding=(1, 1), bias=False) \n",
      " Lost(top:112.0, left:112.0, bottom:111.0, right:111.0)\n",
      "Conv2d(64, 64, kernel_size=(3, 3), stride=(1, 1), padding=(1, 1), bias=False) \n",
      " Lost(top:113.0, left:113.0, bottom:112.0, right:112.0)\n",
      "Conv2d(64, 64, kernel_size=(3, 3), stride=(1, 1), padding=(1, 1), bias=False) \n",
      " Lost(top:120.0, left:120.0, bottom:119.0, right:119.0)\n",
      "Conv2d(64, 64, kernel_size=(3, 3), stride=(1, 1), padding=(1, 1), bias=False) \n",
      " Lost(top:119.0, left:119.0, bottom:118.0, right:118.0)\n",
      "testing shape gradient fix\n",
      "MaxPool2d(kernel_size=3, stride=2, padding=1, dilation=1, ceil_mode=False) \n",
      " Lost(top:120.0, left:120.0, bottom:119.0, right:119.0)\n",
      "Conv2d(3, 64, kernel_size=(7, 7), stride=(2, 2), padding=(3, 3), bias=False) \n",
      " Lost(top:241.0, left:241.0, bottom:239.0, right:239.0)\n",
      "\n",
      " Input gradient lost Lost(top:490.0, left:490.0, bottom:487.0, right:487.0)\n"
     ]
    }
   ],
   "source": [
    "sCNN = StreamingCNN(stream_net, \n",
    "                    tile_shape=(1, 3, tile_size, tile_size), \n",
    "                    verbose=True, \n",
    "                    gather_gradients=True,\n",
    "                    saliency=True)"
   ],
   "metadata": {
    "collapsed": false,
    "ExecuteTime": {
     "end_time": "2023-10-08T15:50:52.940770400Z",
     "start_time": "2023-10-08T15:50:51.509772300Z"
    }
   },
   "id": "2cd870206b255a89"
  },
  {
   "cell_type": "markdown",
   "source": [
    "If the verbose flag is True than StreamingCNN will print for every layer in the network the required overlap that is needed to reconstruct the feature maps and gradients. The higher this is, the more tiles are needed to be inferences. It is always beneficial to increase the tile size as much as possible to make use of all the GPU memory."
   ],
   "metadata": {
    "collapsed": false
   },
   "id": "3cad5bbd0be54b30"
  },
  {
   "cell_type": "markdown",
   "source": [
    "## Generate random image and fake label"
   ],
   "metadata": {
    "collapsed": false
   },
   "id": "667550f1a8f6d206"
  },
  {
   "cell_type": "code",
   "execution_count": 11,
   "outputs": [],
   "source": [
    "image = torch.FloatTensor(3, img_size, img_size).normal_(0, 1)\n",
    "target = torch.tensor(50.)  # large value so we get larger gradients\n",
    "\n",
    "image = image.type(dtype)\n",
    "target = target.type(dtype)\n",
    "\n",
    "if cuda:\n",
    "    target = target.cuda()\n",
    "    image = image.cuda()"
   ],
   "metadata": {
    "collapsed": false,
    "ExecuteTime": {
     "end_time": "2023-10-08T15:50:52.988770200Z",
     "start_time": "2023-10-08T15:50:52.942771100Z"
    }
   },
   "id": "cc4e388db2427829"
  },
  {
   "cell_type": "code",
   "execution_count": 12,
   "outputs": [],
   "source": [
    "criterion = torch.nn.MSELoss()"
   ],
   "metadata": {
    "collapsed": false,
    "ExecuteTime": {
     "end_time": "2023-10-08T15:50:53.004769600Z",
     "start_time": "2023-10-08T15:50:52.988770200Z"
    }
   },
   "id": "1b9bc232937996ea"
  },
  {
   "cell_type": "markdown",
   "source": [
    "## Run through network using streaming"
   ],
   "metadata": {
    "collapsed": false
   },
   "id": "c92cc440cd75645d"
  },
  {
   "cell_type": "code",
   "execution_count": 13,
   "outputs": [
    {
     "name": "stdout",
     "output_type": "stream",
     "text": [
      "Number of tiles in forward: 9\n"
     ]
    },
    {
     "name": "stderr",
     "output_type": "stream",
     "text": [
      "100%|██████████| 3/3 [00:00<00:00, 176.48it/s]"
     ]
    },
    {
     "name": "stdout",
     "output_type": "stream",
     "text": [
      "torch.Size([1, 512, 47, 47])\n"
     ]
    },
    {
     "name": "stderr",
     "output_type": "stream",
     "text": [
      "\n"
     ]
    },
    {
     "data": {
      "text/plain": "tensor(8.8728327342, device='cuda:0', dtype=torch.float64)"
     },
     "execution_count": 13,
     "metadata": {},
     "output_type": "execute_result"
    }
   ],
   "source": [
    "stream_output = sCNN.forward(image[None])\n",
    "print(stream_output.shape)\n",
    "stream_output.max()"
   ],
   "metadata": {
    "collapsed": false,
    "ExecuteTime": {
     "end_time": "2023-10-08T15:50:55.017556200Z",
     "start_time": "2023-10-08T15:50:53.004769600Z"
    }
   },
   "id": "14ee58248a07a1af"
  },
  {
   "cell_type": "code",
   "execution_count": 14,
   "outputs": [],
   "source": [
    "stream_output.requires_grad = True"
   ],
   "metadata": {
    "collapsed": false,
    "ExecuteTime": {
     "end_time": "2023-10-08T15:50:55.045555400Z",
     "start_time": "2023-10-08T15:50:55.022555900Z"
    }
   },
   "id": "762fdcf9850c4c7b"
  },
  {
   "cell_type": "code",
   "execution_count": 15,
   "outputs": [
    {
     "data": {
      "text/plain": "tensor(0.6056637677, device='cuda:0', dtype=torch.float64,\n       grad_fn=<SigmoidBackward0>)"
     },
     "execution_count": 15,
     "metadata": {},
     "output_type": "execute_result"
    }
   ],
   "source": [
    "output = torch.sigmoid(torch.mean(stream_output)); output"
   ],
   "metadata": {
    "collapsed": false,
    "ExecuteTime": {
     "end_time": "2023-10-08T15:50:55.068555900Z",
     "start_time": "2023-10-08T15:50:55.033556500Z"
    }
   },
   "id": "a833c157e215563c"
  },
  {
   "cell_type": "code",
   "execution_count": 17,
   "outputs": [
    {
     "data": {
      "text/plain": "tensor(2439.8004518320, device='cuda:0', dtype=torch.float64,\n       grad_fn=<MseLossBackward0>)"
     },
     "execution_count": 17,
     "metadata": {},
     "output_type": "execute_result"
    }
   ],
   "source": [
    "loss = criterion(output, target)\n",
    "loss"
   ],
   "metadata": {
    "collapsed": false,
    "ExecuteTime": {
     "end_time": "2023-10-08T15:50:55.120556400Z",
     "start_time": "2023-10-08T15:50:55.078558400Z"
    }
   },
   "id": "6081081438ef32f5"
  },
  {
   "cell_type": "code",
   "execution_count": 18,
   "outputs": [],
   "source": [
    "loss.backward()"
   ],
   "metadata": {
    "collapsed": false,
    "ExecuteTime": {
     "end_time": "2023-10-08T15:50:55.171556200Z",
     "start_time": "2023-10-08T15:50:55.110556500Z"
    }
   },
   "id": "555dd52023b8fad8"
  },
  {
   "cell_type": "code",
   "execution_count": 19,
   "outputs": [
    {
     "name": "stdout",
     "output_type": "stream",
     "text": [
      "1065.4705882352941 289 1071.0\n",
      "Number of tiles in backprop: 289\n"
     ]
    },
    {
     "name": "stderr",
     "output_type": "stream",
     "text": [
      "100%|██████████| 17/17 [01:49<00:00,  6.47s/it]\n"
     ]
    }
   ],
   "source": [
    "full_gradients = sCNN.backward(image[None], stream_output.grad)"
   ],
   "metadata": {
    "collapsed": false,
    "ExecuteTime": {
     "end_time": "2023-10-08T15:52:45.083945900Z",
     "start_time": "2023-10-08T15:50:55.141556400Z"
    }
   },
   "id": "c2d36b3edafb4e6b"
  },
  {
   "cell_type": "code",
   "execution_count": 20,
   "outputs": [
    {
     "data": {
      "text/plain": "torch.Size([1, 3, 1504, 1504])"
     },
     "execution_count": 20,
     "metadata": {},
     "output_type": "execute_result"
    }
   ],
   "source": [
    "sCNN.saliency_map.shape"
   ],
   "metadata": {
    "collapsed": false,
    "ExecuteTime": {
     "end_time": "2023-10-08T15:52:45.129891400Z",
     "start_time": "2023-10-08T15:52:45.084951200Z"
    }
   },
   "id": "1acf48d6ac39e88b"
  },
  {
   "cell_type": "code",
   "execution_count": 21,
   "outputs": [],
   "source": [
    "streaming_conv_gradients = []\n",
    "\n",
    "for i, layer in enumerate(stream_net.modules()):\n",
    "    if isinstance(layer, StreamingConv2d):\n",
    "        if layer.weight.grad is not None:\n",
    "            streaming_conv_gradients.append(layer.weight.grad.clone()) "
   ],
   "metadata": {
    "collapsed": false,
    "ExecuteTime": {
     "end_time": "2023-10-08T15:52:45.138890500Z",
     "start_time": "2023-10-08T15:52:45.101904100Z"
    }
   },
   "id": "9b4c6c1f339fa2e2"
  },
  {
   "cell_type": "code",
   "execution_count": 22,
   "outputs": [
    {
     "data": {
      "text/plain": "[tensor([[[[ 1.8727882681e-02,  4.2462565059e-02,  1.6946532124e-02,\n             ..., -5.2710641082e-02,  4.4241473500e-02,\n             1.9932344387e-03],\n           [ 3.4851736749e-02, -4.7821616299e-02,  3.3939477928e-02,\n             ...,  3.9349109186e-02,  2.3087964686e-02,\n            -1.5771398292e-02],\n           [ 4.6585934477e-03, -1.6452228530e-02, -3.5857144464e-02,\n             ..., -1.1283129534e-01, -4.1333470662e-02,\n            -1.0679428096e-02],\n           ...,\n           [ 1.6675789498e-02,  9.2885654265e-03, -4.3528423341e-02,\n             ...,  6.2860574862e-02,  1.2225468024e-01,\n             5.9527851944e-02],\n           [ 2.2157879967e-02, -1.8142667590e-02,  2.4933586403e-02,\n             ..., -9.5610242221e-02, -1.1699369123e-01,\n             3.6397963880e-02],\n           [ 1.3051719485e-02,  6.7727680684e-03,  6.7861154835e-02,\n             ...,  2.6767397485e-02,  1.7508919825e-02,\n            -6.9734361586e-02]],\n \n          [[ 3.5605509556e-02,  8.0252686604e-03,  1.4393464455e-03,\n             ..., -1.9507176002e-02,  9.0234316557e-03,\n            -9.3996951781e-03],\n           [ 2.0864124488e-02, -1.3543524629e-02, -9.3032714324e-03,\n             ...,  5.1005811683e-02, -2.8476187476e-02,\n            -3.8349182955e-02],\n           [ 1.3966616449e-02,  7.0380111197e-02, -9.8413503794e-02,\n             ..., -1.4902707328e-01, -6.7020826048e-02,\n            -2.7727701367e-02],\n           ...,\n           [ 5.9574471663e-03,  3.4787774556e-03, -3.6517346098e-02,\n             ...,  6.0180955403e-02,  8.4276530197e-02,\n             7.0144767929e-02],\n           [-3.4861658896e-02, -1.1571262727e-02, -2.4364170940e-02,\n             ..., -1.6314185742e-01, -9.2845606410e-02,\n            -2.6108669455e-02],\n           [-6.2942157777e-03, -9.3000490215e-03, -3.2073843824e-02,\n             ...,  4.9592352450e-04,  4.6009197561e-02,\n            -4.7190292704e-02]],\n \n          [[ 6.1235794637e-02,  2.3714089290e-02, -1.3821405771e-03,\n             ..., -1.9902992216e-02,  3.4188917645e-03,\n             2.4783078668e-02],\n           [-8.7567285822e-03, -3.0454165809e-02,  2.5612039971e-02,\n             ...,  5.3104148950e-02,  1.8847334355e-02,\n            -3.0283354500e-03],\n           [ 2.9283606071e-02,  1.5884437230e-02, -5.1258294231e-02,\n             ..., -7.6448706329e-02, -1.7194142895e-02,\n             3.9650182837e-02],\n           ...,\n           [ 4.4981090778e-02,  1.8735617430e-02, -5.8378337201e-02,\n             ...,  4.6286501764e-02,  6.2915867171e-02,\n             1.8001914343e-02],\n           [-1.5019701807e-02,  3.7686815349e-02,  8.8163435676e-02,\n             ..., -5.6909784529e-02, -7.6500675796e-02,\n            -4.4420954587e-02],\n           [-3.6686687136e-02, -4.3837607045e-03, -1.1930335339e-03,\n             ...,  4.8715878333e-02,  1.9625564000e-02,\n             7.6065411881e-03]]],\n \n \n         [[[ 1.5237550111e-02,  4.1624327341e-03, -1.4020092756e-02,\n             ..., -1.9279182360e-02,  1.0949206436e-02,\n            -3.2864578146e-03],\n           [ 4.0829506768e-02,  1.9167738737e-02,  3.6844560125e-02,\n             ...,  1.9386600750e-02,  3.1664917912e-02,\n             6.4784674206e-02],\n           [-1.7619151732e-02, -3.6599162717e-02, -1.7021821259e-02,\n             ..., -6.5858550300e-03,  2.7380194876e-03,\n             7.6460298306e-03],\n           ...,\n           [-4.5602469238e-02, -7.6921764350e-02, -1.0137308544e-01,\n             ..., -9.4448053968e-02, -5.9797825028e-02,\n            -3.4677867543e-02],\n           [-3.6430767708e-02, -6.5337979621e-02, -3.0398400523e-02,\n             ..., -1.1680263140e-02, -4.2564802498e-02,\n             6.4113410107e-04],\n           [-2.1730204510e-03,  9.7114372136e-04,  3.9482010884e-02,\n             ..., -2.7498106498e-02, -1.4580988823e-02,\n             2.1340377411e-04]],\n \n          [[ 3.4306655737e-03,  2.5368616090e-02,  3.4683330768e-02,\n             ...,  2.6991573547e-02,  4.5135930655e-02,\n             1.8990981222e-03],\n           [-3.0369713943e-03,  1.2473794301e-03,  5.5252164898e-02,\n             ...,  1.0215697120e-01,  8.8599362979e-02,\n             5.8377687270e-02],\n           [-1.7732335111e-02, -8.1199906088e-03, -3.0522922150e-04,\n             ...,  3.8997248436e-02,  1.2782152148e-02,\n             7.4899070337e-03],\n           ...,\n           [-8.1999926609e-02, -1.0606225752e-01, -1.2301182082e-01,\n             ..., -1.0898598415e-01, -1.1680989510e-01,\n            -6.6571437007e-02],\n           [-7.4060729353e-03, -6.0715573359e-02, -5.1470106925e-02,\n             ..., -6.9205763793e-02, -1.6289911482e-02,\n            -1.9656055686e-02],\n           [-6.8024981608e-03,  1.6093733635e-02, -1.4042498473e-02,\n             ...,  7.1448419790e-03, -9.8066725436e-03,\n             5.0334511944e-02]],\n \n          [[-1.1198633687e-02, -8.1144215788e-03,  7.5952754168e-03,\n             ...,  2.8489658133e-02,  1.6734112488e-02,\n            -2.9050848116e-02],\n           [ 4.9203279777e-03,  5.5313631239e-03,  2.7226951846e-02,\n             ...,  7.4513255556e-02,  4.5367065975e-02,\n             1.1225120114e-02],\n           [-3.9395146806e-02, -3.2697413616e-02, -2.3679379166e-03,\n             ...,  3.3922090901e-02,  3.2756208131e-02,\n             4.8962286604e-02],\n           ...,\n           [-1.5830014503e-02, -6.9592426125e-02, -8.3971037839e-02,\n             ..., -9.3358200356e-02, -8.1084014312e-02,\n            -2.7352265396e-02],\n           [-1.4237639336e-02, -3.9961492397e-02, -5.1060238558e-02,\n             ...,  6.0372251132e-03, -2.7548244751e-02,\n            -3.4005576091e-02],\n           [ 4.6486934419e-02,  2.1119663673e-02, -9.8188224529e-03,\n             ..., -3.6865007010e-03, -2.0823458216e-02,\n            -1.5751789245e-02]]],\n \n \n         [[[ 0.0000000000e+00,  0.0000000000e+00,  0.0000000000e+00,\n             ...,  0.0000000000e+00,  0.0000000000e+00,\n             0.0000000000e+00],\n           [ 0.0000000000e+00,  0.0000000000e+00,  0.0000000000e+00,\n             ...,  0.0000000000e+00,  0.0000000000e+00,\n             0.0000000000e+00],\n           [ 0.0000000000e+00,  0.0000000000e+00,  0.0000000000e+00,\n             ...,  0.0000000000e+00,  0.0000000000e+00,\n             0.0000000000e+00],\n           ...,\n           [ 0.0000000000e+00,  0.0000000000e+00,  0.0000000000e+00,\n             ...,  0.0000000000e+00,  0.0000000000e+00,\n             0.0000000000e+00],\n           [ 0.0000000000e+00,  0.0000000000e+00,  0.0000000000e+00,\n             ...,  0.0000000000e+00,  0.0000000000e+00,\n             0.0000000000e+00],\n           [ 0.0000000000e+00,  0.0000000000e+00,  0.0000000000e+00,\n             ...,  0.0000000000e+00,  0.0000000000e+00,\n             0.0000000000e+00]],\n \n          [[ 0.0000000000e+00,  0.0000000000e+00,  0.0000000000e+00,\n             ...,  0.0000000000e+00,  0.0000000000e+00,\n             0.0000000000e+00],\n           [ 0.0000000000e+00,  0.0000000000e+00,  0.0000000000e+00,\n             ...,  0.0000000000e+00,  0.0000000000e+00,\n             0.0000000000e+00],\n           [ 0.0000000000e+00,  0.0000000000e+00,  0.0000000000e+00,\n             ...,  0.0000000000e+00,  0.0000000000e+00,\n             0.0000000000e+00],\n           ...,\n           [ 0.0000000000e+00,  0.0000000000e+00,  0.0000000000e+00,\n             ...,  0.0000000000e+00,  0.0000000000e+00,\n             0.0000000000e+00],\n           [ 0.0000000000e+00,  0.0000000000e+00,  0.0000000000e+00,\n             ...,  0.0000000000e+00,  0.0000000000e+00,\n             0.0000000000e+00],\n           [ 0.0000000000e+00,  0.0000000000e+00,  0.0000000000e+00,\n             ...,  0.0000000000e+00,  0.0000000000e+00,\n             0.0000000000e+00]],\n \n          [[ 0.0000000000e+00,  0.0000000000e+00,  0.0000000000e+00,\n             ...,  0.0000000000e+00,  0.0000000000e+00,\n             0.0000000000e+00],\n           [ 0.0000000000e+00,  0.0000000000e+00,  0.0000000000e+00,\n             ...,  0.0000000000e+00,  0.0000000000e+00,\n             0.0000000000e+00],\n           [ 0.0000000000e+00,  0.0000000000e+00,  0.0000000000e+00,\n             ...,  0.0000000000e+00,  0.0000000000e+00,\n             0.0000000000e+00],\n           ...,\n           [ 0.0000000000e+00,  0.0000000000e+00,  0.0000000000e+00,\n             ...,  0.0000000000e+00,  0.0000000000e+00,\n             0.0000000000e+00],\n           [ 0.0000000000e+00,  0.0000000000e+00,  0.0000000000e+00,\n             ...,  0.0000000000e+00,  0.0000000000e+00,\n             0.0000000000e+00],\n           [ 0.0000000000e+00,  0.0000000000e+00,  0.0000000000e+00,\n             ...,  0.0000000000e+00,  0.0000000000e+00,\n             0.0000000000e+00]]],\n \n \n         ...,\n \n \n         [[[ 1.1699495347e-02,  5.1156650486e-02,  4.4572681921e-04,\n             ...,  1.5131527020e-02,  2.9574262279e-02,\n             5.3477656601e-02],\n           [ 1.6139109904e-02, -1.5633682585e-03,  2.1783611079e-03,\n             ...,  2.8157528249e-02,  2.8292294004e-02,\n            -5.5449077966e-03],\n           [ 2.3546080348e-02,  2.3453668697e-02, -8.0617821088e-03,\n             ...,  4.1779811627e-02,  2.8980807228e-02,\n             2.5197468585e-02],\n           ...,\n           [ 2.1037880110e-02,  3.4359299338e-03,  3.2918868264e-02,\n             ...,  5.6762705078e-02,  2.8323779142e-02,\n             3.6099234442e-02],\n           [ 3.5857656945e-02,  3.7065606765e-02, -1.6073695688e-03,\n             ...,  1.0412680479e-02,  2.0805089551e-02,\n            -4.5004480694e-04],\n           [-1.5133397708e-02,  4.3011418465e-03, -6.6471986120e-03,\n             ...,  3.5386950142e-02,  4.2546256259e-03,\n             8.4896676838e-04]],\n \n          [[-2.1445992103e-03,  3.3633989641e-02, -1.1827047931e-02,\n             ..., -2.4779059936e-02, -2.8019571014e-02,\n            -2.7986311652e-02],\n           [ 2.5235569771e-02, -8.8819637010e-03, -7.5047334021e-03,\n             ..., -1.2988855100e-02, -1.7509689724e-02,\n            -4.2915327816e-02],\n           [-8.3181308497e-04,  8.3849139611e-03, -6.9868401789e-04,\n             ..., -9.8413923757e-04, -1.8888556071e-02,\n            -2.6960190161e-02],\n           ...,\n           [ 1.3730488773e-02,  2.1011281548e-03, -3.3569689836e-02,\n             ...,  2.3670588688e-02, -4.8378343969e-02,\n            -1.6679028195e-02],\n           [ 4.5138700264e-03,  2.2585846371e-04, -4.7240579996e-04,\n             ..., -8.6989268443e-03, -3.3776094570e-02,\n            -2.6690897590e-04],\n           [-2.1263170378e-02, -2.9296731355e-02, -5.2466665754e-02,\n             ...,  2.1204743139e-02, -5.5810971293e-03,\n            -9.2876170424e-03]],\n \n          [[ 1.0297495668e-04, -7.8430467288e-04,  3.8685391317e-02,\n             ..., -3.4203748082e-03, -1.9294124778e-03,\n            -1.0331995001e-02],\n           [ 1.9934096701e-02,  1.7030552343e-02,  5.0014783575e-02,\n             ...,  2.1615737077e-02,  7.5646015969e-03,\n             1.7533360034e-02],\n           [ 8.9707189090e-03,  2.5895822729e-02,  1.5894473105e-03,\n             ...,  3.1557422170e-03, -9.3545446337e-04,\n             1.8623133388e-02],\n           ...,\n           [ 2.9691150894e-02,  2.2430227858e-02,  2.7697792681e-02,\n             ...,  1.4787722582e-02,  2.7567085977e-03,\n             3.3209605817e-02],\n           [ 3.6440261837e-02,  2.8794761113e-02, -3.1169896168e-02,\n             ...,  4.1061341047e-02,  2.3579282946e-02,\n            -6.2466984377e-03],\n           [-2.1983769161e-02, -1.0293380922e-02,  1.2352734485e-02,\n             ...,  2.8704449071e-02, -3.7697748212e-03,\n             1.1855199426e-02]]],\n \n \n         [[[ 1.5644871110e-04, -2.5653227224e-03,  1.1585337669e-04,\n             ..., -5.0076887690e-04, -9.5204639137e-04,\n             9.9886964192e-04],\n           [ 2.8924794803e-05, -2.0531535402e-03, -1.4502499029e-04,\n             ..., -8.8018727999e-04,  4.7876562543e-04,\n            -8.7184724137e-04],\n           [ 1.4599755295e-04, -1.5088596492e-03, -1.1836225289e-04,\n             ..., -1.4907372915e-03,  4.2969948784e-04,\n             4.9853212560e-04],\n           ...,\n           [-1.4802509093e-03,  1.5069836274e-03,  1.5752855651e-03,\n             ...,  2.2584256751e-03, -4.4257270689e-04,\n             3.5441031726e-04],\n           [-3.4026649660e-05,  7.5121988227e-04,  1.0996861462e-03,\n             ...,  3.8994014301e-04,  2.8049260725e-03,\n             2.7329017149e-04],\n           [-1.2161371084e-03,  1.4239582561e-03, -2.2219724337e-04,\n             ..., -1.8570422424e-03,  8.5134845374e-04,\n             6.4677298572e-04]],\n \n          [[ 1.1424670030e-03, -3.5164804444e-04,  1.9774174319e-03,\n             ...,  2.4048808196e-03,  3.9401457572e-04,\n             6.2270010827e-04],\n           [ 2.2061313349e-04,  1.0444247043e-03, -8.0426047080e-04,\n             ...,  1.7034071358e-03,  1.3274861063e-03,\n            -4.2335329052e-04],\n           [-5.5663087107e-04, -1.5543919285e-04, -1.0599135143e-03,\n             ...,  3.8068621177e-04,  1.2633432583e-03,\n             4.0956227641e-04],\n           ...,\n           [-2.1646488888e-04,  2.5416276444e-04,  1.2785553488e-03,\n             ...,  1.8609969872e-03,  6.7600576163e-04,\n            -1.3030003271e-03],\n           [ 2.0492395227e-03, -3.8587881531e-04, -2.7526605650e-03,\n             ..., -3.7765329930e-04,  2.0025214002e-05,\n            -1.2072570421e-03],\n           [ 5.8566065168e-04,  8.5329159856e-04, -2.3039991031e-04,\n             ...,  2.1663541748e-03, -2.5883886470e-03,\n             5.7820492850e-04]],\n \n          [[-2.7450421923e-04,  1.0737505275e-03, -1.6534305900e-03,\n             ..., -1.3193940859e-03, -1.7297547926e-03,\n             4.0214369007e-03],\n           [-6.4327540008e-04, -1.8320472593e-03, -1.5594186540e-03,\n             ..., -2.2100249346e-03,  1.1922704258e-04,\n             2.4885208900e-04],\n           [-6.4649639802e-04, -5.3972128800e-04, -3.2027202594e-05,\n             ...,  8.2118054355e-04,  2.3887510255e-03,\n            -1.1107668850e-03],\n           ...,\n           [-1.8856181899e-04,  5.6667292559e-04, -1.1297869287e-03,\n             ...,  2.2467984528e-03,  7.9358950712e-04,\n            -2.2743086149e-04],\n           [ 1.8307318552e-03,  2.9829320908e-03, -9.9524227873e-04,\n             ...,  8.2737877644e-04,  4.1148192684e-04,\n            -3.5610558969e-04],\n           [ 1.8472229146e-03,  2.3058009731e-03,  1.0753913581e-03,\n             ...,  6.7334110434e-05, -2.8177615510e-05,\n            -9.2538598805e-05]]],\n \n \n         [[[-2.9232771873e-02,  1.0349469918e-02, -4.6723072333e-03,\n             ..., -3.1884760741e-02, -4.3002071044e-04,\n            -3.2894626456e-02],\n           [ 3.7891529294e-03,  5.9676769818e-02,  2.3803840646e-02,\n             ..., -1.4008236276e-02,  7.9760026055e-03,\n            -2.0523782587e-03],\n           [-5.7025539201e-04,  4.1153539519e-02, -5.3451821718e-03,\n             ..., -7.1521369534e-02, -3.6289395125e-02,\n            -2.2318191605e-02],\n           ...,\n           [-3.0729282150e-02, -8.2131830096e-02, -4.4533319018e-02,\n             ...,  4.6114237492e-02, -7.0464771654e-03,\n            -9.4353529060e-03],\n           [ 8.5969070471e-03,  3.1416328795e-03,  2.6471874423e-02,\n             ...,  9.8606028118e-03, -1.4994396541e-02,\n            -2.3662055861e-02],\n           [-1.1884865274e-02, -4.8497638607e-03,  2.6991887183e-02,\n             ...,  1.3794487160e-04, -4.0179015335e-02,\n            -7.1816477177e-03]],\n \n          [[ 2.2483544540e-02,  3.9545658446e-02,  3.2781379540e-02,\n             ...,  5.6089096113e-03,  9.4860539515e-03,\n            -7.9165018833e-03],\n           [ 3.1302537253e-02,  3.1930449833e-02,  6.9927850824e-02,\n             ..., -1.7064718394e-02,  2.3328001175e-02,\n            -4.9415145930e-03],\n           [ 4.1424791724e-02,  4.6258731711e-02,  1.7982902541e-02,\n             ..., -1.0173404439e-01, -2.6622564836e-02,\n            -2.5161597271e-02],\n           ...,\n           [-5.1372786949e-02, -1.1802335050e-01, -6.0591359650e-02,\n             ...,  4.4240741346e-02,  6.0431295538e-02,\n             3.1029143850e-02],\n           [-4.7881728034e-02, -1.0904410671e-02,  3.7999844965e-02,\n             ...,  6.3935296515e-02, -6.8994094631e-03,\n            -3.9038832770e-02],\n           [-2.6462544854e-02,  3.0596054124e-02,  8.5977193394e-03,\n             ..., -3.5246996361e-02, -4.0239124416e-02,\n            -3.8816108736e-02]],\n \n          [[-9.0583773212e-03, -1.1720148264e-02,  1.0547662354e-02,\n             ..., -4.8595064508e-02, -1.8190608573e-02,\n            -4.0622293968e-02],\n           [-2.3143785248e-04, -3.4428953851e-03, -7.8624064048e-04,\n             ...,  1.9628079062e-02, -7.8699512821e-03,\n            -1.0029822413e-02],\n           [ 2.9489777682e-02,  4.1687689602e-02,  1.1696327462e-02,\n             ..., -8.1435809001e-02, -4.1986826455e-02,\n            -5.0890623661e-02],\n           ...,\n           [-1.5106202958e-02, -4.1099998006e-02, -4.2484402139e-02,\n             ...,  2.9737360814e-02,  2.0644664282e-02,\n            -8.4966739557e-03],\n           [ 3.2210340629e-03, -1.9153185693e-02, -4.1987687016e-03,\n             ...,  2.1040932898e-02, -1.2500634008e-02,\n            -3.2284460548e-02],\n           [ 6.4432050483e-03, -4.1906706595e-02,  5.4216975398e-03,\n             ..., -2.3740016890e-02,  8.2152023700e-03,\n            -3.3131899602e-02]]]], device='cuda:0', dtype=torch.float64),\n tensor([[[[ 6.9568808861e-01,  6.3671420410e-01,  7.3971739740e-01],\n           [ 6.4197857278e-01,  5.5326213417e-01,  6.4098460261e-01],\n           [ 7.5778736857e-01,  6.9133532186e-01,  7.2319421150e-01]],\n \n          [[ 3.2559901703e-01,  3.1785965392e-01,  3.2685814024e-01],\n           [ 3.2638255707e-01,  3.0842906640e-01,  3.1063929907e-01],\n           [ 3.4499390553e-01,  3.3566668138e-01,  3.3025395752e-01]],\n \n          [[ 0.0000000000e+00,  0.0000000000e+00,  0.0000000000e+00],\n           [ 0.0000000000e+00,  0.0000000000e+00,  0.0000000000e+00],\n           [ 0.0000000000e+00,  0.0000000000e+00,  0.0000000000e+00]],\n \n          ...,\n \n          [[ 3.8821010841e-01,  3.9255529038e-01,  3.8757636082e-01],\n           [ 3.9032351828e-01,  3.9542787438e-01,  3.9023655030e-01],\n           [ 3.8712665460e-01,  3.9188123045e-01,  3.8840618577e-01]],\n \n          [[ 6.9547297818e-05,  6.7100570961e-05,  4.2978150290e-05],\n           [-4.7598588322e-05, -8.8958164788e-05,  7.3530805158e-05],\n           [ 8.2624867761e-05, -2.6176552430e-05,  4.7244442712e-05]],\n \n          [[ 5.0910924217e-01,  4.7760750001e-01,  4.9684193559e-01],\n           [ 5.0717870112e-01,  4.6890079165e-01,  4.8217443144e-01],\n           [ 5.3901595305e-01,  5.1740627568e-01,  5.2673866965e-01]]],\n \n \n         [[[-6.8150393677e-01, -7.0022979690e-01, -6.0691952156e-01],\n           [-7.0238081465e-01, -6.8894470168e-01, -6.8755463588e-01],\n           [-7.2025201789e-01, -6.5603475938e-01, -5.9211283722e-01]],\n \n          [[-3.0468913751e-01, -3.4320022559e-01, -3.2507762130e-01],\n           [-3.9289937447e-01, -4.2467380718e-01, -3.5478391323e-01],\n           [-2.8921939326e-01, -2.7681852400e-01, -2.8639691250e-01]],\n \n          [[ 0.0000000000e+00,  0.0000000000e+00,  0.0000000000e+00],\n           [ 0.0000000000e+00,  0.0000000000e+00,  0.0000000000e+00],\n           [ 0.0000000000e+00,  0.0000000000e+00,  0.0000000000e+00]],\n \n          ...,\n \n          [[-3.6719923389e-01, -3.8141185154e-01, -3.7326117117e-01],\n           [-3.6570068478e-01, -3.6368651091e-01, -3.6920364900e-01],\n           [-3.7540227531e-01, -3.7647300837e-01, -3.7740083946e-01]],\n \n          [[-6.5682003773e-05, -1.8090501410e-05, -2.3645199326e-04],\n           [-8.9868020420e-05, -9.1588197537e-05, -1.9513021382e-04],\n           [-1.8066277791e-04, -1.8651171893e-04, -3.5755193172e-05]],\n \n          [[-5.3626126296e-01, -5.1159295531e-01, -4.8725207419e-01],\n           [-5.6103395038e-01, -6.2220540595e-01, -6.0027767662e-01],\n           [-5.6639126059e-01, -4.9846079990e-01, -4.4922696528e-01]]],\n \n \n         [[[ 8.8460724851e-02,  1.3269506740e-01,  1.3197431587e-01],\n           [-9.6102583768e-03, -3.7065417100e-02,  3.0267694739e-02],\n           [ 1.1323425256e-01,  9.0525994462e-02,  8.1826841778e-02]],\n \n          [[ 2.2911436759e-02,  3.4170279513e-02,  3.3768196424e-02],\n           [ 1.8772649355e-02,  1.6090714507e-02,  1.8692287963e-02],\n           [ 4.2710399078e-02,  4.1108324972e-02,  3.4709993748e-02]],\n \n          [[ 0.0000000000e+00,  0.0000000000e+00,  0.0000000000e+00],\n           [ 0.0000000000e+00,  0.0000000000e+00,  0.0000000000e+00],\n           [ 0.0000000000e+00,  0.0000000000e+00,  0.0000000000e+00]],\n \n          ...,\n \n          [[ 3.3813616752e-02,  3.6862314693e-02,  4.0640595489e-02],\n           [ 3.1191592314e-02,  3.5442131143e-02,  3.8887330893e-02],\n           [ 2.7869281063e-02,  3.3123764638e-02,  3.6844824858e-02]],\n \n          [[ 1.1030032894e-04,  9.6726260173e-05, -4.4252154109e-05],\n           [ 1.4917715188e-04,  1.7683048386e-04, -1.8748529350e-04],\n           [-3.5555837322e-05,  9.2308204792e-05, -1.4249244072e-04]],\n \n          [[ 5.8385084703e-02,  6.6861431761e-02,  6.2222725622e-02],\n           [ 2.4777661547e-02,  3.5484766899e-02,  3.5942990324e-02],\n           [ 3.5431743017e-02,  2.9509277694e-02,  3.0308958946e-02]]],\n \n \n         ...,\n \n \n         [[[ 5.1451881387e-05, -1.5604499726e-06,  0.0000000000e+00],\n           [ 1.1543691091e-04, -3.2820177242e-06,  0.0000000000e+00],\n           [ 9.3078017833e-05,  1.0619270080e-04,  0.0000000000e+00]],\n \n          [[ 3.2574270445e-05,  2.9900335370e-05,  0.0000000000e+00],\n           [ 1.6595877959e-05,  4.6944827955e-06,  0.0000000000e+00],\n           [ 2.8953357234e-05,  3.7813018694e-05,  0.0000000000e+00]],\n \n          [[ 0.0000000000e+00,  0.0000000000e+00,  0.0000000000e+00],\n           [ 0.0000000000e+00,  0.0000000000e+00,  0.0000000000e+00],\n           [ 0.0000000000e+00,  0.0000000000e+00,  0.0000000000e+00]],\n \n          ...,\n \n          [[ 6.3931357729e-06,  9.6932361659e-06,  0.0000000000e+00],\n           [ 4.6128566030e-05,  4.1488064506e-05,  0.0000000000e+00],\n           [ 5.2639320812e-05,  4.2507154413e-05,  0.0000000000e+00]],\n \n          [[ 0.0000000000e+00,  0.0000000000e+00,  0.0000000000e+00],\n           [ 0.0000000000e+00,  0.0000000000e+00,  0.0000000000e+00],\n           [ 0.0000000000e+00,  0.0000000000e+00,  0.0000000000e+00]],\n \n          [[ 5.2673192631e-05,  9.8327761072e-05,  0.0000000000e+00],\n           [ 6.8711981380e-05,  8.4874759811e-05,  0.0000000000e+00],\n           [ 8.5424401223e-05,  1.0943971978e-04,  0.0000000000e+00]]],\n \n \n         [[[ 7.1521221280e-02,  5.9159625043e-02, -3.4059787767e-02],\n           [ 9.0318719627e-02,  1.2272060190e-01,  2.1116932115e-02],\n           [-7.8163956195e-02, -2.6341408025e-02, -5.4912424054e-02]],\n \n          [[-5.3900438274e-03,  2.4085089751e-02,  4.3433958375e-03],\n           [-1.6270542443e-02, -4.2671397717e-03, -1.4518187175e-02],\n           [-2.0640206826e-02, -2.2345153202e-02, -1.9891732660e-02]],\n \n          [[ 0.0000000000e+00,  0.0000000000e+00,  0.0000000000e+00],\n           [ 0.0000000000e+00,  0.0000000000e+00,  0.0000000000e+00],\n           [ 0.0000000000e+00,  0.0000000000e+00,  0.0000000000e+00]],\n \n          ...,\n \n          [[-5.6834262666e-03, -1.4524902602e-02, -9.8771771490e-03],\n           [ 6.3407712890e-04, -8.0970087748e-03, -2.5582663411e-03],\n           [ 9.8334796740e-03,  5.3896119462e-03,  5.1285703330e-03]],\n \n          [[-7.8044025929e-05, -3.2938895980e-05, -6.3235136345e-05],\n           [-2.2074501610e-05,  1.0376201499e-04, -3.5464365527e-05],\n           [-1.3793060065e-05,  3.3695759959e-05, -7.9277363853e-05]],\n \n          [[ 1.3461687096e-02,  4.0998081777e-02,  3.1542577866e-02],\n           [ 3.0746946955e-02,  5.2228067827e-02, -2.3308060966e-03],\n           [ 3.4776214262e-03, -1.5084541695e-02, -3.7577893917e-02]]],\n \n \n         [[[ 9.7437802295e-02,  9.8362334572e-02,  9.1256404246e-02],\n           [ 9.4797038761e-02,  9.5644498735e-02,  9.0652647443e-02],\n           [ 8.9675247331e-02,  9.8072805493e-02,  8.7377052161e-02]],\n \n          [[ 4.1885239409e-02,  4.5895161302e-02,  4.2044349243e-02],\n           [ 4.3216474401e-02,  4.5400989243e-02,  4.1969547554e-02],\n           [ 4.1414774965e-02,  4.2435804614e-02,  4.3183019990e-02]],\n \n          [[ 0.0000000000e+00,  0.0000000000e+00,  0.0000000000e+00],\n           [ 0.0000000000e+00,  0.0000000000e+00,  0.0000000000e+00],\n           [ 0.0000000000e+00,  0.0000000000e+00,  0.0000000000e+00]],\n \n          ...,\n \n          [[ 5.0110117816e-02,  5.0774997668e-02,  5.0028553665e-02],\n           [ 5.0375098761e-02,  5.0047963721e-02,  5.0105799673e-02],\n           [ 5.0839985324e-02,  5.0683276242e-02,  5.0199849872e-02]],\n \n          [[ 6.4067309175e-06,  3.4417807417e-05,  6.3460479827e-08],\n           [ 5.4189206683e-07,  3.4854227030e-05,  2.4271669547e-05],\n           [ 5.7075281322e-06,  2.2637939588e-05,  2.6264248752e-05]],\n \n          [[ 6.3850264193e-02,  6.8947226552e-02,  6.7797129249e-02],\n           [ 6.4192973823e-02,  6.9763499935e-02,  7.0973083538e-02],\n           [ 6.6061670583e-02,  6.7912201827e-02,  6.5801339735e-02]]]],\n        device='cuda:0', dtype=torch.float64),\n tensor([[[[-6.0104264479e-02, -5.9655943076e-02, -4.0999772791e-02],\n           [-1.4744046185e-01, -1.8933317906e-01, -1.3334039311e-01],\n           [-7.9276898175e-02, -1.1699848289e-01, -1.0636555786e-01]],\n \n          [[-4.8822044732e-01, -4.7354619505e-01, -4.8146001819e-01],\n           [-4.9174340971e-01, -4.5539290267e-01, -5.0107847633e-01],\n           [-5.2779517560e-01, -5.0508158055e-01, -4.9016036431e-01]],\n \n          [[-1.3083319980e-01, -2.0471929600e-01, -2.6654702957e-01],\n           [-1.5011548008e-01, -2.7990259772e-01, -3.0838814559e-01],\n           [-1.1299159043e-01, -1.9333173982e-01, -2.3777943584e-01]],\n \n          ...,\n \n          [[ 0.0000000000e+00,  2.1448296901e-05, -2.3016798591e-05],\n           [ 0.0000000000e+00,  1.6750934680e-05, -3.5077153830e-05],\n           [ 0.0000000000e+00,  1.6565932469e-05, -5.5176850730e-06]],\n \n          [[-1.9070176473e-01, -1.5678700723e-01, -1.6378341197e-01],\n           [-1.8084560931e-01, -1.4387196997e-01, -1.6665399140e-01],\n           [-1.6981919567e-01, -1.5114302297e-01, -1.7291503320e-01]],\n \n          [[-3.3880974563e-03, -1.5109221710e-03, -4.8765617623e-04],\n           [-1.2346135494e-04,  2.5740645006e-03,  2.3300219451e-03],\n           [-1.3380623918e-03,  5.2442234396e-04,  2.1819902701e-04]]],\n \n \n         [[[ 1.4330086202e-01,  1.5800259189e-01,  1.3510451322e-01],\n           [ 1.1860421580e-01,  1.2550111862e-01,  1.2652107847e-01],\n           [ 1.4490192942e-01,  1.3128754974e-01,  1.4630702432e-01]],\n \n          [[ 9.0334431884e-01,  9.3738753766e-01,  9.3740172843e-01],\n           [ 8.6797718007e-01,  8.5240701203e-01,  8.7016865392e-01],\n           [ 8.8560310072e-01,  9.0414775170e-01,  9.0473084017e-01]],\n \n          [[ 3.9134130357e-01,  3.9077195796e-01,  3.5277534972e-01],\n           [ 3.6085896009e-01,  3.5538022490e-01,  3.3141294611e-01],\n           [ 3.3381616850e-01,  3.4480783728e-01,  3.6897543811e-01]],\n \n          ...,\n \n          [[ 0.0000000000e+00,  1.5904793371e-05,  9.0427563671e-06],\n           [ 0.0000000000e+00,  5.8512275099e-06,  1.7216368743e-05],\n           [ 0.0000000000e+00, -6.3615025765e-06,  1.0047943208e-06]],\n \n          [[ 2.7315303046e-01,  2.9987871386e-01,  3.2215596908e-01],\n           [ 2.8106317411e-01,  2.9079393330e-01,  3.0039525865e-01],\n           [ 3.1583716050e-01,  3.1180679734e-01,  2.8670178785e-01]],\n \n          [[ 3.2198803859e-03,  2.6563971234e-03,  1.7924914678e-03],\n           [ 3.9746302745e-03,  5.7575698966e-03,  2.2655347928e-03],\n           [ 3.3366562137e-03,  3.4794378740e-03, -4.9559192847e-05]]],\n \n \n         [[[-1.8708441657e-01, -1.5787103194e-01, -1.9726484934e-01],\n           [-1.2923003846e-01, -1.2645582625e-01, -1.7338898184e-01],\n           [-9.7627016454e-02, -1.0415960937e-01, -1.5767825065e-01]],\n \n          [[-1.2861689095e+00, -1.3155102082e+00, -1.2731215994e+00],\n           [-1.3041883057e+00, -1.2796928715e+00, -1.2173226696e+00],\n           [-1.2835407812e+00, -1.2534141522e+00, -1.2213883884e+00]],\n \n          [[-3.9301013895e-01, -5.0430582675e-01, -5.5082470984e-01],\n           [-3.9974968193e-01, -5.4740129703e-01, -5.8205729434e-01],\n           [-4.1915436201e-01, -5.4770960559e-01, -5.6776008002e-01]],\n \n          ...,\n \n          [[ 0.0000000000e+00,  6.6048527712e-06,  9.6831611409e-06],\n           [ 0.0000000000e+00,  2.9903232987e-07, -9.4406535528e-07],\n           [ 0.0000000000e+00,  2.4361712261e-06, -7.0332527745e-07]],\n \n          [[-4.1301169182e-01, -4.2229638629e-01, -4.1487526267e-01],\n           [-4.0734985358e-01, -3.7734622028e-01, -3.9633089331e-01],\n           [-4.1868561278e-01, -3.7289073174e-01, -3.8562256092e-01]],\n \n          [[-3.5402925233e-03, -4.4477291739e-03, -3.7543313914e-03],\n           [-3.9882437008e-03, -5.2327048226e-03, -5.1706825591e-03],\n           [-3.7492046725e-03, -5.2346642644e-03, -5.7865862134e-03]]],\n \n \n         ...,\n \n \n         [[[ 2.6915932754e-02,  3.6646684181e-02, -7.1301868281e-04],\n           [ 3.1351282571e-02,  4.4734119056e-02,  1.9371240753e-02],\n           [ 4.1714840252e-02,  3.9351426604e-02,  1.8659944982e-02]],\n \n          [[ 8.4314496910e-03,  7.4571480196e-04,  3.0935139305e-02],\n           [ 2.3189772024e-02, -2.2970230917e-03,  3.2252104570e-02],\n           [-5.6007010374e-03, -1.9524860469e-02,  2.6631609400e-02]],\n \n          [[ 1.4415489670e-01,  7.6758524578e-02, -5.0506317023e-02],\n           [ 1.9299400130e-01,  8.0525594246e-02, -7.6661450992e-02],\n           [ 2.0961494623e-01,  6.3281109707e-02, -8.1333870451e-02]],\n \n          ...,\n \n          [[ 0.0000000000e+00, -8.5375793875e-06, -1.3077107432e-05],\n           [ 0.0000000000e+00, -1.6233100245e-05, -2.6656507639e-05],\n           [ 0.0000000000e+00, -1.5933401920e-05, -7.5542831210e-06]],\n \n          [[ 1.8265551597e-02,  1.3873935389e-02,  3.3761110835e-02],\n           [ 1.0269463476e-02,  1.7760154748e-02,  3.1034818676e-02],\n           [-3.9689450199e-03,  1.6529220733e-02,  2.3753789785e-02]],\n \n          [[-8.5595978835e-05, -7.3609411047e-04,  5.7114594780e-04],\n           [-4.4893641375e-04, -1.3467192879e-03,  3.8709781272e-05],\n           [ 4.0779351940e-04, -2.3009735125e-04, -3.4054534215e-04]]],\n \n \n         [[[ 2.4482689152e-01,  2.7852589326e-01,  2.4215980774e-01],\n           [ 1.3256551287e-01,  2.4973498214e-01,  3.4806036398e-01],\n           [ 1.3488017254e-01,  2.3418949853e-01,  3.1041579865e-01]],\n \n          [[ 1.8005024415e+00,  1.7523175378e+00,  1.7268059337e+00],\n           [ 1.8217170518e+00,  1.7212275030e+00,  1.6910584688e+00],\n           [ 1.7763636230e+00,  1.7111841756e+00,  1.7435327430e+00]],\n \n          [[ 7.2248722041e-01,  6.1176364088e-01,  6.0771171612e-01],\n           [ 7.8244881126e-01,  5.8998084940e-01,  5.2887209190e-01],\n           [ 8.1228617550e-01,  6.2376778985e-01,  4.9784893553e-01]],\n \n          ...,\n \n          [[ 0.0000000000e+00, -2.4407091172e-06, -2.2799646124e-05],\n           [ 0.0000000000e+00,  2.6292210890e-06,  1.5505346752e-06],\n           [ 0.0000000000e+00,  2.9282504587e-05,  3.2647959120e-05]],\n \n          [[ 5.9324830798e-01,  5.2368145285e-01,  5.2043685748e-01],\n           [ 6.6971372415e-01,  5.0973594585e-01,  4.5919062355e-01],\n           [ 6.6143598210e-01,  5.5731800336e-01,  5.0610695412e-01]],\n \n          [[ 1.1945926560e-03,  3.7663801338e-03,  2.9232787553e-03],\n           [ 2.6285661956e-03,  3.2917733011e-03,  4.1391898016e-03],\n           [ 3.3787087482e-03,  4.5513793571e-03,  5.5866681960e-03]]],\n \n \n         [[[ 1.0473590205e-01,  7.8668523961e-02,  1.4578808049e-01],\n           [ 5.9631376282e-02,  2.0237090661e-02,  1.2518066663e-01],\n           [ 1.2436304993e-01,  4.8609878968e-02, -5.9382248873e-03]],\n \n          [[ 6.5853324456e-01,  6.2298164577e-01,  5.6821811137e-01],\n           [ 6.8037574105e-01,  6.4094920903e-01,  6.3520586741e-01],\n           [ 6.5886816294e-01,  5.8989250209e-01,  5.6760594924e-01]],\n \n          [[ 1.5204432993e-01,  1.3257942422e-01,  2.5207573197e-01],\n           [ 1.5810355383e-01,  2.1015703900e-01,  2.4039939179e-01],\n           [ 2.2567729170e-01,  2.2679431740e-01,  1.5336474367e-01]],\n \n          ...,\n \n          [[ 0.0000000000e+00,  3.1564349014e-05, -2.3875288028e-05],\n           [ 0.0000000000e+00,  7.0574542620e-06, -6.3543329534e-05],\n           [ 0.0000000000e+00,  2.7094603037e-05, -3.0207587431e-05]],\n \n          [[ 2.3085056706e-01,  1.6104301563e-01,  1.5190618100e-01],\n           [ 2.5056081650e-01,  1.7466593123e-01,  1.6268414088e-01],\n           [ 1.3477419444e-01,  1.9197626068e-01,  2.3108961893e-01]],\n \n          [[ 7.4591515342e-04,  1.8567337690e-03,  2.2016865837e-03],\n           [ 1.2394003840e-03, -1.9497058246e-03,  5.4084070537e-04],\n           [ 1.0717688605e-03,  2.1247430577e-03,  6.2256269498e-03]]]],\n        device='cuda:0', dtype=torch.float64),\n tensor([[[[ 2.6201668548,  2.6186800829,  2.5409337404],\n           [ 2.6160217217,  2.5700687785,  2.5199334792],\n           [ 2.5984471798,  2.5996114858,  2.5970502478]],\n \n          [[ 0.2752916757,  0.2789600953,  0.2665625954],\n           [ 0.2399246562,  0.2361870376,  0.2576131064],\n           [ 0.2938065667,  0.3099134406,  0.2993344270]],\n \n          [[ 1.2000853537,  1.2067856670,  1.2258139080],\n           [ 1.1996790912,  1.1865836304,  1.2007693692],\n           [ 1.1788421989,  1.1880775571,  1.2051996407]],\n \n          ...,\n \n          [[ 1.2815069803,  1.3348955686,  1.3440918781],\n           [ 1.3061045860,  1.3535205503,  1.3474557027],\n           [ 1.2459323418,  1.2661643573,  1.2833747900]],\n \n          [[ 0.1658980682,  0.1859701680,  0.1658715024],\n           [ 0.1525342141,  0.1691549564,  0.1791114010],\n           [ 0.1354956803,  0.1504275641,  0.1604469726]],\n \n          [[ 1.2212136197,  1.3234253082,  1.2723415560],\n           [ 1.3416379941,  1.4023086769,  1.2605008827],\n           [ 1.2640075606,  1.3409809621,  1.3387609122]]],\n \n \n         [[[ 0.2700235169,  0.2429651002,  0.2420036660],\n           [ 0.2685332021,  0.2148547283,  0.2254786075],\n           [ 0.2435677943,  0.2144145451,  0.2701148777]],\n \n          [[ 0.0191005253,  0.0222906534,  0.0334234091],\n           [ 0.0197350466,  0.0287530955,  0.0329057575],\n           [ 0.0085258711,  0.0227843252,  0.0311071588]],\n \n          [[ 0.1118365573,  0.0898594087,  0.1018154820],\n           [ 0.1005977980,  0.0827987589,  0.1127787960],\n           [ 0.0902781425,  0.0961609627,  0.1221858737]],\n \n          ...,\n \n          [[ 0.1143651659,  0.1212242006,  0.1290942475],\n           [ 0.1124226142,  0.1259992792,  0.1453415827],\n           [ 0.1117193060,  0.1285622218,  0.1470549769]],\n \n          [[ 0.0269817554,  0.0240252328,  0.0150288626],\n           [ 0.0214339919,  0.0174352373, -0.0053151507],\n           [ 0.0297113293,  0.0183623416,  0.0049175306]],\n \n          [[ 0.1252058719,  0.1763032015,  0.1892470006],\n           [ 0.1399836055,  0.2007171000,  0.0933328690],\n           [ 0.1691331017,  0.1328927080,  0.0560583874]]],\n \n \n         [[[-0.9872536424, -0.9697821983, -1.0739437140],\n           [-0.9893885909, -0.9281211300, -1.0049033721],\n           [-0.9332755750, -0.8909974946, -0.9767719736]],\n \n          [[-0.1082788378, -0.0964777732, -0.0967390808],\n           [-0.1186044780, -0.1195260921, -0.1250183029],\n           [-0.1266334655, -0.1409317192, -0.1198413209]],\n \n          [[-0.4323268798, -0.4507299079, -0.5069112806],\n           [-0.3720517311, -0.3622511837, -0.4666176415],\n           [-0.3852198547, -0.3930177163, -0.4724084607]],\n \n          ...,\n \n          [[-0.4868155972, -0.5063266284, -0.5593317974],\n           [-0.4623564639, -0.4991293603, -0.5462099536],\n           [-0.4361367761, -0.4844945750, -0.5229464198]],\n \n          [[-0.1012191477, -0.0129618294, -0.0538134492],\n           [-0.0621692251, -0.0066991963, -0.0850321719],\n           [-0.0628796548, -0.0292440186, -0.0582956809]],\n \n          [[-0.4636061573, -0.4389719179, -0.4683302153],\n           [-0.4154142837, -0.5614166886, -0.4709063823],\n           [-0.5477131522, -0.4822250356, -0.4727776434]]],\n \n \n         ...,\n \n \n         [[[ 0.3547556448,  0.3720836105,  0.3769005131],\n           [ 0.3448424803,  0.3239866122,  0.3466005933],\n           [ 0.3349203361,  0.3097760354,  0.3283143972]],\n \n          [[ 0.0280895589,  0.0273459907,  0.0355606162],\n           [ 0.0377023010,  0.0360408893,  0.0370866072],\n           [ 0.0360505251,  0.0329109142,  0.0328557866]],\n \n          [[ 0.1681851449,  0.1767936264,  0.1724398468],\n           [ 0.1642328740,  0.1688751816,  0.1642946197],\n           [ 0.1474696070,  0.1407658045,  0.1472386188]],\n \n          ...,\n \n          [[ 0.1594560698,  0.1613506902,  0.1661848692],\n           [ 0.1562207262,  0.1580671580,  0.1649890037],\n           [ 0.1620427259,  0.1644318458,  0.1718801479]],\n \n          [[ 0.0103106475,  0.0120455285,  0.0337372367],\n           [ 0.0294665632,  0.0108939967,  0.0072093568],\n           [ 0.0285190279,  0.0178397316,  0.0122696637]],\n \n          [[ 0.1859319589,  0.1709159302,  0.1859677799],\n           [ 0.1831914113,  0.1208171129,  0.1817926086],\n           [ 0.1863363040,  0.1946653786,  0.1732938699]]],\n \n \n         [[[-0.7390241591, -0.7411320444, -0.7470944385],\n           [-0.7586962799, -0.7874500910, -0.7383276561],\n           [-0.7058577797, -0.7612634605, -0.7399670579]],\n \n          [[-0.0826680690, -0.0776914066, -0.0747424367],\n           [-0.0887487502, -0.0796326392, -0.0732902118],\n           [-0.0630090479, -0.0623819558, -0.0709147861]],\n \n          [[-0.3358920390, -0.3488936924, -0.3482774673],\n           [-0.3335370562, -0.3264812860, -0.3668785628],\n           [-0.3383465076, -0.3342329755, -0.3770075463]],\n \n          ...,\n \n          [[-0.3759007868, -0.3730471396, -0.3708168186],\n           [-0.3691897067, -0.3683051963, -0.3763203763],\n           [-0.3674100113, -0.3633867277, -0.3779871016]],\n \n          [[-0.0378914919, -0.0490708655, -0.0343988128],\n           [-0.0172410455, -0.0508548132, -0.0721195099],\n           [-0.0298910848, -0.0349318723, -0.0645867721]],\n \n          [[-0.4144072364, -0.3379434535, -0.3903362164],\n           [-0.2649832368, -0.3193640433, -0.3953662329],\n           [-0.3721657783, -0.3916875969, -0.4078838377]]],\n \n \n         [[[-0.0977503105, -0.0939885103, -0.0777861998],\n           [-0.0992248015, -0.0907724107, -0.0811800179],\n           [-0.0906616829, -0.0960121309, -0.0799325834]],\n \n          [[-0.0065650818, -0.0120191907, -0.0117986640],\n           [-0.0109055119, -0.0136102932, -0.0102891593],\n           [-0.0136849042, -0.0130381889, -0.0088885102]],\n \n          [[-0.0407551550, -0.0408517100, -0.0402856386],\n           [-0.0412525064, -0.0437546369, -0.0413392075],\n           [-0.0394661333, -0.0379562438, -0.0334558592]],\n \n          ...,\n \n          [[-0.0461955085, -0.0487234167, -0.0428736327],\n           [-0.0456951840, -0.0486369122, -0.0405367572],\n           [-0.0448504127, -0.0465541993, -0.0376532164]],\n \n          [[-0.0040248331, -0.0035999671, -0.0036456935],\n           [-0.0050643962, -0.0093943592, -0.0031239297],\n           [-0.0039850724, -0.0124363092, -0.0082150853]],\n \n          [[-0.0580465815, -0.0503849927, -0.0421615346],\n           [-0.0594838415, -0.0331251703, -0.0301546382],\n           [-0.0416895641, -0.0426219671, -0.0308093043]]]], device='cuda:0',\n        dtype=torch.float64),\n tensor([[[[-8.5674569162e-02, -6.0597919627e-02, -1.9486993451e-02],\n           [-6.9731298594e-02, -4.8091519878e-02, -3.5917239031e-02],\n           [-5.7691809691e-02, -6.2492748533e-02, -3.0475483035e-02]],\n \n          [[-1.3284032110e-02, -2.5688946424e-03,  5.7478835364e-04],\n           [ 3.9590170370e-03,  1.7310291406e-02, -9.0559222882e-03],\n           [ 5.0004632229e-04, -1.2114653991e-02,  9.4936541700e-03]],\n \n          [[-4.1117785902e-02, -1.0492251320e-02,  1.4231245027e-02],\n           [-5.8160292536e-02, -3.3984229285e-02,  1.1515472830e-03],\n           [-5.6882801890e-02, -1.5683939784e-02, -7.7026661147e-03]],\n \n          ...,\n \n          [[-6.7387532260e-03, -1.3853017798e-02, -1.3005468806e-02],\n           [-1.2138654174e-02, -1.2307424506e-02, -1.1422700306e-02],\n           [ 1.3314103973e-03,  3.8848613235e-04, -8.4000039355e-03]],\n \n          [[-1.5650927949e-03, -2.3810113646e-03, -5.8151457559e-03],\n           [-8.8803190037e-03, -7.4741021414e-03, -6.9368230699e-03],\n           [-7.5894423207e-03,  5.6944911609e-03,  8.7024658361e-03]],\n \n          [[-1.1302899017e-04,  8.3675059613e-04, -2.5542102740e-03],\n           [-1.3912307603e-03, -6.2421765749e-04, -2.3278802997e-03],\n           [-2.9376511520e-03, -3.5335122999e-03, -2.8846699009e-03]]],\n \n \n         [[[-1.3812772914e-02,  2.7317933469e-03, -1.4331042913e-03],\n           [-1.2310849568e-02, -1.0170553060e-02,  1.1175912338e-02],\n           [ 1.8110685681e-03, -1.9158345928e-03,  5.9544504986e-03]],\n \n          [[-9.3733507206e-04, -4.8441588263e-03, -1.1500536579e-03],\n           [-1.0907715617e-02, -1.2745612745e-02, -2.1262005312e-03],\n           [-2.3505541757e-03,  4.5318046025e-03,  1.0228499588e-02]],\n \n          [[ 9.8515288743e-03,  2.1547469654e-04, -1.8367164320e-02],\n           [-4.2628117099e-03,  1.6848982500e-02, -3.6925580659e-03],\n           [-2.6246886466e-02, -1.2755219757e-02,  1.5763565017e-02]],\n \n          ...,\n \n          [[ 1.5219571612e-03,  2.1082362186e-03,  1.6821834424e-03],\n           [ 1.9785765279e-03,  2.8436131456e-04,  3.7890497956e-03],\n           [-3.1910263851e-03, -7.9087469133e-03, -1.2330902233e-03]],\n \n          [[-1.1702246245e-03, -8.7466803373e-03, -2.7033093713e-03],\n           [ 5.5296776410e-03, -3.2592777759e-03, -8.1194430745e-03],\n           [ 5.1294583527e-03,  6.1803935918e-03, -9.6218770041e-03]],\n \n          [[-7.7086660039e-05,  1.3624751555e-04,  7.8758601403e-05],\n           [ 1.7939331048e-03, -1.6626330416e-03, -4.3812348221e-04],\n           [ 1.4135967040e-03, -7.6193725194e-04, -1.1218418579e-03]]],\n \n \n         [[[-2.2563897378e-01, -2.1792139474e-01, -1.9408678255e-01],\n           [-2.4240974639e-01, -2.0995196975e-01, -1.8225174019e-01],\n           [-1.9269311451e-01, -1.8038197966e-01, -1.7756307189e-01]],\n \n          [[-9.7054934115e-02, -1.0102591579e-01, -9.2703840695e-02],\n           [-9.2158913813e-02, -5.6655820321e-02, -6.8642445962e-02],\n           [-8.1870209655e-02, -6.9404361574e-02, -9.7488597150e-02]],\n \n          [[-3.8613385724e-01, -3.5559063075e-01, -3.5264511345e-01],\n           [-4.1937958541e-01, -3.7556129344e-01, -3.4311250848e-01],\n           [-4.2165118270e-01, -4.0156465556e-01, -3.7062174966e-01]],\n \n          ...,\n \n          [[-2.2243956515e-02, -2.5293545928e-02, -2.3628694784e-02],\n           [-1.5134234023e-02, -2.3825663864e-02, -2.3995723134e-02],\n           [-1.4987656784e-02, -1.3599771248e-02, -2.3604151529e-02]],\n \n          [[-3.2134455157e-02, -2.9098817985e-02, -6.0179144872e-02],\n           [-4.5739161731e-02, -3.5248582392e-02, -4.5818925777e-02],\n           [-4.5888618427e-02, -6.1285435397e-02, -4.2584085842e-02]],\n \n          [[-6.5271294387e-03, -7.0225050194e-03, -3.1821650373e-03],\n           [-8.2902564487e-03, -5.8555418538e-03, -4.0809159303e-03],\n           [-6.4490630885e-03, -5.4194364912e-03, -1.9788126801e-03]]],\n \n \n         ...,\n \n \n         [[[-5.5301491602e-03,  2.4512081234e-02,  1.0816732216e-02],\n           [ 2.4779209788e-02,  2.5242145617e-02,  1.9631810144e-02],\n           [-3.0181049682e-04, -7.1958842509e-03,  1.3564606505e-02]],\n \n          [[-1.2411933566e-02, -3.8174511487e-03, -4.6445209768e-03],\n           [-8.1573792766e-03, -1.7185551988e-02, -3.8478888758e-03],\n           [-7.6844591829e-04,  8.5448293824e-04,  2.1312519478e-03]],\n \n          [[-3.9030877311e-02, -3.1760891504e-02, -1.9136793767e-02],\n           [-7.4682386793e-02, -1.6795317962e-02,  1.1454778015e-02],\n           [-7.8635714470e-02,  4.0933507954e-03,  5.0314543594e-02]],\n \n          ...,\n \n          [[ 1.2382205914e-03, -2.4963072215e-03, -6.2634840256e-03],\n           [-4.1737442193e-03, -5.3971233939e-03, -4.4321569686e-03],\n           [-7.4871561707e-03, -1.0599042937e-02, -9.6628398820e-03]],\n \n          [[ 2.0379076702e-03, -1.3794010832e-03, -1.5880793068e-03],\n           [ 2.8766236803e-03, -3.9283317955e-03, -2.9746744101e-03],\n           [ 1.2164031573e-03, -1.3945561439e-03, -3.4118285154e-03]],\n \n          [[ 1.9217847827e-03,  2.3032112722e-04, -1.1818693804e-03],\n           [ 2.1673774049e-03, -6.1965728339e-05, -2.7686471777e-03],\n           [-2.5284095078e-03, -2.6437755623e-03, -4.0545250369e-03]]],\n \n \n         [[[ 3.6049735448e-01,  3.5085361368e-01,  3.3117019611e-01],\n           [ 3.7323844168e-01,  3.8235247058e-01,  3.6377241051e-01],\n           [ 3.0643987292e-01,  3.4645050282e-01,  3.6340085099e-01]],\n \n          [[ 1.3834702204e-01,  1.1180912307e-01,  1.1269427714e-01],\n           [ 1.4168819833e-01,  1.0733308004e-01,  1.3106270343e-01],\n           [ 1.2603308365e-01,  1.2712832942e-01,  1.4695756943e-01]],\n \n          [[ 6.3603273765e-01,  6.2004340439e-01,  5.9034556730e-01],\n           [ 6.8802106013e-01,  6.8819228961e-01,  6.2072436020e-01],\n           [ 7.0534169456e-01,  6.9648470894e-01,  6.4220729241e-01]],\n \n          ...,\n \n          [[ 3.9972643881e-02,  5.5210249386e-02,  5.1471104178e-02],\n           [ 3.2469023754e-02,  4.7241285462e-02,  4.6254248026e-02],\n           [ 4.9798976096e-02,  4.3877111479e-02,  4.4365364421e-02]],\n \n          [[ 6.8004354478e-02,  4.4729253796e-02,  7.3910913393e-02],\n           [ 7.3123839434e-02,  5.1423672090e-02,  5.5116046762e-02],\n           [ 6.4266064663e-02,  6.8892047140e-02,  6.4014773805e-02]],\n \n          [[ 1.1698031428e-02,  1.2250551407e-02,  1.3537643040e-02],\n           [ 1.0708722292e-02,  1.4998988756e-02,  1.1437303547e-02],\n           [ 1.5490330488e-02,  1.9421723668e-02,  1.6699713757e-02]]],\n \n \n         [[[ 1.2851669850e-01,  1.1391439148e-01,  2.2154629950e-05],\n           [ 1.7260656713e-01,  2.0597669733e-01,  1.2996992482e-01],\n           [ 4.5817804483e-02, -2.3619088290e-02,  6.8442142822e-02]],\n \n          [[ 1.2771386940e-01,  2.2837547242e-02, -1.0823410966e-01],\n           [ 9.5405248248e-02, -2.2525404569e-01,  4.1811298587e-02],\n           [-5.9025316909e-02, -8.6876801532e-02,  1.5227250111e-01]],\n \n          [[ 1.4754193606e-01,  2.4044075997e-01,  1.8901166586e-01],\n           [ 1.5437174655e-01,  1.1356654836e-01,  1.0923184893e-01],\n           [ 2.0044965122e-01,  1.0909173357e-01,  9.4502200716e-02]],\n \n          ...,\n \n          [[ 3.6490373727e-03,  3.5989002512e-02,  1.4457849566e-02],\n           [ 7.7086072923e-03, -7.2918035999e-03, -2.7173560964e-02],\n           [ 3.0866727442e-02,  5.3097905046e-03, -1.2736918443e-02]],\n \n          [[ 2.4845630761e-02,  2.8023546555e-02,  7.5354672023e-03],\n           [ 4.5568501390e-03,  9.4250979126e-02,  2.1771506017e-02],\n           [-1.3145692452e-02,  2.0978397828e-02,  2.3512125507e-02]],\n \n          [[ 7.6616451364e-03,  6.5727462898e-03,  1.3675613362e-05],\n           [ 1.1666990455e-02,  1.1055588157e-02, -4.5368418926e-04],\n           [ 8.1573791742e-03,  4.9760479506e-03, -3.9089431147e-03]]]],\n        device='cuda:0', dtype=torch.float64),\n tensor([[[[ 0.2774870638,  0.2626858482,  0.2721131260],\n           [ 0.2999287293,  0.2803006385,  0.2622315147],\n           [ 0.3123508599,  0.3025266849,  0.2852726929]],\n \n          [[ 0.0416235476,  0.0613730303,  0.0629422142],\n           [ 0.0361058816,  0.0500111866,  0.0603519101],\n           [ 0.0393239861,  0.0421423261,  0.0548046058]],\n \n          [[ 0.0380134204,  0.0365108616,  0.0343419842],\n           [ 0.0411093713,  0.0357875960,  0.0329746660],\n           [ 0.0354107409,  0.0298321617,  0.0258356105]],\n \n          ...,\n \n          [[ 0.1765648671,  0.1807731234,  0.1811110396],\n           [ 0.1764658246,  0.1816279252,  0.1850939954],\n           [ 0.1799419326,  0.1818573471,  0.1853432912]],\n \n          [[ 0.0634685041,  0.0749859110,  0.0562099847],\n           [ 0.0797940660,  0.0798911076,  0.0610388139],\n           [ 0.0743626950,  0.0734842689,  0.0528506861]],\n \n          [[ 0.1491838466,  0.1577288457,  0.1368604220],\n           [ 0.1664192125,  0.1543129303,  0.1457871542],\n           [ 0.1685178117,  0.1281178216,  0.1355428891]]],\n \n \n         [[[ 2.2707310658,  2.2725544005,  2.2778877880],\n           [ 2.2702138597,  2.2492550128,  2.2529083008],\n           [ 2.2399874300,  2.2309432958,  2.2636886082]],\n \n          [[ 0.3429516751,  0.3455746552,  0.3680872915],\n           [ 0.4105077080,  0.4074119639,  0.4078657340],\n           [ 0.4222743202,  0.4154309168,  0.3928395940]],\n \n          [[ 0.2879622365,  0.2975473148,  0.2916248087],\n           [ 0.2944030069,  0.3118629684,  0.3158999114],\n           [ 0.2928607915,  0.3050476187,  0.3190066502]],\n \n          ...,\n \n          [[ 1.4596236161,  1.4661635169,  1.4696768313],\n           [ 1.4656769800,  1.4680130643,  1.4676748018],\n           [ 1.4732420917,  1.4756119606,  1.4634482825]],\n \n          [[ 0.3988428763,  0.4478235389,  0.4871712881],\n           [ 0.4056391060,  0.4609703031,  0.4710723652],\n           [ 0.4362561581,  0.4477635219,  0.4224374701]],\n \n          [[ 1.2049283314,  1.2237121267,  1.1773233843],\n           [ 1.2165616851,  1.2156008031,  1.1951307722],\n           [ 1.2173178895,  1.1731970386,  1.1881289326]]],\n \n \n         [[[-1.6644571356, -1.6468001754, -1.6517373733],\n           [-1.6217561781, -1.6008318893, -1.6126801207],\n           [-1.6073399452, -1.5767458677, -1.5905437689]],\n \n          [[-0.3153034534, -0.2427144181, -0.2047463572],\n           [-0.3992006467, -0.3792205812, -0.2978694450],\n           [-0.3903663761, -0.4174087298, -0.3498388176]],\n \n          [[-0.2182616983, -0.2353910860, -0.2357952965],\n           [-0.2166793461, -0.2305589310, -0.2328674043],\n           [-0.1921008640, -0.2031174643, -0.2071079375]],\n \n          ...,\n \n          [[-1.0407066377, -0.9981910660, -0.9972229171],\n           [-1.0647300252, -1.0293629783, -1.0055746450],\n           [-1.0845980767, -1.0766412851, -1.0475534231]],\n \n          [[-0.2269241131, -0.2426893787, -0.2866874974],\n           [-0.2551732559, -0.2319313327, -0.2547700898],\n           [-0.3061413160, -0.2383042591, -0.2232980134]],\n \n          [[-0.8174675733, -0.8150630092, -0.7748432871],\n           [-0.8393689953, -0.8064743448, -0.8747334007],\n           [-0.8431703777, -0.8709320149, -0.8546040957]]],\n \n \n         ...,\n \n \n         [[[-0.7775316127, -0.7607676357, -0.8156624001],\n           [-0.7895521096, -0.7861921838, -0.8400253832],\n           [-0.8260865667, -0.8634073951, -0.8915026561]],\n \n          [[-0.1607447773, -0.1554046464, -0.1122510269],\n           [-0.1380394376, -0.1181297295, -0.0955906648],\n           [-0.1187611036, -0.1157285181, -0.1023106078]],\n \n          [[-0.0912198192, -0.0801680437, -0.0810238188],\n           [-0.0918042869, -0.0809338344, -0.0960223307],\n           [-0.0947741278, -0.0944768376, -0.1221926279]],\n \n          ...,\n \n          [[-0.5351538718, -0.5345670980, -0.5278897445],\n           [-0.5395798322, -0.5327911407, -0.5269730904],\n           [-0.5281318814, -0.5213609628, -0.5189205137]],\n \n          [[-0.1715720776, -0.1212482862, -0.1131476253],\n           [-0.1501450426, -0.1075811114, -0.1302471466],\n           [-0.1213585235, -0.1123549443, -0.1526034242]],\n \n          [[-0.4576164210, -0.3721409264, -0.4303204907],\n           [-0.4002263135, -0.4374870872, -0.4522180652],\n           [-0.3680813877, -0.4272943277, -0.4185673412]]],\n \n \n         [[[ 0.4362733422,  0.4470630452,  0.4447719438],\n           [ 0.4484298586,  0.4366634255,  0.4263412185],\n           [ 0.4809254356,  0.5005110353,  0.4899753769]],\n \n          [[ 0.0657310044,  0.0790557130,  0.0759639699],\n           [ 0.0531657607,  0.0560427237,  0.0674507759],\n           [ 0.0648668977,  0.0738451265,  0.0811247034]],\n \n          [[ 0.0498386622,  0.0475206056,  0.0494912860],\n           [ 0.0625934156,  0.0628924032,  0.0621773660],\n           [ 0.0595403254,  0.0603614604,  0.0596830763]],\n \n          ...,\n \n          [[ 0.2894293934,  0.2946175330,  0.2922900594],\n           [ 0.2833640663,  0.2888782420,  0.2914275474],\n           [ 0.2774573307,  0.2831825564,  0.2880230474]],\n \n          [[ 0.0962234904,  0.0848942373,  0.0766335570],\n           [ 0.0965750016,  0.0873997700,  0.0821935506],\n           [ 0.0702578117,  0.0787053464,  0.0859853724]],\n \n          [[ 0.2294943681,  0.2409217621,  0.2126745232],\n           [ 0.2292206457,  0.2610173778,  0.2531085290],\n           [ 0.2348267587,  0.2058829319,  0.2014256684]]],\n \n \n         [[[ 0.4370142827,  0.4383883436,  0.4207201131],\n           [ 0.4493304657,  0.4385505244,  0.4435964666],\n           [ 0.4469403889,  0.4542087807,  0.4298094623]],\n \n          [[ 0.0566634483,  0.0649389915,  0.0828194180],\n           [ 0.0591930279,  0.0477110073,  0.0646362555],\n           [ 0.0611568115,  0.0574549404,  0.0599679560]],\n \n          [[ 0.0513126281,  0.0488194501,  0.0450652660],\n           [ 0.0494394419,  0.0542956622,  0.0524854675],\n           [ 0.0562170441,  0.0646754999,  0.0607751843]],\n \n          ...,\n \n          [[ 0.2694046750,  0.2778106088,  0.2768877211],\n           [ 0.2661110104,  0.2706088595,  0.2791861805],\n           [ 0.2663404683,  0.2626380751,  0.2677434142]],\n \n          [[ 0.0812256301,  0.0802359587,  0.0636886144],\n           [ 0.0736703453,  0.0820993302,  0.0647166818],\n           [ 0.0641706590,  0.0641648705,  0.0634176543]],\n \n          [[ 0.1962151463,  0.1860937129,  0.1913151994],\n           [ 0.2084275904,  0.2051287392,  0.2094513226],\n           [ 0.2112779120,  0.1820845561,  0.2265874980]]]], device='cuda:0',\n        dtype=torch.float64),\n tensor([[[[ 3.8337387336e-02,  4.0483370631e-02,  4.1683742271e-02],\n           [ 4.2360754850e-02,  3.4115386014e-02,  4.4298873100e-02],\n           [ 3.6465957913e-02,  3.5253988917e-02,  3.4021251836e-02]],\n \n          [[ 2.3235947656e-01,  2.1573609400e-01,  2.1996824299e-01],\n           [ 2.1893436377e-01,  2.3219577667e-01,  2.2753511653e-01],\n           [ 2.2570425952e-01,  2.5392565952e-01,  2.2619181942e-01]],\n \n          [[ 9.9721384529e-02,  7.8662656772e-02,  9.6095734070e-02],\n           [ 1.1133424645e-01,  9.1232019427e-02,  8.7340879219e-02],\n           [ 9.8922402426e-02,  1.1898820889e-01,  1.0546466068e-01]],\n \n          ...,\n \n          [[ 8.4596404193e-02,  9.2240104613e-02,  9.1230817185e-02],\n           [ 1.0920664569e-01,  1.0277925443e-01,  9.2635045250e-02],\n           [ 8.8061154443e-02,  7.1020029683e-02,  9.0073681340e-02]],\n \n          [[ 2.3612149423e-02,  2.5165234406e-02,  3.0797401687e-02],\n           [ 2.4656311275e-02,  2.2983642144e-02,  3.1524797394e-02],\n           [ 2.5416529993e-02,  2.5081170523e-02,  2.2819718163e-02]],\n \n          [[ 8.8075076603e-02,  1.0439982682e-01,  9.3955935560e-02],\n           [ 8.1059529654e-02,  1.0819091605e-01,  7.8976196285e-02],\n           [ 9.2186856859e-02,  9.3012871049e-02,  9.6032957818e-02]]],\n \n \n         [[[-4.2307951042e-02, -3.5772608614e-02, -4.6490517473e-02],\n           [-5.6641202922e-02, -4.2886917105e-02, -5.8410261268e-02],\n           [-5.0509801710e-02, -4.2685079301e-02, -4.7744009142e-02]],\n \n          [[-2.5468196850e-01, -2.2407194476e-01, -2.2359410921e-01],\n           [-2.7609235576e-01, -2.2063835080e-01, -2.2668598193e-01],\n           [-2.2319193299e-01, -2.5031435293e-01, -2.6460124495e-01]],\n \n          [[-8.0656514615e-02, -1.0172486468e-01, -1.2610863300e-01],\n           [-1.0318967502e-01, -6.4547738310e-02, -8.7508618918e-02],\n           [-1.1021998857e-01, -1.1441283312e-01, -1.0507916942e-01]],\n \n          ...,\n \n          [[-7.1520831123e-02, -6.4586594849e-02, -8.2057531108e-02],\n           [-7.7651477567e-02, -8.6292723597e-02, -1.0629711940e-01],\n           [-8.0501456050e-02, -6.6000167607e-02, -8.7808333289e-02]],\n \n          [[-2.5189626024e-02, -2.9322685133e-02, -2.4609415868e-02],\n           [-3.0811985050e-02, -3.2362626141e-02, -3.2041795907e-02],\n           [-3.3579988481e-02, -2.5473445737e-02, -2.5274677047e-02]],\n \n          [[-1.0494648555e-01, -7.0209289930e-02, -8.1020976126e-02],\n           [-9.7866284135e-02, -7.6266968553e-02, -5.9575738459e-02],\n           [-8.7653700690e-02, -8.0447891571e-02, -6.3052135368e-02]]],\n \n \n         [[[-7.7632608137e-03, -2.9649381201e-03,  5.9238075371e-03],\n           [-1.9111346441e-02, -1.0425232947e-02,  1.8510359788e-03],\n           [-8.6116400538e-03, -1.4511112280e-02, -8.1146559608e-03]],\n \n          [[-3.8677255234e-02, -2.9315819932e-02, -4.6307179390e-02],\n           [ 2.7730020490e-03, -6.9938015925e-02, -3.9574656172e-02],\n           [-2.3288486776e-02, -5.2417964119e-02, -3.5328199947e-03]],\n \n          [[-2.0688544250e-02, -1.2158402016e-02, -8.8786889531e-03],\n           [-1.6594311044e-02, -1.9223551363e-02, -1.3107942035e-02],\n           [-1.1899165892e-02, -2.8443657188e-02, -2.0572906608e-02]],\n \n          ...,\n \n          [[-2.1179502302e-02, -1.1045415925e-02,  6.3226391620e-03],\n           [-1.8273183414e-02, -2.9450843784e-03, -6.0692143804e-03],\n           [-1.7419466266e-02, -8.9145848639e-03, -1.8291686904e-02]],\n \n          [[-3.4903857490e-03,  3.5680283501e-03, -3.1704484216e-03],\n           [-4.7943517686e-03, -3.9712316761e-03, -9.4676450481e-03],\n           [-7.3546740374e-03, -9.4262724962e-03, -1.0072465760e-02]],\n \n          [[-2.0291179923e-02, -3.3439140512e-02, -1.0233201715e-02],\n           [-1.7836631368e-02, -2.7350827623e-02, -3.0255096466e-02],\n           [-2.0099554380e-02, -8.1951852962e-03, -1.4415767839e-02]]],\n \n \n         ...,\n \n \n         [[[ 1.9932146416e-05,  7.7478338858e-03,  3.2179124820e-03],\n           [ 1.1008400063e-03,  7.7169607661e-04,  5.2274281946e-03],\n           [ 1.4479015053e-03,  2.4576010437e-03,  4.5738815838e-04]],\n \n          [[ 1.9412477959e-02,  4.8422275085e-03,  1.8897466397e-02],\n           [ 1.4958801497e-02,  6.2052053846e-03,  1.9084335204e-02],\n           [ 1.1720460365e-02,  6.8993047408e-03,  1.7028130459e-02]],\n \n          [[ 2.3455636865e-03,  5.4685295285e-03,  8.1084742231e-03],\n           [ 1.2422158810e-03,  4.3722321546e-03,  6.4003059807e-03],\n           [ 6.2176483430e-03,  6.0132041954e-03,  6.7721784960e-03]],\n \n          ...,\n \n          [[ 8.7743903946e-03,  6.3085761755e-03,  3.6692408588e-03],\n           [-1.4758645386e-03,  4.3273609961e-03, -4.5458595209e-03],\n           [ 5.1574903726e-03,  1.8114973439e-03,  2.0218540195e-03]],\n \n          [[ 2.4957710013e-03,  3.1262340139e-03,  1.3804820015e-03],\n           [ 2.7153508539e-03,  1.9488809398e-03,  1.2816181499e-03],\n           [ 3.7405232740e-03,  1.2014426357e-03,  5.5967305876e-04]],\n \n          [[ 8.8153601425e-03,  8.4568925748e-03,  8.1969057334e-03],\n           [ 5.8566535361e-03,  1.5797521058e-03,  1.8826431729e-04],\n           [ 9.9827554935e-03,  5.8526416482e-03,  4.8634183431e-03]]],\n \n \n         [[[-3.6634102538e-03, -5.9572398661e-03, -6.2403106712e-03],\n           [-6.6728534084e-04, -7.3489501336e-04,  1.3759821667e-04],\n           [-1.1215715613e-03, -5.3533979077e-03, -3.3219561632e-03]],\n \n          [[-1.7700512281e-02, -5.6712255018e-03, -1.3437700080e-02],\n           [-1.9577659012e-02,  2.2027546669e-03, -1.1042952302e-02],\n           [-1.0172469586e-02, -6.8354239556e-03, -3.6610710384e-03]],\n \n          [[ 1.8375489034e-03, -1.7263095233e-03, -3.3253741872e-03],\n           [-3.5558855737e-03, -4.5853023642e-03, -8.3464323081e-03],\n           [-1.2327586041e-02, -4.5159252717e-03, -6.7436506319e-03]],\n \n          ...,\n \n          [[-8.5230140395e-04, -3.7516048417e-03, -2.8353695122e-03],\n           [-5.3966876955e-03,  1.4018195339e-03, -1.0584074943e-02],\n           [-4.8170299096e-03, -3.0865277054e-03, -7.9217897856e-03]],\n \n          [[ 2.9425503346e-03, -2.0774001558e-03, -3.1205155511e-03],\n           [-1.5962751247e-03, -2.7795991227e-03,  2.4560188967e-03],\n           [-1.1552385430e-03, -3.2250585278e-03, -3.2909715833e-04]],\n \n          [[-3.0341692596e-03,  2.7122685912e-03, -9.3837762663e-03],\n           [-1.3533065141e-03, -2.2075527858e-03,  2.5002873687e-03],\n           [-8.3903877480e-03,  2.7213489255e-03,  6.6938662977e-04]]],\n \n \n         [[[ 3.1596313400e-03, -2.0071656837e-03, -1.4866323392e-03],\n           [-2.1124862051e-03, -3.6772471109e-03, -4.5597846258e-04],\n           [-2.2225823763e-03, -5.0749089810e-03, -4.0117490198e-03]],\n \n          [[-1.0994717156e-02, -2.5046865676e-02, -2.5215116256e-02],\n           [-7.4036302799e-03, -3.1076471926e-02, -2.4076385706e-02],\n           [-4.3278854479e-03, -1.4712761583e-02, -1.0896669071e-02]],\n \n          [[-6.8801982007e-03, -4.8409681010e-03, -6.6346699195e-03],\n           [-7.5095663357e-03, -4.6204929191e-03, -3.0575689348e-03],\n           [-6.9518900309e-03, -1.0092322405e-02, -5.5105174466e-03]],\n \n          ...,\n \n          [[-4.5733462561e-03,  2.6079506071e-04, -5.8122103046e-03],\n           [-3.1982403733e-03,  2.5613247596e-03, -2.7806727025e-03],\n           [-5.7831243592e-03, -1.3233968021e-03, -9.9179013929e-04]],\n \n          [[ 2.5787432424e-03,  1.9073475733e-03, -5.8654343777e-05],\n           [-1.5007423217e-03, -6.1388865340e-04, -8.4567102304e-04],\n           [-1.9392686012e-03, -1.3820361563e-03, -2.7426461917e-03]],\n \n          [[-9.5367884083e-03, -7.5028219475e-03, -4.7644038045e-03],\n           [-6.2428390236e-03, -1.4189873035e-02, -8.3529964750e-04],\n           [-1.4350261983e-03, -5.5485114782e-03, -4.2427344256e-03]]]],\n        device='cuda:0', dtype=torch.float64),\n tensor([[[[ 2.4092654989]],\n \n          [[ 0.1052159658]],\n \n          [[ 0.3461990728]],\n \n          ...,\n \n          [[ 1.4528976550]],\n \n          [[ 0.4097377454]],\n \n          [[ 1.3459910093]]],\n \n \n         [[[-0.7645773552]],\n \n          [[-0.0960853388]],\n \n          [[-0.0760162709]],\n \n          ...,\n \n          [[-0.4694344550]],\n \n          [[-0.1662735446]],\n \n          [[-0.3572155704]]],\n \n \n         [[[-0.0872586868]],\n \n          [[-0.0250821590]],\n \n          [[-0.0193344986]],\n \n          ...,\n \n          [[-0.0725331172]],\n \n          [[-0.0323158711]],\n \n          [[-0.1026199405]]],\n \n \n         ...,\n \n \n         [[[ 0.0510339708]],\n \n          [[ 0.0071977378]],\n \n          [[ 0.0066358729]],\n \n          ...,\n \n          [[ 0.0335158304]],\n \n          [[ 0.0079172430]],\n \n          [[ 0.0258458499]]],\n \n \n         [[[-0.1321110798]],\n \n          [[-0.0179506385]],\n \n          [[-0.0185996561]],\n \n          ...,\n \n          [[-0.0923590751]],\n \n          [[-0.0759756523]],\n \n          [[-0.0551512812]]],\n \n \n         [[[-0.0610527465]],\n \n          [[-0.0039562057]],\n \n          [[-0.0116373387]],\n \n          ...,\n \n          [[-0.0366754780]],\n \n          [[-0.0125935606]],\n \n          [[-0.0243040433]]]], device='cuda:0', dtype=torch.float64),\n tensor([[[[-1.9283887159e-01, -1.8208000188e-01, -1.9842402990e-01],\n           [-2.2017862108e-01, -1.3585182798e-01, -1.9632421167e-01],\n           [-1.8195674481e-01, -1.7560812659e-01, -2.1261129340e-01]],\n \n          [[-3.6568478748e-01, -3.6391885380e-01, -3.5503663280e-01],\n           [-3.4862623759e-01, -3.5883709213e-01, -3.6102911664e-01],\n           [-3.5877224626e-01, -3.4736868190e-01, -3.4023480561e-01]],\n \n          [[-1.5296314034e-01, -1.9390660840e-01, -1.9257779197e-01],\n           [-1.3894663062e-01, -1.5570953768e-01, -1.5868245393e-01],\n           [-1.6667350690e-01, -1.1216898586e-01, -1.3126979737e-01]],\n \n          ...,\n \n          [[-9.8714065962e-03, -9.4238028283e-03, -1.1054962967e-02],\n           [-1.1642338633e-02, -9.6164616284e-03, -1.3540454239e-02],\n           [-1.0165563304e-02, -8.9366292824e-03, -1.1159119656e-02]],\n \n          [[-4.9215877038e-02, -4.5377663018e-02, -5.3522894946e-02],\n           [-5.5321499857e-02, -5.3658110821e-02, -5.6905741816e-02],\n           [-4.7342359288e-02, -4.5105157255e-02, -5.9082208758e-02]],\n \n          [[-1.7309296251e-02, -1.7189983291e-02, -1.8703793111e-02],\n           [-1.2131772070e-02, -1.1740253907e-02, -1.7591669702e-02],\n           [-1.8291263473e-02, -1.7151445011e-02, -1.0222485557e-02]]],\n \n \n         [[[-1.3687166278e-01, -1.5757396070e-01, -6.3893651918e-02],\n           [-1.3559244992e-01, -1.5202997495e-01, -3.8811596082e-02],\n           [-8.0628780507e-02, -8.4600705401e-02, -6.3779786159e-02]],\n \n          [[-2.2588815812e-01, -2.2541148096e-01, -2.0351390673e-01],\n           [-2.1783698564e-01, -2.3034987190e-01, -2.1288567925e-01],\n           [-2.2162255829e-01, -2.3430997495e-01, -2.2603196383e-01]],\n \n          [[-9.4159435722e-02, -8.8011534241e-02, -9.0321165916e-02],\n           [-8.3684857356e-02, -8.4061294895e-02, -9.5750855665e-02],\n           [-8.7164028609e-02, -8.3867977996e-02, -9.9626983848e-02]],\n \n          ...,\n \n          [[-6.0544511764e-03, -5.3181263504e-03, -5.4189981283e-03],\n           [-6.2192268554e-03, -4.1585811704e-03, -3.7604060262e-03],\n           [-1.8598056269e-03, -3.7878691902e-03, -3.8279252204e-03]],\n \n          [[-2.7016512715e-02, -2.6710313392e-02, -3.2299724112e-02],\n           [-2.6261555564e-02, -2.8591419591e-02, -2.8098153024e-02],\n           [-2.8773787409e-02, -2.9515231575e-02, -2.8241019336e-02]],\n \n          [[-9.8759675431e-03, -9.6160599272e-03, -5.2330119380e-03],\n           [-8.5228394314e-03, -9.7498163070e-03, -6.9460021958e-03],\n           [-7.8791627816e-03, -8.4380162145e-03, -8.1146169316e-03]]],\n \n \n         [[[ 1.3794008232e-02,  1.8358528937e-02,  8.3413477059e-03],\n           [ 1.8916996298e-02,  1.2487497519e-02,  1.2297777433e-02],\n           [ 1.1553497341e-02,  1.6641175096e-02,  1.9768553022e-02]],\n \n          [[ 3.1347315645e-02,  2.7585201912e-02,  2.8985637758e-02],\n           [ 3.0976706349e-02,  2.9158125052e-02,  3.2758025091e-02],\n           [ 2.9577639316e-02,  3.1727086022e-02,  3.1026536695e-02]],\n \n          [[ 8.9314277520e-03,  1.8178776621e-02,  2.2801427540e-02],\n           [ 8.1652327215e-03,  1.9223333979e-02,  2.0310798915e-02],\n           [ 8.5063673981e-03,  1.2677804210e-02,  1.0199560143e-02]],\n \n          ...,\n \n          [[-3.2776634521e-06,  9.2947652912e-04,  6.7040989365e-04],\n           [ 2.1943343255e-04,  1.9772634298e-04,  5.8935806056e-04],\n           [ 7.0751810126e-04,  7.7380681925e-04,  9.5453124693e-04]],\n \n          [[ 4.0457877209e-03,  4.3585936932e-03,  2.9176951462e-03],\n           [ 3.4356691419e-03,  5.6389994751e-03,  2.7194093969e-03],\n           [ 3.3308301000e-03,  4.4234482148e-03,  4.8788400825e-03]],\n \n          [[ 1.7117009014e-03,  1.4333886163e-03,  3.6976298970e-04],\n           [ 1.3931750240e-03,  8.0929487642e-04,  5.7020836423e-04],\n           [ 1.3956788439e-03,  1.9992159917e-03,  8.7483997969e-04]]],\n \n \n         ...,\n \n \n         [[[-3.6194445862e-02, -1.2492585876e-02, -3.3408668907e-02],\n           [-3.1386192871e-02, -7.0453351719e-03, -2.9737611264e-02],\n           [-4.3870392091e-02, -2.2206931197e-02, -2.4993676350e-02]],\n \n          [[-4.5985998344e-02, -4.2059146550e-02, -4.3485715342e-02],\n           [-5.5608773865e-02, -5.4230619596e-02, -5.0898184418e-02],\n           [-5.2407942202e-02, -4.7228747820e-02, -4.6663933186e-02]],\n \n          [[-2.0733035128e-02, -1.5076119048e-02, -2.1969062438e-02],\n           [-2.3754694379e-02, -2.0043243651e-02, -1.6312288098e-02],\n           [-1.8979079522e-02, -2.0624470400e-02, -2.4728079434e-02]],\n \n          ...,\n \n          [[-1.6156622043e-03, -2.1690643527e-03, -2.3222190158e-03],\n           [-3.3023855411e-03, -3.0100863333e-03, -5.0198080844e-03],\n           [-1.7363366184e-03, -2.4713417786e-03, -1.1906865697e-03]],\n \n          [[-5.6625870578e-03, -6.4496176688e-03, -7.3137102928e-03],\n           [-1.6593802091e-02, -1.1583628813e-02, -1.7373442833e-02],\n           [-8.7976142614e-03, -9.0664925486e-03, -6.8799577307e-03]],\n \n          [[-2.1658677550e-03, -1.5962395882e-03, -2.6254349476e-03],\n           [-1.0043018167e-03, -2.0483628550e-03, -3.2617209465e-03],\n           [-1.9353110303e-03, -3.3892717158e-03, -2.3353824541e-03]]],\n \n \n         [[[ 0.0000000000e+00,  0.0000000000e+00,  0.0000000000e+00],\n           [-4.0677857506e-06,  1.4393633304e-04, -9.7239571504e-06],\n           [ 0.0000000000e+00,  7.5140398403e-05,  2.1542853380e-05]],\n \n          [[-6.4176383890e-06, -3.6775317395e-06, -4.0782571634e-06],\n           [ 9.4944945979e-06,  5.6930649772e-05,  2.5896648362e-05],\n           [ 0.0000000000e+00,  3.3757738047e-05,  0.0000000000e+00]],\n \n          [[ 0.0000000000e+00,  0.0000000000e+00, -1.9007146908e-06],\n           [ 9.4193088101e-06, -3.5350263831e-06, -3.3510020433e-06],\n           [ 0.0000000000e+00,  5.9648927963e-06,  1.3572522739e-05]],\n \n          ...,\n \n          [[ 0.0000000000e+00, -3.0217417828e-06,  0.0000000000e+00],\n           [ 0.0000000000e+00,  1.2321719072e-04,  7.8373499988e-06],\n           [ 0.0000000000e+00,  0.0000000000e+00,  0.0000000000e+00]],\n \n          [[ 0.0000000000e+00, -1.0351253268e-06, -2.3710482660e-06],\n           [ 2.1140880509e-05,  7.0496911586e-05,  4.7456780647e-05],\n           [ 0.0000000000e+00,  6.1973434377e-06,  1.7462217938e-07]],\n \n          [[ 0.0000000000e+00,  0.0000000000e+00,  0.0000000000e+00],\n           [ 0.0000000000e+00,  0.0000000000e+00,  0.0000000000e+00],\n           [ 0.0000000000e+00,  0.0000000000e+00,  0.0000000000e+00]]],\n \n \n         [[[ 2.3349524066e-01,  2.5488697657e-01,  3.0331957165e-01],\n           [ 2.5527031024e-01,  1.9346726574e-01,  2.6319558208e-01],\n           [ 2.2770981498e-01,  2.2871848754e-01,  2.4498576328e-01]],\n \n          [[ 5.0328635868e-01,  5.2088379802e-01,  5.4276412748e-01],\n           [ 5.0140712121e-01,  5.0809500302e-01,  5.3080221273e-01],\n           [ 5.1298301118e-01,  5.3816371202e-01,  5.3930045979e-01]],\n \n          [[ 2.3953242863e-01,  2.2476489333e-01,  2.5486238404e-01],\n           [ 2.1021517642e-01,  2.1490884832e-01,  2.4654309512e-01],\n           [ 2.1964312529e-01,  2.3814155117e-01,  2.2886240075e-01]],\n \n          ...,\n \n          [[ 1.8928796487e-02,  1.4637068803e-02,  1.3193332778e-02],\n           [ 1.6622023905e-02,  6.3151384252e-03,  8.0609485633e-03],\n           [ 1.2944920921e-02,  1.0131923707e-02,  7.9224998552e-03]],\n \n          [[ 7.7321510100e-02,  6.8638079159e-02,  6.2950447590e-02],\n           [ 6.9986616216e-02,  6.8834310420e-02,  6.9897620741e-02],\n           [ 7.7544432143e-02,  7.0220289732e-02,  7.4335437615e-02]],\n \n          [[ 2.4711416740e-02,  1.9485784576e-02,  2.5734443156e-02],\n           [ 3.0260275247e-02,  1.9347507189e-02,  1.7255546697e-02],\n           [ 2.8388615455e-02,  2.8646280991e-02,  2.7569967138e-02]]]],\n        device='cuda:0', dtype=torch.float64),\n tensor([[[[ 1.4006070885e-02,  1.1081900396e-02,  1.1071677180e-02],\n           [ 1.1336679332e-02,  1.0385874705e-02,  1.3751494140e-02],\n           [ 1.0436023425e-02,  1.0133683250e-02,  9.6727553807e-03]],\n \n          [[ 9.2119194472e-03,  1.6080834594e-02,  1.5445123191e-02],\n           [ 5.8259728414e-03,  3.6760489147e-02,  3.2629545956e-02],\n           [ 9.6201509025e-03,  4.3033377175e-02,  3.7127519181e-02]],\n \n          [[ 1.8891673200e-04,  7.7264582077e-06,  2.5399875089e-04],\n           [ 2.3010978776e-05,  7.0311129140e-05,  3.7832608545e-04],\n           [-1.3718187412e-04,  3.3166719413e-04,  4.4155918073e-04]],\n \n          ...,\n \n          [[ 5.6658785886e-03,  3.7571782622e-03,  8.9416559722e-03],\n           [ 5.7720976081e-03,  1.3823377141e-03,  6.1709717347e-03],\n           [ 5.3579802098e-03,  2.3302308676e-03,  6.1792119571e-03]],\n \n          [[ 9.0627040346e-05,  5.8400890987e-05,  0.0000000000e+00],\n           [-4.5130981518e-05,  5.6066465012e-05, -5.7685879493e-05],\n           [ 0.0000000000e+00,  0.0000000000e+00,  0.0000000000e+00]],\n \n          [[ 6.8409945540e-02,  8.5409108794e-02,  7.8321956462e-02],\n           [ 8.8908241421e-02,  5.2368314319e-02,  9.1432240311e-02],\n           [ 8.1743154074e-02,  7.8223456607e-02,  7.4225379560e-02]]],\n \n \n         [[[-2.0090451288e-02, -2.4558560510e-02, -2.3546981979e-02],\n           [-2.5289597814e-02, -2.7976096474e-02, -2.6368426108e-02],\n           [-2.5976638027e-02, -2.6324075759e-02, -2.7119194665e-02]],\n \n          [[-4.6443489987e-02, -4.1460290409e-02, -3.1253898804e-02],\n           [-4.0459924708e-02, -4.0636906621e-02, -3.0681382891e-02],\n           [-3.8731285653e-02, -4.2055223817e-02, -3.4304180723e-02]],\n \n          [[-1.4804352989e-03, -1.5929618400e-03, -1.4603522826e-03],\n           [-1.1542462301e-03, -1.6581914047e-03, -1.7406053204e-03],\n           [-7.8413359609e-04, -9.8528390213e-04, -1.5912896784e-03]],\n \n          ...,\n \n          [[-8.1588556177e-03, -8.9384388532e-03, -8.2016029681e-03],\n           [-1.0720736765e-02, -1.0617013818e-02, -1.1350541818e-02],\n           [-1.0244525303e-02, -1.0602958128e-02, -1.2867754980e-02]],\n \n          [[ 0.0000000000e+00,  0.0000000000e+00,  0.0000000000e+00],\n           [-7.4552828339e-05, -4.4632829708e-05, -7.7921039716e-05],\n           [-6.3815032463e-05,  0.0000000000e+00, -5.3512374611e-05]],\n \n          [[-1.3458384379e-01, -1.5595786702e-01, -1.4452521145e-01],\n           [-1.5228151799e-01, -1.4632520851e-01, -1.5379976254e-01],\n           [-1.4946696230e-01, -1.4294148408e-01, -1.5075577196e-01]]],\n \n \n         [[[-3.2867960980e-03, -4.1024424141e-03, -9.9324854689e-03],\n           [-7.2271871221e-03, -4.1672850879e-03, -5.8672432748e-03],\n           [-8.5533879609e-03, -7.5303561668e-03, -4.0681610716e-03]],\n \n          [[-8.5093778073e-03, -9.7003730827e-03, -1.0447977739e-02],\n           [-6.9978120453e-03, -6.3714718023e-03, -1.2686383819e-02],\n           [-6.7806269972e-03, -1.2968633443e-02, -1.6459099821e-02]],\n \n          [[-6.9138415968e-05, -4.2210561789e-04,  7.5876430598e-05],\n           [-1.0540858289e-03, -1.0718380541e-03,  5.7900230232e-05],\n           [-1.3210131895e-03, -4.6657240380e-04,  7.6061873001e-05]],\n \n          ...,\n \n          [[-3.9194249461e-03, -3.8497109218e-03, -3.4434080879e-03],\n           [-1.8578574059e-03, -1.7406718715e-03, -1.8322774111e-03],\n           [-1.6123839698e-03, -1.5377686629e-03, -2.3227789820e-03]],\n \n          [[ 0.0000000000e+00,  0.0000000000e+00,  0.0000000000e+00],\n           [-4.7292159271e-05, -5.2149813921e-05,  0.0000000000e+00],\n           [ 0.0000000000e+00,  0.0000000000e+00,  0.0000000000e+00]],\n \n          [[-4.3403279508e-02, -5.2478235387e-02, -5.0387414779e-02],\n           [-3.9657887693e-02, -4.7146033872e-02, -4.5079691951e-02],\n           [-4.7544317649e-02, -3.8098082461e-02, -4.4249563294e-02]]],\n \n \n         ...,\n \n \n         [[[-1.6166990133e-03, -1.8179920337e-03, -2.1461147808e-03],\n           [-2.5020598913e-03, -2.9328700828e-03, -1.9800215638e-03],\n           [-3.3600966344e-03, -2.7893238176e-03, -3.4155522207e-03]],\n \n          [[-6.4693427280e-03, -4.9060156351e-03, -8.2811579312e-03],\n           [-5.9395628899e-03, -2.8732368261e-03, -7.9664507180e-03],\n           [-6.6510224713e-03, -3.1195998197e-03, -6.9382419585e-03]],\n \n          [[-1.3141072871e-04, -9.4370640096e-05,  2.9470432182e-05],\n           [-1.8106404746e-04, -1.0102070365e-04, -7.3223407377e-05],\n           [-1.4462055201e-04, -1.3364025039e-04, -9.5089811237e-05]],\n \n          ...,\n \n          [[-1.1464977082e-03, -1.2307225322e-03, -1.8502431134e-03],\n           [-3.3915834262e-04, -1.7072812981e-03, -1.5513949850e-03],\n           [-6.0657839522e-04, -1.0462603444e-03, -8.8500053462e-04]],\n \n          [[ 0.0000000000e+00,  0.0000000000e+00,  0.0000000000e+00],\n           [ 0.0000000000e+00, -1.2143724649e-04,  0.0000000000e+00],\n           [ 0.0000000000e+00,  0.0000000000e+00,  0.0000000000e+00]],\n \n          [[-2.7207248468e-02, -2.0333997038e-02, -2.1973342626e-02],\n           [-2.1143662430e-02, -1.9572920202e-02, -2.0070289704e-02],\n           [-2.0407174925e-02, -2.4302369019e-02, -2.4431135595e-02]]],\n \n \n         [[[ 2.0668622124e-03,  1.7610325757e-03,  2.0425405020e-03],\n           [-2.4534639835e-05,  9.9013240281e-04,  3.7531702902e-03],\n           [ 8.7393026566e-04,  3.0869173806e-03,  2.2340263469e-03]],\n \n          [[-5.8448636284e-03, -2.7972156716e-03, -1.9451761905e-03],\n           [-4.2401462435e-03, -2.5836953727e-03, -2.1718966871e-03],\n           [-7.9795928865e-03, -8.1137976657e-03, -8.2793108420e-03]],\n \n          [[ 1.2627281248e-04,  3.2765740102e-04, -1.2043188019e-05],\n           [-7.4489864681e-06,  5.6120060703e-04,  2.2551136737e-04],\n           [ 4.2759355662e-04,  4.7523632719e-04,  2.5983339879e-04]],\n \n          ...,\n \n          [[-2.3673431262e-04, -8.9060895247e-04, -8.7256827457e-04],\n           [ 1.9862501600e-03,  4.6077764802e-04,  1.1467148843e-04],\n           [ 2.5138183828e-03,  1.7964904722e-03,  8.3964460244e-04]],\n \n          [[-7.7223513032e-06, -3.5282041899e-05,  4.9374821548e-05],\n           [-3.3359760876e-05, -6.5742675010e-05,  2.6869281831e-05],\n           [-1.5566302574e-05,  6.8905728177e-05, -8.0327917378e-06]],\n \n          [[ 7.3806093694e-03,  5.0827774508e-03, -7.4716807782e-04],\n           [ 2.3123963228e-03,  9.1069280172e-03, -8.5484717503e-03],\n           [-1.6271166642e-04,  7.8989846673e-04, -7.4844708071e-03]]],\n \n \n         [[[ 3.8418679164e-03,  2.8135933045e-03, -2.3603663488e-04],\n           [ 1.9096874179e-03,  4.6329731427e-04, -2.6264170081e-04],\n           [-3.5276101751e-03, -3.5004862010e-03, -9.3151295220e-04]],\n \n          [[ 2.1600854879e-03,  6.2929538393e-03,  7.9710811322e-03],\n           [-5.8025211098e-04,  8.2968518288e-03,  4.8591812837e-03],\n           [-7.4424948206e-04,  8.7543206805e-03,  4.3587923962e-03]],\n \n          [[-7.4796294789e-04, -5.5373836504e-04,  4.5694221117e-05],\n           [-4.5661880247e-04, -6.0821916052e-05,  4.1153284626e-05],\n           [ 1.8820802056e-04,  1.2768947892e-05, -3.1097082792e-04]],\n \n          ...,\n \n          [[ 1.5454672667e-03,  1.8804967089e-03, -1.3592791553e-03],\n           [ 1.2826528825e-03,  2.1256412278e-03,  8.0652229904e-04],\n           [-1.2638483489e-03,  1.4739644903e-03, -2.1311548435e-03]],\n \n          [[ 0.0000000000e+00,  0.0000000000e+00,  0.0000000000e+00],\n           [ 0.0000000000e+00,  0.0000000000e+00,  0.0000000000e+00],\n           [ 0.0000000000e+00,  0.0000000000e+00,  0.0000000000e+00]],\n \n          [[-3.1345536999e-03,  2.6275852566e-03,  6.9853663620e-03],\n           [-1.1650400230e-02, -9.7339377102e-03,  7.0477429255e-03],\n           [-6.9626410443e-03, -7.5953077830e-03, -1.1578048191e-03]]]],\n        device='cuda:0', dtype=torch.float64),\n tensor([[[[ 4.7132555105e-02,  5.6320724866e-02,  4.4592168996e-02],\n           [ 4.2361542258e-02,  5.7667654939e-02,  5.2088808708e-02],\n           [ 3.5375153740e-02,  7.4794020065e-02,  4.8965386070e-02]],\n \n          [[ 5.8114020557e-02,  5.4028863436e-02,  5.7355190002e-02],\n           [ 5.6170906046e-02,  5.7796500326e-02,  6.0554945483e-02],\n           [ 6.3662308908e-02,  5.4586107745e-02,  4.9884815052e-02]],\n \n          [[ 1.1661761281e-02,  7.2815350917e-03,  9.9073805248e-03],\n           [ 1.2232210863e-02,  7.3502580386e-03,  1.1571707946e-02],\n           [ 1.1367801960e-02,  5.3536259302e-03,  1.0555158938e-02]],\n \n          ...,\n \n          [[ 1.6193823212e-03,  1.9979684861e-03,  2.4509864101e-03],\n           [ 3.0281103470e-03,  1.9002551429e-03,  1.8913210453e-03],\n           [ 4.1634240826e-03,  8.9784882272e-04,  3.8227049652e-03]],\n \n          [[ 8.9849981012e-02,  9.1102419302e-02,  8.2882710002e-02],\n           [ 8.0016109837e-02,  8.6715394169e-02,  7.8241687053e-02],\n           [ 8.4941117198e-02,  9.6743550707e-02,  8.4686600275e-02]],\n \n          [[ 2.1578638087e-02,  1.8519920178e-02,  1.7966442742e-02],\n           [ 1.7151367026e-02,  1.6031249031e-02,  2.0456986180e-02],\n           [ 1.2546172031e-02,  1.0377984435e-02,  1.2369288031e-02]]],\n \n \n         [[[-9.5373104322e-03, -1.4062103188e-02, -1.4031307202e-03],\n           [-2.4779115061e-03, -1.5159827120e-02, -3.7621095263e-04],\n           [-3.0985917040e-03, -1.0680930861e-02, -1.4929900144e-03]],\n \n          [[-1.2165631599e-02, -1.6064880722e-02, -6.5667229588e-03],\n           [-5.5529722282e-03, -1.2924546230e-02, -3.2232904243e-03],\n           [ 2.8281316450e-03, -5.1487316675e-03,  8.5783226086e-04]],\n \n          [[ 3.0607157049e-03, -4.3032898637e-03,  1.2147732561e-03],\n           [-3.9256427631e-04, -1.2925227631e-03, -8.4379302783e-04],\n           [ 2.6924472729e-03,  1.6920534248e-04, -6.8761365742e-04]],\n \n          ...,\n \n          [[-7.3980744717e-04, -7.7521621479e-04, -1.6297710616e-03],\n           [ 6.5349594757e-05,  7.6991123546e-04, -1.2474895993e-04],\n           [-1.3631131238e-03,  3.0391785675e-04, -1.6259444520e-03]],\n \n          [[-1.0568114649e-02, -1.2715199336e-02, -1.1807001494e-02],\n           [-6.7545550257e-03, -1.2991821348e-02, -6.1496814818e-03],\n           [-1.1352977516e-02, -1.3350039628e-02, -1.0536278584e-02]],\n \n          [[ 3.3554608383e-04, -3.5273957884e-03, -2.5120527213e-03],\n           [-2.3441125342e-03, -5.2531565692e-03, -2.8892199232e-03],\n           [ 1.2362317430e-03, -1.0953735638e-03, -5.1638568398e-03]]],\n \n \n         [[[-1.1002306529e-01, -1.3055188907e-01, -1.1686819568e-01],\n           [-1.3641782072e-01, -1.4523423426e-01, -1.4695196411e-01],\n           [-1.1953565676e-01, -1.1713789933e-01, -1.2074678894e-01]],\n \n          [[-1.4326286321e-01, -1.5732367813e-01, -1.4351960111e-01],\n           [-1.5395042461e-01, -1.5558963897e-01, -1.5585241381e-01],\n           [-1.4956056982e-01, -1.4749595207e-01, -1.5042484007e-01]],\n \n          [[-2.7971945537e-02, -3.0512676338e-02, -2.9484672092e-02],\n           [-3.0639653587e-02, -3.2420572868e-02, -3.0797816644e-02],\n           [-2.7469209823e-02, -2.6954044541e-02, -3.1667986358e-02]],\n \n          ...,\n \n          [[-8.3459989109e-03, -9.2224131923e-03, -4.9686537597e-03],\n           [-8.8920133541e-03, -8.1827626731e-03, -5.9896496773e-03],\n           [-5.6770702131e-03, -6.2073586457e-03, -5.6810236943e-03]],\n \n          [[-2.0983819287e-01, -2.0381572136e-01, -2.0742838725e-01],\n           [-2.1609704942e-01, -2.1545741342e-01, -2.2107041329e-01],\n           [-2.1902729718e-01, -2.2385654420e-01, -2.3199088188e-01]],\n \n          [[-5.2281308726e-02, -5.0942069781e-02, -4.1512456678e-02],\n           [-5.4880963652e-02, -4.7425313259e-02, -5.1535350041e-02],\n           [-4.4701624370e-02, -4.9088989511e-02, -4.8856472106e-02]]],\n \n \n         ...,\n \n \n         [[[ 4.6276418893e-05,  3.5405250221e-04, -1.1339225908e-04],\n           [ 8.2073222393e-04,  5.6929608984e-04, -1.6609386145e-04],\n           [ 2.6785233880e-04, -4.1470128045e-05,  7.9683328622e-05]],\n \n          [[-1.5893694238e-04, -1.2288692452e-04,  3.1296962897e-04],\n           [ 9.7778739374e-05,  3.7019978230e-04,  2.1642877391e-04],\n           [ 3.2818642488e-04,  2.9460073937e-04,  4.9482665344e-04]],\n \n          [[ 0.0000000000e+00, -6.7876284479e-07, -6.3282235419e-05],\n           [-1.5387083908e-06,  5.6691819374e-04, -3.7489292408e-05],\n           [ 0.0000000000e+00,  2.2401602349e-04,  8.3621135248e-05]],\n \n          ...,\n \n          [[ 0.0000000000e+00,  0.0000000000e+00,  1.1141875294e-04],\n           [ 0.0000000000e+00,  3.1576361335e-05,  1.8434099904e-04],\n           [ 0.0000000000e+00, -2.1542286491e-06, -1.8294603711e-07]],\n \n          [[ 3.2600578674e-04,  2.4126090425e-04,  3.3449545311e-04],\n           [ 4.9578498989e-04,  3.6164609504e-04,  2.5864481153e-04],\n           [ 3.1413011707e-04,  3.1037894261e-04,  2.4275573504e-04]],\n \n          [[ 4.3993438854e-06, -1.1272171244e-05,  1.9362423017e-05],\n           [-7.2895193915e-05,  8.5064716024e-05,  1.6695900234e-04],\n           [-2.5992176464e-05,  2.9314198617e-05,  1.0036363240e-04]]],\n \n \n         [[[-2.9052489093e-02, -3.3431414195e-02, -2.5832424007e-02],\n           [-2.9860652379e-02, -2.6253561858e-02, -1.9815082119e-02],\n           [-3.5355414488e-02, -3.3714786906e-02, -2.3737243237e-02]],\n \n          [[-4.0475255262e-02, -3.7505484119e-02, -3.3015507700e-02],\n           [-4.3353213171e-02, -3.3793871438e-02, -3.7285840273e-02],\n           [-4.0298331565e-02, -3.2735773092e-02, -3.2834376555e-02]],\n \n          [[-7.8879365648e-03, -5.2718249535e-03, -6.4684761262e-03],\n           [-9.9854543315e-03, -5.7930556094e-03, -7.3082301686e-03],\n           [-9.1909326787e-03, -4.4628934561e-04, -6.6421060478e-03]],\n \n          ...,\n \n          [[-1.4726410271e-03, -8.8463886309e-04, -2.0247771984e-04],\n           [-2.7076989810e-03,  4.8070097213e-05, -1.1715420274e-03],\n           [-2.0720753228e-03,  1.0722657526e-03, -9.9007183408e-04]],\n \n          [[-6.3225379704e-02, -5.8336326571e-02, -6.1413995025e-02],\n           [-6.3596340769e-02, -5.7111116098e-02, -6.1421986247e-02],\n           [-6.4735470745e-02, -5.3729300093e-02, -6.0920217603e-02]],\n \n          [[-1.2588024220e-02, -6.8766046845e-03, -9.4890699016e-03],\n           [-1.1196304208e-02, -7.1597860191e-03, -7.2129406935e-03],\n           [-1.6521265009e-02, -8.0308619053e-03, -8.7277660213e-03]]],\n \n \n         [[[ 3.8765030620e-01,  4.1986776092e-01,  3.9965619249e-01],\n           [ 3.9886858600e-01,  3.9973258083e-01,  4.0341113800e-01],\n           [ 3.7707809474e-01,  4.2695563640e-01,  3.9269414543e-01]],\n \n          [[ 4.7882948940e-01,  4.9387183179e-01,  4.8853541368e-01],\n           [ 4.8967651777e-01,  4.8789601107e-01,  4.8759352785e-01],\n           [ 4.7373670673e-01,  4.8096430469e-01,  4.8404783234e-01]],\n \n          [[ 8.1369869049e-02,  9.1066350229e-02,  8.7738080702e-02],\n           [ 8.2724348047e-02,  9.4703876791e-02,  8.4445958182e-02],\n           [ 8.2106737908e-02,  8.7857207531e-02,  8.3526197604e-02]],\n \n          ...,\n \n          [[ 2.1422074016e-02,  1.8752392023e-02,  1.9342536857e-02],\n           [ 2.2281016978e-02,  1.6889463809e-02,  2.3705380377e-02],\n           [ 2.3264865717e-02,  1.8911147230e-02,  2.0054770471e-02]],\n \n          [[ 7.0644767938e-01,  7.0639571011e-01,  7.1358894159e-01],\n           [ 6.8468128740e-01,  6.9263329692e-01,  6.9533019617e-01],\n           [ 6.9435598331e-01,  7.0218750188e-01,  7.0666611868e-01]],\n \n          [[ 1.5457454652e-01,  1.6011950571e-01,  1.4137554232e-01],\n           [ 1.6142581876e-01,  1.5135532291e-01,  1.4459423381e-01],\n           [ 1.4126284485e-01,  1.5296252306e-01,  1.3476815439e-01]]]],\n        device='cuda:0', dtype=torch.float64),\n tensor([[[[ 2.6759618597e-01,  2.7746415717e-01,  2.8175672775e-01],\n           [ 2.7204879934e-01,  2.7741481686e-01,  2.8055458281e-01],\n           [ 2.6639592486e-01,  2.7201406772e-01,  2.6947852545e-01]],\n \n          [[ 4.2035743804e-01,  4.3145153764e-01,  4.1770084032e-01],\n           [ 4.3089699189e-01,  4.3324538738e-01,  4.1599317378e-01],\n           [ 4.0448553096e-01,  4.1355927408e-01,  4.0828302090e-01]],\n \n          [[ 2.4806386122e-01,  2.4485207971e-01,  2.4047859496e-01],\n           [ 2.4639212246e-01,  2.4474051130e-01,  2.3233245828e-01],\n           [ 2.4058936926e-01,  2.3038464708e-01,  2.3153370172e-01]],\n \n          ...,\n \n          [[ 1.6820650127e-04,  3.6291185012e-04,  2.0418228678e-04],\n           [ 2.1613687479e-04,  2.8687583971e-04,  2.4875901806e-04],\n           [ 1.4566749764e-04,  2.9177759258e-04,  2.9311916367e-04]],\n \n          [[ 5.2870573934e-01,  5.4808025535e-01,  5.3319576407e-01],\n           [ 5.2990001479e-01,  5.3788311804e-01,  5.3302539180e-01],\n           [ 5.2055505826e-01,  5.2964723339e-01,  5.1872330304e-01]],\n \n          [[ 1.9728340661e+00,  1.9886943452e+00,  1.9722487269e+00],\n           [ 1.9739094211e+00,  1.9969105131e+00,  1.9798169420e+00],\n           [ 1.9585130696e+00,  1.9767813235e+00,  1.9654247843e+00]]],\n \n \n         [[[-1.4998652332e-02, -8.9673685625e-03, -9.0511524581e-03],\n           [-1.9575212839e-02, -1.7561730534e-02, -1.3347994471e-02],\n           [-2.5297179773e-02, -1.9315589219e-02, -1.4244015184e-02]],\n \n          [[-2.1752207728e-02, -2.2004791396e-02, -2.2103567724e-02],\n           [-2.4801648716e-02, -1.8639352200e-02, -2.2978125237e-02],\n           [-2.7072165735e-02, -2.2099890322e-02, -2.2416577031e-02]],\n \n          [[-6.8299701996e-03, -4.6805345592e-03, -6.1332304046e-03],\n           [-2.2734424461e-03, -6.4346159514e-03, -4.2196090264e-03],\n           [-1.3620806135e-02, -1.7158898205e-02, -1.7192926574e-02]],\n \n          ...,\n \n          [[-1.9904714447e-05, -5.5389328910e-05, -6.3597244671e-05],\n           [ 3.7003006216e-05,  3.6815419175e-05, -1.9078597023e-05],\n           [-3.1596615499e-06,  1.3609028119e-05,  1.1619246787e-05]],\n \n          [[-2.9610676845e-02, -2.8518355479e-02, -2.6483033859e-02],\n           [-3.2799248596e-02, -2.7396113951e-02, -3.2000683291e-02],\n           [-3.0958607981e-02, -3.1006911281e-02, -2.6625770372e-02]],\n \n          [[-1.3234065282e-01, -1.2089613230e-01, -1.1325763112e-01],\n           [-1.2696078658e-01, -1.1929264790e-01, -1.1064840812e-01],\n           [-1.2122413645e-01, -1.1032829996e-01, -1.0528672713e-01]]],\n \n \n         [[[ 0.0000000000e+00,  0.0000000000e+00,  0.0000000000e+00],\n           [ 0.0000000000e+00,  0.0000000000e+00,  0.0000000000e+00],\n           [ 0.0000000000e+00,  0.0000000000e+00,  0.0000000000e+00]],\n \n          [[ 0.0000000000e+00,  0.0000000000e+00,  0.0000000000e+00],\n           [ 0.0000000000e+00,  0.0000000000e+00,  0.0000000000e+00],\n           [ 0.0000000000e+00,  0.0000000000e+00,  0.0000000000e+00]],\n \n          [[ 0.0000000000e+00,  0.0000000000e+00,  0.0000000000e+00],\n           [ 0.0000000000e+00,  0.0000000000e+00,  0.0000000000e+00],\n           [ 0.0000000000e+00,  0.0000000000e+00,  0.0000000000e+00]],\n \n          ...,\n \n          [[ 0.0000000000e+00,  0.0000000000e+00,  0.0000000000e+00],\n           [ 0.0000000000e+00,  0.0000000000e+00,  0.0000000000e+00],\n           [ 0.0000000000e+00,  0.0000000000e+00,  0.0000000000e+00]],\n \n          [[ 0.0000000000e+00,  0.0000000000e+00,  0.0000000000e+00],\n           [ 0.0000000000e+00,  0.0000000000e+00,  0.0000000000e+00],\n           [ 0.0000000000e+00,  0.0000000000e+00,  0.0000000000e+00]],\n \n          [[ 0.0000000000e+00,  0.0000000000e+00,  0.0000000000e+00],\n           [ 0.0000000000e+00,  0.0000000000e+00,  0.0000000000e+00],\n           [ 0.0000000000e+00,  0.0000000000e+00,  0.0000000000e+00]]],\n \n \n         ...,\n \n \n         [[[ 1.6434745310e-01,  1.8192668131e-01,  1.6558024965e-01],\n           [ 1.5610330372e-01,  1.6772729706e-01,  1.6233864902e-01],\n           [ 1.5884582695e-01,  1.6736981438e-01,  1.6851414322e-01]],\n \n          [[ 2.5471510479e-01,  2.6761809041e-01,  2.5212762972e-01],\n           [ 2.5353303929e-01,  2.4376863955e-01,  2.4136852704e-01],\n           [ 2.5922501297e-01,  2.5341087281e-01,  2.3838899691e-01]],\n \n          [[ 1.4920629697e-01,  1.5729565319e-01,  1.4974977574e-01],\n           [ 1.6070547841e-01,  1.5981904706e-01,  1.5487205655e-01],\n           [ 1.4387575621e-01,  1.2642410409e-01,  1.2804521178e-01]],\n \n          ...,\n \n          [[ 3.9349433471e-04,  1.6807124816e-04,  1.9582067803e-04],\n           [ 2.8256662346e-04,  4.3496226606e-05,  1.7310713797e-04],\n           [ 2.8072789364e-04,  1.5186950504e-04,  2.0231512489e-04]],\n \n          [[ 3.2875969437e-01,  3.3927670807e-01,  3.1596875977e-01],\n           [ 3.3968773740e-01,  3.4710069289e-01,  3.2862448954e-01],\n           [ 3.2668912031e-01,  3.2755145191e-01,  3.1740443639e-01]],\n \n          [[ 1.2317945667e+00,  1.2406706141e+00,  1.1927498111e+00],\n           [ 1.2469529161e+00,  1.2568083617e+00,  1.2060397831e+00],\n           [ 1.2114194750e+00,  1.2341876036e+00,  1.1936206907e+00]]],\n \n \n         [[[ 1.8941522562e-02,  2.3082272868e-02,  2.1710983515e-02],\n           [ 1.9777808903e-02,  2.6110515758e-02,  2.6821942320e-02],\n           [ 1.8531736881e-02,  1.8749669575e-02,  1.9300406918e-02]],\n \n          [[ 2.7768248379e-02,  4.5357768102e-02,  3.9456026365e-02],\n           [ 2.8557221631e-02,  4.2370543909e-02,  3.4178987027e-02],\n           [ 2.5033635588e-02,  2.9685326320e-02,  2.2712259110e-02]],\n \n          [[ 1.3197924321e-02,  2.8566718659e-02,  2.2214266330e-02],\n           [ 1.7764648485e-02,  2.9463568016e-02,  2.4054575843e-02],\n           [ 1.6009286343e-02,  1.0509379507e-02,  1.3357191276e-02]],\n \n          ...,\n \n          [[ 0.0000000000e+00,  1.6722622879e-04,  0.0000000000e+00],\n           [ 2.8053139541e-07,  0.0000000000e+00,  0.0000000000e+00],\n           [ 2.4204407665e-05,  1.9004083675e-05,  0.0000000000e+00]],\n \n          [[ 4.0636286997e-02,  5.9531165861e-02,  4.6228443852e-02],\n           [ 4.4726791422e-02,  5.5650559753e-02,  3.9146297608e-02],\n           [ 3.6651637751e-02,  3.4545808740e-02,  3.9194558906e-02]],\n \n          [[ 1.3992428927e-01,  1.2660815049e-01,  1.3759925367e-01],\n           [ 1.5496552777e-01,  1.5840470676e-01,  1.5476572202e-01],\n           [ 1.5080056335e-01,  1.6107141378e-01,  1.5790622392e-01]]],\n \n \n         [[[ 5.5831247709e-06,  2.8351348506e-06,  6.1510120174e-06],\n           [ 7.1167368482e-06,  0.0000000000e+00,  9.4230204629e-06],\n           [ 1.3123322611e-05,  8.3203726078e-06,  0.0000000000e+00]],\n \n          [[ 4.7584633047e-06,  0.0000000000e+00,  7.7576951327e-06],\n           [ 1.2296834291e-05,  2.0028645905e-05,  1.6875383432e-05],\n           [ 3.4676085740e-06,  6.7792104132e-06,  1.2578296872e-05]],\n \n          [[ 0.0000000000e+00,  0.0000000000e+00,  0.0000000000e+00],\n           [ 1.1979183347e-05,  1.7187075885e-05,  0.0000000000e+00],\n           [ 0.0000000000e+00,  2.6586605438e-05,  1.8153539832e-05]],\n \n          ...,\n \n          [[ 0.0000000000e+00,  0.0000000000e+00,  0.0000000000e+00],\n           [ 0.0000000000e+00,  0.0000000000e+00,  0.0000000000e+00],\n           [ 0.0000000000e+00,  0.0000000000e+00,  0.0000000000e+00]],\n \n          [[ 1.5146783416e-05,  2.0425631462e-05,  0.0000000000e+00],\n           [ 0.0000000000e+00,  2.9707701291e-05,  3.1554981875e-05],\n           [ 1.6628784344e-06,  4.2348557559e-05,  2.3494384685e-06]],\n \n          [[ 1.0494316027e-05,  1.4835526811e-05,  4.9842194184e-05],\n           [ 3.1228259736e-05,  5.7745401313e-06,  2.4025507622e-05],\n           [ 2.3846095314e-05,  3.7617509463e-05,  8.8256236178e-06]]]],\n        device='cuda:0', dtype=torch.float64),\n tensor([[[[ 3.9847993651e-01]],\n \n          [[ 4.8869497528e-01]],\n \n          [[ 8.8637081618e-02]],\n \n          ...,\n \n          [[ 1.8799747768e-02]],\n \n          [[ 7.1204835132e-01]],\n \n          [[ 1.5074268496e-01]]],\n \n \n         [[[-2.3450996157e-02]],\n \n          [[-3.1150505004e-02]],\n \n          [[-8.2473181490e-03]],\n \n          ...,\n \n          [[-2.4258985921e-03]],\n \n          [[-4.8966351148e-02]],\n \n          [[-1.5800953958e-02]]],\n \n \n         [[[ 0.0000000000e+00]],\n \n          [[ 0.0000000000e+00]],\n \n          [[ 0.0000000000e+00]],\n \n          ...,\n \n          [[ 0.0000000000e+00]],\n \n          [[ 0.0000000000e+00]],\n \n          [[ 0.0000000000e+00]]],\n \n \n         ...,\n \n \n         [[[ 3.0805369752e-01]],\n \n          [[ 3.4467321161e-01]],\n \n          [[ 6.3604696471e-02]],\n \n          ...,\n \n          [[ 1.4992587484e-02]],\n \n          [[ 5.2906721334e-01]],\n \n          [[ 1.1906722502e-01]]],\n \n \n         [[[ 3.8223934648e-02]],\n \n          [[ 4.0152856606e-02]],\n \n          [[ 5.4233087558e-03]],\n \n          ...,\n \n          [[ 1.7961888023e-03]],\n \n          [[ 7.3419676052e-02]],\n \n          [[ 1.4663645883e-02]]],\n \n \n         [[[ 0.0000000000e+00]],\n \n          [[ 4.5038955538e-05]],\n \n          [[ 0.0000000000e+00]],\n \n          ...,\n \n          [[ 0.0000000000e+00]],\n \n          [[ 2.1214821244e-05]],\n \n          [[ 4.4375270265e-06]]]], device='cuda:0', dtype=torch.float64),\n tensor([[[[-3.7682557312e-01, -3.8713430979e-01, -3.8722325311e-01],\n           [-3.8645257803e-01, -3.9398498842e-01, -3.9817573934e-01],\n           [-3.7786695888e-01, -3.8218943930e-01, -3.8849752234e-01]],\n \n          [[-3.2807331576e-01, -3.3056044061e-01, -3.2781786964e-01],\n           [-3.3914775036e-01, -3.4129723102e-01, -3.3785826699e-01],\n           [-3.4413477306e-01, -3.4513652116e-01, -3.4242429224e-01]],\n \n          [[ 0.0000000000e+00,  0.0000000000e+00,  0.0000000000e+00],\n           [ 0.0000000000e+00,  0.0000000000e+00,  0.0000000000e+00],\n           [ 0.0000000000e+00,  0.0000000000e+00,  0.0000000000e+00]],\n \n          ...,\n \n          [[-2.3866595538e-01, -2.4382384829e-01, -2.3643980910e-01],\n           [-2.4877855619e-01, -2.4964531297e-01, -2.4603495956e-01],\n           [-2.4477421591e-01, -2.3773820785e-01, -2.3854862403e-01]],\n \n          [[-2.4868169825e-03, -2.9446790070e-03, -3.4009801494e-03],\n           [-5.1372686622e-03, -5.0862796856e-03, -5.6055558253e-03],\n           [-7.3289841963e-04, -1.2432241225e-03, -1.7222373883e-03]],\n \n          [[-8.9640707131e-07, -9.3934984311e-07, -3.6654167993e-07],\n           [ 1.7099983312e-07,  0.0000000000e+00,  8.9339500419e-07],\n           [-9.9400389083e-07,  0.0000000000e+00, -6.5249523680e-07]]],\n \n \n         [[[-1.8202305531e-01, -1.8116204465e-01, -1.8627628069e-01],\n           [-1.8011723347e-01, -1.8267602119e-01, -1.8743117408e-01],\n           [-1.9233395165e-01, -1.9890167215e-01, -1.9519571528e-01]],\n \n          [[-1.7215760795e-01, -1.7216432462e-01, -1.7358112170e-01],\n           [-1.8001555590e-01, -1.7917166817e-01, -1.7693075284e-01],\n           [-1.8202894811e-01, -1.8261459698e-01, -1.7874339589e-01]],\n \n          [[ 0.0000000000e+00,  0.0000000000e+00,  0.0000000000e+00],\n           [ 0.0000000000e+00,  0.0000000000e+00,  0.0000000000e+00],\n           [ 0.0000000000e+00,  0.0000000000e+00,  0.0000000000e+00]],\n \n          ...,\n \n          [[-1.1817229916e-01, -1.2428967045e-01, -1.2359793633e-01],\n           [-1.2106576464e-01, -1.1849978753e-01, -1.1763368019e-01],\n           [-1.1693658274e-01, -1.1344498579e-01, -1.1821132559e-01]],\n \n          [[-3.3951150447e-03, -3.7936787342e-03, -3.5742145503e-03],\n           [-2.1600912601e-03, -1.9026262215e-03, -2.0159203610e-03],\n           [-1.1300960425e-03, -7.4936611679e-04, -7.4444058408e-04]],\n \n          [[ 0.0000000000e+00,  0.0000000000e+00,  0.0000000000e+00],\n           [ 0.0000000000e+00, -9.8579646662e-07,  0.0000000000e+00],\n           [-1.4616344454e-06, -2.0928171809e-06, -1.5802444176e-06]]],\n \n \n         [[[ 0.0000000000e+00,  0.0000000000e+00,  0.0000000000e+00],\n           [ 0.0000000000e+00,  0.0000000000e+00,  0.0000000000e+00],\n           [ 0.0000000000e+00,  0.0000000000e+00,  0.0000000000e+00]],\n \n          [[ 0.0000000000e+00,  0.0000000000e+00,  0.0000000000e+00],\n           [ 0.0000000000e+00,  0.0000000000e+00,  0.0000000000e+00],\n           [ 0.0000000000e+00,  0.0000000000e+00,  0.0000000000e+00]],\n \n          [[ 0.0000000000e+00,  0.0000000000e+00,  0.0000000000e+00],\n           [ 0.0000000000e+00,  0.0000000000e+00,  0.0000000000e+00],\n           [ 0.0000000000e+00,  0.0000000000e+00,  0.0000000000e+00]],\n \n          ...,\n \n          [[ 0.0000000000e+00,  0.0000000000e+00,  0.0000000000e+00],\n           [ 0.0000000000e+00,  0.0000000000e+00,  0.0000000000e+00],\n           [ 0.0000000000e+00,  0.0000000000e+00,  0.0000000000e+00]],\n \n          [[ 0.0000000000e+00,  0.0000000000e+00,  0.0000000000e+00],\n           [ 0.0000000000e+00,  0.0000000000e+00,  0.0000000000e+00],\n           [ 0.0000000000e+00,  0.0000000000e+00,  0.0000000000e+00]],\n \n          [[ 0.0000000000e+00,  0.0000000000e+00,  0.0000000000e+00],\n           [ 0.0000000000e+00,  0.0000000000e+00,  0.0000000000e+00],\n           [ 0.0000000000e+00,  0.0000000000e+00,  0.0000000000e+00]]],\n \n \n         ...,\n \n \n         [[[ 1.4579014553e-01,  1.4546242569e-01,  1.3734225728e-01],\n           [ 1.4463293167e-01,  1.4716294287e-01,  1.4619890451e-01],\n           [ 1.4358880653e-01,  1.5222887257e-01,  1.4938150199e-01]],\n \n          [[ 1.2344028296e-01,  1.2757263517e-01,  1.2661184001e-01],\n           [ 1.2593265082e-01,  1.2857466862e-01,  1.2306096154e-01],\n           [ 1.2860132990e-01,  1.2948262148e-01,  1.2668109076e-01]],\n \n          [[ 0.0000000000e+00,  0.0000000000e+00,  0.0000000000e+00],\n           [ 0.0000000000e+00,  0.0000000000e+00,  0.0000000000e+00],\n           [ 0.0000000000e+00,  0.0000000000e+00,  0.0000000000e+00]],\n \n          ...,\n \n          [[ 9.1814190758e-02,  8.5755571312e-02,  9.2477605732e-02],\n           [ 8.2540372478e-02,  8.6200667554e-02,  9.6003054182e-02],\n           [ 8.1621267014e-02,  9.0189208442e-02,  9.1169793874e-02]],\n \n          [[ 3.1511463931e-03,  3.2266659122e-03,  2.8731192133e-03],\n           [ 7.2225019375e-04,  1.4687560367e-03,  4.0028637516e-04],\n           [ 1.1806395552e-03,  1.4019284562e-03,  8.8667577035e-04]],\n \n          [[ 0.0000000000e+00,  0.0000000000e+00,  0.0000000000e+00],\n           [ 0.0000000000e+00,  0.0000000000e+00,  0.0000000000e+00],\n           [ 0.0000000000e+00,  0.0000000000e+00,  0.0000000000e+00]]],\n \n \n         [[[-3.7006183167e-01, -3.6969058108e-01, -3.6203260410e-01],\n           [-3.7359882288e-01, -3.7302951355e-01, -3.6522390118e-01],\n           [-3.6490575234e-01, -3.6406950398e-01, -3.6184821195e-01]],\n \n          [[-3.1448515005e-01, -3.1627505634e-01, -3.1568479295e-01],\n           [-3.1563162086e-01, -3.1669611578e-01, -3.1701366968e-01],\n           [-3.1850234082e-01, -3.1866865005e-01, -3.1812777556e-01]],\n \n          [[ 0.0000000000e+00,  0.0000000000e+00,  0.0000000000e+00],\n           [ 0.0000000000e+00,  0.0000000000e+00,  0.0000000000e+00],\n           [ 0.0000000000e+00,  0.0000000000e+00,  0.0000000000e+00]],\n \n          ...,\n \n          [[-2.3393659874e-01, -2.3725277255e-01, -2.3803617573e-01],\n           [-2.2722210716e-01, -2.3760754123e-01, -2.3463868043e-01],\n           [-2.4363479312e-01, -2.5424119951e-01, -2.4996905326e-01]],\n \n          [[-1.5329821058e-03, -2.8505753905e-03, -2.8215495077e-03],\n           [-1.6677109537e-03, -2.4868175411e-03, -2.3305276817e-03],\n           [-1.3237799806e-03, -2.4976517247e-03, -2.1769331554e-03]],\n \n          [[ 7.2266518884e-07,  1.1098169998e-06,  5.8656019314e-07],\n           [ 1.2996090218e-07,  1.1542896337e-06, -1.3559712573e-06],\n           [ 7.7502031390e-07,  1.4241211280e-06,  8.6770404998e-07]]],\n \n \n         [[[ 1.5279010952e-01,  1.5159745862e-01,  1.4114110660e-01],\n           [ 1.6869489735e-01,  1.6801965671e-01,  1.5736235129e-01],\n           [ 1.6157828374e-01,  1.5825092198e-01,  1.4847246020e-01]],\n \n          [[ 1.2548984354e-01,  1.2191413966e-01,  1.1293441525e-01],\n           [ 1.3576721380e-01,  1.3111831565e-01,  1.2291621029e-01],\n           [ 1.3412444039e-01,  1.3406583650e-01,  1.2596284356e-01]],\n \n          [[ 0.0000000000e+00,  0.0000000000e+00,  0.0000000000e+00],\n           [ 0.0000000000e+00,  0.0000000000e+00,  0.0000000000e+00],\n           [ 0.0000000000e+00,  0.0000000000e+00,  0.0000000000e+00]],\n \n          ...,\n \n          [[ 9.2594245979e-02,  8.8630802739e-02,  8.6532820436e-02],\n           [ 9.7852881966e-02,  1.0205805459e-01,  9.6503274378e-02],\n           [ 9.3914410345e-02,  9.1872985932e-02,  8.8179856790e-02]],\n \n          [[ 3.3351430379e-03,  3.3425675858e-03,  3.3278340449e-03],\n           [ 4.9553779690e-03,  5.8970603049e-03,  5.4685955860e-03],\n           [-7.8375684864e-05,  2.0246739763e-04,  5.9997542831e-04]],\n \n          [[-9.2951093925e-07, -8.4672996944e-07, -1.6515854235e-06],\n           [ 0.0000000000e+00,  0.0000000000e+00,  0.0000000000e+00],\n           [ 0.0000000000e+00,  0.0000000000e+00,  0.0000000000e+00]]]],\n        device='cuda:0', dtype=torch.float64),\n tensor([[[[ 2.0342232386e-01,  2.0680174525e-01,  1.9921415755e-01],\n           [ 2.2600473709e-01,  2.3049654872e-01,  2.2191187376e-01],\n           [ 2.1220500342e-01,  2.1398684269e-01,  2.0646433211e-01]],\n \n          [[ 1.0090299599e-02,  1.1403740105e-02,  1.0806347177e-02],\n           [ 1.2125754851e-02,  1.3161652202e-02,  1.3110942254e-02],\n           [ 1.1262397594e-02,  1.1834098266e-02,  1.1311151729e-02]],\n \n          [[ 0.0000000000e+00,  0.0000000000e+00,  0.0000000000e+00],\n           [ 0.0000000000e+00,  0.0000000000e+00,  0.0000000000e+00],\n           [ 0.0000000000e+00,  0.0000000000e+00,  0.0000000000e+00]],\n \n          ...,\n \n          [[ 4.8999767392e-02,  4.9923644208e-02,  4.8593356591e-02],\n           [ 5.0062999597e-02,  4.9998257071e-02,  4.6952157874e-02],\n           [ 4.9937099356e-02,  4.9304021793e-02,  4.6868795794e-02]],\n \n          [[ 3.3647873584e-01,  3.4880909511e-01,  3.4880440788e-01],\n           [ 3.5485261253e-01,  3.6649475209e-01,  3.6534613967e-01],\n           [ 3.4590495504e-01,  3.5876178635e-01,  3.5578099334e-01]],\n \n          [[ 4.6729558654e-02,  4.4520851954e-02,  4.1441921727e-02],\n           [ 5.9032356613e-02,  5.8384595423e-02,  5.5845061353e-02],\n           [ 5.4350699508e-02,  5.4810555879e-02,  5.3360553793e-02]]],\n \n \n         [[[-5.0552980639e-02, -4.8540394000e-02, -4.4439036696e-02],\n           [-4.6974180021e-02, -4.7128181262e-02, -4.3454835479e-02],\n           [-5.1221891926e-02, -5.2784398919e-02, -5.0433699931e-02]],\n \n          [[-3.1115741613e-03, -3.6833583208e-03, -3.8392442275e-03],\n           [-2.8805430208e-03, -3.0852497573e-03, -3.0874970544e-03],\n           [-3.4093617215e-03, -4.0202802543e-03, -3.3941416113e-03]],\n \n          [[ 0.0000000000e+00,  0.0000000000e+00,  0.0000000000e+00],\n           [ 0.0000000000e+00,  0.0000000000e+00,  0.0000000000e+00],\n           [ 0.0000000000e+00,  0.0000000000e+00,  0.0000000000e+00]],\n \n          ...,\n \n          [[-1.1613106974e-02, -1.1484349532e-02, -1.0328576508e-02],\n           [-1.2467065486e-02, -1.1592916937e-02, -8.8099696557e-03],\n           [-1.1905889858e-02, -9.8887325207e-03, -6.9206979381e-03]],\n \n          [[-7.8797445402e-02, -8.3107542833e-02, -8.7843374334e-02],\n           [-7.6331878335e-02, -8.1749186513e-02, -8.6129530778e-02],\n           [-8.0943435884e-02, -8.7057351130e-02, -8.7214597873e-02]],\n \n          [[-1.8917386157e-02, -1.9109787868e-02, -1.9316672114e-02],\n           [-1.3157435269e-02, -1.4456698763e-02, -1.4718940564e-02],\n           [-1.2930478700e-02, -1.5110841498e-02, -1.6103862379e-02]]],\n \n \n         [[[ 4.7368359921e-04,  1.8488469363e-03,  9.9624807818e-04],\n           [ 4.1865152811e-04,  1.8624434104e-03,  1.0959358907e-03],\n           [ 9.7954560206e-04,  2.7055153022e-03,  1.7448975449e-03]],\n \n          [[ 1.3012827291e-04, -2.1356687338e-05,  1.3299659158e-04],\n           [ 8.7765107191e-05,  4.8117824539e-05,  1.9502612528e-04],\n           [ 7.7318449949e-05,  9.7187619013e-05,  2.1558857524e-04]],\n \n          [[ 0.0000000000e+00,  0.0000000000e+00,  0.0000000000e+00],\n           [ 0.0000000000e+00,  0.0000000000e+00,  0.0000000000e+00],\n           [ 0.0000000000e+00,  0.0000000000e+00,  0.0000000000e+00]],\n \n          ...,\n \n          [[ 4.8861268559e-04,  1.2470973248e-04, -3.2063375939e-05],\n           [ 2.9140991170e-04,  7.9779647834e-05,  4.4532404415e-05],\n           [ 3.1561785367e-04,  5.4347163342e-05,  5.3293726242e-05]],\n \n          [[ 2.1753966948e-03,  2.4864831854e-03,  3.9573274798e-03],\n           [ 1.6090564636e-03,  1.9406085962e-03,  3.5718324701e-03],\n           [ 1.3845738882e-03,  1.7169412882e-03,  3.2970312439e-03]],\n \n          [[ 2.9387733996e-04,  6.3710326604e-04,  7.1377331709e-04],\n           [ 2.6834067855e-04,  8.0029476691e-04,  7.2325528795e-04],\n           [ 2.0971419458e-04,  5.4555871849e-04,  5.4043859976e-04]]],\n \n \n         ...,\n \n \n         [[[ 1.5013232970e-01,  1.4488500267e-01,  1.3872082831e-01],\n           [ 1.7106492581e-01,  1.7436127925e-01,  1.6583206308e-01],\n           [ 1.6886316444e-01,  1.7156505942e-01,  1.6128774342e-01]],\n \n          [[ 8.7345279873e-03,  7.0196312716e-03,  6.7615743403e-03],\n           [ 9.7697040664e-03,  9.4962216775e-03,  8.6447968520e-03],\n           [ 8.3744209728e-03,  8.7104317635e-03,  7.5260576327e-03]],\n \n          [[ 0.0000000000e+00,  0.0000000000e+00,  0.0000000000e+00],\n           [ 0.0000000000e+00,  0.0000000000e+00,  0.0000000000e+00],\n           [ 0.0000000000e+00,  0.0000000000e+00,  0.0000000000e+00]],\n \n          ...,\n \n          [[ 3.6209307408e-02,  3.5396848541e-02,  3.6210848329e-02],\n           [ 3.9381660848e-02,  3.3441614103e-02,  3.0257646901e-02],\n           [ 3.6059064101e-02,  3.0735990756e-02,  3.1455592134e-02]],\n \n          [[ 2.5018142775e-01,  2.5589660500e-01,  2.5116272604e-01],\n           [ 2.4814034378e-01,  2.5676154932e-01,  2.5126719475e-01],\n           [ 2.4405725618e-01,  2.5452208160e-01,  2.4795107626e-01]],\n \n          [[ 3.2868123460e-02,  3.2509919579e-02,  2.9955619646e-02],\n           [ 4.4800312783e-02,  4.7042794273e-02,  4.5205979555e-02],\n           [ 3.9051701333e-02,  4.0542012235e-02,  3.9250937275e-02]]],\n \n \n         [[[ 2.3462868735e-01,  2.3281532071e-01,  2.3295562063e-01],\n           [ 2.1570013322e-01,  2.1377055441e-01,  2.1278589300e-01],\n           [ 2.0538665866e-01,  2.0365999444e-01,  2.0288151490e-01]],\n \n          [[ 2.1507414370e-02,  2.2317318610e-02,  2.1953922304e-02],\n           [ 1.9243355532e-02,  2.0263612635e-02,  1.9892606710e-02],\n           [ 1.4419500245e-02,  1.5155561222e-02,  1.5168604734e-02]],\n \n          [[ 0.0000000000e+00,  0.0000000000e+00,  0.0000000000e+00],\n           [ 0.0000000000e+00,  0.0000000000e+00,  0.0000000000e+00],\n           [ 0.0000000000e+00,  0.0000000000e+00,  0.0000000000e+00]],\n \n          ...,\n \n          [[ 4.5851369347e-02,  4.5877926271e-02,  4.8468294005e-02],\n           [ 4.8076658597e-02,  4.4966976000e-02,  4.6484818658e-02],\n           [ 4.5996511146e-02,  4.1232231737e-02,  4.3564904320e-02]],\n \n          [[ 3.3651906627e-01,  3.4510327445e-01,  3.3678636123e-01],\n           [ 3.3017864262e-01,  3.4015975486e-01,  3.3211644428e-01],\n           [ 3.3844965853e-01,  3.4604543237e-01,  3.3718816313e-01]],\n \n          [[ 7.6545298352e-02,  7.7123603935e-02,  7.7117256947e-02],\n           [ 6.0177961189e-02,  5.8206416788e-02,  5.8508405653e-02],\n           [ 4.7418203634e-02,  4.5730186516e-02,  4.3665058987e-02]]],\n \n \n         [[[ 1.6684528214e-01,  1.7209269435e-01,  1.6462809925e-01],\n           [ 1.7173319227e-01,  1.7619093748e-01,  1.6939859509e-01],\n           [ 1.8673602700e-01,  1.8987973110e-01,  1.8391351689e-01]],\n \n          [[ 1.1940598871e-02,  1.2485797592e-02,  1.1605766741e-02],\n           [ 1.0998322654e-02,  1.1612147617e-02,  1.0890178212e-02],\n           [ 8.5230956647e-03,  9.6820391498e-03,  9.4760094874e-03]],\n \n          [[ 0.0000000000e+00,  0.0000000000e+00,  0.0000000000e+00],\n           [ 0.0000000000e+00,  0.0000000000e+00,  0.0000000000e+00],\n           [ 0.0000000000e+00,  0.0000000000e+00,  0.0000000000e+00]],\n \n          ...,\n \n          [[ 4.2406955405e-02,  3.6840297236e-02,  3.2118161405e-02],\n           [ 4.3109499278e-02,  3.7334171833e-02,  3.1361737089e-02],\n           [ 4.0129807427e-02,  3.6572395380e-02,  3.6514177802e-02]],\n \n          [[ 2.8611398613e-01,  2.9664065713e-01,  2.9928002402e-01],\n           [ 2.7492305278e-01,  2.8477401780e-01,  2.8677456182e-01],\n           [ 2.5819305580e-01,  2.6396594869e-01,  2.6867456029e-01]],\n \n          [[ 3.7586472044e-02,  3.4646849305e-02,  3.8096922854e-02],\n           [ 3.3400710309e-02,  3.0704398027e-02,  3.3653662034e-02],\n           [ 3.8986882391e-02,  3.6715446515e-02,  3.5505000075e-02]]]],\n        device='cuda:0', dtype=torch.float64),\n tensor([[[[ 1.6468679823e+00,  1.6679495080e+00,  1.6395236379e+00],\n           [ 1.6948929035e+00,  1.7254976366e+00,  1.7024651901e+00],\n           [ 1.6811756762e+00,  1.7157181975e+00,  1.6965022758e+00]],\n \n          [[ 4.6644051031e-01,  4.9646552114e-01,  4.8980152137e-01],\n           [ 4.6924812852e-01,  4.9621839008e-01,  4.9453205016e-01],\n           [ 4.6933183264e-01,  4.9097765618e-01,  4.9323211715e-01]],\n \n          [[ 4.6841852081e-05,  2.3929424668e-03,  3.5334972920e-04],\n           [ 4.0088245298e-05,  2.5627366135e-03,  6.1004703330e-04],\n           [ 1.8587024452e-05,  2.3890651889e-03,  3.9927834815e-04]],\n \n          ...,\n \n          [[ 3.9048666553e-01,  4.0443751521e-01,  4.0836147718e-01],\n           [ 4.3276630331e-01,  4.3157071589e-01,  4.4760338100e-01],\n           [ 4.1170015175e-01,  4.2530697044e-01,  4.2500499933e-01]],\n \n          [[ 4.1832047881e-01,  4.2252581694e-01,  4.2804308000e-01],\n           [ 3.9421195391e-01,  4.0000064172e-01,  4.0693919089e-01],\n           [ 4.1770368827e-01,  4.2631528135e-01,  4.3519728247e-01]],\n \n          [[ 2.3622892753e-01,  2.3368047903e-01,  2.3743568036e-01],\n           [ 2.4729876573e-01,  2.3792867984e-01,  2.3904086101e-01],\n           [ 2.3979290708e-01,  2.2636572678e-01,  2.3147205988e-01]]],\n \n \n         [[[-2.7212298141e-02, -2.8790885537e-02, -2.7427601814e-02],\n           [-4.8377951133e-02, -5.1477575375e-02, -4.8507555060e-02],\n           [-2.5274058173e-02, -2.6358269853e-02, -2.5265985479e-02]],\n \n          [[-6.9337468290e-03, -6.9208283545e-03, -7.4205283294e-03],\n           [-1.2277603149e-02, -1.2282882324e-02, -1.2174598095e-02],\n           [-8.0215908055e-03, -8.4183746835e-03, -8.2177945160e-03]],\n \n          [[-1.7139693279e-05, -3.2523680575e-04, -6.8928413300e-05],\n           [-3.9021339669e-05, -4.6363669557e-04, -7.0828462822e-05],\n           [ 0.0000000000e+00, -1.8497450298e-04,  2.8360598523e-06]],\n \n          ...,\n \n          [[-5.1417246716e-03, -4.3268145708e-03, -6.9941574012e-03],\n           [-5.7067242956e-03, -7.1312712233e-03, -7.0811540721e-03],\n           [-2.1522270351e-03, -1.8169370583e-03, -3.3944889121e-03]],\n \n          [[-6.0641922317e-03, -7.0593507503e-03, -6.9779808459e-03],\n           [-2.5852435443e-04, -9.0844558054e-04, -1.1153739483e-03],\n           [-4.6919899481e-04, -8.5297012815e-04, -1.0926016933e-03]],\n \n          [[-3.5724972951e-03, -3.7547510342e-03, -3.7757506672e-03],\n           [-3.7750140068e-03, -3.9688080491e-03, -3.7964409958e-03],\n           [-8.4752975360e-03, -8.6267369728e-03, -8.6074302849e-03]]],\n \n \n         [[[ 0.0000000000e+00,  0.0000000000e+00,  0.0000000000e+00],\n           [ 0.0000000000e+00,  0.0000000000e+00,  0.0000000000e+00],\n           [ 0.0000000000e+00,  0.0000000000e+00,  0.0000000000e+00]],\n \n          [[ 0.0000000000e+00,  0.0000000000e+00,  0.0000000000e+00],\n           [ 0.0000000000e+00,  0.0000000000e+00,  0.0000000000e+00],\n           [ 0.0000000000e+00,  0.0000000000e+00,  0.0000000000e+00]],\n \n          [[ 0.0000000000e+00,  0.0000000000e+00,  0.0000000000e+00],\n           [ 0.0000000000e+00,  0.0000000000e+00,  0.0000000000e+00],\n           [ 0.0000000000e+00,  0.0000000000e+00,  0.0000000000e+00]],\n \n          ...,\n \n          [[ 0.0000000000e+00,  0.0000000000e+00,  0.0000000000e+00],\n           [ 0.0000000000e+00,  0.0000000000e+00,  0.0000000000e+00],\n           [ 0.0000000000e+00,  0.0000000000e+00,  0.0000000000e+00]],\n \n          [[ 0.0000000000e+00,  0.0000000000e+00,  0.0000000000e+00],\n           [ 0.0000000000e+00,  0.0000000000e+00,  0.0000000000e+00],\n           [ 0.0000000000e+00,  0.0000000000e+00,  0.0000000000e+00]],\n \n          [[ 0.0000000000e+00,  0.0000000000e+00,  0.0000000000e+00],\n           [ 0.0000000000e+00,  0.0000000000e+00,  0.0000000000e+00],\n           [ 0.0000000000e+00,  0.0000000000e+00,  0.0000000000e+00]]],\n \n \n         ...,\n \n \n         [[[ 0.0000000000e+00,  0.0000000000e+00,  0.0000000000e+00],\n           [ 0.0000000000e+00,  0.0000000000e+00,  0.0000000000e+00],\n           [ 0.0000000000e+00,  0.0000000000e+00,  0.0000000000e+00]],\n \n          [[ 0.0000000000e+00,  0.0000000000e+00,  0.0000000000e+00],\n           [ 0.0000000000e+00,  0.0000000000e+00,  0.0000000000e+00],\n           [ 0.0000000000e+00,  0.0000000000e+00,  0.0000000000e+00]],\n \n          [[ 0.0000000000e+00,  0.0000000000e+00,  0.0000000000e+00],\n           [ 0.0000000000e+00,  0.0000000000e+00,  0.0000000000e+00],\n           [ 0.0000000000e+00,  0.0000000000e+00,  0.0000000000e+00]],\n \n          ...,\n \n          [[ 0.0000000000e+00,  0.0000000000e+00,  0.0000000000e+00],\n           [ 0.0000000000e+00,  0.0000000000e+00,  0.0000000000e+00],\n           [ 0.0000000000e+00,  0.0000000000e+00,  0.0000000000e+00]],\n \n          [[ 0.0000000000e+00,  0.0000000000e+00,  0.0000000000e+00],\n           [ 0.0000000000e+00,  0.0000000000e+00,  0.0000000000e+00],\n           [ 0.0000000000e+00,  0.0000000000e+00,  0.0000000000e+00]],\n \n          [[ 0.0000000000e+00,  0.0000000000e+00,  0.0000000000e+00],\n           [ 0.0000000000e+00,  0.0000000000e+00,  0.0000000000e+00],\n           [ 0.0000000000e+00,  0.0000000000e+00,  0.0000000000e+00]]],\n \n \n         [[[-5.3309748405e-03, -5.7121783496e-03, -5.2670466972e-03],\n           [-9.5934282476e-03, -9.9856066747e-03, -9.2080119134e-03],\n           [-5.3427382290e-03, -4.7477407385e-03, -4.7480685564e-03]],\n \n          [[-1.4172768580e-03, -1.4650469252e-03, -1.6802845812e-03],\n           [-2.9286199360e-03, -2.9448935724e-03, -3.2017132827e-03],\n           [-1.9618064256e-03, -2.0301209284e-03, -1.9063612469e-03]],\n \n          [[ 0.0000000000e+00, -2.6128609323e-05,  0.0000000000e+00],\n           [-4.8688677793e-05, -1.8657101642e-04, -4.9967751368e-05],\n           [ 0.0000000000e+00,  0.0000000000e+00,  0.0000000000e+00]],\n \n          ...,\n \n          [[-5.2017746213e-04, -2.5759990187e-04, -9.1578575786e-04],\n           [-1.3326346354e-03, -1.6037101862e-03, -1.0894946212e-03],\n           [-3.7623249499e-04, -2.8596848320e-04, -7.4364077460e-04]],\n \n          [[-1.1040006517e-03, -1.3769250532e-03, -1.3974059500e-03],\n           [ 0.0000000000e+00,  0.0000000000e+00,  0.0000000000e+00],\n           [ 0.0000000000e+00,  0.0000000000e+00,  0.0000000000e+00]],\n \n          [[-8.1482081932e-04, -6.7623761540e-04, -5.7946320953e-04],\n           [-4.4309146988e-04, -5.7218965101e-04, -3.8415701337e-04],\n           [-1.5158307720e-03, -2.0064841412e-03, -2.2523968673e-03]]],\n \n \n         [[[ 2.7679634037e-02,  2.5093496836e-02,  2.4692477416e-02],\n           [ 3.0014251796e-02,  2.8798645340e-02,  2.7780042098e-02],\n           [ 2.4370702092e-02,  2.5755599485e-02,  2.6817281839e-02]],\n \n          [[ 6.2272697702e-03,  6.6272771218e-03,  8.1158729511e-03],\n           [ 7.0600713611e-03,  8.7611856038e-03,  9.9610901011e-03],\n           [ 7.3770778205e-03,  8.9599903072e-03,  1.0472935294e-02]],\n \n          [[ 2.7471542710e-06,  2.7682966786e-04,  2.0337872396e-05],\n           [ 2.7464979957e-05,  3.7702214940e-04,  2.6395924460e-05],\n           [ 0.0000000000e+00,  2.1800492123e-04,  4.1647545235e-06]],\n \n          ...,\n \n          [[ 6.0807050258e-03,  6.1659021542e-03,  7.7949109628e-03],\n           [ 5.1965195595e-03,  5.2648749029e-03,  7.4759663471e-03],\n           [ 3.9176255828e-03,  5.5646058772e-03,  7.6495344264e-03]],\n \n          [[ 6.8904074415e-03,  7.5415507590e-03,  7.4389684147e-03],\n           [ 5.3100000437e-03,  5.7068606181e-03,  6.2281142979e-03],\n           [ 3.9402736090e-03,  4.4177751289e-03,  4.7970898219e-03]],\n \n          [[ 3.6821196153e-03,  3.2015323335e-03,  3.7945198762e-03],\n           [ 4.1736381242e-03,  3.5101947921e-03,  3.7882269755e-03],\n           [ 5.4076600241e-03,  4.5307871184e-03,  3.9579476314e-03]]]],\n        device='cuda:0', dtype=torch.float64),\n tensor([[[[ 1.2823391360e-02,  1.2604724895e-02,  1.3559580903e-02],\n           [ 1.6845129653e-02,  1.4305543187e-02,  1.2730995846e-02],\n           [ 1.7908946393e-02,  1.5254417794e-02,  1.4647154748e-02]],\n \n          [[ 0.0000000000e+00,  0.0000000000e+00,  0.0000000000e+00],\n           [ 0.0000000000e+00,  0.0000000000e+00,  0.0000000000e+00],\n           [ 0.0000000000e+00,  0.0000000000e+00,  0.0000000000e+00]],\n \n          [[ 0.0000000000e+00,  0.0000000000e+00,  0.0000000000e+00],\n           [ 0.0000000000e+00,  0.0000000000e+00,  0.0000000000e+00],\n           [ 0.0000000000e+00,  0.0000000000e+00,  0.0000000000e+00]],\n \n          ...,\n \n          [[ 0.0000000000e+00,  0.0000000000e+00,  0.0000000000e+00],\n           [ 0.0000000000e+00,  0.0000000000e+00,  0.0000000000e+00],\n           [ 0.0000000000e+00,  0.0000000000e+00,  0.0000000000e+00]],\n \n          [[ 0.0000000000e+00,  0.0000000000e+00,  0.0000000000e+00],\n           [ 0.0000000000e+00,  0.0000000000e+00,  0.0000000000e+00],\n           [ 0.0000000000e+00,  0.0000000000e+00,  0.0000000000e+00]],\n \n          [[ 1.7905340799e-04,  3.1475678375e-04,  4.1954942746e-04],\n           [ 3.7815954454e-04,  3.8729504795e-04,  3.9981103184e-04],\n           [ 2.3647806689e-04,  3.7646509373e-04,  3.5856392373e-04]]],\n \n \n         [[[ 2.4554909298e-04,  0.0000000000e+00,  3.9571397593e-04],\n           [ 9.0368419329e-04,  1.6506132995e-04,  8.3936970880e-04],\n           [ 2.8303045601e-04,  1.0858007630e-03,  6.4859269375e-04]],\n \n          [[ 0.0000000000e+00,  0.0000000000e+00,  0.0000000000e+00],\n           [ 0.0000000000e+00,  0.0000000000e+00,  0.0000000000e+00],\n           [ 0.0000000000e+00,  0.0000000000e+00,  0.0000000000e+00]],\n \n          [[ 0.0000000000e+00,  0.0000000000e+00,  0.0000000000e+00],\n           [ 0.0000000000e+00,  0.0000000000e+00,  0.0000000000e+00],\n           [ 0.0000000000e+00,  0.0000000000e+00,  0.0000000000e+00]],\n \n          ...,\n \n          [[ 0.0000000000e+00,  0.0000000000e+00,  0.0000000000e+00],\n           [ 0.0000000000e+00,  0.0000000000e+00,  0.0000000000e+00],\n           [ 0.0000000000e+00,  0.0000000000e+00,  0.0000000000e+00]],\n \n          [[ 0.0000000000e+00,  0.0000000000e+00,  0.0000000000e+00],\n           [ 0.0000000000e+00,  0.0000000000e+00,  0.0000000000e+00],\n           [ 0.0000000000e+00,  0.0000000000e+00,  0.0000000000e+00]],\n \n          [[ 0.0000000000e+00,  0.0000000000e+00,  0.0000000000e+00],\n           [-1.0976745843e-05, -5.2249391958e-06, -8.9502883578e-07],\n           [ 0.0000000000e+00,  2.2305357418e-04,  0.0000000000e+00]]],\n \n \n         [[[-1.1811102188e-03, -1.1624893552e-03, -2.6114037191e-03],\n           [-6.4729160290e-04, -1.3950346131e-03, -1.5971401995e-03],\n           [-5.0762260796e-04, -1.4573232126e-03, -1.6273959578e-03]],\n \n          [[ 0.0000000000e+00,  0.0000000000e+00,  0.0000000000e+00],\n           [ 0.0000000000e+00,  0.0000000000e+00,  0.0000000000e+00],\n           [ 1.4625461190e-04,  1.4591487133e-04,  9.8361625535e-05]],\n \n          [[ 0.0000000000e+00,  0.0000000000e+00,  0.0000000000e+00],\n           [ 0.0000000000e+00,  0.0000000000e+00,  0.0000000000e+00],\n           [ 0.0000000000e+00,  0.0000000000e+00,  0.0000000000e+00]],\n \n          ...,\n \n          [[ 0.0000000000e+00,  0.0000000000e+00,  0.0000000000e+00],\n           [ 0.0000000000e+00,  0.0000000000e+00,  0.0000000000e+00],\n           [ 0.0000000000e+00,  0.0000000000e+00,  0.0000000000e+00]],\n \n          [[ 0.0000000000e+00,  0.0000000000e+00,  0.0000000000e+00],\n           [ 0.0000000000e+00,  0.0000000000e+00,  0.0000000000e+00],\n           [ 0.0000000000e+00,  1.3493136759e-05,  0.0000000000e+00]],\n \n          [[-7.6641912729e-06, -7.9125701547e-07, -4.8775708327e-06],\n           [-5.3038973235e-05, -1.3176506851e-05, -6.3494217993e-06],\n           [ 0.0000000000e+00,  4.2322084863e-05,  2.2261291625e-05]]],\n \n \n         ...,\n \n \n         [[[ 6.5561031027e-05,  0.0000000000e+00,  0.0000000000e+00],\n           [ 4.1786373545e-05,  7.7434365776e-05,  1.3451285300e-05],\n           [ 9.1661293517e-05,  9.1583634346e-05,  9.0286350824e-05]],\n \n          [[ 0.0000000000e+00,  0.0000000000e+00,  0.0000000000e+00],\n           [ 0.0000000000e+00,  0.0000000000e+00,  0.0000000000e+00],\n           [ 0.0000000000e+00,  0.0000000000e+00,  0.0000000000e+00]],\n \n          [[ 0.0000000000e+00,  0.0000000000e+00,  0.0000000000e+00],\n           [ 0.0000000000e+00,  0.0000000000e+00,  0.0000000000e+00],\n           [ 0.0000000000e+00,  0.0000000000e+00,  0.0000000000e+00]],\n \n          ...,\n \n          [[ 0.0000000000e+00,  0.0000000000e+00,  0.0000000000e+00],\n           [ 0.0000000000e+00,  0.0000000000e+00,  0.0000000000e+00],\n           [ 0.0000000000e+00,  0.0000000000e+00,  0.0000000000e+00]],\n \n          [[ 0.0000000000e+00,  0.0000000000e+00,  0.0000000000e+00],\n           [ 0.0000000000e+00,  0.0000000000e+00,  0.0000000000e+00],\n           [ 0.0000000000e+00,  0.0000000000e+00,  0.0000000000e+00]],\n \n          [[ 0.0000000000e+00,  0.0000000000e+00,  0.0000000000e+00],\n           [ 0.0000000000e+00,  0.0000000000e+00,  0.0000000000e+00],\n           [ 0.0000000000e+00,  0.0000000000e+00,  0.0000000000e+00]]],\n \n \n         [[[ 0.0000000000e+00,  0.0000000000e+00,  0.0000000000e+00],\n           [ 0.0000000000e+00,  0.0000000000e+00,  0.0000000000e+00],\n           [ 0.0000000000e+00,  0.0000000000e+00,  0.0000000000e+00]],\n \n          [[ 0.0000000000e+00,  0.0000000000e+00,  0.0000000000e+00],\n           [ 0.0000000000e+00,  0.0000000000e+00,  0.0000000000e+00],\n           [ 0.0000000000e+00,  0.0000000000e+00,  0.0000000000e+00]],\n \n          [[ 0.0000000000e+00,  0.0000000000e+00,  0.0000000000e+00],\n           [ 0.0000000000e+00,  0.0000000000e+00,  0.0000000000e+00],\n           [ 0.0000000000e+00,  0.0000000000e+00,  0.0000000000e+00]],\n \n          ...,\n \n          [[ 0.0000000000e+00,  0.0000000000e+00,  0.0000000000e+00],\n           [ 0.0000000000e+00,  0.0000000000e+00,  0.0000000000e+00],\n           [ 0.0000000000e+00,  0.0000000000e+00,  0.0000000000e+00]],\n \n          [[ 0.0000000000e+00,  0.0000000000e+00,  0.0000000000e+00],\n           [ 0.0000000000e+00,  0.0000000000e+00,  0.0000000000e+00],\n           [ 0.0000000000e+00,  0.0000000000e+00,  0.0000000000e+00]],\n \n          [[ 0.0000000000e+00,  0.0000000000e+00,  0.0000000000e+00],\n           [ 0.0000000000e+00,  0.0000000000e+00,  0.0000000000e+00],\n           [ 0.0000000000e+00,  0.0000000000e+00,  0.0000000000e+00]]],\n \n \n         [[[ 2.1765701595e-02,  1.9785979632e-02,  1.8414742220e-02],\n           [ 2.7084798367e-02,  2.3581179462e-02,  1.8613752644e-02],\n           [ 2.7081887301e-02,  2.7023166379e-02,  1.9674167425e-02]],\n \n          [[ 0.0000000000e+00,  8.0221953092e-05,  1.4375657746e-05],\n           [-1.2394078441e-03, -1.1352284036e-03, -9.5897312540e-04],\n           [-4.6209785127e-04, -7.4773133305e-04, -7.8209588163e-04]],\n \n          [[ 0.0000000000e+00,  0.0000000000e+00,  0.0000000000e+00],\n           [ 0.0000000000e+00,  0.0000000000e+00,  0.0000000000e+00],\n           [ 0.0000000000e+00,  0.0000000000e+00,  0.0000000000e+00]],\n \n          ...,\n \n          [[ 0.0000000000e+00,  0.0000000000e+00,  0.0000000000e+00],\n           [ 0.0000000000e+00,  0.0000000000e+00,  0.0000000000e+00],\n           [ 0.0000000000e+00,  0.0000000000e+00,  0.0000000000e+00]],\n \n          [[ 0.0000000000e+00,  0.0000000000e+00,  0.0000000000e+00],\n           [-4.8555405452e-05, -1.2195978004e-05, -8.6057342627e-05],\n           [-4.4545619158e-05, -1.0091511186e-04, -5.0555014525e-05]],\n \n          [[ 4.9573556381e-04,  4.6631130074e-04,  3.2863043951e-04],\n           [ 1.2326674086e-03,  9.4261445930e-04,  6.9727920210e-04],\n           [ 4.6418171054e-04,  1.0258445586e-03,  2.1802168206e-04]]]],\n        device='cuda:0', dtype=torch.float64),\n tensor([[[[ 3.4013492719e-02]],\n \n          [[ 1.1433672790e-02]],\n \n          [[ 0.0000000000e+00]],\n \n          ...,\n \n          [[ 8.8099780449e-03]],\n \n          [[ 7.6877900570e-03]],\n \n          [[ 4.0256429603e-03]]],\n \n \n         [[[ 1.8532261804e-03]],\n \n          [[ 4.8670057538e-04]],\n \n          [[ 0.0000000000e+00]],\n \n          ...,\n \n          [[-1.8963399384e-05]],\n \n          [[ 4.9512285685e-04]],\n \n          [[ 7.3268246562e-04]]],\n \n \n         [[[-3.9814046653e-03]],\n \n          [[-1.3080539229e-03]],\n \n          [[ 0.0000000000e+00]],\n \n          ...,\n \n          [[-4.0970348023e-04]],\n \n          [[-1.4017543389e-03]],\n \n          [[-3.0360454859e-04]]],\n \n \n         ...,\n \n \n         [[[ 2.1119257815e-04]],\n \n          [[ 1.0809691890e-04]],\n \n          [[ 0.0000000000e+00]],\n \n          ...,\n \n          [[ 4.7976506700e-05]],\n \n          [[ 1.6837168643e-05]],\n \n          [[ 0.0000000000e+00]]],\n \n \n         [[[ 0.0000000000e+00]],\n \n          [[ 0.0000000000e+00]],\n \n          [[ 0.0000000000e+00]],\n \n          ...,\n \n          [[ 0.0000000000e+00]],\n \n          [[ 0.0000000000e+00]],\n \n          [[ 0.0000000000e+00]]],\n \n \n         [[[ 6.2426226771e-02]],\n \n          [[ 1.6400599140e-02]],\n \n          [[ 1.0799418153e-04]],\n \n          ...,\n \n          [[ 1.6841311986e-02]],\n \n          [[ 1.4161499838e-02]],\n \n          [[ 9.7197811996e-03]]]], device='cuda:0', dtype=torch.float64),\n tensor([[[[ 0.0000000000e+00,  0.0000000000e+00,  0.0000000000e+00],\n           [-8.9572339579e-06,  0.0000000000e+00, -1.1008870930e-06],\n           [ 0.0000000000e+00,  0.0000000000e+00, -2.4000986761e-05]],\n \n          [[ 0.0000000000e+00,  0.0000000000e+00,  0.0000000000e+00],\n           [ 0.0000000000e+00,  0.0000000000e+00,  0.0000000000e+00],\n           [ 0.0000000000e+00,  0.0000000000e+00,  0.0000000000e+00]],\n \n          [[ 0.0000000000e+00,  0.0000000000e+00,  0.0000000000e+00],\n           [ 0.0000000000e+00,  0.0000000000e+00,  0.0000000000e+00],\n           [ 0.0000000000e+00,  0.0000000000e+00,  0.0000000000e+00]],\n \n          ...,\n \n          [[ 0.0000000000e+00,  0.0000000000e+00,  0.0000000000e+00],\n           [ 0.0000000000e+00,  0.0000000000e+00,  0.0000000000e+00],\n           [ 0.0000000000e+00,  0.0000000000e+00,  0.0000000000e+00]],\n \n          [[ 0.0000000000e+00,  0.0000000000e+00,  0.0000000000e+00],\n           [ 0.0000000000e+00,  0.0000000000e+00,  0.0000000000e+00],\n           [ 0.0000000000e+00,  0.0000000000e+00,  0.0000000000e+00]],\n \n          [[-4.6178230056e-05, -1.1309232264e-04, -6.2113245374e-06],\n           [-6.9345785188e-05, -6.4916442957e-05, -4.7437451816e-05],\n           [-3.7141336650e-05, -7.9592293698e-06, -3.7549875573e-05]]],\n \n \n         [[[-2.2015699863e-03, -2.5248138951e-03, -2.2500347431e-03],\n           [-2.8130391840e-03, -2.4315423547e-03, -2.7340334732e-03],\n           [-2.4341995308e-03, -2.8055555480e-03, -3.1356189854e-03]],\n \n          [[ 0.0000000000e+00, -9.5931353941e-05, -2.2735838112e-04],\n           [-6.0191592274e-05, -7.3024289993e-05, -2.1215425710e-04],\n           [-1.1894637704e-04, -2.2045877164e-04, -2.3797581373e-04]],\n \n          [[-9.6861256031e-04, -8.4002354230e-04, -9.0333956261e-04],\n           [-8.6672673556e-04, -2.3428067799e-04, -5.2638459139e-04],\n           [-5.0073840013e-04, -3.0216268646e-04, -9.0992855270e-04]],\n \n          ...,\n \n          [[-1.2415231614e-04, -1.2468102758e-04, -1.2030107617e-04],\n           [ 0.0000000000e+00, -1.1442118309e-04, -1.1859814140e-04],\n           [-1.1247150021e-04, -1.2337529113e-04, -1.3400519499e-04]],\n \n          [[ 0.0000000000e+00,  0.0000000000e+00,  0.0000000000e+00],\n           [ 0.0000000000e+00,  0.0000000000e+00,  0.0000000000e+00],\n           [ 0.0000000000e+00,  0.0000000000e+00,  0.0000000000e+00]],\n \n          [[-1.7062928493e-02, -2.1354362537e-02, -1.8772668085e-02],\n           [-2.2284825152e-02, -2.9607469073e-02, -2.7388225258e-02],\n           [-1.7229662678e-02, -2.3236435242e-02, -2.3413028589e-02]]],\n \n \n         [[[-2.5141929335e-05, -4.7576754480e-05, -3.0937917446e-05],\n           [-1.1079325932e-04, -3.0883646303e-05, -4.2134248097e-06],\n           [-5.2480306652e-05, -1.0139986323e-04, -1.1403635333e-04]],\n \n          [[ 0.0000000000e+00,  0.0000000000e+00,  0.0000000000e+00],\n           [ 0.0000000000e+00,  0.0000000000e+00,  0.0000000000e+00],\n           [ 0.0000000000e+00,  0.0000000000e+00,  0.0000000000e+00]],\n \n          [[-8.1557967665e-05, -8.4473586898e-05, -7.3157737468e-05],\n           [ 0.0000000000e+00,  0.0000000000e+00, -5.4863337793e-05],\n           [ 0.0000000000e+00,  0.0000000000e+00, -4.1063946031e-05]],\n \n          ...,\n \n          [[ 0.0000000000e+00,  0.0000000000e+00,  0.0000000000e+00],\n           [ 0.0000000000e+00,  0.0000000000e+00,  0.0000000000e+00],\n           [ 0.0000000000e+00,  0.0000000000e+00,  0.0000000000e+00]],\n \n          [[ 0.0000000000e+00,  0.0000000000e+00,  0.0000000000e+00],\n           [ 0.0000000000e+00,  0.0000000000e+00,  0.0000000000e+00],\n           [ 0.0000000000e+00,  0.0000000000e+00,  0.0000000000e+00]],\n \n          [[-4.5612899928e-04, -4.0767830442e-04, -1.0933031089e-04],\n           [-4.3256325444e-04, -5.4262432836e-04, -1.7246736687e-04],\n           [-3.1113855520e-04, -5.4133818790e-04, -3.2907720520e-04]]],\n \n \n         ...,\n \n \n         [[[-1.5024225608e-03, -1.4432119704e-03, -1.0749292036e-03],\n           [-1.3638857175e-03, -1.1117445418e-03, -1.1606938090e-03],\n           [-1.3358082899e-03, -1.3379378637e-03, -1.3907632854e-03]],\n \n          [[-5.2888778321e-05, -2.9182253678e-05, -2.7383964073e-05],\n           [-3.9243153997e-05, -6.6099028033e-05,  0.0000000000e+00],\n           [-3.5520427764e-05, -6.3448518595e-05, -2.0329375055e-05]],\n \n          [[-5.4041963022e-04, -4.7881928709e-04, -6.2394083103e-04],\n           [-2.8908883693e-04, -2.1132073396e-04, -3.1369442759e-04],\n           [-2.1077220791e-04, -1.1891024164e-04, -3.3093722477e-04]],\n \n          ...,\n \n          [[ 0.0000000000e+00,  0.0000000000e+00,  0.0000000000e+00],\n           [ 0.0000000000e+00, -4.2004860793e-05,  0.0000000000e+00],\n           [-5.5871615283e-05, -5.6014363119e-05,  0.0000000000e+00]],\n \n          [[ 0.0000000000e+00,  0.0000000000e+00,  0.0000000000e+00],\n           [ 0.0000000000e+00,  0.0000000000e+00,  0.0000000000e+00],\n           [ 0.0000000000e+00,  0.0000000000e+00,  0.0000000000e+00]],\n \n          [[-8.5527960406e-03, -1.1106564420e-02, -1.0481584921e-02],\n           [-1.0298396215e-02, -1.3685045892e-02, -1.1885121387e-02],\n           [-9.2792357049e-03, -1.1355421709e-02, -9.4907460811e-03]]],\n \n \n         [[[ 3.7305493738e-05,  0.0000000000e+00,  3.0510879462e-06],\n           [ 6.4020650792e-05,  6.1803169662e-05,  5.9352255291e-05],\n           [ 1.3072925533e-05,  3.7094403746e-06, -3.1484554355e-06]],\n \n          [[ 0.0000000000e+00,  0.0000000000e+00,  0.0000000000e+00],\n           [ 0.0000000000e+00,  1.7975788501e-05,  2.2896844565e-05],\n           [ 0.0000000000e+00,  0.0000000000e+00,  0.0000000000e+00]],\n \n          [[ 2.1399792420e-05,  2.7953774091e-05,  3.3134759197e-05],\n           [ 1.7487335979e-05,  0.0000000000e+00,  1.1003684908e-05],\n           [ 0.0000000000e+00,  0.0000000000e+00,  0.0000000000e+00]],\n \n          ...,\n \n          [[ 0.0000000000e+00,  0.0000000000e+00,  0.0000000000e+00],\n           [ 0.0000000000e+00,  0.0000000000e+00,  0.0000000000e+00],\n           [ 0.0000000000e+00,  0.0000000000e+00,  0.0000000000e+00]],\n \n          [[ 0.0000000000e+00,  0.0000000000e+00,  0.0000000000e+00],\n           [ 0.0000000000e+00,  0.0000000000e+00,  0.0000000000e+00],\n           [ 0.0000000000e+00,  0.0000000000e+00,  0.0000000000e+00]],\n \n          [[ 1.3537388812e-04,  3.4785982230e-04,  9.9446874123e-05],\n           [ 4.5653851430e-04,  6.6274640857e-04,  5.2155462034e-04],\n           [ 9.3856698853e-05,  3.4270586478e-04,  9.8825920772e-05]]],\n \n \n         [[[ 2.0953320115e-04,  2.5847440177e-04,  6.0251728923e-05],\n           [ 1.5960492283e-04,  3.6628902168e-04,  1.6795206155e-04],\n           [ 9.5725694100e-05,  2.7449741234e-04,  1.4538834594e-04]],\n \n          [[ 0.0000000000e+00,  1.7593811661e-05,  0.0000000000e+00],\n           [ 0.0000000000e+00,  0.0000000000e+00,  0.0000000000e+00],\n           [ 0.0000000000e+00,  0.0000000000e+00,  0.0000000000e+00]],\n \n          [[ 8.2074312801e-05,  1.4486783619e-05,  1.3756924114e-05],\n           [ 0.0000000000e+00,  9.3549626024e-07,  1.8177890700e-06],\n           [ 1.7209417598e-05,  4.8181604032e-06,  0.0000000000e+00]],\n \n          ...,\n \n          [[ 0.0000000000e+00,  0.0000000000e+00,  0.0000000000e+00],\n           [ 2.6816185497e-05,  2.3755941951e-05,  2.9777121937e-05],\n           [ 2.9766901051e-05,  2.2808143959e-05,  2.2204645703e-05]],\n \n          [[ 0.0000000000e+00,  0.0000000000e+00,  0.0000000000e+00],\n           [ 0.0000000000e+00,  0.0000000000e+00,  0.0000000000e+00],\n           [ 0.0000000000e+00,  0.0000000000e+00,  0.0000000000e+00]],\n \n          [[ 1.4642760410e-03,  2.9135537699e-03,  1.1800909922e-03],\n           [ 1.9330233862e-03,  3.4103857721e-03,  2.0147201388e-03],\n           [ 1.5844450414e-03,  2.8190182166e-03,  1.5967087591e-03]]]],\n        device='cuda:0', dtype=torch.float64),\n tensor([[[[-9.4421005009e-05, -9.6104613159e-05, -9.4421005009e-05],\n           [-1.0620869972e-04, -1.1255739539e-04, -1.0936709736e-04],\n           [-2.3008874715e-05, -2.1022152035e-05, -1.5967886798e-05]],\n \n          [[-3.6560858409e-03, -3.8834229554e-03, -4.0317792001e-03],\n           [-6.5231332096e-03, -6.7810589077e-03, -6.9381430477e-03],\n           [-6.1475590316e-03, -6.3548801686e-03, -6.4471351183e-03]],\n \n          [[-1.8943276888e-04, -1.9984221992e-04, -1.8200092269e-04],\n           [-4.4275239509e-04, -4.6689840945e-04, -4.7716026977e-04],\n           [-3.2473188119e-04, -3.2805238734e-04, -3.8018159515e-04]],\n \n          ...,\n \n          [[-2.8651766915e-03, -3.0519372981e-03, -2.7339464297e-03],\n           [-4.3106442253e-03, -4.6090455880e-03, -4.3442707286e-03],\n           [-4.5186924707e-03, -4.8925362498e-03, -4.7878664183e-03]],\n \n          [[-5.5374627437e-04, -7.3613756967e-04, -4.7533755282e-04],\n           [-1.2030896428e-03, -1.4056822052e-03, -1.0429496922e-03],\n           [-6.9956714664e-04, -7.8613147712e-04, -5.7968878986e-04]],\n \n          [[-3.3334284920e-04, -2.7078991868e-04, -2.1741162256e-04],\n           [-7.4569325707e-04, -7.0364243171e-04, -6.0976793975e-04],\n           [-7.5835330962e-04, -7.4748571510e-04, -6.6841774596e-04]]],\n \n \n         [[[-1.6609841568e-06, -3.0433507468e-05, -6.9424085266e-05],\n           [-5.2853883548e-06, -6.5674587239e-06, -3.0325649912e-06],\n           [-1.6609841568e-06, -1.6609841568e-06,  0.0000000000e+00]],\n \n          [[-4.3970881225e-04, -4.2209901237e-04, -3.6714415445e-04],\n           [-3.1540987631e-04, -4.0956983854e-04, -3.9827793478e-04],\n           [-2.9504464316e-04, -4.9153743256e-04, -5.2182867655e-04]],\n \n          [[-5.2118215748e-05, -8.6492067595e-05, -3.4373851847e-05],\n           [-9.5062623683e-07, -1.1807337101e-05, -1.7849277102e-05],\n           [-1.0084020199e-05, -2.0609026724e-05, -6.9925662377e-06]],\n \n          ...,\n \n          [[-5.7769433908e-04, -6.4081498729e-04, -4.2010101056e-04],\n           [-5.7179297590e-04, -7.1050183789e-04, -4.0535787308e-04],\n           [-3.5370654490e-04, -4.4644445858e-04, -2.1585562865e-04]],\n \n          [[-1.4044574038e-04, -1.0628811478e-04,  0.0000000000e+00],\n           [-6.2114817248e-05, -2.6133662124e-05,  0.0000000000e+00],\n           [-5.7802240014e-05, -3.4157625599e-05,  0.0000000000e+00]],\n \n          [[-1.2125155657e-04, -1.2442175264e-04, -3.7071297061e-05],\n           [-5.3356690449e-05, -7.8382500073e-05, -7.4226146545e-05],\n           [-5.0586900545e-05, -7.7742785907e-05, -1.0365412513e-04]]],\n \n \n         [[[-9.5148448033e-06, -7.9159598950e-06,  0.0000000000e+00],\n           [-8.0872428483e-06, -2.0580289332e-06, -1.3021761059e-06],\n           [-3.1875394960e-06, -3.1875394960e-06, -3.1875394960e-06]],\n \n          [[-3.3198037113e-03, -2.7443885348e-03, -2.7900124821e-03],\n           [-3.5412911098e-03, -3.0761405675e-03, -2.9388960792e-03],\n           [-5.0751965349e-03, -4.5928523364e-03, -4.3865165968e-03]],\n \n          [[-1.3518315838e-04, -8.6875426518e-05, -1.4965354940e-04],\n           [-1.3756753808e-04, -4.5355222565e-05, -1.2671013191e-04],\n           [-2.5152152762e-04, -1.8855703121e-04, -2.6488112458e-04]],\n \n          ...,\n \n          [[-3.8682286209e-03, -2.3631065780e-03, -3.6278174534e-03],\n           [-3.5520238543e-03, -2.2180898185e-03, -3.4800078034e-03],\n           [-4.2565482431e-03, -3.0959569439e-03, -4.4711525809e-03]],\n \n          [[-5.0503545907e-04, -1.2322499273e-04, -5.0332695519e-05],\n           [-4.9681666097e-04, -9.4805621371e-05, -7.6684847852e-05],\n           [-7.4008676477e-04, -3.3889505704e-04, -3.5697191254e-04]],\n \n          [[-4.2772872412e-04, -2.9395678350e-04, -4.3091894673e-04],\n           [-4.6408100230e-04, -2.9547065800e-04, -3.9338624274e-04],\n           [-6.4917985942e-04, -5.2742285541e-04, -6.2032645332e-04]]],\n \n \n         ...,\n \n \n         [[[-8.7529289688e-05, -7.7756920730e-05, -7.6656795325e-05],\n           [-4.6435516493e-05, -3.9281281039e-05, -3.8140737563e-05],\n           [-2.3892264382e-05, -1.6313537808e-05, -1.6313537808e-05]],\n \n          [[-1.2840871103e-02, -1.2631487092e-02, -1.2680553197e-02],\n           [-1.4761540020e-02, -1.4410735010e-02, -1.4368280033e-02],\n           [-1.4754278229e-02, -1.4589039724e-02, -1.4591161111e-02]],\n \n          [[-3.7347245766e-04, -3.5650205774e-04, -3.8554372889e-04],\n           [-5.0800355782e-04, -4.7070300551e-04, -5.1610547559e-04],\n           [-4.6828997543e-04, -4.7803461717e-04, -5.1541230728e-04]],\n \n          ...,\n \n          [[-1.3071891886e-02, -1.2376380654e-02, -1.3657800931e-02],\n           [-1.4126574650e-02, -1.3521123202e-02, -1.4773535609e-02],\n           [-1.4514606378e-02, -1.3903898065e-02, -1.5127609081e-02]],\n \n          [[-9.5522544691e-04, -5.6574755416e-04, -5.0696026488e-04],\n           [-1.1741113002e-03, -8.5683274671e-04, -8.3592781222e-04],\n           [-9.1727946105e-04, -6.0296079492e-04, -5.6507586212e-04]],\n \n          [[-1.3359145324e-03, -1.2028004279e-03, -1.3290226523e-03],\n           [-1.5836800465e-03, -1.4825760190e-03, -1.6426109564e-03],\n           [-1.7302224068e-03, -1.6432808513e-03, -1.7801555245e-03]]],\n \n \n         [[[-1.7047756937e-05, -1.5745133111e-05, -1.3966575508e-05],\n           [-1.2761563012e-05, -1.2761563012e-05, -1.2761563012e-05],\n           [-1.0770115453e-05, -6.3886749634e-06, -6.3886749634e-06]],\n \n          [[-1.0243629795e-02, -9.9910888959e-03, -9.8010681449e-03],\n           [-9.7209960988e-03, -9.5713927169e-03, -9.7641467058e-03],\n           [-1.0289703224e-02, -1.0297250574e-02, -1.0656210452e-02]],\n \n          [[-1.7686776279e-04, -1.6765965315e-04, -2.0901121330e-04],\n           [-1.9998507250e-04, -1.5044053635e-04, -1.9373462897e-04],\n           [-2.2268579915e-04, -2.0410740966e-04, -2.0127479263e-04]],\n \n          ...,\n \n          [[-1.0765914567e-02, -1.0909906594e-02, -1.1128796674e-02],\n           [-1.0629436364e-02, -1.0508376101e-02, -1.0691505232e-02],\n           [-1.0480846823e-02, -1.0450294898e-02, -1.0633026653e-02]],\n \n          [[-3.1317835418e-05, -2.1267987907e-05, -1.2194314766e-05],\n           [-1.2194314766e-05, -1.2194314766e-05, -1.2194314766e-05],\n           [-1.0958355407e-04, -1.2625965716e-04, -1.3947911505e-04]],\n \n          [[-9.8839888099e-04, -1.0310665517e-03, -9.9607053811e-04],\n           [-9.7716780533e-04, -9.9159987774e-04, -9.7622230480e-04],\n           [-1.0450111176e-03, -1.0414841046e-03, -1.0926646699e-03]]],\n \n \n         [[[-2.8924262423e-06,  0.0000000000e+00,  0.0000000000e+00],\n           [ 0.0000000000e+00,  0.0000000000e+00,  0.0000000000e+00],\n           [-3.4241203771e-06, -3.4241203771e-06,  0.0000000000e+00]],\n \n          [[-1.2911777418e-04, -8.3053625753e-05, -5.4956112590e-05],\n           [-2.2106922425e-04, -2.1183415792e-04, -1.4279650100e-04],\n           [-6.6302750572e-04, -7.0170131447e-04, -5.8571716189e-04]],\n \n          [[ 0.0000000000e+00,  0.0000000000e+00,  0.0000000000e+00],\n           [-7.8076951786e-05, -9.5615383463e-05, -5.4460035529e-05],\n           [-1.3752643398e-04, -1.5098734578e-04, -1.4621218494e-04]],\n \n          ...,\n \n          [[-1.4648136077e-04, -1.2930629235e-04, -7.4412615912e-05],\n           [-7.7959719158e-05, -1.2278171230e-04, -1.2700301367e-05],\n           [-1.6337770182e-04, -2.4938682089e-04, -9.8037743920e-05]],\n \n          [[ 0.0000000000e+00,  0.0000000000e+00,  0.0000000000e+00],\n           [-1.3473556002e-05, -1.4799412529e-05, -1.3258565269e-06],\n           [-3.9065332681e-05, -3.5372041146e-05, -3.9016965349e-05]],\n \n          [[ 0.0000000000e+00,  0.0000000000e+00, -1.0054078236e-06],\n           [-4.7280829207e-05, -5.6842759155e-05, -5.6448415764e-05],\n           [-1.1260647788e-04, -1.3757813558e-04, -1.1141521878e-04]]]],\n        device='cuda:0', dtype=torch.float64)]"
     },
     "execution_count": 22,
     "metadata": {},
     "output_type": "execute_result"
    }
   ],
   "source": [
    "sCNN.disable()\n",
    "\n",
    "streaming_conv_gradients\n"
   ],
   "metadata": {
    "collapsed": false,
    "ExecuteTime": {
     "end_time": "2023-10-08T15:52:51.404802300Z",
     "start_time": "2023-10-08T15:52:45.117110600Z"
    }
   },
   "id": "9caf49cce06c5f0e"
  },
  {
   "cell_type": "markdown",
   "source": [
    "## Compare to conventional training"
   ],
   "metadata": {
    "collapsed": false
   },
   "id": "74e7c24c47c0bfcb"
  },
  {
   "cell_type": "code",
   "execution_count": 44,
   "outputs": [],
   "source": [
    "resnet = resnet18(weights=\"IMAGENET1K_V1\")\n",
    "stream_net, head = split_model(resnet)\n",
    "\n",
    "stream_net, head = split_model(resnet)\n",
    "\n",
    "def freeze_bn_layers(model):\n",
    "    for mod in model.modules():\n",
    "        if isinstance(mod, torch.nn.BatchNorm2d):\n",
    "            mod.eval()\n",
    "\n",
    "freeze_bn_layers(stream_net)\n",
    "stream_net.type(dtype)\n",
    "if cuda: stream_net.cuda()\n",
    "\n",
    "\n",
    "for i, layer in enumerate(stream_net.modules()):\n",
    "    if isinstance(layer, torch.nn.Conv2d):\n",
    "        if layer.weight.grad is not None:\n",
    "            layer.weight.grad.data.zero_()\n",
    "            layer.bias.grad.data.zero_()\n",
    "            \n"
   ],
   "metadata": {
    "collapsed": false,
    "ExecuteTime": {
     "end_time": "2023-10-08T15:55:30.428997200Z",
     "start_time": "2023-10-08T15:55:30.288390Z"
    }
   },
   "id": "f570eb5063cdd391"
  },
  {
   "cell_type": "code",
   "execution_count": 45,
   "outputs": [],
   "source": [
    "conventional_gradients = []\n",
    "inps = []\n",
    "\n",
    "def save_grad(module, grad_in, grad_out):\n",
    "    global conventional_gradients\n",
    "    conventional_gradients.append(grad_out[0].clone())\n",
    "        \n",
    "for i, layer in enumerate(stream_net.modules()):\n",
    "    if isinstance(layer, torch.nn.Conv2d):\n",
    "        layer.register_backward_hook(save_grad)"
   ],
   "metadata": {
    "collapsed": false,
    "ExecuteTime": {
     "end_time": "2023-10-08T15:55:31.884278400Z",
     "start_time": "2023-10-08T15:55:31.878279800Z"
    }
   },
   "id": "3b31e08e29427099"
  },
  {
   "cell_type": "markdown",
   "source": [
    "This output should be the same as the streaming output, if so, the loss will also be the same:\n",
    "\n"
   ],
   "metadata": {
    "collapsed": false
   },
   "id": "76e88ba324844ae5"
  },
  {
   "cell_type": "code",
   "execution_count": 46,
   "outputs": [
    {
     "data": {
      "text/plain": "tensor(8.8728327342, device='cuda:0', dtype=torch.float64,\n       grad_fn=<MaxBackward1>)"
     },
     "execution_count": 46,
     "metadata": {},
     "output_type": "execute_result"
    }
   ],
   "source": [
    "image.requires_grad = True\n",
    "conventional_output = stream_net(image[None]); conventional_output.max()\n"
   ],
   "metadata": {
    "collapsed": false,
    "ExecuteTime": {
     "end_time": "2023-10-08T15:55:33.833070Z",
     "start_time": "2023-10-08T15:55:33.134630800Z"
    }
   },
   "id": "f6974420d6615a1e"
  },
  {
   "cell_type": "code",
   "execution_count": 47,
   "outputs": [
    {
     "name": "stdout",
     "output_type": "stream",
     "text": [
      "torch.Size([1, 512, 47, 47])\n"
     ]
    },
    {
     "data": {
      "text/plain": "torch.Size([1, 512, 47, 47])"
     },
     "execution_count": 47,
     "metadata": {},
     "output_type": "execute_result"
    }
   ],
   "source": [
    "print(conventional_output.shape)\n",
    "stream_output.shape"
   ],
   "metadata": {
    "collapsed": false,
    "ExecuteTime": {
     "end_time": "2023-10-08T15:55:35.406142100Z",
     "start_time": "2023-10-08T15:55:35.398130400Z"
    }
   },
   "id": "c29f896aa692a1b"
  },
  {
   "cell_type": "code",
   "execution_count": 48,
   "outputs": [
    {
     "name": "stdout",
     "output_type": "stream",
     "text": [
      "Equal output to streaming\n"
     ]
    }
   ],
   "source": [
    "# NOTE: sometimes output can be slightly bigger \n",
    "# (if tiles do not fit nicely on input image according to output stride)\n",
    "# In that case this check may fail.\n",
    "max_error = torch.abs(stream_output - conventional_output).max().item()\n",
    "\n",
    "if max_error < 1e-7:\n",
    "    print(\"Equal output to streaming\")\n",
    "else:\n",
    "    print(\"NOT equal output to streaming\"),\n",
    "    print(\"error:\", max_error)"
   ],
   "metadata": {
    "collapsed": false,
    "ExecuteTime": {
     "end_time": "2023-10-08T15:55:37.294300Z",
     "start_time": "2023-10-08T15:55:37.284304700Z"
    }
   },
   "id": "54e6961142a52c24"
  },
  {
   "cell_type": "code",
   "execution_count": 49,
   "outputs": [
    {
     "data": {
      "text/plain": "tensor(0.6056637677, device='cuda:0', dtype=torch.float64,\n       grad_fn=<SigmoidBackward0>)"
     },
     "execution_count": 49,
     "metadata": {},
     "output_type": "execute_result"
    }
   ],
   "source": [
    "output = torch.sigmoid(torch.mean(conventional_output)); output"
   ],
   "metadata": {
    "collapsed": false,
    "ExecuteTime": {
     "end_time": "2023-10-08T15:55:38.652058Z",
     "start_time": "2023-10-08T15:55:38.642052Z"
    }
   },
   "id": "dab0ce2d17f05bb8"
  },
  {
   "cell_type": "code",
   "execution_count": 50,
   "outputs": [
    {
     "data": {
      "text/plain": "tensor(2439.8004518320, device='cuda:0', dtype=torch.float64,\n       grad_fn=<MseLossBackward0>)"
     },
     "execution_count": 50,
     "metadata": {},
     "output_type": "execute_result"
    }
   ],
   "source": [
    "loss = criterion(output, target); loss"
   ],
   "metadata": {
    "collapsed": false,
    "ExecuteTime": {
     "end_time": "2023-10-08T15:55:39.451135Z",
     "start_time": "2023-10-08T15:55:39.431131400Z"
    }
   },
   "id": "c48adcad2f38750a"
  },
  {
   "cell_type": "code",
   "execution_count": 51,
   "outputs": [],
   "source": [
    "loss.backward()"
   ],
   "metadata": {
    "collapsed": false,
    "ExecuteTime": {
     "end_time": "2023-10-08T15:55:40.345657Z",
     "start_time": "2023-10-08T15:55:40.337640600Z"
    }
   },
   "id": "fbb061cb856557d6"
  },
  {
   "cell_type": "code",
   "execution_count": 52,
   "outputs": [
    {
     "data": {
      "text/plain": "torch.Size([1, 64, 752, 752])"
     },
     "execution_count": 52,
     "metadata": {},
     "output_type": "execute_result"
    }
   ],
   "source": [
    "conventional_gradients[-1].shape"
   ],
   "metadata": {
    "collapsed": false,
    "ExecuteTime": {
     "end_time": "2023-10-08T15:55:42.100067300Z",
     "start_time": "2023-10-08T15:55:42.086072500Z"
    }
   },
   "id": "39c710f3672801ab"
  },
  {
   "cell_type": "markdown",
   "source": [
    "## Compare the gradients of the input image\n",
    "Using the saliency argument, we can compute the gradient w.r.t to the input image. If streaming is the same as conventional training, these gradients should be roughly equal"
   ],
   "metadata": {
    "collapsed": false
   },
   "id": "6161a9b953a30d5c"
  },
  {
   "cell_type": "code",
   "execution_count": 53,
   "outputs": [
    {
     "name": "stdout",
     "output_type": "stream",
     "text": [
      "0.0020155576469186457\n"
     ]
    }
   ],
   "source": [
    "diff = image.grad.detach().cpu().numpy() - sCNN.saliency_map[0].numpy()\n",
    "print(diff.max())"
   ],
   "metadata": {
    "collapsed": false,
    "ExecuteTime": {
     "end_time": "2023-10-08T15:55:43.431441200Z",
     "start_time": "2023-10-08T15:55:43.388378800Z"
    }
   },
   "id": "f5e23077c982b5"
  },
  {
   "cell_type": "markdown",
   "source": [
    "## Compare the gradients of the conv2d layers"
   ],
   "metadata": {
    "collapsed": false
   },
   "id": "3fb109b0b711f846"
  },
  {
   "cell_type": "code",
   "execution_count": 54,
   "outputs": [
    {
     "name": "stdout",
     "output_type": "stream",
     "text": [
      "Conv layer 0 \t Conv2d(3, 64, kernel_size=(7, 7), stride=(2, 2), padding=(3, 3), bias=False)\n",
      "Conv layer 1 \t Conv2d(64, 64, kernel_size=(3, 3), stride=(1, 1), padding=(1, 1), bias=False)\n",
      "Conv layer 2 \t Conv2d(64, 64, kernel_size=(3, 3), stride=(1, 1), padding=(1, 1), bias=False)\n",
      "Conv layer 3 \t Conv2d(64, 64, kernel_size=(3, 3), stride=(1, 1), padding=(1, 1), bias=False)\n",
      "Conv layer 4 \t Conv2d(64, 64, kernel_size=(3, 3), stride=(1, 1), padding=(1, 1), bias=False)\n",
      "Conv layer 5 \t Conv2d(64, 128, kernel_size=(3, 3), stride=(2, 2), padding=(1, 1), bias=False)\n",
      "Conv layer 6 \t Conv2d(128, 128, kernel_size=(3, 3), stride=(1, 1), padding=(1, 1), bias=False)\n",
      "Conv layer 7 \t Conv2d(64, 128, kernel_size=(1, 1), stride=(2, 2), bias=False)\n",
      "Conv layer 8 \t Conv2d(128, 128, kernel_size=(3, 3), stride=(1, 1), padding=(1, 1), bias=False)\n",
      "Conv layer 9 \t Conv2d(128, 128, kernel_size=(3, 3), stride=(1, 1), padding=(1, 1), bias=False)\n",
      "Conv layer 10 \t Conv2d(128, 256, kernel_size=(3, 3), stride=(2, 2), padding=(1, 1), bias=False)\n",
      "Conv layer 11 \t Conv2d(256, 256, kernel_size=(3, 3), stride=(1, 1), padding=(1, 1), bias=False)\n",
      "Conv layer 12 \t Conv2d(128, 256, kernel_size=(1, 1), stride=(2, 2), bias=False)\n",
      "Conv layer 13 \t Conv2d(256, 256, kernel_size=(3, 3), stride=(1, 1), padding=(1, 1), bias=False)\n",
      "Conv layer 14 \t Conv2d(256, 256, kernel_size=(3, 3), stride=(1, 1), padding=(1, 1), bias=False)\n",
      "Conv layer 15 \t Conv2d(256, 512, kernel_size=(3, 3), stride=(2, 2), padding=(1, 1), bias=False)\n",
      "Conv layer 16 \t Conv2d(512, 512, kernel_size=(3, 3), stride=(1, 1), padding=(1, 1), bias=False)\n",
      "Conv layer 17 \t Conv2d(256, 512, kernel_size=(1, 1), stride=(2, 2), bias=False)\n",
      "Conv layer 18 \t Conv2d(512, 512, kernel_size=(3, 3), stride=(1, 1), padding=(1, 1), bias=False)\n",
      "Conv layer 19 \t Conv2d(512, 512, kernel_size=(3, 3), stride=(1, 1), padding=(1, 1), bias=False)\n"
     ]
    }
   ],
   "source": [
    "normal_conv_gradients = []\n",
    "j = 0\n",
    "for i, layer in enumerate(stream_net.modules()):\n",
    "    if isinstance(layer, torch.nn.Conv2d):\n",
    "        if layer.weight.grad is not None:\n",
    "            normal_conv_gradients.append(layer.weight.grad) \n",
    "            print('Conv layer', j, '\\t', layer)\n",
    "            j += 1"
   ],
   "metadata": {
    "collapsed": false,
    "ExecuteTime": {
     "end_time": "2023-10-08T15:55:44.680653700Z",
     "start_time": "2023-10-08T15:55:44.668599500Z"
    }
   },
   "id": "df05ee0e7443ea52"
  },
  {
   "cell_type": "code",
   "execution_count": 55,
   "outputs": [
    {
     "name": "stdout",
     "output_type": "stream",
     "text": [
      "Conventional \n",
      "\n",
      "Conv layer 0 \t average gradient size: 0.025278384389962636\n",
      "Conv layer 1 \t average gradient size: 0.1965582114937199\n",
      "Conv layer 2 \t average gradient size: 0.13338380764486021\n",
      "Conv layer 3 \t average gradient size: 0.21788707053958006\n",
      "Conv layer 4 \t average gradient size: 0.12211251266994495\n",
      "Conv layer 5 \t average gradient size: 0.27629812906776163\n",
      "Conv layer 6 \t average gradient size: 0.1499612032093409\n",
      "Conv layer 7 \t average gradient size: 0.5234610677786308\n",
      "Conv layer 8 \t average gradient size: 0.16657202504835927\n",
      "Conv layer 9 \t average gradient size: 0.07438151845975027\n",
      "Conv layer 10 \t average gradient size: 0.06905372369649644\n",
      "Conv layer 11 \t average gradient size: 0.03219021375690993\n",
      "Conv layer 12 \t average gradient size: 0.08026865727058952\n",
      "Conv layer 13 \t average gradient size: 0.055126688412476296\n",
      "Conv layer 14 \t average gradient size: 0.028606464769841595\n",
      "Conv layer 15 \t average gradient size: 0.021730748478855963\n",
      "Conv layer 16 \t average gradient size: 0.005808344896697414\n",
      "Conv layer 17 \t average gradient size: 0.047249270348701855\n",
      "Conv layer 18 \t average gradient size: 0.0065361244369155505\n",
      "Conv layer 19 \t average gradient size: 0.004171739768432276\n"
     ]
    }
   ],
   "source": [
    "print('Conventional', '\\n')\n",
    "\n",
    "for i in range(len(streaming_conv_gradients)):\n",
    "    print(\"Conv layer\", i, \"\\t average gradient size:\", \n",
    "          float(torch.mean(torch.abs(streaming_conv_gradients[i].data))))"
   ],
   "metadata": {
    "collapsed": false,
    "ExecuteTime": {
     "end_time": "2023-10-08T15:55:47.500583600Z",
     "start_time": "2023-10-08T15:55:47.426583Z"
    }
   },
   "id": "7a564fe7a995e37b"
  },
  {
   "cell_type": "code",
   "execution_count": 56,
   "outputs": [
    {
     "name": "stdout",
     "output_type": "stream",
     "text": [
      "Streaming \n",
      "\n",
      "Conv layer 0 \t average gradient size: 0.025278384389962643\n",
      "Conv layer 1 \t average gradient size: 0.19655821149371994\n",
      "Conv layer 2 \t average gradient size: 0.13338380764486021\n",
      "Conv layer 3 \t average gradient size: 0.21788707053958\n",
      "Conv layer 4 \t average gradient size: 0.12211251266994494\n",
      "Conv layer 5 \t average gradient size: 0.27629812906776163\n",
      "Conv layer 6 \t average gradient size: 0.14996120320934092\n",
      "Conv layer 7 \t average gradient size: 0.5234610677786309\n",
      "Conv layer 8 \t average gradient size: 0.16657202504835927\n",
      "Conv layer 9 \t average gradient size: 0.07438151845975027\n",
      "Conv layer 10 \t average gradient size: 0.06905372369649644\n",
      "Conv layer 11 \t average gradient size: 0.03219021375690993\n",
      "Conv layer 12 \t average gradient size: 0.08026865727058952\n",
      "Conv layer 13 \t average gradient size: 0.0551266884124763\n",
      "Conv layer 14 \t average gradient size: 0.028606464769841595\n",
      "Conv layer 15 \t average gradient size: 0.021730748478855963\n",
      "Conv layer 16 \t average gradient size: 0.005808344896697414\n",
      "Conv layer 17 \t average gradient size: 0.047249270348701855\n",
      "Conv layer 18 \t average gradient size: 0.0065361244369155505\n",
      "Conv layer 19 \t average gradient size: 0.004171739768432276\n"
     ]
    }
   ],
   "source": [
    "\n",
    "print('Streaming', '\\n')\n",
    "for i in range(len(normal_conv_gradients)):\n",
    "    print(\"Conv layer\", i, \"\\t average gradient size:\", \n",
    "          float(torch.mean(torch.abs(normal_conv_gradients[i].data))))"
   ],
   "metadata": {
    "collapsed": false,
    "ExecuteTime": {
     "end_time": "2023-10-08T15:55:49.316604700Z",
     "start_time": "2023-10-08T15:55:49.293698300Z"
    }
   },
   "id": "e7e4bd209a2a575b"
  },
  {
   "cell_type": "code",
   "execution_count": 57,
   "outputs": [
    {
     "name": "stdout",
     "output_type": "stream",
     "text": [
      "Conv layer 0 \t max difference between kernel gradients: 5.995204332975845e-15\n",
      "Conv layer 1 \t max difference between kernel gradients: 1.9095836023552692e-13\n",
      "Conv layer 2 \t max difference between kernel gradients: 7.061018436615996e-14\n",
      "Conv layer 3 \t max difference between kernel gradients: 1.6608936448392342e-13\n",
      "Conv layer 4 \t max difference between kernel gradients: 1.0835776720341528e-13\n",
      "Conv layer 5 \t max difference between kernel gradients: 4.574118861455645e-14\n",
      "Conv layer 6 \t max difference between kernel gradients: 1.1546319456101628e-13\n",
      "Conv layer 7 \t max difference between kernel gradients: 6.483702463810914e-14\n",
      "Conv layer 8 \t max difference between kernel gradients: 6.483702463810914e-14\n",
      "Conv layer 9 \t max difference between kernel gradients: 7.016609515630989e-14\n",
      "Conv layer 10 \t max difference between kernel gradients: 2.3092638912203256e-14\n",
      "Conv layer 11 \t max difference between kernel gradients: 1.554312234475219e-14\n",
      "Conv layer 12 \t max difference between kernel gradients: 2.042810365310288e-14\n",
      "Conv layer 13 \t max difference between kernel gradients: 1.9539925233402755e-14\n",
      "Conv layer 14 \t max difference between kernel gradients: 1.8207657603852567e-14\n",
      "Conv layer 15 \t max difference between kernel gradients: 3.9968028886505635e-15\n",
      "Conv layer 16 \t max difference between kernel gradients: 8.881784197001252e-15\n",
      "Conv layer 17 \t max difference between kernel gradients: 9.769962616701378e-15\n",
      "Conv layer 18 \t max difference between kernel gradients: 8.43769498715119e-15\n",
      "Conv layer 19 \t max difference between kernel gradients: 6.106226635438361e-16\n"
     ]
    }
   ],
   "source": [
    "for i in range(len(streaming_conv_gradients)):\n",
    "    diff = torch.abs(streaming_conv_gradients[i].data - normal_conv_gradients[i].data)\n",
    "    max_diff = diff.max()\n",
    "    print(\"Conv layer\", i, \"\\t max difference between kernel gradients:\", \n",
    "          float(max_diff))"
   ],
   "metadata": {
    "collapsed": false,
    "ExecuteTime": {
     "end_time": "2023-10-08T15:55:51.542838200Z",
     "start_time": "2023-10-08T15:55:51.460830500Z"
    }
   },
   "id": "c91a1edbfbd9e631"
  },
  {
   "cell_type": "code",
   "execution_count": 36,
   "outputs": [],
   "source": [],
   "metadata": {
    "collapsed": false,
    "ExecuteTime": {
     "end_time": "2023-10-08T15:52:53.466304700Z",
     "start_time": "2023-10-08T15:52:53.447303Z"
    }
   },
   "id": "de5d1b6202263776"
  },
  {
   "cell_type": "code",
   "execution_count": null,
   "outputs": [],
   "source": [],
   "metadata": {
    "collapsed": false
   },
   "id": "9bdf7f31cf821a38"
  }
 ],
 "metadata": {
  "kernelspec": {
   "display_name": "Python 3",
   "language": "python",
   "name": "python3"
  },
  "language_info": {
   "codemirror_mode": {
    "name": "ipython",
    "version": 2
   },
   "file_extension": ".py",
   "mimetype": "text/x-python",
   "name": "python",
   "nbconvert_exporter": "python",
   "pygments_lexer": "ipython2",
   "version": "2.7.6"
  }
 },
 "nbformat": 4,
 "nbformat_minor": 5
}
