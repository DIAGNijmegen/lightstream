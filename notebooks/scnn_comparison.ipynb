{
 "cells": [
  {
   "cell_type": "code",
   "execution_count": 1,
   "outputs": [],
   "source": [
    "import torch\n",
    "import torch.nn as nn\n",
    "from lightstream.scnn import StreamingCNN, StreamingConv2d\n",
    "from torchvision.models import resnet18, resnet34, resnet50"
   ],
   "metadata": {
    "collapsed": false,
    "ExecuteTime": {
     "end_time": "2023-10-20T08:31:50.338841900Z",
     "start_time": "2023-10-20T08:31:47.955290800Z"
    }
   },
   "id": "821154fb6c154597"
  },
  {
   "cell_type": "code",
   "execution_count": 2,
   "outputs": [],
   "source": [
    "torch.set_printoptions(precision=10)"
   ],
   "metadata": {
    "collapsed": false,
    "ExecuteTime": {
     "end_time": "2023-10-20T08:31:50.354008500Z",
     "start_time": "2023-10-20T08:31:50.343496900Z"
    }
   },
   "id": "ce68884f32700708"
  },
  {
   "cell_type": "markdown",
   "source": [
    "## Model definition"
   ],
   "metadata": {
    "collapsed": false
   },
   "id": "95718ab1767415d4"
  },
  {
   "cell_type": "code",
   "execution_count": 3,
   "outputs": [],
   "source": [
    "resnet = resnet18(weights=\"IMAGENET1K_V1\")\n",
    "\n",
    "def split_model(model):\n",
    "    stream_net = nn.Sequential(\n",
    "        model.conv1,\n",
    "        model.bn1,\n",
    "        model.relu,\n",
    "        model.maxpool,\n",
    "        model.layer1,\n",
    "        model.layer2,\n",
    "        model.layer3,\n",
    "        model.layer4,\n",
    "    )\n",
    "    head = nn.Sequential(model.avgpool, nn.Flatten(), model.fc)\n",
    "    return stream_net, head"
   ],
   "metadata": {
    "collapsed": false,
    "ExecuteTime": {
     "end_time": "2023-10-20T08:31:50.689829300Z",
     "start_time": "2023-10-20T08:31:50.351509900Z"
    }
   },
   "id": "a284519901de2ba9"
  },
  {
   "cell_type": "code",
   "execution_count": 4,
   "outputs": [],
   "source": [
    "stream_net, head = split_model(resnet)\n",
    "\n",
    "def freeze_bn_layers(model):\n",
    "    for mod in model.modules():\n",
    "        if isinstance(mod, torch.nn.BatchNorm2d):\n",
    "            mod.eval()\n",
    "\n",
    "freeze_bn_layers(stream_net)"
   ],
   "metadata": {
    "collapsed": false,
    "ExecuteTime": {
     "end_time": "2023-10-20T08:31:50.703358300Z",
     "start_time": "2023-10-20T08:31:50.691823700Z"
    }
   },
   "id": "532ffc4af7d148f4"
  },
  {
   "cell_type": "code",
   "execution_count": 5,
   "outputs": [
    {
     "data": {
      "text/plain": "'\\npadding = 0\\n\\nstream_net = torch.nn.Sequential(\\n    torch.nn.Conv2d(3, 16, kernel_size=3, padding=padding), torch.nn.ReLU(),\\n    torch.nn.Conv2d(16, 16, kernel_size=3, padding=padding), torch.nn.ReLU(),\\n    torch.nn.MaxPool2d(2),\\n    torch.nn.Conv2d(16, 16, kernel_size=3, padding=padding), torch.nn.ReLU(),\\n    torch.nn.Conv2d(16, 16, kernel_size=3, padding=padding), torch.nn.ReLU(),\\n    torch.nn.MaxPool2d(2),\\n    torch.nn.Conv2d(16, 16, kernel_size=3, padding=padding), torch.nn.ReLU(),\\n    torch.nn.Conv2d(16, 16, kernel_size=3, padding=padding), torch.nn.ReLU(),\\n    torch.nn.MaxPool2d(2))\\n'"
     },
     "execution_count": 5,
     "metadata": {},
     "output_type": "execute_result"
    }
   ],
   "source": [
    "\"\"\"\n",
    "padding = 0\n",
    "\n",
    "stream_net = torch.nn.Sequential(\n",
    "    torch.nn.Conv2d(3, 16, kernel_size=3, padding=padding), torch.nn.ReLU(),\n",
    "    torch.nn.Conv2d(16, 16, kernel_size=3, padding=padding), torch.nn.ReLU(),\n",
    "    torch.nn.MaxPool2d(2),\n",
    "    torch.nn.Conv2d(16, 16, kernel_size=3, padding=padding), torch.nn.ReLU(),\n",
    "    torch.nn.Conv2d(16, 16, kernel_size=3, padding=padding), torch.nn.ReLU(),\n",
    "    torch.nn.MaxPool2d(2),\n",
    "    torch.nn.Conv2d(16, 16, kernel_size=3, padding=padding), torch.nn.ReLU(),\n",
    "    torch.nn.Conv2d(16, 16, kernel_size=3, padding=padding), torch.nn.ReLU(),\n",
    "    torch.nn.MaxPool2d(2))\n",
    "\"\"\""
   ],
   "metadata": {
    "collapsed": false,
    "ExecuteTime": {
     "end_time": "2023-10-20T08:31:51.150397100Z",
     "start_time": "2023-10-20T08:31:50.696374800Z"
    }
   },
   "id": "bd6f8d91181799c8"
  },
  {
   "cell_type": "code",
   "execution_count": 6,
   "outputs": [],
   "source": [
    "for i, layer in enumerate(stream_net.modules()):\n",
    "    if isinstance(layer, torch.nn.Conv2d):\n",
    "        layer.weight.data *= 1.0\n",
    "        \n",
    "        if layer.bias is not None:\n",
    "            layer.bias.data.zero_()"
   ],
   "metadata": {
    "collapsed": false,
    "ExecuteTime": {
     "end_time": "2023-10-20T08:31:51.271886800Z",
     "start_time": "2023-10-20T08:31:51.153383700Z"
    }
   },
   "id": "65a3d6c1f50a4d37"
  },
  {
   "cell_type": "code",
   "execution_count": 7,
   "outputs": [
    {
     "name": "stdout",
     "output_type": "stream",
     "text": [
      "Sequential(\n",
      "  (0): Conv2d(3, 64, kernel_size=(7, 7), stride=(2, 2), padding=(3, 3), bias=False)\n",
      "  (1): BatchNorm2d(64, eps=1e-05, momentum=0.1, affine=True, track_running_stats=True)\n",
      "  (2): ReLU(inplace=True)\n",
      "  (3): MaxPool2d(kernel_size=3, stride=2, padding=1, dilation=1, ceil_mode=False)\n",
      "  (4): Sequential(\n",
      "    (0): BasicBlock(\n",
      "      (conv1): Conv2d(64, 64, kernel_size=(3, 3), stride=(1, 1), padding=(1, 1), bias=False)\n",
      "      (bn1): BatchNorm2d(64, eps=1e-05, momentum=0.1, affine=True, track_running_stats=True)\n",
      "      (relu): ReLU(inplace=True)\n",
      "      (conv2): Conv2d(64, 64, kernel_size=(3, 3), stride=(1, 1), padding=(1, 1), bias=False)\n",
      "      (bn2): BatchNorm2d(64, eps=1e-05, momentum=0.1, affine=True, track_running_stats=True)\n",
      "    )\n",
      "    (1): BasicBlock(\n",
      "      (conv1): Conv2d(64, 64, kernel_size=(3, 3), stride=(1, 1), padding=(1, 1), bias=False)\n",
      "      (bn1): BatchNorm2d(64, eps=1e-05, momentum=0.1, affine=True, track_running_stats=True)\n",
      "      (relu): ReLU(inplace=True)\n",
      "      (conv2): Conv2d(64, 64, kernel_size=(3, 3), stride=(1, 1), padding=(1, 1), bias=False)\n",
      "      (bn2): BatchNorm2d(64, eps=1e-05, momentum=0.1, affine=True, track_running_stats=True)\n",
      "    )\n",
      "  )\n",
      "  (5): Sequential(\n",
      "    (0): BasicBlock(\n",
      "      (conv1): Conv2d(64, 128, kernel_size=(3, 3), stride=(2, 2), padding=(1, 1), bias=False)\n",
      "      (bn1): BatchNorm2d(128, eps=1e-05, momentum=0.1, affine=True, track_running_stats=True)\n",
      "      (relu): ReLU(inplace=True)\n",
      "      (conv2): Conv2d(128, 128, kernel_size=(3, 3), stride=(1, 1), padding=(1, 1), bias=False)\n",
      "      (bn2): BatchNorm2d(128, eps=1e-05, momentum=0.1, affine=True, track_running_stats=True)\n",
      "      (downsample): Sequential(\n",
      "        (0): Conv2d(64, 128, kernel_size=(1, 1), stride=(2, 2), bias=False)\n",
      "        (1): BatchNorm2d(128, eps=1e-05, momentum=0.1, affine=True, track_running_stats=True)\n",
      "      )\n",
      "    )\n",
      "    (1): BasicBlock(\n",
      "      (conv1): Conv2d(128, 128, kernel_size=(3, 3), stride=(1, 1), padding=(1, 1), bias=False)\n",
      "      (bn1): BatchNorm2d(128, eps=1e-05, momentum=0.1, affine=True, track_running_stats=True)\n",
      "      (relu): ReLU(inplace=True)\n",
      "      (conv2): Conv2d(128, 128, kernel_size=(3, 3), stride=(1, 1), padding=(1, 1), bias=False)\n",
      "      (bn2): BatchNorm2d(128, eps=1e-05, momentum=0.1, affine=True, track_running_stats=True)\n",
      "    )\n",
      "  )\n",
      "  (6): Sequential(\n",
      "    (0): BasicBlock(\n",
      "      (conv1): Conv2d(128, 256, kernel_size=(3, 3), stride=(2, 2), padding=(1, 1), bias=False)\n",
      "      (bn1): BatchNorm2d(256, eps=1e-05, momentum=0.1, affine=True, track_running_stats=True)\n",
      "      (relu): ReLU(inplace=True)\n",
      "      (conv2): Conv2d(256, 256, kernel_size=(3, 3), stride=(1, 1), padding=(1, 1), bias=False)\n",
      "      (bn2): BatchNorm2d(256, eps=1e-05, momentum=0.1, affine=True, track_running_stats=True)\n",
      "      (downsample): Sequential(\n",
      "        (0): Conv2d(128, 256, kernel_size=(1, 1), stride=(2, 2), bias=False)\n",
      "        (1): BatchNorm2d(256, eps=1e-05, momentum=0.1, affine=True, track_running_stats=True)\n",
      "      )\n",
      "    )\n",
      "    (1): BasicBlock(\n",
      "      (conv1): Conv2d(256, 256, kernel_size=(3, 3), stride=(1, 1), padding=(1, 1), bias=False)\n",
      "      (bn1): BatchNorm2d(256, eps=1e-05, momentum=0.1, affine=True, track_running_stats=True)\n",
      "      (relu): ReLU(inplace=True)\n",
      "      (conv2): Conv2d(256, 256, kernel_size=(3, 3), stride=(1, 1), padding=(1, 1), bias=False)\n",
      "      (bn2): BatchNorm2d(256, eps=1e-05, momentum=0.1, affine=True, track_running_stats=True)\n",
      "    )\n",
      "  )\n",
      "  (7): Sequential(\n",
      "    (0): BasicBlock(\n",
      "      (conv1): Conv2d(256, 512, kernel_size=(3, 3), stride=(2, 2), padding=(1, 1), bias=False)\n",
      "      (bn1): BatchNorm2d(512, eps=1e-05, momentum=0.1, affine=True, track_running_stats=True)\n",
      "      (relu): ReLU(inplace=True)\n",
      "      (conv2): Conv2d(512, 512, kernel_size=(3, 3), stride=(1, 1), padding=(1, 1), bias=False)\n",
      "      (bn2): BatchNorm2d(512, eps=1e-05, momentum=0.1, affine=True, track_running_stats=True)\n",
      "      (downsample): Sequential(\n",
      "        (0): Conv2d(256, 512, kernel_size=(1, 1), stride=(2, 2), bias=False)\n",
      "        (1): BatchNorm2d(512, eps=1e-05, momentum=0.1, affine=True, track_running_stats=True)\n",
      "      )\n",
      "    )\n",
      "    (1): BasicBlock(\n",
      "      (conv1): Conv2d(512, 512, kernel_size=(3, 3), stride=(1, 1), padding=(1, 1), bias=False)\n",
      "      (bn1): BatchNorm2d(512, eps=1e-05, momentum=0.1, affine=True, track_running_stats=True)\n",
      "      (relu): ReLU(inplace=True)\n",
      "      (conv2): Conv2d(512, 512, kernel_size=(3, 3), stride=(1, 1), padding=(1, 1), bias=False)\n",
      "      (bn2): BatchNorm2d(512, eps=1e-05, momentum=0.1, affine=True, track_running_stats=True)\n",
      "    )\n",
      "  )\n",
      ")\n"
     ]
    }
   ],
   "source": [
    "print(stream_net)"
   ],
   "metadata": {
    "collapsed": false,
    "ExecuteTime": {
     "end_time": "2023-10-20T08:31:51.365404100Z",
     "start_time": "2023-10-20T08:31:51.277436Z"
    }
   },
   "id": "2206f8e70f1d06de"
  },
  {
   "cell_type": "markdown",
   "source": [
    "## Configurations"
   ],
   "metadata": {
    "collapsed": false
   },
   "id": "f6664c577e2c5beb"
  },
  {
   "cell_type": "code",
   "execution_count": 8,
   "outputs": [],
   "source": [
    "tile_size = 1599\n",
    "img_size = 3040\n",
    "\n",
    "cuda = True  # execute this notebook on the GPU\n",
    "verbose = True   # enable / disable logging\n",
    "dtype = torch.float32  # test with double precision"
   ],
   "metadata": {
    "collapsed": false,
    "ExecuteTime": {
     "end_time": "2023-10-20T08:31:51.433397800Z",
     "start_time": "2023-10-20T08:31:51.371966600Z"
    }
   },
   "id": "7a0f0baa666c29c8"
  },
  {
   "cell_type": "code",
   "execution_count": 9,
   "outputs": [],
   "source": [
    "\n",
    "stream_net.type(dtype)\n",
    "if cuda: stream_net.cuda()"
   ],
   "metadata": {
    "collapsed": false,
    "ExecuteTime": {
     "end_time": "2023-10-20T08:31:51.796415900Z",
     "start_time": "2023-10-20T08:31:51.433397800Z"
    }
   },
   "id": "f478abffc3ce9fdb"
  },
  {
   "cell_type": "markdown",
   "source": [
    "## Configure streamingCNN\n",
    "IMPORTANT: setting gather_gradients to True makes the class save all the gradients of the intermediate feature maps. This is needed because we want to compare the feature map gradients between streaming and conventional backpropagation. However this also counteracts the memory gains by StreamingCNN. If you want to test the memory efficiency, set gather_gradients to False"
   ],
   "metadata": {
    "collapsed": false
   },
   "id": "d37d70c0d3421f13"
  },
  {
   "cell_type": "code",
   "execution_count": 10,
   "outputs": [
    {
     "name": "stdout",
     "output_type": "stream",
     "text": [
      "Conv2d(3, 64, kernel_size=(7, 7), stride=(2, 2), padding=(3, 3), bias=False) \n",
      " Lost(top:2.0, left:2.0, bottom:2.0, right:2.0)\n",
      "MaxPool2d(kernel_size=3, stride=2, padding=1, dilation=1, ceil_mode=False) \n",
      " Lost(top:2.0, left:2.0, bottom:1.0, right:1.0)\n",
      "Conv2d(64, 64, kernel_size=(3, 3), stride=(1, 1), padding=(1, 1), bias=False) \n",
      " Lost(top:3.0, left:3.0, bottom:2.0, right:2.0)\n",
      "Conv2d(64, 64, kernel_size=(3, 3), stride=(1, 1), padding=(1, 1), bias=False) \n",
      " Lost(top:4.0, left:4.0, bottom:3.0, right:3.0)\n",
      "Conv2d(64, 64, kernel_size=(3, 3), stride=(1, 1), padding=(1, 1), bias=False) \n",
      " Lost(top:5.0, left:5.0, bottom:4.0, right:4.0)\n",
      "Conv2d(64, 64, kernel_size=(3, 3), stride=(1, 1), padding=(1, 1), bias=False) \n",
      " Lost(top:6.0, left:6.0, bottom:5.0, right:5.0)\n",
      "Conv2d(64, 128, kernel_size=(3, 3), stride=(2, 2), padding=(1, 1), bias=False) \n",
      " Lost(top:4.0, left:4.0, bottom:3.0, right:3.0)\n",
      "Conv2d(128, 128, kernel_size=(3, 3), stride=(1, 1), padding=(1, 1), bias=False) \n",
      " Lost(top:5.0, left:5.0, bottom:4.0, right:4.0)\n",
      "Conv2d(64, 128, kernel_size=(1, 1), stride=(2, 2), bias=False) \n",
      " Lost(top:3.0, left:3.0, bottom:2.0, right:2.0)\n",
      "Conv2d(128, 128, kernel_size=(3, 3), stride=(1, 1), padding=(1, 1), bias=False) \n",
      " Lost(top:6.0, left:6.0, bottom:5.0, right:5.0)\n",
      "Conv2d(128, 128, kernel_size=(3, 3), stride=(1, 1), padding=(1, 1), bias=False) \n",
      " Lost(top:7.0, left:7.0, bottom:6.0, right:6.0)\n",
      "Conv2d(128, 256, kernel_size=(3, 3), stride=(2, 2), padding=(1, 1), bias=False) \n",
      " Lost(top:4.0, left:4.0, bottom:3.0, right:3.0)\n",
      "Conv2d(256, 256, kernel_size=(3, 3), stride=(1, 1), padding=(1, 1), bias=False) \n",
      " Lost(top:5.0, left:5.0, bottom:4.0, right:4.0)\n",
      "Conv2d(128, 256, kernel_size=(1, 1), stride=(2, 2), bias=False) \n",
      " Lost(top:4.0, left:4.0, bottom:3.0, right:3.0)\n",
      "Conv2d(256, 256, kernel_size=(3, 3), stride=(1, 1), padding=(1, 1), bias=False) \n",
      " Lost(top:6.0, left:6.0, bottom:5.0, right:5.0)\n",
      "Conv2d(256, 256, kernel_size=(3, 3), stride=(1, 1), padding=(1, 1), bias=False) \n",
      " Lost(top:7.0, left:7.0, bottom:6.0, right:6.0)\n",
      "Conv2d(256, 512, kernel_size=(3, 3), stride=(2, 2), padding=(1, 1), bias=False) \n",
      " Lost(top:4.0, left:4.0, bottom:3.0, right:3.0)\n",
      "Conv2d(512, 512, kernel_size=(3, 3), stride=(1, 1), padding=(1, 1), bias=False) \n",
      " Lost(top:5.0, left:5.0, bottom:4.0, right:4.0)\n",
      "Conv2d(256, 512, kernel_size=(1, 1), stride=(2, 2), bias=False) \n",
      " Lost(top:4.0, left:4.0, bottom:3.0, right:3.0)\n",
      "Conv2d(512, 512, kernel_size=(3, 3), stride=(1, 1), padding=(1, 1), bias=False) \n",
      " Lost(top:6.0, left:6.0, bottom:5.0, right:5.0)\n",
      "Conv2d(512, 512, kernel_size=(3, 3), stride=(1, 1), padding=(1, 1), bias=False) \n",
      " Lost(top:7.0, left:7.0, bottom:6.0, right:6.0)\n",
      "\n",
      " Output lost Lost(top:7.0, left:7.0, bottom:6.0, right:6.0)\n",
      "\n",
      "Conv2d(512, 512, kernel_size=(3, 3), stride=(1, 1), padding=(1, 1), bias=False) \n",
      " Lost(top:7.0, left:7.0, bottom:6.0, right:6.0)\n",
      "Conv2d(512, 512, kernel_size=(3, 3), stride=(1, 1), padding=(1, 1), bias=False) \n",
      " Lost(top:8.0, left:8.0, bottom:7.0, right:7.0)\n",
      "Conv2d(256, 512, kernel_size=(1, 1), stride=(2, 2), bias=False) \n",
      " Lost(top:9.0, left:9.0, bottom:8.0, right:8.0)\n",
      "Conv2d(512, 512, kernel_size=(3, 3), stride=(1, 1), padding=(1, 1), bias=False) \n",
      " Lost(top:9.0, left:9.0, bottom:8.0, right:8.0)\n",
      "Conv2d(256, 512, kernel_size=(3, 3), stride=(2, 2), padding=(1, 1), bias=False) \n",
      " Lost(top:10.0, left:10.0, bottom:9.0, right:9.0)\n",
      "Conv2d(256, 256, kernel_size=(3, 3), stride=(1, 1), padding=(1, 1), bias=False) \n",
      " Lost(top:22.0, left:22.0, bottom:21.0, right:21.0)\n",
      "Conv2d(256, 256, kernel_size=(3, 3), stride=(1, 1), padding=(1, 1), bias=False) \n",
      " Lost(top:23.0, left:23.0, bottom:22.0, right:22.0)\n",
      "Conv2d(128, 256, kernel_size=(1, 1), stride=(2, 2), bias=False) \n",
      " Lost(top:24.0, left:24.0, bottom:23.0, right:23.0)\n",
      "Conv2d(256, 256, kernel_size=(3, 3), stride=(1, 1), padding=(1, 1), bias=False) \n",
      " Lost(top:24.0, left:24.0, bottom:23.0, right:23.0)\n",
      "Conv2d(128, 256, kernel_size=(3, 3), stride=(2, 2), padding=(1, 1), bias=False) \n",
      " Lost(top:25.0, left:25.0, bottom:24.0, right:24.0)\n",
      "Conv2d(128, 128, kernel_size=(3, 3), stride=(1, 1), padding=(1, 1), bias=False) \n",
      " Lost(top:52.0, left:52.0, bottom:51.0, right:51.0)\n",
      "Conv2d(128, 128, kernel_size=(3, 3), stride=(1, 1), padding=(1, 1), bias=False) \n",
      " Lost(top:52.0, left:52.0, bottom:51.0, right:51.0)\n",
      "Conv2d(64, 128, kernel_size=(1, 1), stride=(2, 2), bias=False) \n",
      " Lost(top:56.0, left:56.0, bottom:55.0, right:55.0)\n",
      "Conv2d(128, 128, kernel_size=(3, 3), stride=(1, 1), padding=(1, 1), bias=False) \n",
      " Lost(top:56.0, left:56.0, bottom:55.0, right:55.0)\n",
      "Conv2d(64, 128, kernel_size=(3, 3), stride=(2, 2), padding=(1, 1), bias=False) \n",
      " Lost(top:55.0, left:55.0, bottom:54.0, right:54.0)\n",
      "Conv2d(64, 64, kernel_size=(3, 3), stride=(1, 1), padding=(1, 1), bias=False) \n",
      " Lost(top:112.0, left:112.0, bottom:111.0, right:111.0)\n",
      "Conv2d(64, 64, kernel_size=(3, 3), stride=(1, 1), padding=(1, 1), bias=False) \n",
      " Lost(top:113.0, left:113.0, bottom:112.0, right:112.0)\n",
      "Conv2d(64, 64, kernel_size=(3, 3), stride=(1, 1), padding=(1, 1), bias=False) \n",
      " Lost(top:120.0, left:120.0, bottom:119.0, right:119.0)\n",
      "Conv2d(64, 64, kernel_size=(3, 3), stride=(1, 1), padding=(1, 1), bias=False) \n",
      " Lost(top:119.0, left:119.0, bottom:118.0, right:118.0)\n",
      "testing shape gradient fix\n",
      "MaxPool2d(kernel_size=3, stride=2, padding=1, dilation=1, ceil_mode=False) \n",
      " Lost(top:120.0, left:120.0, bottom:119.0, right:119.0)\n",
      "Conv2d(3, 64, kernel_size=(7, 7), stride=(2, 2), padding=(3, 3), bias=False) \n",
      " Lost(top:241.0, left:241.0, bottom:239.0, right:239.0)\n",
      "\n",
      " Input gradient lost Lost(top:490.0, left:490.0, bottom:486.0, right:486.0)\n"
     ]
    }
   ],
   "source": [
    "sCNN = StreamingCNN(stream_net, \n",
    "                    tile_shape=(1, 3, tile_size, tile_size), \n",
    "                    verbose=True, \n",
    "                    gather_gradients=True,\n",
    "                    saliency=True)"
   ],
   "metadata": {
    "collapsed": false,
    "ExecuteTime": {
     "end_time": "2023-10-20T08:31:52.388537500Z",
     "start_time": "2023-10-20T08:31:51.808951300Z"
    }
   },
   "id": "2cd870206b255a89"
  },
  {
   "cell_type": "markdown",
   "source": [
    "If the verbose flag is True than StreamingCNN will print for every layer in the network the required overlap that is needed to reconstruct the feature maps and gradients. The higher this is, the more tiles are needed to be inferences. It is always beneficial to increase the tile size as much as possible to make use of all the GPU memory."
   ],
   "metadata": {
    "collapsed": false
   },
   "id": "3cad5bbd0be54b30"
  },
  {
   "cell_type": "markdown",
   "source": [
    "## Generate random image and fake label"
   ],
   "metadata": {
    "collapsed": false
   },
   "id": "667550f1a8f6d206"
  },
  {
   "cell_type": "code",
   "execution_count": 11,
   "outputs": [],
   "source": [
    "image = torch.FloatTensor(3, img_size, img_size).normal_(0, 1)\n",
    "target = torch.tensor(50.)  # large value so we get larger gradients\n",
    "\n",
    "image = image.type(dtype)\n",
    "target = target.type(dtype)\n",
    "\n",
    "if cuda:\n",
    "    target = target.cuda()\n",
    "    image = image.cuda()"
   ],
   "metadata": {
    "collapsed": false,
    "ExecuteTime": {
     "end_time": "2023-10-20T08:31:52.623271600Z",
     "start_time": "2023-10-20T08:31:52.395847100Z"
    }
   },
   "id": "cc4e388db2427829"
  },
  {
   "cell_type": "code",
   "execution_count": 12,
   "outputs": [],
   "source": [
    "criterion = torch.nn.MSELoss()"
   ],
   "metadata": {
    "collapsed": false,
    "ExecuteTime": {
     "end_time": "2023-10-20T08:31:52.634790800Z",
     "start_time": "2023-10-20T08:31:52.630257600Z"
    }
   },
   "id": "1b9bc232937996ea"
  },
  {
   "cell_type": "markdown",
   "source": [
    "## Run through network using streaming"
   ],
   "metadata": {
    "collapsed": false
   },
   "id": "c92cc440cd75645d"
  },
  {
   "cell_type": "code",
   "execution_count": 13,
   "outputs": [
    {
     "name": "stdout",
     "output_type": "stream",
     "text": [
      "forward torch.Size([1, 512, 95, 95])\n",
      "forward torch.Size([1, 3, 3040, 3040])\n",
      "forward 512\n",
      "Number of tiles in forward: 9\n"
     ]
    },
    {
     "name": "stderr",
     "output_type": "stream",
     "text": [
      "100%|██████████| 3/3 [00:00<00:00, 43.29it/s]"
     ]
    },
    {
     "name": "stdout",
     "output_type": "stream",
     "text": [
      "torch.Size([1, 512, 95, 95])\n"
     ]
    },
    {
     "name": "stderr",
     "output_type": "stream",
     "text": [
      "\n"
     ]
    },
    {
     "data": {
      "text/plain": "tensor(9.3351974487, device='cuda:0')"
     },
     "execution_count": 13,
     "metadata": {},
     "output_type": "execute_result"
    }
   ],
   "source": [
    "stream_output = sCNN.forward(image[None])\n",
    "print(stream_output.shape)\n",
    "stream_output.max()"
   ],
   "metadata": {
    "collapsed": false,
    "ExecuteTime": {
     "end_time": "2023-10-20T08:31:52.898696800Z",
     "start_time": "2023-10-20T08:31:52.637784300Z"
    }
   },
   "id": "14ee58248a07a1af"
  },
  {
   "cell_type": "code",
   "execution_count": 14,
   "outputs": [],
   "source": [
    "stream_output.requires_grad = True"
   ],
   "metadata": {
    "collapsed": false,
    "ExecuteTime": {
     "start_time": "2023-10-20T08:31:52.938516800Z"
    }
   },
   "id": "762fdcf9850c4c7b"
  },
  {
   "cell_type": "code",
   "execution_count": 15,
   "outputs": [
    {
     "data": {
      "text/plain": "tensor(0.6090980768, device='cuda:0', grad_fn=<SigmoidBackward0>)"
     },
     "execution_count": 15,
     "metadata": {},
     "output_type": "execute_result"
    }
   ],
   "source": [
    "output = torch.sigmoid(torch.mean(stream_output)); output"
   ],
   "metadata": {
    "collapsed": false,
    "ExecuteTime": {
     "end_time": "2023-10-20T08:31:52.986775200Z",
     "start_time": "2023-10-20T08:31:52.938516800Z"
    }
   },
   "id": "a833c157e215563c"
  },
  {
   "cell_type": "code",
   "execution_count": 16,
   "outputs": [
    {
     "data": {
      "text/plain": "tensor(2439.4614257812, device='cuda:0', grad_fn=<MseLossBackward0>)"
     },
     "execution_count": 16,
     "metadata": {},
     "output_type": "execute_result"
    }
   ],
   "source": [
    "loss = criterion(output, target)\n",
    "loss"
   ],
   "metadata": {
    "collapsed": false,
    "ExecuteTime": {
     "end_time": "2023-10-20T08:31:53.127891Z",
     "start_time": "2023-10-20T08:31:52.983268200Z"
    }
   },
   "id": "6081081438ef32f5"
  },
  {
   "cell_type": "code",
   "execution_count": 17,
   "outputs": [],
   "source": [
    "loss.backward()"
   ],
   "metadata": {
    "collapsed": false,
    "ExecuteTime": {
     "end_time": "2023-10-20T08:31:53.156356500Z",
     "start_time": "2023-10-20T08:31:53.066779Z"
    }
   },
   "id": "555dd52023b8fad8"
  },
  {
   "cell_type": "code",
   "execution_count": 18,
   "outputs": [
    {
     "name": "stdout",
     "output_type": "stream",
     "text": [
      "torch.Size([1, 512, 95, 95])\n",
      "torch.Size([1, 512, 95, 95])\n",
      "output width and height 50 50\n",
      "valid grad with and height tensor(608) tensor(608)\n",
      "1736.0 16 1989.3333333333335\n",
      "Number of tiles in backprop: 4 4 16\n"
     ]
    },
    {
     "name": "stderr",
     "output_type": "stream",
     "text": [
      "  0%|          | 0/4 [00:00<?, ?it/s]"
     ]
    },
    {
     "name": "stdout",
     "output_type": "stream",
     "text": [
      "weird sides bottom and sides right check\n",
      "95 50 45\n",
      "input_x tensor(0) input_y tensor(0)\n",
      "input_x + tensor(1599) input_y +  tensor(1599)\n"
     ]
    },
    {
     "name": "stderr",
     "output_type": "stream",
     "text": [
      "\n"
     ]
    },
    {
     "ename": "RuntimeError",
     "evalue": "The expanded size of the tensor (1122) must match the existing size (1121) at non-singleton dimension 2.  Target sizes: [1, 3, 1122, 1121].  Tensor sizes: [3, 1121, 1121]",
     "output_type": "error",
     "traceback": [
      "\u001B[0;31m---------------------------------------------------------------------------\u001B[0m",
      "\u001B[0;31mRuntimeError\u001B[0m                              Traceback (most recent call last)",
      "Cell \u001B[0;32mIn[18], line 3\u001B[0m\n\u001B[1;32m      1\u001B[0m \u001B[38;5;28mprint\u001B[39m(stream_output\u001B[38;5;241m.\u001B[39mshape)\n\u001B[1;32m      2\u001B[0m \u001B[38;5;28mprint\u001B[39m(stream_output\u001B[38;5;241m.\u001B[39mgrad\u001B[38;5;241m.\u001B[39mshape)\n\u001B[0;32m----> 3\u001B[0m full_gradients \u001B[38;5;241m=\u001B[39m \u001B[43msCNN\u001B[49m\u001B[38;5;241;43m.\u001B[39;49m\u001B[43mbackward\u001B[49m\u001B[43m(\u001B[49m\u001B[43mimage\u001B[49m\u001B[43m[\u001B[49m\u001B[38;5;28;43;01mNone\u001B[39;49;00m\u001B[43m]\u001B[49m\u001B[43m,\u001B[49m\u001B[43m \u001B[49m\u001B[43mstream_output\u001B[49m\u001B[38;5;241;43m.\u001B[39;49m\u001B[43mgrad\u001B[49m\u001B[43m)\u001B[49m\n",
      "File \u001B[0;32m/tmp/pycharm_project_471/lightstream/scnn.py:1116\u001B[0m, in \u001B[0;36mStreamingCNN.backward\u001B[0;34m(self, image, grad)\u001B[0m\n\u001B[1;32m   1105\u001B[0m     \u001B[38;5;28;01massert\u001B[39;00m (\n\u001B[1;32m   1106\u001B[0m         image\u001B[38;5;241m.\u001B[39mshape[H_DIM] \u001B[38;5;241m<\u001B[39m \u001B[38;5;28mself\u001B[39m\u001B[38;5;241m.\u001B[39mtile_shape[H_DIM]\n\u001B[1;32m   1107\u001B[0m         \u001B[38;5;129;01mor\u001B[39;00m image\u001B[38;5;241m.\u001B[39mshape[W_DIM] \u001B[38;5;241m<\u001B[39m \u001B[38;5;28mself\u001B[39m\u001B[38;5;241m.\u001B[39mtile_shape[W_DIM]\n\u001B[1;32m   1108\u001B[0m     )\n\u001B[1;32m   1109\u001B[0m     trimmed_grad \u001B[38;5;241m=\u001B[39m trimmed_grad[\n\u001B[1;32m   1110\u001B[0m         :,\n\u001B[1;32m   1111\u001B[0m         :,\n\u001B[1;32m   1112\u001B[0m         \u001B[38;5;241m0\u001B[39m : trimmed_output\u001B[38;5;241m.\u001B[39mshape[H_DIM],\n\u001B[1;32m   1113\u001B[0m         \u001B[38;5;241m0\u001B[39m : trimmed_output\u001B[38;5;241m.\u001B[39mshape[W_DIM],\n\u001B[1;32m   1114\u001B[0m     ]\n\u001B[0;32m-> 1116\u001B[0m \u001B[43mtrimmed_output\u001B[49m\u001B[38;5;241;43m.\u001B[39;49m\u001B[43mbackward\u001B[49m\u001B[43m(\u001B[49m\u001B[43mtrimmed_grad\u001B[49m\u001B[43m)\u001B[49m\n\u001B[1;32m   1118\u001B[0m \u001B[38;5;66;03m# Memory management\u001B[39;00m\n\u001B[1;32m   1119\u001B[0m \u001B[38;5;28;01mdel\u001B[39;00m tile_output\n",
      "File \u001B[0;32m/usr/local/lib/python3.11/site-packages/torch/_tensor.py:487\u001B[0m, in \u001B[0;36mTensor.backward\u001B[0;34m(self, gradient, retain_graph, create_graph, inputs)\u001B[0m\n\u001B[1;32m    477\u001B[0m \u001B[38;5;28;01mif\u001B[39;00m has_torch_function_unary(\u001B[38;5;28mself\u001B[39m):\n\u001B[1;32m    478\u001B[0m     \u001B[38;5;28;01mreturn\u001B[39;00m handle_torch_function(\n\u001B[1;32m    479\u001B[0m         Tensor\u001B[38;5;241m.\u001B[39mbackward,\n\u001B[1;32m    480\u001B[0m         (\u001B[38;5;28mself\u001B[39m,),\n\u001B[0;32m   (...)\u001B[0m\n\u001B[1;32m    485\u001B[0m         inputs\u001B[38;5;241m=\u001B[39minputs,\n\u001B[1;32m    486\u001B[0m     )\n\u001B[0;32m--> 487\u001B[0m \u001B[43mtorch\u001B[49m\u001B[38;5;241;43m.\u001B[39;49m\u001B[43mautograd\u001B[49m\u001B[38;5;241;43m.\u001B[39;49m\u001B[43mbackward\u001B[49m\u001B[43m(\u001B[49m\n\u001B[1;32m    488\u001B[0m \u001B[43m    \u001B[49m\u001B[38;5;28;43mself\u001B[39;49m\u001B[43m,\u001B[49m\u001B[43m \u001B[49m\u001B[43mgradient\u001B[49m\u001B[43m,\u001B[49m\u001B[43m \u001B[49m\u001B[43mretain_graph\u001B[49m\u001B[43m,\u001B[49m\u001B[43m \u001B[49m\u001B[43mcreate_graph\u001B[49m\u001B[43m,\u001B[49m\u001B[43m \u001B[49m\u001B[43minputs\u001B[49m\u001B[38;5;241;43m=\u001B[39;49m\u001B[43minputs\u001B[49m\n\u001B[1;32m    489\u001B[0m \u001B[43m\u001B[49m\u001B[43m)\u001B[49m\n",
      "File \u001B[0;32m/usr/local/lib/python3.11/site-packages/torch/autograd/__init__.py:200\u001B[0m, in \u001B[0;36mbackward\u001B[0;34m(tensors, grad_tensors, retain_graph, create_graph, grad_variables, inputs)\u001B[0m\n\u001B[1;32m    195\u001B[0m     retain_graph \u001B[38;5;241m=\u001B[39m create_graph\n\u001B[1;32m    197\u001B[0m \u001B[38;5;66;03m# The reason we repeat same the comment below is that\u001B[39;00m\n\u001B[1;32m    198\u001B[0m \u001B[38;5;66;03m# some Python versions print out the first line of a multi-line function\u001B[39;00m\n\u001B[1;32m    199\u001B[0m \u001B[38;5;66;03m# calls in the traceback and some print out the last line\u001B[39;00m\n\u001B[0;32m--> 200\u001B[0m \u001B[43mVariable\u001B[49m\u001B[38;5;241;43m.\u001B[39;49m\u001B[43m_execution_engine\u001B[49m\u001B[38;5;241;43m.\u001B[39;49m\u001B[43mrun_backward\u001B[49m\u001B[43m(\u001B[49m\u001B[43m  \u001B[49m\u001B[38;5;66;43;03m# Calls into the C++ engine to run the backward pass\u001B[39;49;00m\n\u001B[1;32m    201\u001B[0m \u001B[43m    \u001B[49m\u001B[43mtensors\u001B[49m\u001B[43m,\u001B[49m\u001B[43m \u001B[49m\u001B[43mgrad_tensors_\u001B[49m\u001B[43m,\u001B[49m\u001B[43m \u001B[49m\u001B[43mretain_graph\u001B[49m\u001B[43m,\u001B[49m\u001B[43m \u001B[49m\u001B[43mcreate_graph\u001B[49m\u001B[43m,\u001B[49m\u001B[43m \u001B[49m\u001B[43minputs\u001B[49m\u001B[43m,\u001B[49m\n\u001B[1;32m    202\u001B[0m \u001B[43m    \u001B[49m\u001B[43mallow_unreachable\u001B[49m\u001B[38;5;241;43m=\u001B[39;49m\u001B[38;5;28;43;01mTrue\u001B[39;49;00m\u001B[43m,\u001B[49m\u001B[43m \u001B[49m\u001B[43maccumulate_grad\u001B[49m\u001B[38;5;241;43m=\u001B[39;49m\u001B[38;5;28;43;01mTrue\u001B[39;49;00m\u001B[43m)\u001B[49m\n",
      "File \u001B[0;32m/usr/local/lib/python3.11/site-packages/torch/utils/hooks.py:137\u001B[0m, in \u001B[0;36mBackwardHook._set_user_hook.<locals>.hook\u001B[0;34m(grad_input, _)\u001B[0m\n\u001B[1;32m    134\u001B[0m res \u001B[38;5;241m=\u001B[39m \u001B[38;5;28mself\u001B[39m\u001B[38;5;241m.\u001B[39m_pack_with_none(\u001B[38;5;28mself\u001B[39m\u001B[38;5;241m.\u001B[39minput_tensors_index, grad_input, \u001B[38;5;28mself\u001B[39m\u001B[38;5;241m.\u001B[39mn_inputs)\n\u001B[1;32m    136\u001B[0m \u001B[38;5;28;01mfor\u001B[39;00m hook \u001B[38;5;129;01min\u001B[39;00m \u001B[38;5;28mself\u001B[39m\u001B[38;5;241m.\u001B[39muser_hooks:\n\u001B[0;32m--> 137\u001B[0m     out \u001B[38;5;241m=\u001B[39m \u001B[43mhook\u001B[49m\u001B[43m(\u001B[49m\u001B[38;5;28;43mself\u001B[39;49m\u001B[38;5;241;43m.\u001B[39;49m\u001B[43mmodule\u001B[49m\u001B[43m,\u001B[49m\u001B[43m \u001B[49m\u001B[43mres\u001B[49m\u001B[43m,\u001B[49m\u001B[43m \u001B[49m\u001B[38;5;28;43mself\u001B[39;49m\u001B[38;5;241;43m.\u001B[39;49m\u001B[43mgrad_outputs\u001B[49m\u001B[43m)\u001B[49m\n\u001B[1;32m    139\u001B[0m     \u001B[38;5;28;01mif\u001B[39;00m out \u001B[38;5;129;01mis\u001B[39;00m \u001B[38;5;28;01mNone\u001B[39;00m:\n\u001B[1;32m    140\u001B[0m         \u001B[38;5;28;01mcontinue\u001B[39;00m\n",
      "File \u001B[0;32m/tmp/pycharm_project_471/lightstream/scnn.py:1177\u001B[0m, in \u001B[0;36mStreamingCNN._add_hooks_for_streaming.<locals>.back_lambda\u001B[0;34m(module, grad_in, grad_out)\u001B[0m\n\u001B[1;32m   1176\u001B[0m \u001B[38;5;28;01mdef\u001B[39;00m \u001B[38;5;21mback_lambda\u001B[39m(module, grad_in, grad_out):\n\u001B[0;32m-> 1177\u001B[0m     \u001B[38;5;28;01mreturn\u001B[39;00m \u001B[38;5;28;43mself\u001B[39;49m\u001B[38;5;241;43m.\u001B[39;49m\u001B[43m_backward_saliency_hook\u001B[49m\u001B[43m(\u001B[49m\u001B[43mmodule\u001B[49m\u001B[43m,\u001B[49m\u001B[43m \u001B[49m\u001B[43mgrad_in\u001B[49m\u001B[43m,\u001B[49m\u001B[43m \u001B[49m\u001B[43mgrad_out\u001B[49m\u001B[43m)\u001B[49m\n",
      "File \u001B[0;32m/tmp/pycharm_project_471/lightstream/scnn.py:1431\u001B[0m, in \u001B[0;36mStreamingCNN._backward_saliency_hook\u001B[0;34m(self, module, grad_in, grad_out, is_bias, change_grad)\u001B[0m\n\u001B[1;32m   1415\u001B[0m valid_grad_in \u001B[38;5;241m=\u001B[39m grad_in[\u001B[38;5;241m0\u001B[39m][\n\u001B[1;32m   1416\u001B[0m     :,\n\u001B[1;32m   1417\u001B[0m     :,\n\u001B[1;32m   1418\u001B[0m     lost\u001B[38;5;241m.\u001B[39mtop \u001B[38;5;241m*\u001B[39m stride[\u001B[38;5;241m1\u001B[39m] : grad_in[\u001B[38;5;241m0\u001B[39m]\u001B[38;5;241m.\u001B[39mshape[\u001B[38;5;241m2\u001B[39m] \u001B[38;5;241m-\u001B[39m lost\u001B[38;5;241m.\u001B[39mbottom \u001B[38;5;241m*\u001B[39m stride[\u001B[38;5;241m1\u001B[39m],\n\u001B[1;32m   1419\u001B[0m     lost\u001B[38;5;241m.\u001B[39mleft \u001B[38;5;241m*\u001B[39m stride[\u001B[38;5;241m2\u001B[39m] : grad_in[\u001B[38;5;241m0\u001B[39m]\u001B[38;5;241m.\u001B[39mshape[\u001B[38;5;241m3\u001B[39m] \u001B[38;5;241m-\u001B[39m lost\u001B[38;5;241m.\u001B[39mright \u001B[38;5;241m*\u001B[39m stride[\u001B[38;5;241m2\u001B[39m],\n\u001B[1;32m   1420\u001B[0m ]\n\u001B[1;32m   1422\u001B[0m relevant_input_grad \u001B[38;5;241m=\u001B[39m valid_grad_in[\n\u001B[1;32m   1423\u001B[0m     :,\n\u001B[1;32m   1424\u001B[0m     :,\n\u001B[0;32m   (...)\u001B[0m\n\u001B[1;32m   1428\u001B[0m     \u001B[38;5;241m+\u001B[39m new_output_box\u001B[38;5;241m.\u001B[39mwidth \u001B[38;5;241m*\u001B[39m stride[\u001B[38;5;241m2\u001B[39m],\n\u001B[1;32m   1429\u001B[0m ]\n\u001B[0;32m-> 1431\u001B[0m \u001B[38;5;28;43mself\u001B[39;49m\u001B[38;5;241;43m.\u001B[39;49m\u001B[43msaliency_map\u001B[49m\u001B[43m[\u001B[49m\n\u001B[1;32m   1432\u001B[0m \u001B[43m    \u001B[49m\u001B[43m:\u001B[49m\u001B[43m,\u001B[49m\n\u001B[1;32m   1433\u001B[0m \u001B[43m    \u001B[49m\u001B[43m:\u001B[49m\u001B[43m,\u001B[49m\n\u001B[1;32m   1434\u001B[0m \u001B[43m    \u001B[49m\u001B[43mupdated_total_indices\u001B[49m\u001B[38;5;241;43m.\u001B[39;49m\u001B[43my\u001B[49m\n\u001B[1;32m   1435\u001B[0m \u001B[43m    \u001B[49m\u001B[38;5;241;43m*\u001B[39;49m\u001B[43m \u001B[49m\u001B[43mstride\u001B[49m\u001B[43m[\u001B[49m\u001B[38;5;241;43m1\u001B[39;49m\u001B[43m]\u001B[49m\u001B[43m \u001B[49m\u001B[43m:\u001B[49m\u001B[43m \u001B[49m\u001B[43mupdated_total_indices\u001B[49m\u001B[38;5;241;43m.\u001B[39;49m\u001B[43mheight\u001B[49m\n\u001B[1;32m   1436\u001B[0m \u001B[43m    \u001B[49m\u001B[38;5;241;43m*\u001B[39;49m\u001B[43m \u001B[49m\u001B[43mstride\u001B[49m\u001B[43m[\u001B[49m\u001B[38;5;241;43m1\u001B[39;49m\u001B[43m]\u001B[49m\u001B[43m,\u001B[49m\n\u001B[1;32m   1437\u001B[0m \u001B[43m    \u001B[49m\u001B[43mupdated_total_indices\u001B[49m\u001B[38;5;241;43m.\u001B[39;49m\u001B[43mx\u001B[49m\u001B[43m \u001B[49m\u001B[38;5;241;43m*\u001B[39;49m\u001B[43m \u001B[49m\u001B[43mstride\u001B[49m\u001B[43m[\u001B[49m\u001B[38;5;241;43m2\u001B[39;49m\u001B[43m]\u001B[49m\n\u001B[1;32m   1438\u001B[0m \u001B[43m    \u001B[49m\u001B[38;5;241;43m-\u001B[39;49m\u001B[43m \u001B[49m\u001B[43mrelevant_input_grad\u001B[49m\u001B[38;5;241;43m.\u001B[39;49m\u001B[43mshape\u001B[49m\u001B[43m[\u001B[49m\u001B[38;5;241;43m3\u001B[39;49m\u001B[43m]\u001B[49m\u001B[43m \u001B[49m\u001B[43m:\u001B[49m\u001B[43m \u001B[49m\u001B[43mupdated_total_indices\u001B[49m\u001B[38;5;241;43m.\u001B[39;49m\u001B[43mx\u001B[49m\u001B[43m \u001B[49m\u001B[38;5;241;43m*\u001B[39;49m\u001B[43m \u001B[49m\u001B[43mstride\u001B[49m\u001B[43m[\u001B[49m\u001B[38;5;241;43m2\u001B[39;49m\u001B[43m]\u001B[49m\u001B[43m,\u001B[49m\n\u001B[1;32m   1439\u001B[0m \u001B[43m\u001B[49m\u001B[43m]\u001B[49m \u001B[38;5;241m=\u001B[39m relevant_input_grad\u001B[38;5;241m.\u001B[39mdetach()\u001B[38;5;241m.\u001B[39mcpu()\n\u001B[1;32m   1441\u001B[0m \u001B[38;5;28;01mdel\u001B[39;00m relevant_input_grad\n\u001B[1;32m   1442\u001B[0m \u001B[38;5;28;01mdel\u001B[39;00m valid_grad_in\n",
      "\u001B[0;31mRuntimeError\u001B[0m: The expanded size of the tensor (1122) must match the existing size (1121) at non-singleton dimension 2.  Target sizes: [1, 3, 1122, 1121].  Tensor sizes: [3, 1121, 1121]"
     ]
    }
   ],
   "source": [
    "print(stream_output.shape)\n",
    "print(stream_output.grad.shape)\n",
    "full_gradients = sCNN.backward(image[None], stream_output.grad)"
   ],
   "metadata": {
    "collapsed": false,
    "ExecuteTime": {
     "end_time": "2023-10-20T08:31:56.139182800Z",
     "start_time": "2023-10-20T08:31:55.604080Z"
    }
   },
   "id": "c2d36b3edafb4e6b"
  },
  {
   "cell_type": "code",
   "execution_count": 19,
   "outputs": [
    {
     "data": {
      "text/plain": "torch.Size([1, 3, 3000, 3000])"
     },
     "execution_count": 19,
     "metadata": {},
     "output_type": "execute_result"
    }
   ],
   "source": [
    "sCNN.saliency_map.shape"
   ],
   "metadata": {
    "collapsed": false,
    "ExecuteTime": {
     "end_time": "2023-10-20T08:28:42.395969800Z",
     "start_time": "2023-10-20T08:28:42.386550400Z"
    }
   },
   "id": "1acf48d6ac39e88b"
  },
  {
   "cell_type": "code",
   "execution_count": 20,
   "outputs": [],
   "source": [
    "streaming_conv_gradients = []\n",
    "\n",
    "for i, layer in enumerate(stream_net.modules()):\n",
    "    if isinstance(layer, StreamingConv2d):\n",
    "        if layer.weight.grad is not None:\n",
    "            streaming_conv_gradients.append(layer.weight.grad.clone()) "
   ],
   "metadata": {
    "collapsed": false,
    "ExecuteTime": {
     "end_time": "2023-10-20T08:28:42.712009500Z",
     "start_time": "2023-10-20T08:28:42.694915400Z"
    }
   },
   "id": "9b4c6c1f339fa2e2"
  },
  {
   "cell_type": "code",
   "execution_count": 21,
   "outputs": [
    {
     "data": {
      "text/plain": "[tensor([[[[ 1.8971255049e-02,  6.9515239447e-03, -9.8463222384e-03,\n             ..., -1.3558659703e-03,  1.3837674633e-02,\n             3.5743065178e-02],\n           [-7.2825034149e-03, -9.6876826137e-03, -2.4209890515e-02,\n             ...,  3.2961640507e-02,  1.8224939704e-02,\n            -3.4656669945e-02],\n           [ 1.7572395504e-02,  2.2055637091e-02, -3.0419556424e-02,\n             ..., -6.9469563663e-02, -3.7157129496e-02,\n             1.8733507022e-02],\n           ...,\n           [ 1.4611624181e-02,  1.2941469438e-02, -2.4924105033e-02,\n             ...,  5.8331500739e-02,  9.9278464913e-02,\n             3.8063965738e-02],\n           [ 2.0266612992e-02, -1.2702416629e-02,  6.7605273798e-03,\n             ..., -8.4951445460e-02, -7.4459165335e-02,\n            -4.0870331228e-02],\n           [ 1.9427258521e-02,  2.4725873023e-02, -1.3716247864e-02,\n             ...,  3.0428471509e-03, -4.1919276118e-02,\n            -1.3690732419e-02]],\n \n          [[ 2.0691167563e-02, -8.8404705748e-03,  1.3984851539e-02,\n             ..., -1.0948141105e-02,  1.1546731927e-02,\n            -1.3259633444e-02],\n           [-1.1999204755e-02, -2.1830193698e-02, -1.1366659775e-02,\n             ...,  4.7006051987e-02,  4.9609714188e-03,\n            -1.4836579561e-02],\n           [ 2.2647101432e-02, -2.2064291406e-03, -3.9924651384e-02,\n             ..., -1.4050881565e-01, -5.6644789875e-02,\n            -3.5939954221e-02],\n           ...,\n           [ 2.4620309472e-02, -8.4765022621e-03, -5.0859395415e-02,\n             ...,  7.3996931314e-02,  1.0140261799e-01,\n             4.2364470661e-02],\n           [-1.6028819606e-02, -1.9096301869e-02,  8.0902073532e-03,\n             ..., -1.2132916600e-01, -8.8545233011e-02,\n            -2.4284265935e-02],\n           [ 5.7664783671e-03, -6.4852172509e-03, -3.3106334507e-02,\n             ..., -1.4671161771e-02, -4.4589076191e-02,\n            -5.4024942219e-02]],\n \n          [[ 9.7725950181e-03,  1.0502476245e-02, -2.5092078373e-02,\n             ...,  1.5010751784e-02, -1.0086432099e-02,\n             9.0834777802e-03],\n           [-8.7584238499e-03, -1.6249230132e-02,  6.3111223280e-03,\n             ...,  2.9758505523e-02,  6.0332655907e-02,\n            -4.5922365971e-03],\n           [ 3.4061092883e-03,  2.3418258876e-02, -1.2782394886e-02,\n             ..., -6.0585342348e-02, -1.6335543245e-02,\n             1.2120855972e-02],\n           ...,\n           [-3.9926734753e-03,  4.8399292864e-03, -3.6558415741e-02,\n             ...,  3.7631350569e-03,  7.8391589224e-02,\n             2.5183686987e-02],\n           [-3.5421598703e-02, -4.7772619873e-03,  2.0080722868e-02,\n             ..., -6.5245799720e-02, -4.4887647033e-02,\n             1.9898116589e-02],\n           [ 3.5021444783e-03, -1.6934311017e-02, -7.3211942799e-03,\n             ...,  4.2956370860e-02,  3.1040055677e-02,\n            -1.8357405439e-02]]],\n \n \n         [[[ 6.5606320277e-03,  2.2043408826e-02, -9.8178430926e-04,\n             ...,  8.5175996646e-03,  1.2100644410e-02,\n            -4.3657757342e-03],\n           [ 2.8591783717e-02,  1.4775567688e-02,  1.8317541108e-02,\n             ...,  4.6482287347e-02,  6.2456090003e-02,\n             4.7007210553e-02],\n           [ 1.1193415150e-02, -2.8808896895e-03,  5.2989404649e-03,\n             ..., -2.4736407213e-03,  2.1763350815e-02,\n             2.7889825404e-02],\n           ...,\n           [-1.9301308319e-02, -5.8082085103e-02, -6.8598955870e-02,\n             ..., -7.3308870196e-02, -5.1830835640e-02,\n            -1.5761459246e-02],\n           [ 3.6496163812e-03, -4.6968525276e-03, -1.6960507259e-02,\n             ..., -1.5609564725e-03, -1.9051210955e-02,\n            -2.3140635341e-02],\n           [-4.9810442142e-03, -6.5846154466e-03, -9.0658441186e-03,\n             ..., -1.2736937962e-02, -6.6717918962e-03,\n            -1.4365143143e-02]],\n \n          [[ 7.8496234491e-03,  1.6670189798e-02,  1.9570464268e-02,\n             ...,  8.0008469522e-03,  2.7074852958e-02,\n            -1.1052958667e-02],\n           [ 4.1503317654e-02,  3.8318369538e-02,  3.7322163582e-02,\n             ...,  7.1855328977e-02,  8.9278660715e-02,\n             7.5149759650e-02],\n           [-1.4756727032e-03, -1.6640677350e-03,  7.5572533533e-03,\n             ...,  3.3798310906e-02,  3.6517966539e-02,\n             3.7013437599e-02],\n           ...,\n           [-4.3850425631e-02, -1.0486426950e-01, -1.2506377697e-01,\n             ..., -1.3543778658e-01, -9.4436801970e-02,\n            -4.2767845094e-02],\n           [-9.6112238243e-03, -3.5794567317e-02, -6.3910901546e-02,\n             ..., -4.9756128341e-02, -2.3130979389e-02,\n            -1.3359318487e-02],\n           [ 1.6228866298e-03,  5.7704364881e-03,  1.2359483168e-02,\n             ..., -2.5187716819e-03,  4.1862465441e-02,\n             2.5583611801e-02]],\n \n          [[ 2.5115530007e-03, -2.3608386517e-02,  1.0631768033e-02,\n             ...,  1.8208518624e-02,  1.0216454975e-02,\n            -1.0175782256e-02],\n           [ 3.6216052249e-03,  6.6627180204e-03, -7.3990481906e-04,\n             ...,  7.8330636024e-02,  7.3775663972e-02,\n             4.6730134636e-02],\n           [-2.6991529390e-02, -1.3646886684e-02,  1.0058997199e-02,\n             ...,  2.7567349374e-02,  2.7908086777e-02,\n             2.7577374130e-02],\n           ...,\n           [-1.8705882132e-02, -8.0119110644e-02, -1.0455066711e-01,\n             ..., -9.0383745730e-02, -6.1875876039e-02,\n            -2.9179261997e-02],\n           [ 4.4769537635e-03, -2.7008157223e-02, -5.2494239062e-02,\n             ..., -3.3745177090e-02, -2.7980329469e-02,\n            -2.3455142975e-02],\n           [ 2.3538265377e-02,  2.0261656493e-02,  1.9745081663e-03,\n             ..., -1.1358082294e-02, -1.6990976408e-02,\n            -4.2081084102e-03]]],\n \n \n         [[[ 0.0000000000e+00,  0.0000000000e+00,  0.0000000000e+00,\n             ...,  0.0000000000e+00,  0.0000000000e+00,\n             0.0000000000e+00],\n           [ 0.0000000000e+00,  0.0000000000e+00,  0.0000000000e+00,\n             ...,  0.0000000000e+00,  0.0000000000e+00,\n             0.0000000000e+00],\n           [ 0.0000000000e+00,  0.0000000000e+00,  0.0000000000e+00,\n             ...,  0.0000000000e+00,  0.0000000000e+00,\n             0.0000000000e+00],\n           ...,\n           [ 0.0000000000e+00,  0.0000000000e+00,  0.0000000000e+00,\n             ...,  0.0000000000e+00,  0.0000000000e+00,\n             0.0000000000e+00],\n           [ 0.0000000000e+00,  0.0000000000e+00,  0.0000000000e+00,\n             ...,  0.0000000000e+00,  0.0000000000e+00,\n             0.0000000000e+00],\n           [ 0.0000000000e+00,  0.0000000000e+00,  0.0000000000e+00,\n             ...,  0.0000000000e+00,  0.0000000000e+00,\n             0.0000000000e+00]],\n \n          [[ 0.0000000000e+00,  0.0000000000e+00,  0.0000000000e+00,\n             ...,  0.0000000000e+00,  0.0000000000e+00,\n             0.0000000000e+00],\n           [ 0.0000000000e+00,  0.0000000000e+00,  0.0000000000e+00,\n             ...,  0.0000000000e+00,  0.0000000000e+00,\n             0.0000000000e+00],\n           [ 0.0000000000e+00,  0.0000000000e+00,  0.0000000000e+00,\n             ...,  0.0000000000e+00,  0.0000000000e+00,\n             0.0000000000e+00],\n           ...,\n           [ 0.0000000000e+00,  0.0000000000e+00,  0.0000000000e+00,\n             ...,  0.0000000000e+00,  0.0000000000e+00,\n             0.0000000000e+00],\n           [ 0.0000000000e+00,  0.0000000000e+00,  0.0000000000e+00,\n             ...,  0.0000000000e+00,  0.0000000000e+00,\n             0.0000000000e+00],\n           [ 0.0000000000e+00,  0.0000000000e+00,  0.0000000000e+00,\n             ...,  0.0000000000e+00,  0.0000000000e+00,\n             0.0000000000e+00]],\n \n          [[ 0.0000000000e+00,  0.0000000000e+00,  0.0000000000e+00,\n             ...,  0.0000000000e+00,  0.0000000000e+00,\n             0.0000000000e+00],\n           [ 0.0000000000e+00,  0.0000000000e+00,  0.0000000000e+00,\n             ...,  0.0000000000e+00,  0.0000000000e+00,\n             0.0000000000e+00],\n           [ 0.0000000000e+00,  0.0000000000e+00,  0.0000000000e+00,\n             ...,  0.0000000000e+00,  0.0000000000e+00,\n             0.0000000000e+00],\n           ...,\n           [ 0.0000000000e+00,  0.0000000000e+00,  0.0000000000e+00,\n             ...,  0.0000000000e+00,  0.0000000000e+00,\n             0.0000000000e+00],\n           [ 0.0000000000e+00,  0.0000000000e+00,  0.0000000000e+00,\n             ...,  0.0000000000e+00,  0.0000000000e+00,\n             0.0000000000e+00],\n           [ 0.0000000000e+00,  0.0000000000e+00,  0.0000000000e+00,\n             ...,  0.0000000000e+00,  0.0000000000e+00,\n             0.0000000000e+00]]],\n \n \n         ...,\n \n \n         [[[ 1.0074732825e-02,  1.6702041030e-02,  1.4262923039e-02,\n             ...,  2.9690451920e-02,  9.8107522354e-03,\n             1.9659554586e-02],\n           [ 2.6976428926e-02,  1.9481223077e-02,  2.4647645652e-02,\n             ...,  2.7194933966e-02,  9.5206825063e-03,\n             1.5155580826e-02],\n           [ 7.1355476975e-03,  7.3424684815e-03,  2.3431368172e-02,\n             ...,  2.8050495312e-02,  5.8930572122e-03,\n             2.7926934883e-02],\n           ...,\n           [ 2.2430049255e-02,  1.5104217455e-02,  1.8403980881e-02,\n             ...,  3.5493779927e-02,  2.9977213591e-02,\n             3.6302734166e-02],\n           [ 1.0458327830e-02, -2.1171979606e-03,  2.5066804141e-02,\n             ...,  4.8268210143e-02,  2.0339740440e-03,\n             2.6405887678e-02],\n           [-2.1469064523e-03,  2.4844061583e-02,  5.5193305016e-03,\n             ...,  2.8362764046e-02,  2.0670615137e-02,\n             1.5170088969e-02]],\n \n          [[ 1.5989592299e-02,  1.1566756293e-02, -6.2868073583e-03,\n             ..., -1.4369202778e-02, -2.0775992423e-02,\n            -2.2424831986e-02],\n           [ 2.1551609039e-02, -3.6259379704e-03, -1.2654087506e-02,\n             ..., -3.2620780170e-02, -3.8645662367e-02,\n            -3.0537562445e-02],\n           [ 4.5948950574e-03, -3.6108461209e-03, -2.6348248124e-02,\n             ..., -1.1566549540e-02, -1.3913583010e-02,\n            -3.0878227204e-02],\n           ...,\n           [ 5.0802403130e-03, -1.8741133390e-03, -2.5206176564e-02,\n             ..., -8.2945208997e-03, -2.1072089672e-02,\n            -4.3308241293e-03],\n           [ 7.6156100258e-03, -3.1732453499e-03, -6.3105055597e-04,\n             ..., -9.6272793598e-05, -1.0287563317e-02,\n            -3.3278695773e-03],\n           [-1.4241952449e-02, -9.7816600464e-04, -3.3311940730e-02,\n             ...,  4.6965619549e-03, -1.7053877935e-02,\n            -2.7076797560e-02]],\n \n          [[ 1.5891466755e-03,  5.2148802206e-03,  5.3616119549e-03,\n             ...,  6.4390725456e-03,  2.0076936111e-02,\n             8.8943624869e-03],\n           [ 2.4268389679e-03,  1.3665558770e-02,  2.5280127302e-02,\n             ...,  1.2495758943e-02, -8.3365673199e-03,\n             9.2326272279e-03],\n           [-3.7691611797e-03,  1.8506882712e-02,  3.5397559404e-03,\n             ...,  1.5358448960e-02,  1.1052608490e-02,\n             2.2344943136e-02],\n           ...,\n           [ 6.7116031423e-03,  2.2589568049e-02,  3.0187396333e-03,\n             ...,  1.4290790074e-02,  2.5514669716e-02,\n             2.3246889934e-02],\n           [ 5.3106164560e-03,  2.0983379334e-02,  2.3812174797e-02,\n             ...,  1.5707753599e-02,  9.9049508572e-04,\n            -3.8561131805e-03],\n           [ 7.8904815018e-03,  2.5560650975e-03, -4.5279017650e-04,\n             ...,  1.3498417102e-02,  4.6018622816e-03,\n            -2.5776168332e-04]]],\n \n \n         [[[ 7.4751878856e-05, -4.0113879368e-04,  1.8379234825e-04,\n             ..., -4.3813860975e-04, -5.7311664568e-04,\n            -1.6491860151e-04],\n           [-3.9981707232e-05,  2.0151749777e-04, -4.1226716712e-04,\n             ...,  3.9733474841e-04, -2.4379260140e-04,\n             6.6318857716e-04],\n           [ 1.2752664043e-04,  5.4622546304e-04,  1.0424595093e-03,\n             ..., -4.7628252651e-04, -4.6492688125e-04,\n            -9.6338789444e-04],\n           ...,\n           [-9.3521084636e-04, -8.9014858531e-05,  7.0517801214e-04,\n             ..., -4.4285631157e-04, -7.7352393419e-04,\n            -2.6833923766e-04],\n           [-3.3948506461e-04,  4.1642924771e-04,  2.9398157494e-04,\n             ..., -1.5460612485e-04, -8.1643264275e-04,\n             6.8197818473e-04],\n           [ 3.4367843182e-04,  4.2709556874e-04, -3.1403766479e-04,\n             ..., -2.5555558386e-04, -2.6892923051e-04,\n            -2.6933487970e-04]],\n \n          [[-1.0191202164e-03,  4.3650882435e-04,  3.4669943852e-04,\n             ...,  4.8183361650e-04,  2.2195148631e-05,\n            -2.9258802533e-04],\n           [ 4.7983092372e-04,  3.1750861672e-04,  1.2373025529e-03,\n             ..., -7.7380938455e-04, -7.7882909682e-04,\n             1.1285271466e-04],\n           [ 5.9378484730e-04,  1.5984891215e-03,  3.9026324521e-04,\n             ..., -8.1343547208e-04,  8.9052511612e-05,\n             2.6792252902e-04],\n           ...,\n           [ 6.2566885026e-04,  4.2499729898e-04,  5.0354260020e-04,\n             ...,  7.7937496826e-04,  6.5188814187e-04,\n             2.6411144063e-06],\n           [-9.4521055871e-05, -2.7196781593e-04,  3.7990254350e-04,\n             ...,  2.2246383014e-04, -1.2048556237e-03,\n             2.5885269861e-04],\n           [-1.9100322970e-04,  3.3369718585e-04,  1.8193848518e-05,\n             ..., -2.5219251984e-04, -3.0676124152e-04,\n            -3.2081289100e-04]],\n \n          [[-1.2492616661e-03,  2.7428579051e-04,  8.1299680460e-05,\n             ..., -2.8010483948e-04,  3.2429737621e-04,\n            -3.0952980160e-04],\n           [-5.6450843113e-04,  5.9025950031e-04,  4.5923702419e-04,\n             ...,  2.6301376056e-04,  7.0412823698e-04,\n            -3.2157247188e-04],\n           [-1.0050528217e-03,  4.9388670595e-04,  1.6721797874e-04,\n             ...,  1.9645836437e-04,  6.0073775239e-04,\n             1.9811317907e-04],\n           ...,\n           [-4.9370435590e-05,  3.0998716829e-04, -4.8415485071e-04,\n             ...,  2.8869925882e-04, -7.7789637726e-04,\n             3.3021075069e-04],\n           [ 2.9005794204e-05,  5.8373290813e-04, -7.6331949094e-04,\n             ..., -1.1642885511e-04,  3.2635641401e-04,\n             2.1461938741e-04],\n           [ 2.8989926795e-04, -2.1349730378e-04, -6.0683384072e-04,\n             ..., -3.7833407987e-04,  1.7123800353e-04,\n             4.4647368486e-04]]],\n \n \n         [[[ 2.7684876695e-03,  6.7932214588e-03,  1.9208783284e-02,\n             ...,  8.0524338409e-03,  1.3556329068e-03,\n            -1.4319750480e-02],\n           [ 5.7458383963e-03,  3.6943614483e-02,  3.1908415258e-02,\n             ..., -2.4619547185e-04,  6.5973494202e-03,\n            -1.7928063869e-02],\n           [ 3.1857065856e-02,  5.3146574646e-02,  1.3134785928e-02,\n             ..., -3.1914483756e-02, -3.3069316298e-02,\n            -3.7899173796e-02],\n           ...,\n           [-3.3045604825e-02, -7.6597020030e-02, -7.6464451849e-02,\n             ...,  2.3862967268e-02,  1.9627278671e-02,\n            -6.0645216145e-03],\n           [-1.7045985907e-02,  7.3370099999e-03,  2.7657397091e-02,\n             ...,  2.4989224970e-02, -1.5405134298e-02,\n            -2.6125423610e-02],\n           [-2.2996645421e-02, -1.8732506782e-02,  1.2229828862e-03,\n             ..., -3.7263248116e-02, -2.4591661990e-02,\n            -1.6716675833e-02]],\n \n          [[ 1.9022153690e-02,  1.5681140125e-02,  1.1334638111e-02,\n             ...,  7.5040529482e-03,  2.7928734198e-03,\n             1.0213857517e-02],\n           [ 1.7584038898e-02,  4.3911278248e-02,  5.3399771452e-02,\n             ..., -7.1378867142e-03, -4.1104718111e-03,\n            -2.0984284580e-02],\n           [ 3.9937939495e-02,  4.8575200140e-02,  9.7600556910e-04,\n             ..., -6.5940305591e-02, -3.3155988902e-02,\n            -4.0657445788e-02],\n           ...,\n           [-6.4650803804e-02, -1.0096770525e-01, -8.6541838944e-02,\n             ...,  6.6365577281e-02,  3.5147272050e-02,\n             2.8879776597e-02],\n           [-3.2301712781e-02, -3.4008275717e-02,  2.6702482719e-03,\n             ...,  7.1689575911e-02,  3.3329923172e-03,\n            -1.9922697917e-02],\n           [-1.6680529807e-03, -1.1510589160e-02,  1.4516390860e-02,\n             ..., -1.2409200892e-02, -2.4580067024e-02,\n            -3.3747937530e-02]],\n \n          [[ 5.5502108298e-03,  8.7138935924e-03,  3.4468458034e-04,\n             ..., -8.1062484533e-03, -4.5647621155e-03,\n            -1.4796164818e-02],\n           [ 1.1760314927e-02,  1.2593919411e-02,  1.1464549229e-02,\n             ...,  5.0274711102e-03, -1.4466920868e-02,\n            -2.8253700584e-03],\n           [ 1.1426168494e-03,  1.3952153735e-02,  2.3680946324e-03,\n             ..., -3.0912753195e-02, -3.5069420934e-02,\n            -3.0952928588e-02],\n           ...,\n           [-5.2704727277e-03, -3.7060659379e-02, -3.9274666458e-02,\n             ...,  4.0844421834e-02,  8.4559954703e-03,\n             1.2010267004e-02],\n           [-2.2457817569e-02, -6.7974673584e-04,  5.9637809172e-03,\n             ...,  3.0211329460e-02, -3.4396080300e-03,\n            -1.1630406603e-02],\n           [-6.5248622559e-03, -1.2734226184e-03, -1.1931720655e-03,\n             ..., -8.8723795488e-03, -3.4430216998e-02,\n            -2.2627480328e-02]]]], device='cuda:0'),\n tensor([[[[ 6.9604319334e-01,  6.6001838446e-01,  7.4395346642e-01],\n           [ 6.4171332121e-01,  5.5287492275e-01,  6.3179051876e-01],\n           [ 7.4503296614e-01,  6.7300754786e-01,  7.2091603279e-01]],\n \n          [[ 3.2845681906e-01,  3.2095867395e-01,  3.2958656549e-01],\n           [ 3.2588154078e-01,  3.1312149763e-01,  3.1680256128e-01],\n           [ 3.4846046567e-01,  3.3985781670e-01,  3.3212932944e-01]],\n \n          [[ 0.0000000000e+00,  0.0000000000e+00,  0.0000000000e+00],\n           [ 0.0000000000e+00,  0.0000000000e+00,  0.0000000000e+00],\n           [ 0.0000000000e+00,  0.0000000000e+00,  0.0000000000e+00]],\n \n          ...,\n \n          [[ 3.9773193002e-01,  4.0197551250e-01,  3.9748650789e-01],\n           [ 3.9798083901e-01,  4.0397343040e-01,  3.9865070581e-01],\n           [ 3.9456769824e-01,  3.9886716008e-01,  3.9716893435e-01]],\n \n          [[ 2.4735099942e-05,  4.9419581046e-05,  2.4180084438e-05],\n           [ 3.2282412576e-05,  4.0611998884e-06,  5.6451986893e-05],\n           [ 6.1512233515e-05,  7.7064752986e-05,  7.1040383773e-05]],\n \n          [[ 5.2082639933e-01,  4.9842658639e-01,  5.0755447149e-01],\n           [ 5.2270019054e-01,  4.9207755923e-01,  4.9810421467e-01],\n           [ 5.4750889540e-01,  5.2967727184e-01,  5.3128916025e-01]]],\n \n \n         [[[-8.4737783670e-01, -8.8735508919e-01, -8.4265434742e-01],\n           [-9.3226659298e-01, -9.0944468975e-01, -9.2019271851e-01],\n           [-8.5871666670e-01, -8.0548691750e-01, -8.5043603182e-01]],\n \n          [[-3.9353018999e-01, -4.3878129125e-01, -4.2819249630e-01],\n           [-4.6932616830e-01, -4.9233117700e-01, -4.4176259637e-01],\n           [-3.8534921408e-01, -3.5987389088e-01, -3.7311679125e-01]],\n \n          [[ 0.0000000000e+00,  0.0000000000e+00,  0.0000000000e+00],\n           [ 0.0000000000e+00,  0.0000000000e+00,  0.0000000000e+00],\n           [ 0.0000000000e+00,  0.0000000000e+00,  0.0000000000e+00]],\n \n          ...,\n \n          [[-4.8044821620e-01, -4.8879912496e-01, -4.8340329528e-01],\n           [-4.7268101573e-01, -4.6989277005e-01, -4.7860404849e-01],\n           [-4.7819298506e-01, -4.7923392057e-01, -4.8415639997e-01]],\n \n          [[-6.0329748521e-05, -2.2773063392e-04, -1.1402788368e-04],\n           [-8.9416331321e-05, -6.9818073825e-05, -3.2794257277e-04],\n           [-9.3059381470e-05, -5.0016456953e-05, -1.2824998703e-04]],\n \n          [[-6.7951530218e-01, -6.6708981991e-01, -6.3197821379e-01],\n           [-6.9291263819e-01, -7.5960862637e-01, -7.4521368742e-01],\n           [-7.2590023279e-01, -6.4804434776e-01, -5.8909517527e-01]]],\n \n \n         [[[-6.6010363400e-02,  1.6938973218e-02,  9.7023500130e-03],\n           [-1.5178170800e-01, -1.6138103604e-01, -7.1435682476e-02],\n           [-4.0861479938e-02, -6.9674499333e-02, -6.6483594477e-02]],\n \n          [[-3.1275063753e-02, -2.3669408634e-02, -2.4391761050e-02],\n           [-4.8604592681e-02, -5.3400620818e-02, -4.2941536754e-02],\n           [-1.7991304398e-02, -2.7594810352e-02, -2.9750192538e-02]],\n \n          [[ 0.0000000000e+00,  0.0000000000e+00,  0.0000000000e+00],\n           [ 0.0000000000e+00,  0.0000000000e+00,  0.0000000000e+00],\n           [ 0.0000000000e+00,  0.0000000000e+00,  0.0000000000e+00]],\n \n          ...,\n \n          [[-3.4602031112e-02, -3.3169176430e-02, -2.9722018167e-02],\n           [-3.2656326890e-02, -2.9709167778e-02, -2.6994019747e-02],\n           [-3.3834304661e-02, -2.8875837103e-02, -2.8715873137e-02]],\n \n          [[-6.8629087764e-05,  1.5915613403e-05, -2.8627810025e-06],\n           [ 4.3502292101e-05, -5.4067008023e-05, -9.3413866125e-05],\n           [ 1.1681003525e-04,  6.5632513724e-05, -1.0338299035e-05]],\n \n          [[-4.0387563407e-02, -4.4994678348e-02, -3.9178326726e-02],\n           [-5.5907242000e-02, -7.3815017939e-02, -6.3167780638e-02],\n           [-3.1834434718e-02, -5.5450994521e-02, -6.9269254804e-02]]],\n \n \n         ...,\n \n \n         [[[ 9.1780413641e-05,  6.2322884332e-05,  0.0000000000e+00],\n           [ 1.0683282744e-04,  8.5469175247e-05,  0.0000000000e+00],\n           [ 6.0490427131e-05,  5.6760574807e-05,  0.0000000000e+00]],\n \n          [[ 3.4793054510e-05,  3.2204367017e-05,  0.0000000000e+00],\n           [ 4.0298604290e-05,  3.8741527533e-05,  0.0000000000e+00],\n           [ 4.2113049858e-05,  4.0165476094e-05,  0.0000000000e+00]],\n \n          [[ 0.0000000000e+00,  0.0000000000e+00,  0.0000000000e+00],\n           [ 0.0000000000e+00,  0.0000000000e+00,  0.0000000000e+00],\n           [ 0.0000000000e+00,  0.0000000000e+00,  0.0000000000e+00]],\n \n          ...,\n \n          [[ 3.9018988900e-05,  4.1106512072e-05,  0.0000000000e+00],\n           [ 4.1571325710e-05,  4.2817606300e-05,  0.0000000000e+00],\n           [ 4.3116117013e-05,  4.2717576434e-05,  0.0000000000e+00]],\n \n          [[ 0.0000000000e+00,  0.0000000000e+00,  0.0000000000e+00],\n           [ 0.0000000000e+00,  0.0000000000e+00,  0.0000000000e+00],\n           [ 0.0000000000e+00,  0.0000000000e+00,  0.0000000000e+00]],\n \n          [[ 6.8874272984e-05,  4.5065055019e-05,  0.0000000000e+00],\n           [ 5.6614451751e-05,  4.7117904614e-05,  0.0000000000e+00],\n           [ 6.1179001932e-05,  5.1316874305e-05,  0.0000000000e+00]]],\n \n \n         [[[-8.0757150427e-03, -2.1269217134e-02, -1.1910424381e-01],\n           [ 1.6511788592e-02,  4.9703303725e-02, -6.1608944088e-02],\n           [-1.6303375363e-01, -1.2255812436e-01, -1.4437049627e-01]],\n \n          [[-4.2294099927e-02, -1.8911691383e-02, -3.9663020521e-02],\n           [-6.0604322702e-02, -4.6585828066e-02, -4.8088308424e-02],\n           [-7.1035549045e-02, -7.0942007005e-02, -5.7703144848e-02]],\n \n          [[ 0.0000000000e+00,  0.0000000000e+00,  0.0000000000e+00],\n           [ 0.0000000000e+00,  0.0000000000e+00,  0.0000000000e+00],\n           [ 0.0000000000e+00,  0.0000000000e+00,  0.0000000000e+00]],\n \n          ...,\n \n          [[-5.8164849877e-02, -6.7202441394e-02, -6.1787597835e-02],\n           [-5.2478421479e-02, -6.2609061599e-02, -5.5523470044e-02],\n           [-4.3583381921e-02, -4.8946820199e-02, -4.6705115587e-02]],\n \n          [[-2.9106055081e-05,  2.2049745894e-05,  3.7549987610e-05],\n           [ 1.0148401088e-05,  7.7116652392e-05,  4.9942074838e-05],\n           [ 3.2365987863e-05, -3.0607767258e-05,  1.9514036467e-05]],\n \n          [[-5.9517003596e-02, -2.8301334009e-02, -3.2296910882e-02],\n           [-4.6639468521e-02, -1.5713386238e-02, -6.8499878049e-02],\n           [-8.4150642157e-02, -9.7072660923e-02, -1.1470506340e-01]]],\n \n \n         [[[ 1.0444740206e-01,  1.0200580955e-01,  9.7707539797e-02],\n           [ 1.0562754422e-01,  1.0578477383e-01,  1.0142240673e-01],\n           [ 9.7599230707e-02,  1.0052989423e-01,  9.4124488533e-02]],\n \n          [[ 4.4013012201e-02,  4.5616135001e-02,  4.3697115034e-02],\n           [ 4.3675981462e-02,  4.6161413193e-02,  4.5219171792e-02],\n           [ 4.3640665710e-02,  4.3840363622e-02,  4.5485034585e-02]],\n \n          [[ 0.0000000000e+00,  0.0000000000e+00,  0.0000000000e+00],\n           [ 0.0000000000e+00,  0.0000000000e+00,  0.0000000000e+00],\n           [ 0.0000000000e+00,  0.0000000000e+00,  0.0000000000e+00]],\n \n          ...,\n \n          [[ 5.2792206407e-02,  5.2769809961e-02,  5.3028002381e-02],\n           [ 5.2937794477e-02,  5.2196115255e-02,  5.3120795637e-02],\n           [ 5.3008500487e-02,  5.2833098918e-02,  5.3407140076e-02]],\n \n          [[ 2.8111605843e-06,  4.3486752475e-06,  8.2126553025e-07],\n           [ 8.2137048594e-06,  4.4810449253e-06,  8.0541476564e-06],\n           [ 1.0847620615e-06,  1.2310331840e-05,  2.4524233595e-05]],\n \n          [[ 6.8992808461e-02,  6.8554863334e-02,  7.2223372757e-02],\n           [ 6.7176207900e-02,  7.3597438633e-02,  7.4254900217e-02],\n           [ 7.0579126477e-02,  7.1833245456e-02,  6.9608591497e-02]]]],\n        device='cuda:0'),\n tensor([[[[-5.8727130294e-02, -5.8700844646e-02, -2.8395555913e-02],\n           [-1.4671173692e-01, -1.9181007147e-01, -1.2260324508e-01],\n           [-6.9879785180e-02, -1.1733523756e-01, -9.6271015704e-02]],\n \n          [[-4.2723721266e-01, -4.0218052268e-01, -4.1372552514e-01],\n           [-4.2477762699e-01, -3.8512682915e-01, -4.3152421713e-01],\n           [-4.5490720868e-01, -4.2686310410e-01, -4.2062130570e-01]],\n \n          [[-8.7694220245e-02, -1.8367329240e-01, -2.4114863575e-01],\n           [-1.1092391610e-01, -2.4167226255e-01, -2.7110752463e-01],\n           [-8.9821167290e-02, -1.6854611039e-01, -2.1037758887e-01]],\n \n          ...,\n \n          [[ 0.0000000000e+00, -3.7130166675e-06, -2.5201638891e-06],\n           [ 0.0000000000e+00,  1.8534317405e-06, -4.9466771088e-06],\n           [ 0.0000000000e+00,  2.6550160328e-06, -2.1320752808e-07]],\n \n          [[-1.6835094988e-01, -1.3718175888e-01, -1.4646254480e-01],\n           [-1.5856418014e-01, -1.2596803904e-01, -1.4955329895e-01],\n           [-1.5041206777e-01, -1.3050745428e-01, -1.5236425400e-01]],\n \n          [[-1.7747834790e-03, -1.0428975802e-03, -6.4836745150e-04],\n           [ 7.1418675361e-04,  2.1991215181e-03,  2.2907927632e-03],\n           [-1.9250059268e-04, -2.3964949651e-04, -6.2651793996e-05]]],\n \n \n         [[[ 1.6697514057e-01,  1.7198631167e-01,  1.4430499077e-01],\n           [ 1.3487993181e-01,  1.4381435513e-01,  1.3185568154e-01],\n           [ 1.6334265471e-01,  1.4799800515e-01,  1.4739324152e-01]],\n \n          [[ 1.0205620527e+00,  1.0431077480e+00,  1.0503541231e+00],\n           [ 9.7663962841e-01,  9.6346777678e-01,  9.9126851559e-01],\n           [ 9.9627459049e-01,  1.0089052916e+00,  1.0136604309e+00]],\n \n          [[ 4.4465929270e-01,  4.5816078782e-01,  3.9541265368e-01],\n           [ 4.0919938684e-01,  4.1181018949e-01,  3.8063129783e-01],\n           [ 3.6537608504e-01,  3.8947740197e-01,  4.1542571783e-01]],\n \n          ...,\n \n          [[ 0.0000000000e+00,  2.0655274966e-06, -1.5334672980e-06],\n           [ 0.0000000000e+00,  4.2907623765e-07,  2.8812155506e-06],\n           [ 0.0000000000e+00, -1.7848810785e-06,  8.7333251031e-07]],\n \n          [[ 3.1725913286e-01,  3.3580821753e-01,  3.5779511929e-01],\n           [ 3.2598343492e-01,  3.2441416383e-01,  3.3666950464e-01],\n           [ 3.5182520747e-01,  3.4805628657e-01,  3.3223846555e-01]],\n \n          [[ 1.7791001592e-03,  3.0497235712e-03,  2.2735365201e-03],\n           [ 2.9288148507e-03,  5.1416307688e-03,  3.0405106954e-03],\n           [ 2.0943733398e-03,  2.4533665273e-03,  1.0035310406e-03]]],\n \n \n         [[[-1.9014418125e-01, -1.8164809048e-01, -1.9812959433e-01],\n           [-1.3232916594e-01, -1.4100131392e-01, -1.7996013165e-01],\n           [-1.0715991259e-01, -1.2837544084e-01, -1.7916345596e-01]],\n \n          [[-1.4007707834e+00, -1.4057316780e+00, -1.3652290106e+00],\n           [-1.4090796709e+00, -1.3737149239e+00, -1.3199685812e+00],\n           [-1.3876838684e+00, -1.3442025185e+00, -1.3122215271e+00]],\n \n          [[-4.3887871504e-01, -5.7337546349e-01, -6.4254570007e-01],\n           [-4.3291035295e-01, -5.9602594376e-01, -6.6441929340e-01],\n           [-4.4457215071e-01, -5.9346199036e-01, -6.3335722685e-01]],\n \n          ...,\n \n          [[ 0.0000000000e+00, -8.8820729616e-07,  6.0902141286e-07],\n           [ 0.0000000000e+00, -3.0048950066e-06, -1.8928582222e-06],\n           [ 0.0000000000e+00, -6.6517134201e-07, -7.3047726801e-07]],\n \n          [[-4.5744150877e-01, -4.6343123913e-01, -4.5396915078e-01],\n           [-4.5649465919e-01, -4.2508932948e-01, -4.4240689278e-01],\n           [-4.6798554063e-01, -4.1216093302e-01, -4.2729514837e-01]],\n \n          [[-3.2685168553e-03, -3.1459783204e-03, -2.5824005716e-03],\n           [-4.2045521550e-03, -4.9757189117e-03, -4.3754326180e-03],\n           [-4.0809856728e-03, -4.5949271880e-03, -5.1942765713e-03]]],\n \n \n         ...,\n \n \n         [[[ 3.6792997271e-02,  3.7571664900e-02,  1.0552455671e-02],\n           [ 4.0758628398e-02,  5.0902526826e-02,  1.8480751663e-02],\n           [ 4.4168040156e-02,  4.0285002440e-02,  1.3966945000e-02]],\n \n          [[ 5.0616715103e-02,  4.6974074095e-02,  7.9397872090e-02],\n           [ 6.4223788679e-02,  4.1758872569e-02,  7.9811207950e-02],\n           [ 5.2061390132e-02,  2.4031994864e-02,  7.0293679833e-02]],\n \n          [[ 1.9544963539e-01,  1.0347510874e-01, -6.4264811575e-02],\n           [ 2.5373014808e-01,  1.1305350065e-01, -8.7460897863e-02],\n           [ 2.6771065593e-01,  1.2365566194e-01, -7.7886089683e-02]],\n \n          ...,\n \n          [[ 0.0000000000e+00, -2.5650260795e-06, -2.0251557089e-06],\n           [ 0.0000000000e+00, -1.2654240891e-06, -8.2743338226e-07],\n           [ 0.0000000000e+00, -2.5944791560e-07, -1.3446264120e-06]],\n \n          [[ 3.4888070077e-02,  3.5277947783e-02,  5.1545500755e-02],\n           [ 2.2575519979e-02,  2.7425993234e-02,  4.5439485461e-02],\n           [ 1.0781759396e-02,  3.1976290047e-02,  4.2488243431e-02]],\n \n          [[-2.3954112839e-04, -1.0709590279e-03,  9.8210133729e-05],\n           [-6.3224276528e-04, -1.5347555745e-03, -3.9151560486e-05],\n           [-2.4798806407e-04, -2.0316889277e-04, -5.4727308452e-04]]],\n \n \n         [[[ 2.9761087894e-01,  3.2467353344e-01,  3.0426916480e-01],\n           [ 1.4979322255e-01,  2.9478588700e-01,  4.0543124080e-01],\n           [ 1.7091733217e-01,  2.6780042052e-01,  3.4830069542e-01]],\n \n          [[ 2.0759134293e+00,  2.0300629139e+00,  1.9817223549e+00],\n           [ 2.1106362343e+00,  1.9902915955e+00,  1.9562048912e+00],\n           [ 2.0543518066e+00,  1.9850537777e+00,  2.0226025581e+00]],\n \n          [[ 7.9595345259e-01,  6.9039767981e-01,  7.6127290726e-01],\n           [ 8.6237418652e-01,  6.4817482233e-01,  6.3917243481e-01],\n           [ 8.9878219366e-01,  6.9054079056e-01,  5.8032083511e-01]],\n \n          ...,\n \n          [[ 0.0000000000e+00,  2.8160486636e-06,  2.0463203327e-06],\n           [ 0.0000000000e+00, -4.5417950787e-06,  5.6155217862e-06],\n           [ 0.0000000000e+00, -6.0956840571e-06,  6.5031504164e-06]],\n \n          [[ 6.8903189898e-01,  6.1632585526e-01,  6.3174420595e-01],\n           [ 7.7776914835e-01,  5.9737688303e-01,  5.4358714819e-01],\n           [ 7.5722575188e-01,  6.3915234804e-01,  5.8932048082e-01]],\n \n          [[ 2.8713899665e-03,  3.3921462018e-03,  2.8825965710e-03],\n           [ 3.0382915866e-03,  3.3251070417e-03,  5.1940917037e-03],\n           [ 3.1939116307e-03,  5.3116292693e-03,  5.8382274583e-03]]],\n \n \n         [[[ 1.2670977414e-01,  1.1993956566e-01,  1.7655648291e-01],\n           [ 9.0836152434e-02,  4.8011373729e-02,  1.7772984505e-01],\n           [ 1.5583930910e-01,  9.2642657459e-02,  2.5433734059e-02]],\n \n          [[ 8.3964920044e-01,  7.8154349327e-01,  7.2465765476e-01],\n           [ 8.2510542870e-01,  7.8580796719e-01,  7.7776831388e-01],\n           [ 7.8693628311e-01,  7.2387802601e-01,  7.1031188965e-01]],\n \n          [[ 1.9835883379e-01,  2.1535137296e-01,  3.1453415751e-01],\n           [ 2.0370675623e-01,  2.7237215638e-01,  2.5422510505e-01],\n           [ 2.9182663560e-01,  2.3248626292e-01,  1.8163454533e-01]],\n \n          ...,\n \n          [[ 0.0000000000e+00,  1.2075761333e-06, -6.0727174969e-06],\n           [ 0.0000000000e+00,  9.0218018158e-06,  2.7751743801e-06],\n           [ 0.0000000000e+00,  5.4769643612e-06,  4.7298624395e-07]],\n \n          [[ 2.9735532403e-01,  2.3212547600e-01,  2.1135610342e-01],\n           [ 3.1148496270e-01,  2.4856571853e-01,  2.2029662132e-01],\n           [ 1.6729913652e-01,  2.2894836962e-01,  2.9244425893e-01]],\n \n          [[ 1.5202645445e-03,  3.1301053241e-03,  8.6228910368e-04],\n           [ 1.8188481918e-03, -1.9921981730e-03,  6.5426668152e-04],\n           [ 7.6357036596e-04,  4.5844367705e-03,  6.0546286404e-03]]]],\n        device='cuda:0'),\n tensor([[[[ 2.6604707241e+00,  2.6335744858e+00,  2.5481243134e+00],\n           [ 2.6166734695e+00,  2.6079785824e+00,  2.5458016396e+00],\n           [ 2.6329808235e+00,  2.6406567097e+00,  2.6088314056e+00]],\n \n          [[ 2.8190016747e-01,  2.8665509820e-01,  2.6597321033e-01],\n           [ 2.5847843289e-01,  2.5866162777e-01,  2.6039785147e-01],\n           [ 2.9673883319e-01,  3.2191726565e-01,  3.1577086449e-01]],\n \n          [[ 1.1922826767e+00,  1.2003982067e+00,  1.2114001513e+00],\n           [ 1.1914438009e+00,  1.1782227755e+00,  1.1919860840e+00],\n           [ 1.1931474209e+00,  1.1877926588e+00,  1.1983938217e+00]],\n \n          ...,\n \n          [[ 1.2937284708e+00,  1.3407559395e+00,  1.3435763121e+00],\n           [ 1.3159698248e+00,  1.3558351994e+00,  1.3444674015e+00],\n           [ 1.2592562437e+00,  1.2748633623e+00,  1.2897124290e+00]],\n \n          [[ 1.7456053197e-01,  1.8086275458e-01,  1.5864461660e-01],\n           [ 1.4858123660e-01,  1.5642262995e-01,  1.7792536318e-01],\n           [ 1.4765630662e-01,  1.5168637037e-01,  1.6664697230e-01]],\n \n          [[ 1.2630983591e+00,  1.3106511831e+00,  1.2750456333e+00],\n           [ 1.3672707081e+00,  1.3900806904e+00,  1.2405970097e+00],\n           [ 1.2647505999e+00,  1.3037950993e+00,  1.3259032965e+00]]],\n \n \n         [[[ 5.5322468281e-02,  2.3839406669e-02,  6.3260290772e-03],\n           [ 8.5908547044e-03, -1.3678657822e-02,  3.4430064261e-03],\n           [-2.1884202957e-02, -2.3485071957e-02,  2.2861935198e-02]],\n \n          [[-7.6859658584e-03, -4.0399623103e-03,  4.9498407170e-03],\n           [-2.7949430514e-03,  7.9092625529e-03,  1.3621681370e-02],\n           [-2.3080248386e-02, -1.1541844346e-02,  5.0397375599e-03]],\n \n          [[-1.9469729159e-03, -9.8688695580e-03,  1.8117874861e-03],\n           [-9.4309560955e-03, -1.7887454480e-02,  3.2956888899e-03],\n           [-1.7528913915e-02, -1.8475748599e-02,  1.0074781254e-02]],\n \n          ...,\n \n          [[-2.1701287478e-03,  4.3431092054e-03,  1.1721644551e-02],\n           [-2.6322728954e-03,  1.0702041909e-02,  2.6379670948e-02],\n           [-1.2950180098e-03,  9.6830548719e-03,  2.6737893000e-02]],\n \n          [[ 7.5780777261e-03,  1.1442067102e-02,  2.7238624170e-03],\n           [ 1.9249388948e-02,  7.5287753716e-03, -1.7609663308e-02],\n           [ 2.0164597780e-02,  4.9551348202e-03, -1.0070562363e-02]],\n \n          [[ 2.1377874538e-02,  5.7428427041e-02,  6.0986239463e-02],\n           [ 2.9017657042e-02,  1.0089270771e-02, -2.4597413838e-02],\n           [ 4.6852044761e-02,  4.1233994067e-02, -5.8519035578e-02]]],\n \n \n         [[[-1.0117303133e+00, -1.0151504278e+00, -1.0992763042e+00],\n           [-1.0013328791e+00, -9.7464001179e-01, -1.0646654367e+00],\n           [-9.9380296469e-01, -9.7661405802e-01, -1.0472570658e+00]],\n \n          [[-1.1736898869e-01, -1.0491016507e-01, -1.0702237487e-01],\n           [-1.3407623768e-01, -1.2596057355e-01, -1.1776508391e-01],\n           [-1.4211134613e-01, -1.5153843164e-01, -1.1378854513e-01]],\n \n          [[-4.2537662387e-01, -4.5231905580e-01, -5.1215279102e-01],\n           [-3.7649652362e-01, -3.6870330572e-01, -4.7663968801e-01],\n           [-4.0509304404e-01, -3.9694967866e-01, -4.8272904754e-01]],\n \n          ...,\n \n          [[-4.9603575468e-01, -5.2439957857e-01, -5.7802164555e-01],\n           [-4.7411563993e-01, -5.1288139820e-01, -5.5496090651e-01],\n           [-4.6314740181e-01, -5.1375246048e-01, -5.4444086552e-01]],\n \n          [[-8.4404528141e-02, -3.1434033066e-02, -5.9507437050e-02],\n           [-5.2236955613e-02, -1.0828221217e-02, -8.9328430593e-02],\n           [-5.7744566351e-02, -2.7611607686e-02, -8.7230086327e-02]],\n \n          [[-5.0182181597e-01, -4.4742879272e-01, -4.8354142904e-01],\n           [-4.5607653260e-01, -5.4614591599e-01, -5.1825767756e-01],\n           [-5.7206755877e-01, -4.8293510079e-01, -5.4992264509e-01]]],\n \n \n         ...,\n \n \n         [[[ 4.2060601711e-01,  4.3880793452e-01,  4.4296947122e-01],\n           [ 4.0869510174e-01,  3.8577872515e-01,  4.0544664860e-01],\n           [ 3.8630574942e-01,  3.6619734764e-01,  3.8128364086e-01]],\n \n          [[ 3.3733267337e-02,  3.0411880463e-02,  3.3810097724e-02],\n           [ 4.6688254923e-02,  4.1332669556e-02,  3.7210032344e-02],\n           [ 4.1911482811e-02,  3.9228219539e-02,  3.8838084787e-02]],\n \n          [[ 1.9289164245e-01,  2.0470207930e-01,  1.9993703067e-01],\n           [ 1.9127596915e-01,  1.9670644403e-01,  1.8945567310e-01],\n           [ 1.7408829927e-01,  1.6578279436e-01,  1.6907903552e-01]],\n \n          ...,\n \n          [[ 1.9309194386e-01,  1.9260534644e-01,  1.9243152440e-01],\n           [ 1.8951758742e-01,  1.9161862135e-01,  1.9283063710e-01],\n           [ 1.9231750071e-01,  1.9655545056e-01,  1.9918607175e-01]],\n \n          [[ 1.1156369001e-02,  1.5850782394e-02,  3.5007454455e-02],\n           [ 2.9842421412e-02,  1.5985470265e-02,  1.2300627306e-02],\n           [ 2.7222272009e-02,  2.0255418494e-02,  1.7891839147e-02]],\n \n          [[ 2.0181368291e-01,  2.1047772467e-01,  2.1164043248e-01],\n           [ 2.0302167535e-01,  1.4090569317e-01,  2.0414678752e-01],\n           [ 2.1527023613e-01,  2.2371235490e-01,  2.0632454753e-01]]],\n \n \n         [[[-8.2792556286e-01, -8.2364839315e-01, -8.4728246927e-01],\n           [-8.3983504772e-01, -8.7007552385e-01, -8.3489823341e-01],\n           [-7.9139399529e-01, -8.3765131235e-01, -8.3073186874e-01]],\n \n          [[-9.2719055712e-02, -8.6748667061e-02, -8.3795562387e-02],\n           [-9.5970824361e-02, -9.1391935945e-02, -8.3341777325e-02],\n           [-6.9033235312e-02, -6.8417690694e-02, -8.2579717040e-02]],\n \n          [[-3.6810541153e-01, -3.8986790180e-01, -3.9561811090e-01],\n           [-3.7296882272e-01, -3.6183542013e-01, -3.9626842737e-01],\n           [-3.8998439908e-01, -3.7488517165e-01, -4.0757343173e-01]],\n \n          ...,\n \n          [[-4.1405671835e-01, -4.1478949785e-01, -4.0937906504e-01],\n           [-4.1017857194e-01, -4.0818825364e-01, -4.1488295794e-01],\n           [-4.0803921223e-01, -4.0395492315e-01, -4.1777366400e-01]],\n \n          [[-3.7498526275e-02, -5.1446121186e-02, -4.0293503553e-02],\n           [-1.9775679335e-02, -5.7512942702e-02, -7.3365733027e-02],\n           [-3.8735158741e-02, -3.9220098406e-02, -6.7117132246e-02]],\n \n          [[-4.6761459112e-01, -3.5959723592e-01, -4.2180269957e-01],\n           [-3.3527210355e-01, -3.3237105608e-01, -4.4043025374e-01],\n           [-4.0501442552e-01, -4.3302842975e-01, -4.5433047414e-01]]],\n \n \n         [[[-8.3562806249e-02, -7.8498236835e-02, -7.1119159460e-02],\n           [-8.6568132043e-02, -8.1272728741e-02, -7.3615945876e-02],\n           [-8.6524859071e-02, -8.8319711387e-02, -7.3749430478e-02]],\n \n          [[-7.8041255474e-03, -1.1219792068e-02, -8.2103433087e-03],\n           [-9.3194572255e-03, -1.2827003375e-02, -8.0078365281e-03],\n           [-1.0296832770e-02, -1.2114523910e-02, -8.7811499834e-03]],\n \n          [[-3.6871772259e-02, -3.9674222469e-02, -3.8625303656e-02],\n           [-3.5446908325e-02, -4.1831694543e-02, -3.9160117507e-02],\n           [-3.6616045982e-02, -3.8330469280e-02, -3.2435275614e-02]],\n \n          ...,\n \n          [[-4.1543480009e-02, -4.3542202562e-02, -3.8915466517e-02],\n           [-4.0493808687e-02, -4.3590404093e-02, -3.8441475481e-02],\n           [-3.9802916348e-02, -4.2113605887e-02, -3.7654209882e-02]],\n \n          [[-5.7898112573e-03, -5.0585600547e-03, -5.2037639543e-03],\n           [-6.5012155101e-03, -8.6609423161e-03, -2.9574064538e-03],\n           [-5.7997861877e-03, -1.0326954536e-02, -5.6707859039e-03]],\n \n          [[-4.1383326054e-02, -3.8040619344e-02, -4.7939803451e-02],\n           [-5.5894166231e-02, -3.2219935209e-02, -2.5250101462e-02],\n           [-3.8432706147e-02, -4.0220454335e-02, -2.4003133178e-02]]]],\n        device='cuda:0'),\n tensor([[[[-4.8271521926e-02, -3.8582786918e-02,  7.7558788471e-03],\n           [-3.9123605937e-02, -1.9057307392e-02,  1.7812500009e-03],\n           [-2.9717544094e-02, -3.2383408397e-02,  3.5824268125e-03]],\n \n          [[-1.4224886894e-02,  2.0684024785e-03,  3.8990844041e-04],\n           [ 1.1104635894e-02,  1.7205428332e-02,  3.0269650742e-03],\n           [ 6.0323937796e-03, -1.9779240247e-03,  1.0421602055e-02]],\n \n          [[-1.4301906340e-02,  3.3777426928e-02,  5.4508171976e-02],\n           [-3.0718317255e-02, -1.4380897628e-03,  3.6097638309e-02],\n           [-2.3995598778e-02,  1.3190663420e-02,  2.7701968327e-02]],\n \n          ...,\n \n          [[-7.3704998940e-03, -9.1227628291e-03, -9.0502379462e-03],\n           [-8.3142016083e-03, -9.5614753664e-03, -7.7089983970e-03],\n           [ 6.9089098834e-03,  4.0087047964e-03, -5.6044287048e-03]],\n \n          [[ 4.1824262589e-03,  6.5576084889e-03, -1.7419309588e-03],\n           [-3.1732749194e-03,  3.8975863717e-03, -1.5160681214e-03],\n           [-1.5064746840e-03,  8.6101014167e-03,  1.0262646712e-02]],\n \n          [[-7.5952179031e-04,  1.1112495849e-04, -9.3977665529e-04],\n           [-9.8586780950e-04, -2.0614069945e-04, -9.4369950239e-04],\n           [-1.9029963296e-03, -1.1456032516e-03, -1.5108747175e-03]]],\n \n \n         [[[ 3.0083323363e-03,  1.5141682699e-02,  1.9405039027e-02],\n           [ 6.4326515421e-03,  1.0206655134e-03,  2.7858823538e-02],\n           [ 2.0983280614e-02,  7.2574531659e-03,  1.3759390451e-02]],\n \n          [[ 2.8706260491e-03,  8.0666411668e-04,  7.0373816416e-03],\n           [-4.3161194772e-03, -4.3217563070e-03,  9.7853858024e-03],\n           [ 6.2157344073e-03,  1.5803668648e-02,  2.1940521896e-02]],\n \n          [[ 4.7291379422e-02,  4.5127738267e-02,  2.3460598662e-02],\n           [ 3.2112691551e-02,  5.6860584766e-02,  3.6363005638e-02],\n           [ 6.8757547997e-03,  2.4612441659e-02,  6.1397511512e-02]],\n \n          ...,\n \n          [[ 4.4800932519e-03,  3.4904195927e-03,  3.7673059851e-03],\n           [ 2.0573204383e-03,  2.6516541839e-03,  7.1976659819e-03],\n           [-9.0266304323e-04, -4.6375491656e-03,  1.8533738330e-03]],\n \n          [[ 7.3063317686e-03,  4.7450145939e-04,  1.1914502829e-03],\n           [ 1.1312806047e-02, -8.4939145017e-04, -9.4819497317e-03],\n           [ 9.0076215565e-03,  9.1630192474e-03, -2.5639287196e-03]],\n \n          [[ 1.4918895904e-03,  9.0963247931e-04,  1.0558316717e-03],\n           [ 1.5219971538e-03, -4.3138820911e-04,  7.1623316035e-04],\n           [ 1.2788390741e-03,  2.1518106223e-04,  2.7078611311e-04]]],\n \n \n         [[[-2.4198618531e-01, -2.4375665188e-01, -2.3132163286e-01],\n           [-2.4906574190e-01, -2.2949722409e-01, -2.0108059049e-01],\n           [-2.2091716528e-01, -1.9517691433e-01, -1.9475632906e-01]],\n \n          [[-1.1013767868e-01, -1.2659020722e-01, -1.0262554884e-01],\n           [-1.1215765774e-01, -7.9459927976e-02, -8.8359802961e-02],\n           [-9.6597515047e-02, -7.7741630375e-02, -1.1643384397e-01]],\n \n          [[-4.1737562418e-01, -3.8706511259e-01, -3.7513655424e-01],\n           [-4.3798437715e-01, -3.9842334390e-01, -3.7451404333e-01],\n           [-4.4847056270e-01, -4.2744925618e-01, -4.1707530618e-01]],\n \n          ...,\n \n          [[-2.3730296642e-02, -2.7237247676e-02, -2.7008639649e-02],\n           [-2.1134236827e-02, -2.9165392742e-02, -3.0777513981e-02],\n           [-1.9104648381e-02, -1.8154088408e-02, -2.6676379144e-02]],\n \n          [[-3.3890407532e-02, -3.8425646722e-02, -5.7684384286e-02],\n           [-4.6729091555e-02, -3.9793673903e-02, -4.0525674820e-02],\n           [-5.2740458399e-02, -6.2301430851e-02, -4.1971176863e-02]],\n \n          [[-7.1064098738e-03, -8.0510964617e-03, -5.2464595065e-03],\n           [-8.7005272508e-03, -6.3978936523e-03, -1.9414410926e-03],\n           [-6.3436673954e-03, -4.5189517550e-03, -2.3348294199e-03]]],\n \n \n         ...,\n \n \n         [[[-2.4569812231e-03,  3.3593650907e-02,  2.4907417595e-02],\n           [ 2.0388916135e-02,  3.2554060221e-02,  3.3819250762e-02],\n           [ 1.1404680554e-03, -6.3222181052e-03,  1.5831954777e-02]],\n \n          [[ 1.6155510093e-04, -2.2935629822e-03, -7.2663533501e-05],\n           [ 4.1269185022e-04, -1.3508278877e-02, -1.0595470667e-02],\n           [ 4.8207514919e-04,  2.0210770890e-03,  1.0071187280e-03]],\n \n          [[-3.1371895224e-02, -1.4698782936e-02, -1.0653506964e-02],\n           [-6.4153254032e-02,  4.1151228361e-03,  2.5495167822e-02],\n           [-8.1954345107e-02,  2.3151043802e-02,  7.3582395911e-02]],\n \n          ...,\n \n          [[ 6.7452259827e-05, -2.3266219068e-03, -2.6998142712e-03],\n           [-2.9492713511e-03, -1.5450174687e-03, -8.1980129471e-04],\n           [-5.1424847916e-03, -7.4043185450e-03, -5.4529341869e-03]],\n \n          [[ 2.3016761988e-03,  6.7641324131e-04, -4.4382209308e-04],\n           [ 3.7939534523e-03, -1.5664901584e-03, -5.2933329716e-03],\n           [ 2.7950087097e-03, -7.6600298053e-04, -2.4741652887e-03]],\n \n          [[ 2.0126618911e-03,  1.6905333905e-04, -1.6250167973e-03],\n           [ 1.9860507455e-03, -1.5839397383e-04, -1.2970559765e-03],\n           [-2.0503464621e-03, -2.1029971540e-03, -2.6395439636e-03]]],\n \n \n         [[[ 4.1522616148e-01,  3.9875906706e-01,  3.6671346426e-01],\n           [ 3.9832553267e-01,  4.1186538339e-01,  4.0814614296e-01],\n           [ 3.4950691462e-01,  3.9299246669e-01,  4.0878954530e-01]],\n \n          [[ 1.6256158054e-01,  1.3285185397e-01,  1.5887872875e-01],\n           [ 1.8423740566e-01,  1.4504480362e-01,  1.6195413470e-01],\n           [ 1.5897141397e-01,  1.5320722759e-01,  1.7506971955e-01]],\n \n          [[ 7.3424667120e-01,  7.2246921062e-01,  6.8420028687e-01],\n           [ 7.7774912119e-01,  7.8334337473e-01,  7.1243631840e-01],\n           [ 7.8830057383e-01,  7.9506093264e-01,  7.2896909714e-01]],\n \n          ...,\n \n          [[ 4.4324137270e-02,  5.4791901261e-02,  5.1287151873e-02],\n           [ 3.6342497915e-02,  4.7810360789e-02,  4.9917250872e-02],\n           [ 5.2404157817e-02,  4.5756779611e-02,  4.7987729311e-02]],\n \n          [[ 6.5371297300e-02,  5.3537361324e-02,  7.9315967858e-02],\n           [ 7.9947203398e-02,  5.9714823961e-02,  6.1426974833e-02],\n           [ 7.1056365967e-02,  8.1485301256e-02,  6.7338012159e-02]],\n \n          [[ 1.3022020459e-02,  1.3379521668e-02,  1.0754457675e-02],\n           [ 1.0396796279e-02,  1.4651871286e-02,  1.3221630827e-02],\n           [ 1.4303560369e-02,  1.4931552112e-02,  1.4610298909e-02]]],\n \n \n         [[[ 1.9705051184e-01,  1.5791620314e-01,  5.5382825434e-02],\n           [ 1.9958040118e-01,  2.3305784166e-01,  1.6721539199e-01],\n           [ 6.7404679954e-02,  7.3385904543e-03,  1.0147888213e-01]],\n \n          [[ 1.3976265490e-01,  2.5708571076e-02, -8.1321887672e-02],\n           [ 1.0618596524e-01, -1.8414258957e-01,  5.2423592657e-02],\n           [-4.3304987252e-02, -5.8061525226e-02,  1.5039893985e-01]],\n \n          [[ 2.0920893550e-01,  2.8146147728e-01,  2.5176694989e-01],\n           [ 2.2817158699e-01,  1.6892613471e-01,  1.7583839595e-01],\n           [ 2.8682053089e-01,  1.8621641397e-01,  1.5672633052e-01]],\n \n          ...,\n \n          [[ 1.3849355280e-02,  3.7384066731e-02,  1.7249878496e-02],\n           [ 1.4068752527e-02, -6.5672318451e-03, -1.2350875884e-02],\n           [ 3.6410845816e-02,  8.7235299870e-03, -4.9468083307e-03]],\n \n          [[ 2.9041456059e-02,  4.4803902507e-02,  9.9374493584e-03],\n           [ 5.7020410895e-03,  1.1043870449e-01,  3.3469069749e-02],\n           [-4.1300952435e-03,  2.3744041100e-02,  3.0879750848e-02]],\n \n          [[ 7.5568351895e-03,  8.6922757328e-03, -7.7881093603e-04],\n           [ 1.1234150268e-02,  1.2570522726e-02, -1.2469731737e-03],\n           [ 9.3218414113e-03,  5.5712484755e-03, -1.2897299603e-03]]]],\n        device='cuda:0'),\n tensor([[[[ 0.2720909119,  0.2542991936,  0.2594964504],\n           [ 0.2954385877,  0.2724159360,  0.2622090280],\n           [ 0.3147192299,  0.3034410477,  0.2844833732]],\n \n          [[ 0.0412281342,  0.0564656854,  0.0576252490],\n           [ 0.0370514765,  0.0521864817,  0.0642677769],\n           [ 0.0390655324,  0.0474311151,  0.0561270975]],\n \n          [[ 0.0386403538,  0.0354468860,  0.0318372548],\n           [ 0.0438362211,  0.0381786451,  0.0362998396],\n           [ 0.0389061794,  0.0330379605,  0.0311017111]],\n \n          ...,\n \n          [[ 0.1816764623,  0.1850124449,  0.1850833297],\n           [ 0.1799927205,  0.1833488643,  0.1846810877],\n           [ 0.1781350523,  0.1800797731,  0.1826332062]],\n \n          [[ 0.0640388206,  0.0666872859,  0.0600662194],\n           [ 0.0752084628,  0.0776463524,  0.0581454672],\n           [ 0.0744660869,  0.0820036903,  0.0578189716]],\n \n          [[ 0.1553492099,  0.1600674242,  0.1478479058],\n           [ 0.1658908576,  0.1581406146,  0.1470126361],\n           [ 0.1567732096,  0.1240639687,  0.1447815150]]],\n \n \n         [[[ 2.4618432522,  2.4524199963,  2.4678642750],\n           [ 2.4509501457,  2.4237608910,  2.4464612007],\n           [ 2.4222595692,  2.3976781368,  2.4419467449]],\n \n          [[ 0.3804535568,  0.3935102224,  0.4034258723],\n           [ 0.4316224754,  0.4396972358,  0.4252660275],\n           [ 0.4409614205,  0.4459056258,  0.4172070324]],\n \n          [[ 0.3093610406,  0.3099893332,  0.3127871752],\n           [ 0.3160317540,  0.3293137252,  0.3372347951],\n           [ 0.3172860146,  0.3285143375,  0.3399124742]],\n \n          ...,\n \n          [[ 1.5675472021,  1.5681592226,  1.5750888586],\n           [ 1.5746581554,  1.5724416971,  1.5744807720],\n           [ 1.5803440809,  1.5777623653,  1.5740169287]],\n \n          [[ 0.4306551218,  0.4865623713,  0.5093183517],\n           [ 0.4449046552,  0.4925670922,  0.4979888797],\n           [ 0.4728732407,  0.4701005816,  0.4574220181]],\n \n          [[ 1.2566437721,  1.2784147263,  1.2605729103],\n           [ 1.3082770109,  1.3023571968,  1.2688357830],\n           [ 1.2840836048,  1.2696068287,  1.2414703369]]],\n \n \n         [[[-1.8594473600, -1.8574641943, -1.8589137793],\n           [-1.8427759409, -1.8211771250, -1.8378809690],\n           [-1.8094472885, -1.7821985483, -1.8117923737]],\n \n          [[-0.3393533528, -0.2627845109, -0.2199961692],\n           [-0.4546670020, -0.4185253680, -0.3116629124],\n           [-0.4409804344, -0.4727920294, -0.3786552250]],\n \n          [[-0.2353159785, -0.2534902990, -0.2543959916],\n           [-0.2311087996, -0.2477331311, -0.2484037727],\n           [-0.2114308625, -0.2231286615, -0.2330770046]],\n \n          ...,\n \n          [[-1.1763253212, -1.1358306408, -1.1287821531],\n           [-1.2036012411, -1.1713380814, -1.1402261257],\n           [-1.2242313623, -1.2234410048, -1.1874588728]],\n \n          [[-0.2623437047, -0.2868434787, -0.3559722304],\n           [-0.2810131311, -0.2659540176, -0.3064614236],\n           [-0.3203800619, -0.2634886801, -0.2661693394]],\n \n          [[-0.9427346587, -0.9177209735, -0.8922542930],\n           [-0.9530928731, -0.9065948725, -0.9788711667],\n           [-0.9297041893, -1.0008480549, -0.9518069029]]],\n \n \n         ...,\n \n \n         [[[-0.8011347651, -0.7759884596, -0.8256044984],\n           [-0.7934486270, -0.8007171750, -0.8630397916],\n           [-0.8269993067, -0.8668834567, -0.9014605880]],\n \n          [[-0.1787083149, -0.1453286558, -0.1018556729],\n           [-0.1442989558, -0.1020391583, -0.0824198276],\n           [-0.1256318390, -0.1016915217, -0.1030714810]],\n \n          [[-0.0948766097, -0.0872152820, -0.0825721174],\n           [-0.0951260179, -0.0902837440, -0.1002037972],\n           [-0.1004665345, -0.1066688672, -0.1252482682]],\n \n          ...,\n \n          [[-0.5513946414, -0.5459504128, -0.5384363532],\n           [-0.5483145118, -0.5369169116, -0.5269454718],\n           [-0.5338978767, -0.5235430598, -0.5190185308]],\n \n          [[-0.1632760912, -0.1279182881, -0.1226994544],\n           [-0.1417428255, -0.1046510562, -0.1272237450],\n           [-0.1172243133, -0.1088404804, -0.1543185711]],\n \n          [[-0.4511980116, -0.3717799187, -0.4381425381],\n           [-0.4010811448, -0.4209895432, -0.4545884430],\n           [-0.4049329162, -0.4326846004, -0.4286439717]]],\n \n \n         [[[ 0.4405148625,  0.4402019382,  0.4549308717],\n           [ 0.4445359409,  0.4282259941,  0.4337913096],\n           [ 0.4881440997,  0.5076037049,  0.4970622063]],\n \n          [[ 0.0707463622,  0.0835543498,  0.0825090185],\n           [ 0.0503989086,  0.0598033667,  0.0712893829],\n           [ 0.0651490539,  0.0732712969,  0.0839471892]],\n \n          [[ 0.0500116982,  0.0485952646,  0.0490389131],\n           [ 0.0637321770,  0.0643622577,  0.0625143200],\n           [ 0.0620993972,  0.0636088178,  0.0620889701]],\n \n          ...,\n \n          [[ 0.2973138094,  0.2996526659,  0.2987175286],\n           [ 0.2889918983,  0.2916651964,  0.2934309542],\n           [ 0.2838837802,  0.2871035039,  0.2903993726]],\n \n          [[ 0.0983377844,  0.0901661217,  0.0783440992],\n           [ 0.1007084101,  0.0950590819,  0.0812774599],\n           [ 0.0779592916,  0.0904224813,  0.0894614160]],\n \n          [[ 0.2465211004,  0.2440030575,  0.2140435427],\n           [ 0.2347982824,  0.2580186427,  0.2607126534],\n           [ 0.2363860756,  0.2099195868,  0.1996320337]]],\n \n \n         [[[ 0.5546230674,  0.5495330691,  0.5302607417],\n           [ 0.5691165328,  0.5604013801,  0.5500228405],\n           [ 0.5499222279,  0.5521531105,  0.5411260724]],\n \n          [[ 0.0633352026,  0.0821328089,  0.1045871601],\n           [ 0.0629882738,  0.0607551560,  0.0861886367],\n           [ 0.0690003335,  0.0739964470,  0.0743683726]],\n \n          [[ 0.0614947081,  0.0608081631,  0.0618994273],\n           [ 0.0604838990,  0.0651299879,  0.0622024275],\n           [ 0.0603225380,  0.0685246289,  0.0681922585]],\n \n          ...,\n \n          [[ 0.3438151479,  0.3534481227,  0.3532668948],\n           [ 0.3351404965,  0.3375517428,  0.3464038670],\n           [ 0.3386451602,  0.3319741189,  0.3366830349]],\n \n          [[ 0.1019140631,  0.0936967582,  0.0841302648],\n           [ 0.0913823098,  0.1000217721,  0.0912581831],\n           [ 0.0850223601,  0.0883352682,  0.0945317596]],\n \n          [[ 0.2590743899,  0.2618525326,  0.2592819929],\n           [ 0.2901183367,  0.2175001800,  0.2784222066],\n           [ 0.2727487683,  0.2529564798,  0.2858361304]]]], device='cuda:0'),\n tensor([[[[ 3.7037726492e-02,  3.7264592946e-02,  4.0037859231e-02],\n           [ 4.2050987482e-02,  3.6936692894e-02,  4.5467443764e-02],\n           [ 3.9558641613e-02,  3.7081006914e-02,  3.7067234516e-02]],\n \n          [[ 2.3806302249e-01,  2.2480256855e-01,  2.3505900800e-01],\n           [ 2.2387528419e-01,  2.3743458092e-01,  2.4009689689e-01],\n           [ 2.3498237133e-01,  2.5343587995e-01,  2.2976969182e-01]],\n \n          [[ 1.0391499102e-01,  8.4294281900e-02,  1.0449188948e-01],\n           [ 1.1033582687e-01,  9.5428615808e-02,  9.0037658811e-02],\n           [ 1.0152755678e-01,  1.2039236724e-01,  1.0568995029e-01]],\n \n          ...,\n \n          [[ 8.6900502443e-02,  9.5051877201e-02,  9.0426757932e-02],\n           [ 1.0904065520e-01,  1.0262586176e-01,  8.7417438626e-02],\n           [ 9.2230170965e-02,  7.3987647891e-02,  9.1869041324e-02]],\n \n          [[ 2.8552364558e-02,  2.7606651187e-02,  2.9448278248e-02],\n           [ 2.7899062261e-02,  2.6462931186e-02,  3.2124757767e-02],\n           [ 2.6864865795e-02,  2.6975698769e-02,  2.6107689366e-02]],\n \n          [[ 9.3128122389e-02,  1.0152478516e-01,  9.3457609415e-02],\n           [ 8.6823426187e-02,  1.0975298285e-01,  8.8496707380e-02],\n           [ 1.0227140039e-01,  8.9721433818e-02,  9.8129339516e-02]]],\n \n \n         [[[-3.5874933004e-02, -3.1951457262e-02, -4.8445470631e-02],\n           [-5.3540706635e-02, -4.4383611530e-02, -5.4922752082e-02],\n           [-4.8485558480e-02, -4.7183409333e-02, -5.1817778498e-02]],\n \n          [[-2.6799976826e-01, -2.6610374451e-01, -2.6447483897e-01],\n           [-2.8202334046e-01, -2.6437246799e-01, -2.5719347596e-01],\n           [-2.4421246350e-01, -2.7213254571e-01, -2.7593129873e-01]],\n \n          [[-9.2380188406e-02, -1.1284914613e-01, -1.3935248554e-01],\n           [-1.0824819654e-01, -7.1800731122e-02, -9.7071163356e-02],\n           [-1.1485457420e-01, -1.0988500714e-01, -1.0636591166e-01]],\n \n          ...,\n \n          [[-8.3626478910e-02, -7.4422627687e-02, -9.0998813510e-02],\n           [-8.5570707917e-02, -8.8660135865e-02, -9.8374933004e-02],\n           [-7.6377250254e-02, -7.1256414056e-02, -8.9266814291e-02]],\n \n          [[-2.6385450736e-02, -2.9370380566e-02, -2.4406664073e-02],\n           [-3.2529979944e-02, -3.1712330878e-02, -2.7293551713e-02],\n           [-3.1552866101e-02, -2.5923475623e-02, -2.5517318398e-02]],\n \n          [[-1.0431043804e-01, -7.2733484209e-02, -9.4369165599e-02],\n           [-9.9188067019e-02, -8.4891036153e-02, -7.3880575597e-02],\n           [-8.6062826216e-02, -8.9076861739e-02, -7.1403987706e-02]]],\n \n \n         [[[-7.4148569256e-03, -8.0761453137e-03, -2.1361799445e-03],\n           [-1.7073309049e-02, -1.0733612813e-02, -2.5931133423e-03],\n           [-1.1164307594e-02, -1.2575370260e-02, -9.8924618214e-03]],\n \n          [[-3.8879942149e-02, -3.0855964869e-02, -5.4672602564e-02],\n           [-2.0311726257e-02, -7.7896930277e-02, -5.0973884761e-02],\n           [-4.8557370901e-02, -5.8786947280e-02, -2.8986889869e-02]],\n \n          [[-2.2334698588e-02, -1.7854437232e-02, -1.5494260937e-02],\n           [-1.5294090845e-02, -2.3355189711e-02, -1.6887912527e-02],\n           [-1.4462684281e-02, -2.5308426470e-02, -2.6010911912e-02]],\n \n          ...,\n \n          [[-2.4518299848e-02, -2.8747932985e-02, -5.2996780723e-03],\n           [-3.1818192452e-02, -1.0542020202e-02, -7.8910766169e-03],\n           [-2.5081243366e-02, -1.7003325745e-02, -2.2298768163e-02]],\n \n          [[-4.8100138083e-03,  2.0894757472e-04, -6.7254151218e-03],\n           [-5.2808336914e-03, -4.2955423705e-03, -7.9605821520e-03],\n           [-6.8473527208e-03, -1.1285357177e-02, -6.8068997934e-03]],\n \n          [[-2.5301430374e-02, -4.5902248472e-02, -2.6426307857e-02],\n           [-2.9067717493e-02, -3.6528170109e-02, -3.7679452449e-02],\n           [-2.7331305668e-02, -1.1085171252e-02, -2.6339709759e-02]]],\n \n \n         ...,\n \n \n         [[[ 3.0368941370e-03,  3.7092594430e-03,  2.4071126245e-03],\n           [ 2.5953999721e-03,  8.2953937817e-04,  2.0690411329e-03],\n           [ 1.8395173829e-03,  1.4627852943e-03,  2.6127670426e-03]],\n \n          [[ 8.0337775871e-03,  1.4820610173e-02,  1.3273548335e-02],\n           [ 1.2657872401e-02,  1.1825502850e-02,  1.3412985019e-02],\n           [ 1.5403025784e-02,  1.2527553365e-02,  1.6984473914e-02]],\n \n          [[ 2.5684898719e-03,  8.1394696608e-03,  7.6437285170e-03],\n           [ 5.6072063744e-03,  4.1342168115e-03,  9.1786365956e-03],\n           [ 5.3855930455e-03,  3.3777423669e-03,  9.2070335522e-03]],\n \n          ...,\n \n          [[ 7.4187014252e-03,  7.1136457846e-03,  4.3145907111e-03],\n           [ 3.3740941435e-03,  5.9125018306e-03, -1.7187041230e-03],\n           [ 6.5014455467e-03,  4.3167378753e-03,  4.3928935193e-03]],\n \n          [[ 2.8068504762e-03,  1.5549788950e-03,  1.7187336925e-03],\n           [ 1.4227040811e-04,  5.2088947268e-04,  3.5952357575e-04],\n           [ 4.0481472388e-04,  2.1925913170e-03,  1.5112097608e-03]],\n \n          [[ 7.7192741446e-03,  4.0619904175e-03,  1.0439224541e-02],\n           [ 7.7639045194e-03,  4.7208177857e-03,  7.0062242448e-03],\n           [ 7.1647074074e-03,  6.8343169987e-03,  3.5348308738e-03]]],\n \n \n         [[[-1.9985723775e-03, -5.2707730792e-03, -5.8091795072e-03],\n           [-1.1224446353e-03, -3.6781752715e-04, -3.9196182042e-03],\n           [-2.2000209428e-03, -1.9478085451e-03, -3.2870909199e-03]],\n \n          [[-1.6424430534e-02, -2.2895310074e-02, -1.5459609218e-02],\n           [-2.2994430736e-02, -9.2448545620e-03, -1.2738751248e-02],\n           [-1.8341409042e-02, -1.5196538530e-02, -2.3336775601e-02]],\n \n          [[-1.2233846355e-03, -3.8433526643e-03, -2.0376874600e-03],\n           [-4.8433621414e-03, -6.4638070762e-03, -7.5461901724e-03],\n           [-1.0338356718e-02, -1.2111614924e-03, -3.6195914727e-03]],\n \n          ...,\n \n          [[-4.8785675317e-03, -8.0915745348e-03, -1.0244533420e-02],\n           [-2.3386895191e-03, -8.1499684602e-03, -7.8540015966e-03],\n           [-4.0228459984e-03, -8.8332947344e-03, -7.4452436529e-03]],\n \n          [[-3.3755740151e-03, -2.9715900309e-03, -2.2876695730e-03],\n           [-3.6976477131e-03, -1.9899997860e-03, -1.1105198646e-03],\n           [-4.4094207697e-03, -2.1064188331e-03, -3.0135570560e-03]],\n \n          [[-8.5951192304e-03, -1.3962945668e-03, -8.9749405161e-03],\n           [-6.9010965526e-03,  2.8229572345e-03, -2.3638817947e-03],\n           [-7.6539367437e-03, -2.3089926690e-03, -2.7089563664e-03]]],\n \n \n         [[[-4.4504620018e-04, -5.2268925356e-04, -9.9460117053e-04],\n           [-2.2944533266e-03, -3.1167606357e-03, -8.6778192781e-04],\n           [-2.0792116411e-03, -9.5123786014e-04, -4.4937565690e-04]],\n \n          [[-3.7847826025e-04, -1.6347957775e-02, -1.4821895398e-02],\n           [ 1.6112094745e-03, -1.8153581768e-02, -1.2875799090e-02],\n           [ 7.0371601032e-04, -9.0601760894e-03, -6.7883064039e-03]],\n \n          [[-2.0434381440e-05,  3.4795666579e-04, -4.3321000412e-03],\n           [-3.7146531977e-03, -1.9979383796e-03,  4.8582459567e-04],\n           [-1.0698880069e-03, -8.4013203159e-03, -3.2207735348e-03]],\n \n          ...,\n \n          [[-3.4512192942e-03, -2.6761633344e-03,  1.3420113828e-04],\n           [-2.4095331319e-03,  7.3278206401e-04, -9.1488705948e-05],\n           [-3.9507062174e-03,  2.6971232146e-03, -2.6239389554e-03]],\n \n          [[-5.2146962844e-05, -2.6074232301e-04, -1.9682666752e-03],\n           [-1.3901592465e-03, -3.1309548649e-04,  7.6897023246e-04],\n           [-2.2591189481e-03, -9.8078965675e-04,  3.4356059041e-04]],\n \n          [[-9.7656669095e-04, -3.0153929256e-03,  5.8232783340e-04],\n           [-4.2119319551e-03, -8.5919825360e-03, -6.1842025025e-04],\n           [ 6.3336483436e-05, -3.6626821384e-03, -4.9435188994e-03]]]],\n        device='cuda:0'),\n tensor([[[[ 2.4993617535e+00]],\n \n          [[ 1.0667455196e-01]],\n \n          [[ 3.6064219475e-01]],\n \n          ...,\n \n          [[ 1.5041531324e+00]],\n \n          [[ 4.1948989034e-01]],\n \n          [[ 1.3648461103e+00]]],\n \n \n         [[[-8.0375254154e-01]],\n \n          [[-1.0738079250e-01]],\n \n          [[-7.8086808324e-02]],\n \n          ...,\n \n          [[-5.0109291077e-01]],\n \n          [[-1.8464444578e-01]],\n \n          [[-3.5339748859e-01]]],\n \n \n         [[[-1.3923332095e-01]],\n \n          [[-2.7784518898e-02]],\n \n          [[-2.2233635187e-02]],\n \n          ...,\n \n          [[-1.0067904741e-01]],\n \n          [[-3.9156433195e-02]],\n \n          [[-1.2522594631e-01]]],\n \n \n         ...,\n \n \n         [[[ 6.1204485595e-02]],\n \n          [[ 9.6354475245e-03]],\n \n          [[ 9.2583624646e-03]],\n \n          ...,\n \n          [[ 3.7964873016e-02]],\n \n          [[ 1.0559834540e-02]],\n \n          [[ 2.6932839304e-02]]],\n \n \n         [[[-2.2569353878e-01]],\n \n          [[-2.3704163730e-02]],\n \n          [[-2.8358394280e-02]],\n \n          ...,\n \n          [[-1.5093301237e-01]],\n \n          [[-7.1699932218e-02]],\n \n          [[-1.0055760294e-01]]],\n \n \n         [[[-1.5239718370e-02]],\n \n          [[ 7.5678859139e-04]],\n \n          [[-5.8957543224e-03]],\n \n          ...,\n \n          [[-6.4854873344e-03]],\n \n          [[-8.8729402050e-03]],\n \n          [[-1.0703856125e-02]]]], device='cuda:0'),\n tensor([[[[-1.9323869050e-01, -1.8197408319e-01, -1.9626243412e-01],\n           [-2.2418172657e-01, -1.4415571094e-01, -1.9787859917e-01],\n           [-1.9599662721e-01, -1.8046011031e-01, -2.0214189589e-01]],\n \n          [[-3.6905035377e-01, -3.6661389470e-01, -3.6147701740e-01],\n           [-3.5316351056e-01, -3.5973155499e-01, -3.5704675317e-01],\n           [-3.6821642518e-01, -3.5550969839e-01, -3.3519464731e-01]],\n \n          [[-1.5041354299e-01, -1.9771082699e-01, -2.0072199404e-01],\n           [-1.4422081411e-01, -1.6002497077e-01, -1.6748937964e-01],\n           [-1.7144125700e-01, -1.2264312804e-01, -1.3020235300e-01]],\n \n          ...,\n \n          [[-1.1430257000e-02, -1.0717242025e-02, -1.1231429875e-02],\n           [-1.0891040787e-02, -1.1934137903e-02, -1.2739261612e-02],\n           [-9.6733989194e-03, -1.1188143864e-02, -1.0812032968e-02]],\n \n          [[-5.1328133792e-02, -4.5841932297e-02, -4.9969639629e-02],\n           [-5.6384515017e-02, -5.7959303260e-02, -5.9272248298e-02],\n           [-4.5518562198e-02, -5.0871748477e-02, -6.0634568334e-02]],\n \n          [[-1.7020564526e-02, -2.0249189809e-02, -1.9932119176e-02],\n           [-1.2830716558e-02, -1.3613506220e-02, -1.9610457122e-02],\n           [-1.8041834235e-02, -2.0160781220e-02, -1.2226245366e-02]]],\n \n \n         [[[-1.2540799379e-01, -1.1508956552e-01, -4.8890594393e-02],\n           [-1.0934603959e-01, -1.2924917042e-01, -3.6711003631e-02],\n           [-6.9574803114e-02, -7.5678497553e-02, -6.0350030661e-02]],\n \n          [[-1.9915974140e-01, -1.9826349616e-01, -1.8157216907e-01],\n           [-1.9166781008e-01, -1.9676643610e-01, -1.8521909416e-01],\n           [-1.9026918709e-01, -1.9722233713e-01, -1.9690454006e-01]],\n \n          [[-8.0886237323e-02, -8.0805175006e-02, -8.0612078309e-02],\n           [-7.5286090374e-02, -7.6758369803e-02, -8.1366308033e-02],\n           [-7.2261318564e-02, -7.3004238307e-02, -7.4816510081e-02]],\n \n          ...,\n \n          [[-4.1903089732e-03, -4.9695004709e-03, -3.7924288772e-03],\n           [-5.0727515481e-03, -4.5638782904e-03, -3.7609410938e-03],\n           [-4.9628643319e-03, -2.9205731116e-03, -4.4343252666e-03]],\n \n          [[-2.1154860035e-02, -2.4199089035e-02, -3.0889302492e-02],\n           [-2.0903181285e-02, -2.1578541026e-02, -2.7782326564e-02],\n           [-2.9821619391e-02, -2.5397147983e-02, -2.6949839666e-02]],\n \n          [[-6.9858185016e-03, -4.7697611153e-03, -3.2295011915e-03],\n           [-5.4812184535e-03, -5.9286919422e-03, -5.3420104086e-03],\n           [-5.6864046492e-03, -6.7288805731e-03, -5.3421678022e-03]]],\n \n \n         [[[ 1.3582663611e-02,  2.0520940423e-02,  1.1851049960e-02],\n           [ 1.7836170271e-02,  1.2726891786e-02,  1.2351988815e-02],\n           [ 1.5560753644e-02,  1.6838766634e-02,  1.6435576603e-02]],\n \n          [[ 3.0486870557e-02,  2.8562974185e-02,  2.9770875350e-02],\n           [ 2.9566824436e-02,  2.8933160007e-02,  3.2475523651e-02],\n           [ 3.0523244292e-02,  3.0695499852e-02,  3.0726540834e-02]],\n \n          [[ 1.0212768801e-02,  1.7211221159e-02,  2.0397020504e-02],\n           [ 1.0963957757e-02,  1.9215356559e-02,  1.7045790330e-02],\n           [ 9.0123638511e-03,  1.3878714293e-02,  1.2159308419e-02]],\n \n          ...,\n \n          [[ 1.3456207234e-03,  8.1340828910e-04,  3.0403496930e-04],\n           [ 8.7037310004e-04,  5.9270812199e-04,  8.8525144383e-04],\n           [ 7.1812141687e-04,  5.7135714451e-04,  1.2445293833e-03]],\n \n          [[ 3.9264014922e-03,  5.0573982298e-03,  3.0040759593e-03],\n           [ 3.8680708967e-03,  5.2512362599e-03,  4.3384442106e-03],\n           [ 3.6308045965e-03,  4.4896150939e-03,  4.9194735475e-03]],\n \n          [[ 1.1893721530e-03,  9.4211852411e-04,  1.0950131109e-03],\n           [ 7.6795881614e-04,  5.2111980040e-04,  8.0152024748e-04],\n           [ 1.2602390489e-03,  1.7903895350e-03,  2.9800846241e-03]]],\n \n \n         ...,\n \n \n         [[[-3.4452293068e-02, -1.7623875290e-02, -3.1043453142e-02],\n           [-2.8834959492e-02, -9.1737676412e-03, -2.7199489996e-02],\n           [-4.2362678796e-02, -2.4944139645e-02, -2.6388896629e-02]],\n \n          [[-4.6898152679e-02, -4.4234421104e-02, -4.5520793647e-02],\n           [-5.1551438868e-02, -4.9077957869e-02, -4.9898639321e-02],\n           [-5.2789092064e-02, -4.6513669193e-02, -4.7210644931e-02]],\n \n          [[-2.5104643777e-02, -1.8421195447e-02, -2.2338729352e-02],\n           [-2.3966202512e-02, -2.1670581773e-02, -2.2465998307e-02],\n           [-2.4122776464e-02, -2.2237956524e-02, -2.8504312038e-02]],\n \n          ...,\n \n          [[-2.0696355496e-03, -2.7238519397e-03, -2.7723386884e-03],\n           [-1.4917571098e-03, -2.5151260197e-03, -1.8539767480e-03],\n           [-2.1501784213e-03, -2.4988923687e-03, -1.6139170621e-03]],\n \n          [[-9.7708785906e-03, -8.5269426927e-03, -7.9799648374e-03],\n           [-1.1798320338e-02, -1.0289540514e-02, -1.1481831782e-02],\n           [-8.1049678847e-03, -9.6672903746e-03, -5.9524504468e-03]],\n \n          [[-2.6376738679e-03, -2.7922198642e-03, -3.4964906517e-03],\n           [-3.2027605921e-03, -3.1695663929e-03, -3.2258590218e-03],\n           [-3.3331445884e-03, -2.2954195738e-03, -1.6658433015e-03]]],\n \n \n         [[[ 0.0000000000e+00, -4.2687326641e-05,  6.9198443089e-04],\n           [ 1.4445051784e-04,  1.1809204007e-03,  4.3915060814e-05],\n           [ 2.0000405493e-04,  8.7007538241e-06,  1.4621764421e-04]],\n \n          [[ 1.0102413944e-04,  3.1744982698e-04,  2.6304062339e-04],\n           [ 1.6864720965e-04,  5.5711827008e-04,  9.6324918559e-05],\n           [ 3.8407830289e-04,  3.1184294494e-04,  4.1290256195e-04]],\n \n          [[ 2.5792792439e-04,  1.5716516646e-04,  2.0012327877e-04],\n           [ 1.0905288946e-04,  7.2397415352e-05,  2.7275763568e-04],\n           [ 1.2318043446e-04,  8.3495040599e-05,  1.2273975881e-04]],\n \n          ...,\n \n          [[ 0.0000000000e+00,  2.6104316930e-06,  0.0000000000e+00],\n           [ 1.9073535805e-04,  1.7316921731e-04,  9.0204848675e-05],\n           [ 0.0000000000e+00,  1.3216595107e-06,  1.1817450286e-05]],\n \n          [[ 2.2419430024e-05,  2.3340806365e-05,  6.1666738475e-05],\n           [ 8.6143889348e-05,  1.7274894344e-04,  9.2556401796e-05],\n           [ 4.1978673835e-05,  8.8337212219e-05,  3.7561498175e-05]],\n \n          [[ 0.0000000000e+00,  0.0000000000e+00, -6.0130660131e-06],\n           [ 0.0000000000e+00,  0.0000000000e+00,  8.4764615167e-06],\n           [ 0.0000000000e+00,  0.0000000000e+00,  4.8271031119e-05]]],\n \n \n         [[[ 1.8033689260e-01,  2.1236856282e-01,  2.3542070389e-01],\n           [ 2.0796316862e-01,  1.4525173604e-01,  2.0741420984e-01],\n           [ 1.7506605387e-01,  1.7620906234e-01,  1.9480969012e-01]],\n \n          [[ 3.9497011900e-01,  4.0035355091e-01,  3.9878538251e-01],\n           [ 3.9268368483e-01,  3.8929235935e-01,  3.9766871929e-01],\n           [ 4.0089809895e-01,  4.1421782970e-01,  4.0585029125e-01]],\n \n          [[ 1.7851883173e-01,  1.7831602693e-01,  2.0299927890e-01],\n           [ 1.5981644392e-01,  1.7265836895e-01,  1.8397638202e-01],\n           [ 1.6945344210e-01,  1.6818647087e-01,  1.6354392469e-01]],\n \n          ...,\n \n          [[ 8.6313057691e-03,  9.5317289233e-03,  1.0371911339e-02],\n           [ 6.6960817203e-03,  6.2268897891e-03,  7.5145345181e-03],\n           [ 8.7872575969e-03,  7.1601639502e-03,  7.0414463989e-03]],\n \n          [[ 5.2813690156e-02,  5.1423389465e-02,  5.0953015685e-02],\n           [ 5.2410315722e-02,  5.6578233838e-02,  5.7220984250e-02],\n           [ 5.4950371385e-02,  5.3117576987e-02,  5.8155886829e-02]],\n \n          [[ 1.8802182749e-02,  1.2919784524e-02,  1.5581653453e-02],\n           [ 1.8396379426e-02,  1.3135698624e-02,  1.8218377605e-02],\n           [ 2.2261256352e-02,  2.2783214226e-02,  2.1615676582e-02]]]],\n        device='cuda:0'),\n tensor([[[[ 1.0749598034e-02,  1.0201473720e-02,  1.0162591003e-02],\n           [ 1.0205199011e-02,  6.8606967106e-03,  1.2944549322e-02],\n           [ 9.8805315793e-03,  9.5427110791e-03,  9.0557504445e-03]],\n \n          [[ 8.2815922797e-03,  1.5795506537e-02,  1.5157428570e-02],\n           [ 5.9714205563e-03,  3.6990247667e-02,  3.0362909660e-02],\n           [ 1.0878361762e-02,  4.0666643530e-02,  3.6041267216e-02]],\n \n          [[ 3.0363615952e-04,  2.8449579258e-04,  3.7340354174e-04],\n           [ 7.0185036748e-05,  4.7770670790e-05,  4.5060322736e-04],\n           [ 9.4915107184e-05,  2.3606995819e-04,  3.4836446866e-04]],\n \n          ...,\n \n          [[ 5.0543257967e-03,  4.6581393108e-03,  7.8966114670e-03],\n           [ 5.5536618456e-03,  1.3524512760e-03,  5.4631740786e-03],\n           [ 4.7722966410e-03,  2.9262420721e-03,  4.9914293922e-03]],\n \n          [[-9.1499532573e-06, -1.5667637854e-07,  2.2891263143e-05],\n           [ 9.5716486612e-06,  2.8138856578e-05,  3.4107588363e-06],\n           [-3.4214754123e-06,  4.2504198063e-06,  0.0000000000e+00]],\n \n          [[ 6.8984165788e-02,  7.9217977822e-02,  7.1129694581e-02],\n           [ 8.8185034692e-02,  5.2907373756e-02,  8.7283208966e-02],\n           [ 8.4703043103e-02,  7.7073380351e-02,  7.1372196078e-02]]],\n \n \n         [[[-1.5531168319e-02, -1.8457533792e-02, -1.7969433218e-02],\n           [-1.9863130525e-02, -2.3232070729e-02, -1.9709076732e-02],\n           [-1.8351148814e-02, -2.1295197308e-02, -2.0055340603e-02]],\n \n          [[-3.9583541453e-02, -3.8404688239e-02, -3.1950443983e-02],\n           [-3.7119016051e-02, -3.6032903939e-02, -2.9660481960e-02],\n           [-3.2688450068e-02, -3.5152532160e-02, -2.6853669435e-02]],\n \n          [[-6.1288091820e-04, -8.2719186321e-04, -8.1313395640e-04],\n           [-8.7466195691e-04, -8.7947904831e-04, -7.3720881483e-04],\n           [-8.1756443251e-04, -6.3470081659e-04, -6.9903774420e-04]],\n \n          ...,\n \n          [[-7.1802684106e-03, -7.6395673677e-03, -6.2979445793e-03],\n           [-7.9272249714e-03, -8.0077080056e-03, -7.9508516937e-03],\n           [-7.6334839687e-03, -8.6439317092e-03, -8.9884344488e-03]],\n \n          [[ 2.0455981939e-06,  3.1883802876e-05,  1.2103062545e-05],\n           [-2.9144757718e-06,  1.8631486455e-05,  4.8490333029e-06],\n           [-1.1446413737e-05,  3.5687285163e-06,  6.0904358179e-07]],\n \n          [[-1.0922669619e-01, -1.1802364886e-01, -1.1384079605e-01],\n           [-1.1444236338e-01, -1.1529645324e-01, -1.2028399855e-01],\n           [-1.1772216856e-01, -1.0923107713e-01, -1.2272495776e-01]]],\n \n \n         [[[-4.1158450767e-03, -4.0153712034e-03, -9.4173084944e-03],\n           [-6.8745589815e-03, -5.1267510280e-03, -5.5392491631e-03],\n           [-9.4651496038e-03, -8.0272052437e-03, -3.6593284458e-03]],\n \n          [[-9.5507828519e-03, -7.8687835485e-03, -8.4848469123e-03],\n           [-9.3768863007e-03, -9.7475415096e-03, -9.5751732588e-03],\n           [-1.0412221774e-02, -1.4512118883e-02, -1.3396217488e-02]],\n \n          [[-3.6068403278e-04, -2.9795907903e-04, -3.4618988138e-05],\n           [-6.4460595604e-04, -3.9405468851e-04, -1.4431418094e-04],\n           [-5.7857244974e-04, -5.9389555827e-04, -6.6573753429e-05]],\n \n          ...,\n \n          [[-3.0119982548e-03, -3.4246684518e-03, -4.2548803613e-03],\n           [-1.9388211658e-03, -2.0081247203e-03, -3.8415966555e-03],\n           [-2.8148826677e-03, -1.5533586266e-03, -3.0959108844e-03]],\n \n          [[ 5.1786264521e-06,  0.0000000000e+00,  1.9723506739e-07],\n           [ 1.3032236893e-05,  0.0000000000e+00,  0.0000000000e+00],\n           [ 0.0000000000e+00,  0.0000000000e+00, -2.4353619665e-05]],\n \n          [[-4.4577039778e-02, -5.7994678617e-02, -5.0065882504e-02],\n           [-3.9857134223e-02, -4.7040250152e-02, -4.7606818378e-02],\n           [-5.1817409694e-02, -3.8118384778e-02, -4.6212378889e-02]]],\n \n \n         ...,\n \n \n         [[[-2.6865070686e-03, -3.6598020233e-03, -3.2138782553e-03],\n           [-3.8866386749e-03, -3.5588613246e-03, -2.8115191963e-03],\n           [-2.4331612512e-03, -2.8419008013e-03, -2.6306509972e-03]],\n \n          [[-6.7565580830e-03, -6.2296977267e-03, -9.0234111995e-03],\n           [-6.9086519070e-03, -5.1543018781e-03, -7.9287718982e-03],\n           [-6.8889083341e-03, -4.8414398916e-03, -8.1561133265e-03]],\n \n          [[-2.2611526947e-04, -1.5970099776e-04, -3.4946780943e-05],\n           [-2.0037563809e-04, -1.1430137965e-04, -8.4698513092e-05],\n           [-7.2197304689e-05, -4.2129246140e-05, -1.2350919133e-04]],\n \n          ...,\n \n          [[-1.0665182490e-03, -1.5714770416e-03, -1.7041551182e-03],\n           [-1.5881579602e-03, -1.8367754528e-03, -1.1896929936e-03],\n           [-1.4938651584e-03, -1.0940902866e-03, -7.1648956509e-04]],\n \n          [[ 0.0000000000e+00,  0.0000000000e+00,  0.0000000000e+00],\n           [ 0.0000000000e+00, -2.0500454411e-05,  2.8078648029e-06],\n           [ 0.0000000000e+00,  0.0000000000e+00,  0.0000000000e+00]],\n \n          [[-2.8464471921e-02, -2.5053258985e-02, -2.4973807856e-02],\n           [-2.5422891602e-02, -2.2661756724e-02, -2.0637992769e-02],\n           [-2.2589074448e-02, -2.4585340172e-02, -2.4657528847e-02]]],\n \n \n         [[[ 1.5306065325e-04, -9.3642447609e-04, -2.1723569371e-03],\n           [-2.2611198947e-03, -9.7792665474e-04,  2.3980806582e-03],\n           [-3.3729593270e-03, -2.3551939521e-03, -1.0490964632e-03]],\n \n          [[-9.7715910524e-03, -5.8903256431e-03, -2.0982695278e-03],\n           [-8.7940720841e-03, -2.9439681675e-03,  6.3153740484e-05],\n           [-8.5757113993e-03, -5.7026548311e-03, -6.3354293816e-03]],\n \n          [[-3.4550917917e-05,  2.1975135314e-04,  9.2170397693e-05],\n           [-3.0708291888e-05,  1.5159962641e-04,  1.6304125893e-04],\n           [-7.3788192822e-05,  2.8049547109e-04,  2.0871829474e-04]],\n \n          ...,\n \n          [[ 2.8419110458e-04, -1.2035979889e-03, -1.8076108536e-03],\n           [ 1.7171946820e-03, -6.1357975937e-05, -8.3423341857e-04],\n           [ 1.6794530675e-03,  5.9169664746e-04, -1.0423973436e-04]],\n \n          [[-8.8582255557e-06,  1.3385156308e-06,  4.2424735511e-06],\n           [-1.2050992154e-05, -2.0339528419e-05, -1.8132204787e-05],\n           [-2.8720500268e-05, -1.0535819456e-05, -1.0077488696e-05]],\n \n          [[-1.1817759834e-02, -1.3779459521e-02, -2.1501211450e-02],\n           [-1.2074662372e-02, -1.0153236799e-02, -2.1945439279e-02],\n           [-1.3293176889e-02, -1.9855828956e-02, -2.5357579812e-02]]],\n \n \n         [[[ 5.2265492268e-03,  2.7226284146e-03,  1.1836072663e-03],\n           [ 2.3721926846e-03,  1.4004240511e-03, -1.7611446674e-04],\n           [ 1.5955865383e-03,  8.7890110444e-04,  1.6279111151e-05]],\n \n          [[ 4.2971764924e-04,  5.4193398682e-04,  4.0791481733e-03],\n           [ 1.9546521362e-03,  4.0303263813e-03,  6.7509491928e-03],\n           [ 5.9453123249e-03,  9.3347178772e-03,  7.7532189898e-03]],\n \n          [[-1.7946420121e-04, -1.4424402616e-04, -1.5207775868e-04],\n           [-1.7092250346e-04, -7.5938405644e-05, -1.3641929399e-06],\n           [-2.9660579457e-05,  3.1558513001e-05,  9.1624591732e-05]],\n \n          ...,\n \n          [[ 1.9676974043e-03,  1.4678367879e-03, -1.1177217821e-03],\n           [ 1.5848524636e-03,  1.0939759668e-03, -8.4380811313e-04],\n           [ 1.2301023817e-03,  3.1149535789e-04, -3.8152409252e-04]],\n \n          [[ 8.1736689026e-06, -1.4796207324e-05, -3.9596539864e-05],\n           [-1.1520140106e-05, -1.7337959434e-05, -2.0261126338e-05],\n           [ 2.8669717267e-07, -1.2524478734e-06, -5.8928617364e-06]],\n \n          [[ 1.2535095215e-02,  1.6500683501e-02,  1.8056523055e-02],\n           [ 6.4634149894e-03,  1.3480458409e-02,  1.6343861818e-02],\n           [ 7.3036886752e-03,  6.9915321656e-03,  8.3343749866e-03]]]],\n        device='cuda:0'),\n tensor([[[[ 4.6639796346e-02,  5.2757918835e-02,  4.7899994999e-02],\n           [ 5.3937286139e-02,  4.5812509954e-02,  5.3740117699e-02],\n           [ 4.6950671822e-02,  5.5969212204e-02,  4.9456961453e-02]],\n \n          [[ 5.9346050024e-02,  5.6701704860e-02,  6.0299411416e-02],\n           [ 6.1617337167e-02,  5.5318057537e-02,  6.1303526163e-02],\n           [ 5.8960549533e-02,  5.8111958206e-02,  5.4201263934e-02]],\n \n          [[ 1.3289113529e-02,  1.0067842901e-02,  1.0704446584e-02],\n           [ 1.0953553952e-02,  8.9519470930e-03,  8.0954823643e-03],\n           [ 9.8922625184e-03,  8.2105416805e-03,  8.9535368606e-03]],\n \n          ...,\n \n          [[ 2.3137659300e-03,  2.8113073204e-03,  2.9109751340e-03],\n           [ 2.6190376375e-03,  3.2064637635e-03,  3.7857303396e-03],\n           [ 1.7000535736e-03,  4.2041135021e-03,  3.5726120695e-03]],\n \n          [[ 8.9259266853e-02,  8.7709777057e-02,  8.6787752807e-02],\n           [ 9.0391799808e-02,  9.0446710587e-02,  8.6962372065e-02],\n           [ 9.0955354273e-02,  9.3156054616e-02,  8.9937791228e-02]],\n \n          [[ 2.1469207481e-02,  2.0717982203e-02,  1.8776508048e-02],\n           [ 1.9944274798e-02,  1.7579587176e-02,  1.6299944371e-02],\n           [ 1.5277849510e-02,  1.5262107365e-02,  1.3280640356e-02]]],\n \n \n         [[[ 3.1607823912e-03, -8.5230218247e-03, -2.4242298678e-03],\n           [ 7.0189009421e-03, -5.3405733779e-03,  6.5738749690e-03],\n           [ 4.9671914894e-04, -1.9247618038e-03,  2.0658161957e-03]],\n \n          [[ 3.1725235749e-03, -2.1128116641e-03,  3.7503524218e-03],\n           [ 2.2243044805e-04,  1.6296864487e-05,  1.8072952516e-03],\n           [ 3.6483872682e-03,  1.0414278368e-03,  8.0391634256e-03]],\n \n          [[ 4.0633492172e-03,  3.0226693489e-03,  2.2562472150e-03],\n           [ 3.6499276757e-03,  1.6765955661e-04,  1.3835985446e-03],\n           [ 4.6599158086e-03,  3.6224895157e-03,  2.0988082979e-03]],\n \n          ...,\n \n          [[ 7.7482790221e-04,  1.1184884934e-03,  1.2662484078e-03],\n           [ 2.8151954757e-04,  4.5829993905e-04,  1.7696213035e-04],\n           [ 5.9320230503e-04,  2.5633472251e-04,  5.2196165780e-04]],\n \n          [[ 6.9798575714e-03, -8.0747430911e-04,  4.7698873095e-03],\n           [ 8.2495063543e-03,  2.2021154873e-03,  5.0805313513e-03],\n           [ 2.8749839403e-03, -1.1599755380e-03,  2.2363145836e-03]],\n \n          [[ 4.3141148053e-03,  2.0020341035e-03,  1.5698720235e-03],\n           [ 1.7965838779e-03, -9.7982672742e-05, -2.3507635342e-04],\n           [ 5.8465446346e-03,  4.7033494338e-03,  2.6039467193e-03]]],\n \n \n         [[[-1.3408465683e-01, -1.5082164109e-01, -1.3521003723e-01],\n           [-1.4876948297e-01, -1.6341650486e-01, -1.5744838119e-01],\n           [-1.3124889135e-01, -1.5146681666e-01, -1.3579162955e-01]],\n \n          [[-1.7282345891e-01, -1.7639614642e-01, -1.6609145701e-01],\n           [-1.7446807027e-01, -1.8717329204e-01, -1.7503875494e-01],\n           [-1.7486785352e-01, -1.8088148534e-01, -1.7715132236e-01]],\n \n          [[-3.3782590181e-02, -3.8491230458e-02, -3.3357556909e-02],\n           [-3.7064120173e-02, -3.7182029337e-02, -3.6841787398e-02],\n           [-3.2590866089e-02, -3.2418265939e-02, -3.3229567111e-02]],\n \n          ...,\n \n          [[-9.6274483949e-03, -9.1270133853e-03, -9.2764645815e-03],\n           [-9.0920850635e-03, -9.5372097567e-03, -8.0420244485e-03],\n           [-6.1864629388e-03, -6.0486784205e-03, -7.2030355223e-03]],\n \n          [[-2.3678487539e-01, -2.3440946639e-01, -2.3871245980e-01],\n           [-2.3831132054e-01, -2.4649116397e-01, -2.5244426727e-01],\n           [-2.4589097500e-01, -2.5599181652e-01, -2.5873929262e-01]],\n \n          [[-6.1177901924e-02, -5.7716012001e-02, -5.0083179027e-02],\n           [-5.2012950182e-02, -5.2303630859e-02, -5.4818272591e-02],\n           [-4.9933291972e-02, -5.1405306906e-02, -5.7713784277e-02]]],\n \n \n         ...,\n \n \n         [[[-3.4444464836e-04, -1.8387600721e-04, -1.4521225239e-04],\n           [-1.6319460701e-04, -2.0176144608e-04,  2.6441219961e-04],\n           [-6.1285754782e-06, -1.8128080410e-04, -3.9625397767e-04]],\n \n          [[-4.4393137796e-04, -3.2981598633e-04, -1.6771745868e-04],\n           [-3.6715451279e-04, -4.5455232612e-04, -7.3679009802e-05],\n           [-2.8055248549e-04, -2.9145617737e-04, -2.4911161745e-04]],\n \n          [[-1.2586198864e-04,  4.2954714445e-05,  4.4300690206e-05],\n           [-7.8177137766e-05, -1.8582441044e-05,  2.9844872188e-05],\n           [-5.2912684623e-05,  1.0529066458e-05, -1.5026952315e-04]],\n \n          ...,\n \n          [[ 0.0000000000e+00,  0.0000000000e+00,  8.1994803622e-06],\n           [ 1.6654260980e-04,  1.2239560601e-04,  2.8891774491e-05],\n           [ 8.5727246187e-05, -2.2669042664e-05,  7.5452735473e-06]],\n \n          [[-3.0509557109e-04, -2.4349233718e-04, -2.9782275669e-04],\n           [-3.1386574847e-04, -2.0546274027e-04, -2.1367701993e-04],\n           [-2.3935666832e-04, -3.3438840182e-04, -2.6844019885e-04]],\n \n          [[-3.9288119297e-05, -6.4097412178e-07, -3.2596704841e-05],\n           [-1.2628422701e-04, -9.8038617580e-05, -8.1840880739e-06],\n           [-4.2900279368e-05, -7.0280089858e-05, -3.4334785596e-05]]],\n \n \n         [[[-5.2257653326e-02, -5.2038822323e-02, -4.5961633325e-02],\n           [-5.3964983672e-02, -4.5228078961e-02, -5.4411269724e-02],\n           [-4.9807980657e-02, -5.5698491633e-02, -5.1788900048e-02]],\n \n          [[-6.4540848136e-02, -6.1797630042e-02, -5.5834375322e-02],\n           [-6.3369117677e-02, -5.7767558843e-02, -6.3829191029e-02],\n           [-5.7826660573e-02, -6.1467047781e-02, -6.2860362232e-02]],\n \n          [[-1.2618549168e-02, -1.0831190273e-02, -8.5676312447e-03],\n           [-1.3353859074e-02, -1.0454684496e-02, -1.0158523917e-02],\n           [-1.2716378085e-02, -9.5929363742e-03, -1.0609836318e-02]],\n \n          ...,\n \n          [[-2.3536179215e-03, -8.7175710360e-04, -1.9561026711e-03],\n           [-2.5833037216e-03, -1.7904696288e-03, -1.1420403607e-03],\n           [-3.5839357879e-03, -1.3823457994e-03, -2.9785269871e-03]],\n \n          [[-9.6099048853e-02, -9.4188228250e-02, -9.6415385604e-02],\n           [-9.3080826104e-02, -9.3136616051e-02, -9.5320813358e-02],\n           [-9.1095089912e-02, -8.8595420122e-02, -9.2891313136e-02]],\n \n          [[-2.2247159854e-02, -1.7056858167e-02, -1.6943383962e-02],\n           [-2.2043487057e-02, -1.8722260371e-02, -1.5018817037e-02],\n           [-2.0971950144e-02, -1.3605827466e-02, -1.4318447560e-02]]],\n \n \n         [[[ 4.1614285111e-01,  4.4694828987e-01,  4.1913214326e-01],\n           [ 4.2463257909e-01,  4.3397900462e-01,  4.3329352140e-01],\n           [ 4.1257324815e-01,  4.4170957804e-01,  4.1374507546e-01]],\n \n          [[ 5.1903867722e-01,  5.3569293022e-01,  5.2476477623e-01],\n           [ 5.1670950651e-01,  5.2885454893e-01,  5.2226608992e-01],\n           [ 5.1712751389e-01,  5.2939897776e-01,  5.1814228296e-01]],\n \n          [[ 9.6279501915e-02,  9.8233908415e-02,  1.0049359500e-01],\n           [ 9.7462944686e-02,  9.5927610993e-02,  9.9595978856e-02],\n           [ 9.4840854406e-02,  9.6774108708e-02,  9.8274663091e-02]],\n \n          ...,\n \n          [[ 1.9426519051e-02,  1.8503220752e-02,  1.9744843245e-02],\n           [ 1.9460702315e-02,  1.9067605957e-02,  1.8656766042e-02],\n           [ 2.0025087520e-02,  2.0075496286e-02,  1.9545610994e-02]],\n \n          [[ 7.5168049335e-01,  7.5038516521e-01,  7.5460553169e-01],\n           [ 7.4082970619e-01,  7.4914562702e-01,  7.4420601130e-01],\n           [ 7.4727803469e-01,  7.4807012081e-01,  7.5106203556e-01]],\n \n          [[ 1.6936939955e-01,  1.6643902659e-01,  1.6302026808e-01],\n           [ 1.6119676828e-01,  1.6584266722e-01,  1.5897640586e-01],\n           [ 1.6414283216e-01,  1.6042228043e-01,  1.5640999377e-01]]]],\n        device='cuda:0'),\n tensor([[[[ 2.8377860785e-01,  2.9163101315e-01,  2.8960543871e-01],\n           [ 2.8242960572e-01,  2.8907245398e-01,  2.8618034720e-01],\n           [ 2.8424328566e-01,  2.8826665878e-01,  2.8435745835e-01]],\n \n          [[ 4.2640337348e-01,  4.3903797865e-01,  4.3421581388e-01],\n           [ 4.3089812994e-01,  4.3951389194e-01,  4.3364843726e-01],\n           [ 4.2336413264e-01,  4.2693540454e-01,  4.2450430989e-01]],\n \n          [[ 2.5661090016e-01,  2.6169863343e-01,  2.6117521524e-01],\n           [ 2.5799316168e-01,  2.5926178694e-01,  2.6025688648e-01],\n           [ 2.4731443822e-01,  2.3977680504e-01,  2.4703837931e-01]],\n \n          ...,\n \n          [[ 4.5442138799e-04,  4.1340710595e-04,  3.4512768616e-04],\n           [ 5.5779778631e-04,  4.0003485628e-04,  4.5747071272e-04],\n           [ 4.4976727804e-04,  4.0711247129e-04,  3.5525026033e-04]],\n \n          [[ 5.4401934147e-01,  5.5052119493e-01,  5.4199439287e-01],\n           [ 5.4268997908e-01,  5.5516529083e-01,  5.4091870785e-01],\n           [ 5.3790938854e-01,  5.3882402182e-01,  5.3506779671e-01]],\n \n          [[ 2.0881891251e+00,  2.0909721851e+00,  2.0811524391e+00],\n           [ 2.0803155899e+00,  2.0894601345e+00,  2.0796432495e+00],\n           [ 2.0698924065e+00,  2.0791606903e+00,  2.0751380920e+00]]],\n \n \n         [[[-1.5493187122e-02, -1.4075472951e-02, -1.0187221691e-02],\n           [-2.1287003532e-02, -2.1352279931e-02, -1.8296727911e-02],\n           [-2.4644741789e-02, -2.4955190718e-02, -2.0106384531e-02]],\n \n          [[-2.5256151333e-02, -2.0975897089e-02, -2.3203553632e-02],\n           [-2.9304681346e-02, -2.0520305261e-02, -2.5255741552e-02],\n           [-3.4942463040e-02, -3.0105758458e-02, -2.7696793899e-02]],\n \n          [[-8.5039492697e-03, -9.7214244306e-03, -1.2490924448e-02],\n           [-7.0412443019e-03, -1.0744299740e-02, -1.1264474131e-02],\n           [-1.7384916544e-02, -2.0051138476e-02, -1.8516061828e-02]],\n \n          ...,\n \n          [[-4.4369720854e-05, -8.4584622527e-05,  3.3162832551e-05],\n           [-1.0169847519e-04, -6.6052642069e-05, -2.2192203687e-05],\n           [ 4.3370480853e-05,  1.3710236999e-05,  1.0591362297e-05]],\n \n          [[-3.5221245140e-02, -2.7409946546e-02, -2.6082130149e-02],\n           [-3.5090733320e-02, -2.9322013259e-02, -2.4485820904e-02],\n           [-4.0638726205e-02, -2.8389548883e-02, -3.0013032258e-02]],\n \n          [[-1.4250190556e-01, -1.3022887707e-01, -1.2453286350e-01],\n           [-1.4430594444e-01, -1.3332864642e-01, -1.2611219287e-01],\n           [-1.3847579062e-01, -1.2998849154e-01, -1.2170337886e-01]]],\n \n \n         [[[ 0.0000000000e+00, -2.1271637252e-07, -4.1655603127e-06],\n           [-1.4736788216e-06,  0.0000000000e+00,  0.0000000000e+00],\n           [-3.8624530134e-06, -1.5934783733e-06, -3.7931713450e-06]],\n \n          [[-5.7821325754e-06, -5.0200342230e-06, -1.4339861991e-06],\n           [-4.1587043142e-08, -9.6272651717e-07, -3.6026467569e-06],\n           [ 0.0000000000e+00, -1.5110259710e-07, -1.0630405995e-06]],\n \n          [[-6.3508196035e-06,  0.0000000000e+00,  0.0000000000e+00],\n           [-3.4207823774e-06, -5.0460148486e-06,  0.0000000000e+00],\n           [ 0.0000000000e+00,  0.0000000000e+00,  0.0000000000e+00]],\n \n          ...,\n \n          [[ 0.0000000000e+00,  0.0000000000e+00,  0.0000000000e+00],\n           [ 0.0000000000e+00,  0.0000000000e+00,  0.0000000000e+00],\n           [ 0.0000000000e+00,  0.0000000000e+00,  0.0000000000e+00]],\n \n          [[-5.6349090301e-06, -7.4015915743e-06, -6.3334991864e-06],\n           [-5.3981966630e-07,  0.0000000000e+00, -4.6043442126e-07],\n           [-6.8588851718e-06, -3.2331445254e-06,  0.0000000000e+00]],\n \n          [[-5.1095230447e-06, -9.2952905106e-06, -8.3426675701e-06],\n           [-8.2907063188e-06, -9.5608702395e-06, -1.1985728634e-05],\n           [-7.3958181019e-06, -7.5401549111e-06, -9.7744887171e-06]]],\n \n \n         ...,\n \n \n         [[[ 1.6978660226e-01,  1.7851430178e-01,  1.7693521082e-01],\n           [ 1.6457650065e-01,  1.7304632068e-01,  1.7754223943e-01],\n           [ 1.6639070213e-01,  1.7553448677e-01,  1.7825539410e-01]],\n \n          [[ 2.6850047708e-01,  2.7678745985e-01,  2.7049788833e-01],\n           [ 2.6170042157e-01,  2.5021708012e-01,  2.5674051046e-01],\n           [ 2.6665809751e-01,  2.6514029503e-01,  2.5860562921e-01]],\n \n          [[ 1.5827684104e-01,  1.7186532915e-01,  1.6246351600e-01],\n           [ 1.6693320870e-01,  1.6939935088e-01,  1.5980996192e-01],\n           [ 1.5447197855e-01,  1.3882398605e-01,  1.4466434717e-01]],\n \n          ...,\n \n          [[ 2.0005958504e-04,  2.3210790823e-04,  2.1238155023e-04],\n           [ 2.6209861971e-04,  2.2851876565e-04,  1.2691874872e-04],\n           [ 3.3397486550e-04,  2.4398919777e-04,  1.7868549912e-04]],\n \n          [[ 3.4242197871e-01,  3.5078990459e-01,  3.3501479030e-01],\n           [ 3.4257006645e-01,  3.5265731812e-01,  3.4123221040e-01],\n           [ 3.3704522252e-01,  3.3004882932e-01,  3.3108168840e-01]],\n \n          [[ 1.3096640110e+00,  1.3111026287e+00,  1.2900933027e+00],\n           [ 1.2982145548e+00,  1.3028813601e+00,  1.2754738331e+00],\n           [ 1.2665305138e+00,  1.2877978086e+00,  1.2719597816e+00]]],\n \n \n         [[[ 1.7297701910e-02,  1.9262345508e-02,  1.8949313089e-02],\n           [ 1.7878822982e-02,  1.9971199334e-02,  2.0500585437e-02],\n           [ 1.6096452251e-02,  1.6869843006e-02,  1.7905466259e-02]],\n \n          [[ 2.6551559567e-02,  4.1052360088e-02,  3.2971687615e-02],\n           [ 2.7500536293e-02,  3.5089906305e-02,  2.9759176075e-02],\n           [ 2.2938309237e-02,  2.1478209645e-02,  2.0479016006e-02]],\n \n          [[ 1.3426179998e-02,  2.4734856561e-02,  1.6550278291e-02],\n           [ 1.4454451390e-02,  2.8598204255e-02,  1.9118763506e-02],\n           [ 1.5516687185e-02,  1.0070563294e-02,  1.0820783675e-02]],\n \n          ...,\n \n          [[ 1.6882171622e-05,  1.2413109653e-04,  9.1286288807e-05],\n           [ 0.0000000000e+00,  2.3728236556e-05,  5.5266746131e-06],\n           [ 4.8843644436e-06,  3.2491458114e-05,  1.8698476197e-05]],\n \n          [[ 3.4905720502e-02,  4.9675289541e-02,  3.7500619888e-02],\n           [ 3.2760296017e-02,  4.2507894337e-02,  3.5857830197e-02],\n           [ 2.8766810894e-02,  2.7430295944e-02,  3.0025986955e-02]],\n \n          [[ 1.2464866787e-01,  1.0914176702e-01,  1.1985437572e-01],\n           [ 1.3052017987e-01,  1.3122269511e-01,  1.3077102602e-01],\n           [ 1.3061083853e-01,  1.3604798913e-01,  1.3484559953e-01]]],\n \n \n         [[[ 1.3328260138e-05, -1.2928387605e-07,  2.4065071557e-05],\n           [-5.7374563767e-07,  4.2814181143e-06, -1.4483657651e-05],\n           [ 4.5653741836e-06, -8.8429314928e-06,  5.2099916502e-05]],\n \n          [[-1.3174912056e-05,  5.7325996750e-05, -1.8004289814e-05],\n           [-1.5691715817e-05,  8.3292921772e-05, -3.6427009036e-06],\n           [-4.2910953198e-05, -1.6622501789e-05,  2.6193976737e-05]],\n \n          [[-3.1673997000e-05,  1.6306808902e-05, -4.9835862228e-06],\n           [ 6.3901497924e-06,  3.0642448110e-05, -1.8418939362e-05],\n           [-1.7815571482e-05,  5.1074537623e-05, -3.9768743591e-05]],\n \n          ...,\n \n          [[ 0.0000000000e+00,  0.0000000000e+00,  0.0000000000e+00],\n           [ 0.0000000000e+00,  0.0000000000e+00,  0.0000000000e+00],\n           [ 0.0000000000e+00,  0.0000000000e+00,  0.0000000000e+00]],\n \n          [[-6.7809240136e-05, -1.9990449800e-05,  7.1665228461e-05],\n           [-2.3852964659e-05,  1.7985775776e-04,  1.3638997189e-05],\n           [-8.0092009739e-05,  1.0215288785e-04, -3.8013340600e-06]],\n \n          [[-1.1947975872e-04,  1.0298331472e-04,  1.0669337644e-04],\n           [-8.9169945568e-05,  1.2966965733e-04,  6.1669255956e-05],\n           [-8.5423547716e-05,  1.1647901556e-04,  2.7176249205e-05]]]],\n        device='cuda:0'),\n tensor([[[[ 4.3024763465e-01]],\n \n          [[ 5.1442867517e-01]],\n \n          [[ 9.5521576703e-02]],\n \n          ...,\n \n          [[ 2.0931556821e-02]],\n \n          [[ 7.4254226685e-01]],\n \n          [[ 1.6065730155e-01]]],\n \n \n         [[[-3.3629845828e-02]],\n \n          [[-3.7309087813e-02]],\n \n          [[-5.7941046543e-03]],\n \n          ...,\n \n          [[-8.3625793923e-04]],\n \n          [[-5.5028468370e-02]],\n \n          [[-1.6336616129e-02]]],\n \n \n         [[[ 0.0000000000e+00]],\n \n          [[-2.2861568141e-06]],\n \n          [[-2.5453573471e-07]],\n \n          ...,\n \n          [[ 0.0000000000e+00]],\n \n          [[-1.3824028429e-06]],\n \n          [[ 0.0000000000e+00]]],\n \n \n         ...,\n \n \n         [[[ 3.3934739232e-01]],\n \n          [[ 3.6622866988e-01]],\n \n          [[ 6.7936249077e-02]],\n \n          ...,\n \n          [[ 1.4888541773e-02]],\n \n          [[ 5.5283808708e-01]],\n \n          [[ 1.1529307067e-01]]],\n \n \n         [[[ 3.2778739929e-02]],\n \n          [[ 3.2469272614e-02]],\n \n          [[ 6.3911285251e-03]],\n \n          ...,\n \n          [[ 2.1801353432e-03]],\n \n          [[ 5.8913767338e-02]],\n \n          [[ 8.7859695777e-03]]],\n \n \n         [[[ 3.1201587990e-04]],\n \n          [[ 5.1895884098e-05]],\n \n          [[-9.1781485025e-06]],\n \n          ...,\n \n          [[ 4.6257944632e-05]],\n \n          [[ 3.2196514076e-04]],\n \n          [[ 5.4073196225e-05]]]], device='cuda:0'),\n tensor([[[[-4.2542690039e-01, -4.3165645003e-01, -4.2955198884e-01],\n           [-4.3106341362e-01, -4.3788748980e-01, -4.3793651462e-01],\n           [-4.2278924584e-01, -4.2645645142e-01, -4.2864897847e-01]],\n \n          [[-3.7383612990e-01, -3.7452584505e-01, -3.7232336402e-01],\n           [-3.7941858172e-01, -3.7896433473e-01, -3.7582686543e-01],\n           [-3.8198807836e-01, -3.8221034408e-01, -3.7900826335e-01]],\n \n          [[-1.1186987336e-08,  1.8382644384e-07,  6.5443532549e-07],\n           [-2.0701077119e-07, -6.1586803213e-08, -3.8759580434e-08],\n           [ 2.5491772249e-07, -1.6360883137e-07,  1.1899822994e-07]],\n \n          ...,\n \n          [[-2.6749414206e-01, -2.7259889245e-01, -2.7185449004e-01],\n           [-2.6896083355e-01, -2.7539184690e-01, -2.7487957478e-01],\n           [-2.6096314192e-01, -2.5971376896e-01, -2.6424357295e-01]],\n \n          [[-2.1623845678e-03, -2.3637861013e-03, -2.5514652953e-03],\n           [-3.4775028471e-03, -3.6353187170e-03, -3.9627486840e-03],\n           [-1.1786971008e-03, -1.0894087609e-03, -1.4872236643e-03]],\n \n          [[ 1.0677764294e-05,  9.2638947535e-06,  5.3560979723e-06],\n           [ 1.1494094906e-05,  5.0943081078e-06, -4.1956382120e-06],\n           [ 3.1939787277e-06, -2.4873356779e-06,  3.3631170027e-06]]],\n \n \n         [[[-1.8309074640e-01, -1.8462204933e-01, -1.8674053252e-01],\n           [-1.8219825625e-01, -1.8392769992e-01, -1.8465587497e-01],\n           [-1.8973276019e-01, -1.9413724542e-01, -1.9302523136e-01]],\n \n          [[-1.7348121107e-01, -1.7165383697e-01, -1.7104642093e-01],\n           [-1.7860767245e-01, -1.7782588303e-01, -1.7637501657e-01],\n           [-1.7947962880e-01, -1.8287469447e-01, -1.8115977943e-01]],\n \n          [[ 0.0000000000e+00,  0.0000000000e+00,  0.0000000000e+00],\n           [ 0.0000000000e+00,  0.0000000000e+00,  0.0000000000e+00],\n           [ 0.0000000000e+00,  0.0000000000e+00,  0.0000000000e+00]],\n \n          ...,\n \n          [[-1.1658868194e-01, -1.1920186132e-01, -1.1842065305e-01],\n           [-1.1421389878e-01, -1.1027392000e-01, -1.1146755517e-01],\n           [-1.1500026286e-01, -1.1126365513e-01, -1.1634927243e-01]],\n \n          [[-1.6379085137e-03, -1.5083815670e-03, -1.6531774309e-03],\n           [-1.1860668892e-03, -9.6682558069e-04, -9.9518499337e-04],\n           [-6.7153532291e-04, -6.0463935370e-04, -5.3141929675e-04]],\n \n          [[ 0.0000000000e+00, -1.0110718904e-05, -1.1165320757e-05],\n           [-1.2238451745e-06, -1.7612026568e-05, -1.8094360712e-05],\n           [-1.3010067050e-05, -1.1438103684e-05, -2.0379095076e-05]]],\n \n \n         [[[ 8.6039974121e-05,  7.3694740422e-05,  5.9186626459e-05],\n           [ 6.8114924943e-05,  5.9450918343e-05,  5.3467461839e-05],\n           [ 8.8499538833e-05,  6.6084146965e-05,  7.3855830124e-05]],\n \n          [[ 7.9754419858e-05,  6.8586145062e-05,  6.5862113843e-05],\n           [ 9.2384027084e-05,  5.6838820456e-05,  5.7113240473e-05],\n           [ 8.7320833700e-05,  6.2326085754e-05,  5.4302596254e-05]],\n \n          [[ 0.0000000000e+00,  0.0000000000e+00,  0.0000000000e+00],\n           [ 0.0000000000e+00,  0.0000000000e+00,  0.0000000000e+00],\n           [ 0.0000000000e+00,  0.0000000000e+00,  0.0000000000e+00]],\n \n          ...,\n \n          [[ 8.2910468336e-05,  6.2606661231e-05,  3.6943543819e-05],\n           [ 1.2377487110e-05,  1.8952656319e-05,  7.6338510553e-06],\n           [ 1.4064200514e-05,  7.1891015978e-05,  5.4677031585e-05]],\n \n          [[ 6.8958615884e-06,  5.8262194216e-06,  0.0000000000e+00],\n           [-5.5084547057e-07,  0.0000000000e+00,  0.0000000000e+00],\n           [ 5.7243487390e-06,  0.0000000000e+00,  1.7464944904e-06]],\n \n          [[ 0.0000000000e+00,  0.0000000000e+00,  0.0000000000e+00],\n           [ 0.0000000000e+00,  0.0000000000e+00,  0.0000000000e+00],\n           [ 0.0000000000e+00,  0.0000000000e+00,  0.0000000000e+00]]],\n \n \n         ...,\n \n \n         [[[ 1.9221670926e-01,  1.9051489234e-01,  1.7931309342e-01],\n           [ 1.8708574772e-01,  1.8659117818e-01,  1.8154782057e-01],\n           [ 1.8758577108e-01,  1.9100089371e-01,  1.9137953222e-01]],\n \n          [[ 1.6341076791e-01,  1.6471745074e-01,  1.6746073961e-01],\n           [ 1.6809041798e-01,  1.6659255326e-01,  1.6315886378e-01],\n           [ 1.6972842813e-01,  1.6909961402e-01,  1.6712778807e-01]],\n \n          [[ 5.4631505009e-07,  0.0000000000e+00,  0.0000000000e+00],\n           [ 1.4679744709e-06,  1.2104196685e-06,  0.0000000000e+00],\n           [ 0.0000000000e+00,  7.3486626206e-07,  0.0000000000e+00]],\n \n          ...,\n \n          [[ 1.2635767460e-01,  1.2671414018e-01,  1.2659488618e-01],\n           [ 1.1061964929e-01,  1.1677380651e-01,  1.2255518138e-01],\n           [ 1.0911684483e-01,  1.1097960919e-01,  1.1753843725e-01]],\n \n          [[ 2.6874665637e-03,  2.7050545905e-03,  2.1590362303e-03],\n           [ 9.1028516181e-04,  1.5251336154e-03,  9.1986317420e-04],\n           [ 9.8217581399e-04,  1.4512721682e-03,  1.2023375602e-03]],\n \n          [[ 1.7167698388e-05,  1.3004738321e-05,  0.0000000000e+00],\n           [ 6.6737384259e-06,  1.4399316569e-05,  9.0795438155e-06],\n           [ 1.9812632672e-06,  5.8953057305e-05,  3.7475067074e-05]]],\n \n \n         [[[-4.2733258009e-01, -4.2272746563e-01, -4.2455670238e-01],\n           [-4.3436500430e-01, -4.3006402254e-01, -4.2753842473e-01],\n           [-4.2778953910e-01, -4.2303532362e-01, -4.2441076040e-01]],\n \n          [[-3.7609377503e-01, -3.7897562981e-01, -3.7768697739e-01],\n           [-3.7794193625e-01, -3.7914115191e-01, -3.7828725576e-01],\n           [-3.7840178609e-01, -3.7798985839e-01, -3.7814873457e-01]],\n \n          [[ 1.3877632909e-07, -6.0520983425e-07,  3.3754622564e-07],\n           [-4.1929570216e-07, -1.9285844246e-06, -9.1155061455e-07],\n           [ 1.5745564497e-07, -3.9160636334e-07,  1.1855871662e-07]],\n \n          ...,\n \n          [[-2.7348956466e-01, -2.7017465234e-01, -2.6803037524e-01],\n           [-2.7631971240e-01, -2.7770388126e-01, -2.7218374610e-01],\n           [-2.7904501557e-01, -2.8577324748e-01, -2.8081431985e-01]],\n \n          [[-2.2225358989e-03, -2.1115248092e-03, -1.6097216867e-03],\n           [-2.7581139002e-03, -2.6411106810e-03, -2.6769179385e-03],\n           [-8.9104479412e-04, -1.2360844994e-03, -1.5579882311e-03]],\n \n          [[ 4.9610742280e-05,  1.2800716831e-05,  1.4585678400e-05],\n           [ 2.0513527488e-05, -1.8292506866e-05, -1.5597124730e-05],\n           [ 1.1180638467e-05,  1.9695478386e-06,  1.2513544789e-05]]],\n \n \n         [[[ 1.5868720412e-01,  1.5850667655e-01,  1.5417458117e-01],\n           [ 1.6881965101e-01,  1.7183499038e-01,  1.6679835320e-01],\n           [ 1.6518813372e-01,  1.6620831192e-01,  1.6267856956e-01]],\n \n          [[ 1.3735154271e-01,  1.3658346236e-01,  1.3321566582e-01],\n           [ 1.4264468849e-01,  1.4062909782e-01,  1.3696967065e-01],\n           [ 1.4233230054e-01,  1.4189814031e-01,  1.3895630836e-01]],\n \n          [[ 0.0000000000e+00,  0.0000000000e+00,  6.8871736403e-07],\n           [ 0.0000000000e+00,  0.0000000000e+00,  1.0398885024e-06],\n           [ 0.0000000000e+00,  0.0000000000e+00,  0.0000000000e+00]],\n \n          ...,\n \n          [[ 1.0378500819e-01,  1.0373908281e-01,  1.0215096176e-01],\n           [ 1.0769741982e-01,  1.1023829132e-01,  1.0582692176e-01],\n           [ 9.4165012240e-02,  9.3332596123e-02,  8.9271612465e-02]],\n \n          [[ 1.7818028573e-03,  2.0208859351e-03,  1.9197107758e-03],\n           [ 3.1686574221e-03,  3.5253667738e-03,  3.2511681784e-03],\n           [ 4.3786858441e-04,  4.2884721188e-04,  4.1876969044e-04]],\n \n          [[ 2.2991389415e-06,  2.1698249384e-06,  1.5139249854e-07],\n           [ 2.5175268092e-07,  2.9574771361e-06,  9.5305182413e-08],\n           [-1.7619320715e-05, -1.3601294313e-07,  5.1493134379e-06]]]],\n        device='cuda:0'),\n tensor([[[[ 1.9774550200e-01,  1.9603484869e-01,  1.9216318429e-01],\n           [ 2.1325327456e-01,  2.1220517159e-01,  2.0892986655e-01],\n           [ 2.0746125281e-01,  2.0740668476e-01,  2.0315352082e-01]],\n \n          [[ 1.0144064203e-02,  1.0577279143e-02,  1.0885848664e-02],\n           [ 1.0593168437e-02,  1.0606157593e-02,  1.0865169577e-02],\n           [ 1.0109978728e-02,  9.6975369379e-03,  9.7504844889e-03]],\n \n          [[ 1.0661564374e-05,  9.7091151474e-06,  1.2598307876e-05],\n           [ 1.8219163849e-06,  3.6332880882e-06,  1.3364733604e-05],\n           [ 7.4331201176e-06,  1.4327082681e-05,  1.0671241398e-05]],\n \n          ...,\n \n          [[ 5.6026585400e-02,  5.6555524468e-02,  5.5485159159e-02],\n           [ 5.6960612535e-02,  5.5341321975e-02,  5.4612737149e-02],\n           [ 5.5622719228e-02,  5.5324111134e-02,  5.4577153176e-02]],\n \n          [[ 3.5639551282e-01,  3.6295858026e-01,  3.6357727647e-01],\n           [ 3.6472329497e-01,  3.7030866742e-01,  3.6995059252e-01],\n           [ 3.6159217358e-01,  3.6765715480e-01,  3.6634781957e-01]],\n \n          [[ 5.2346859127e-02,  5.2313290536e-02,  5.0867103040e-02],\n           [ 5.8773022145e-02,  5.9939950705e-02,  5.8707337826e-02],\n           [ 5.6469809264e-02,  5.8453135192e-02,  5.7269554585e-02]]],\n \n \n         [[[-5.0209980458e-02, -4.7683913261e-02, -4.5643631369e-02],\n           [-4.8630189151e-02, -4.7142487019e-02, -4.5742075890e-02],\n           [-5.1483504474e-02, -5.1505289972e-02, -4.9414154142e-02]],\n \n          [[-2.0873544272e-03, -2.2140722722e-03, -2.6890693698e-03],\n           [-2.6527354494e-03, -2.6062990073e-03, -2.8907656670e-03],\n           [-3.5335232969e-03, -3.3917294350e-03, -3.2662674785e-03]],\n \n          [[-1.3507165022e-06, -3.5024336285e-06, -3.5539783312e-06],\n           [-4.9154814405e-06, -1.1982313026e-06, -6.5322406044e-06],\n           [ 1.9337182948e-06, -1.9937406250e-06, -7.6191855669e-07]],\n \n          ...,\n \n          [[-1.4139954932e-02, -1.4163380489e-02, -1.4457257465e-02],\n           [-1.5460367315e-02, -1.4412253164e-02, -1.3328431174e-02],\n           [-1.4172488824e-02, -1.1386037804e-02, -8.6584966630e-03]],\n \n          [[-8.3510585129e-02, -8.3257958293e-02, -8.8337287307e-02],\n           [-8.4484525025e-02, -8.5733711720e-02, -8.8640101254e-02],\n           [-8.6896538734e-02, -8.9651793242e-02, -9.0060874820e-02]],\n \n          [[-1.6221869737e-02, -1.6411423683e-02, -1.5101265162e-02],\n           [-1.4224891551e-02, -1.5923878178e-02, -1.5546011738e-02],\n           [-1.4085541479e-02, -1.5233465470e-02, -1.6204275191e-02]]],\n \n \n         [[[ 2.5463558268e-04,  1.2283897959e-03,  4.7708634520e-04],\n           [ 2.6391507708e-04,  1.2053694809e-03,  4.8671074910e-04],\n           [ 3.7727216841e-04,  1.3169641607e-03,  6.0045137070e-04]],\n \n          [[ 5.4719654145e-05,  9.7382842796e-05,  1.3834939455e-04],\n           [ 2.7734407922e-05,  6.7597531597e-05,  1.2526953651e-04],\n           [ 3.0128803701e-05,  7.8960911196e-05,  9.1938789410e-05]],\n \n          [[ 0.0000000000e+00,  0.0000000000e+00,  4.4890002755e-06],\n           [ 0.0000000000e+00,  0.0000000000e+00,  2.7270134524e-06],\n           [ 0.0000000000e+00,  0.0000000000e+00,  1.3562780623e-06]],\n \n          ...,\n \n          [[ 1.1423687829e-04, -9.7156254924e-05, -7.8286800999e-05],\n           [ 4.0331124183e-05, -3.0475559470e-05, -2.8342506994e-05],\n           [ 1.0854721040e-04,  1.0095015023e-04, -1.7742686396e-05]],\n \n          [[ 4.7971587628e-04,  8.2895089872e-04,  1.3710735366e-03],\n           [ 3.5464004031e-04,  7.1804726031e-04,  1.4258136507e-03],\n           [ 3.2529889722e-04,  8.4987765877e-04,  1.5339500969e-03]],\n \n          [[ 5.5104159401e-05,  1.9577496278e-04,  2.1479450515e-04],\n           [ 5.8655779867e-05,  2.3400370264e-04,  1.7914907949e-04],\n           [ 4.0954051656e-05,  2.4066207698e-04,  2.3195010726e-04]]],\n \n \n         ...,\n \n \n         [[[ 1.4725519717e-01,  1.4173883200e-01,  1.4160899818e-01],\n           [ 1.6669784486e-01,  1.6852819920e-01,  1.6396695375e-01],\n           [ 1.6398835182e-01,  1.6871778667e-01,  1.5998469293e-01]],\n \n          [[ 7.3665920645e-03,  6.9053466432e-03,  7.3694358580e-03],\n           [ 7.3612402193e-03,  6.9259018637e-03,  7.6977214776e-03],\n           [ 7.4779451825e-03,  7.9132439569e-03,  7.9332115129e-03]],\n \n          [[ 1.2272639651e-05,  8.7261978479e-06,  4.2220840442e-06],\n           [ 4.6662057684e-07,  4.0213558350e-07,  2.2675853870e-06],\n           [ 7.8656066762e-06,  8.0525442172e-06,  3.7178951970e-06]],\n \n          ...,\n \n          [[ 3.6513276398e-02,  3.4780211747e-02,  3.5418216139e-02],\n           [ 3.9509274065e-02,  3.4249484539e-02,  2.9207479209e-02],\n           [ 4.0704932064e-02,  3.6543708295e-02,  3.5195812583e-02]],\n \n          [[ 2.4970921874e-01,  2.5423139334e-01,  2.5176900625e-01],\n           [ 2.4751278758e-01,  2.5499001145e-01,  2.5473704934e-01],\n           [ 2.4765852094e-01,  2.5443610549e-01,  2.5289437175e-01]],\n \n          [[ 3.3358961344e-02,  3.3194869757e-02,  3.2916311175e-02],\n           [ 4.4558979571e-02,  4.7561768442e-02,  4.4818498194e-02],\n           [ 4.2373158038e-02,  4.3058265001e-02,  4.3030440807e-02]]],\n \n \n         [[[ 2.3334099352e-01,  2.3326221108e-01,  2.3522330821e-01],\n           [ 2.1914403141e-01,  2.1788834035e-01,  2.1947962046e-01],\n           [ 2.1642494202e-01,  2.1494980156e-01,  2.1449056268e-01]],\n \n          [[ 1.7657045275e-02,  1.8309710547e-02,  1.7838802189e-02],\n           [ 1.6898928210e-02,  1.7926495522e-02,  1.7220146954e-02],\n           [ 1.3417691924e-02,  1.4472692274e-02,  1.4476773329e-02]],\n \n          [[ 4.5383071665e-06,  4.6343193389e-06,  3.8961616156e-07],\n           [ 1.6949672499e-05,  9.4343231467e-06,  1.3953547295e-06],\n           [ 8.7818280008e-06,  6.9224602157e-06, -1.8289233594e-06]],\n \n          ...,\n \n          [[ 5.5051773787e-02,  5.6556977332e-02,  5.8994766325e-02],\n           [ 5.4329361767e-02,  5.2755016834e-02,  5.5200453848e-02],\n           [ 5.3699530661e-02,  5.0451062620e-02,  5.0598215312e-02]],\n \n          [[ 3.5368177295e-01,  3.5672643781e-01,  3.5374060273e-01],\n           [ 3.5147175193e-01,  3.5527250171e-01,  3.5020992160e-01],\n           [ 3.5636475682e-01,  3.5945940018e-01,  3.5523825884e-01]],\n \n          [[ 6.7399255931e-02,  6.6980496049e-02,  6.8017698824e-02],\n           [ 5.4059255868e-02,  5.3652048111e-02,  5.5106062442e-02],\n           [ 4.9653332680e-02,  4.8499811441e-02,  4.8103705049e-02]]],\n \n \n         [[[ 1.6305671632e-01,  1.6806696355e-01,  1.6464450955e-01],\n           [ 1.6211733222e-01,  1.6671049595e-01,  1.6501364112e-01],\n           [ 1.6984950006e-01,  1.7269925773e-01,  1.7075885832e-01]],\n \n          [[ 1.0492522269e-02,  1.0871158913e-02,  1.0352864861e-02],\n           [ 9.5330998302e-03,  9.9643273279e-03,  9.7461733967e-03],\n           [ 8.9621637017e-03,  9.4857616350e-03,  9.4380453229e-03]],\n \n          [[ 4.0083059503e-06,  1.5716748294e-06,  1.1313984942e-05],\n           [ 6.5388912844e-06,  1.8306404854e-06,  1.2819451513e-05],\n           [ 8.4043931565e-06, -1.4945653675e-06,  1.1976848327e-05]],\n \n          ...,\n \n          [[ 4.7000575811e-02,  4.3305691332e-02,  3.8537614048e-02],\n           [ 4.5588504523e-02,  4.0717262775e-02,  3.5820901394e-02],\n           [ 4.4261697680e-02,  4.1500840336e-02,  4.0899746120e-02]],\n \n          [[ 2.8279522061e-01,  2.9030039907e-01,  2.9340332747e-01],\n           [ 2.7595448494e-01,  2.8027635813e-01,  2.8152686357e-01],\n           [ 2.6669123769e-01,  2.6566591859e-01,  2.6879352331e-01]],\n \n          [[ 3.8568437099e-02,  3.8463111967e-02,  4.1031476110e-02],\n           [ 3.7788555026e-02,  3.5013478249e-02,  3.7049524486e-02],\n           [ 4.2847398669e-02,  3.9510831237e-02,  3.9407927543e-02]]]],\n        device='cuda:0'),\n tensor([[[[ 1.7276835442e+00,  1.7415630817e+00,  1.7166386843e+00],\n           [ 1.7617274523e+00,  1.7761222124e+00,  1.7638250589e+00],\n           [ 1.7558180094e+00,  1.7835131884e+00,  1.7665648460e+00]],\n \n          [[ 5.1268893480e-01,  5.3513795137e-01,  5.3729754686e-01],\n           [ 5.0698614120e-01,  5.3372532129e-01,  5.3566139936e-01],\n           [ 5.0578290224e-01,  5.2171361446e-01,  5.2936220169e-01]],\n \n          [[ 6.2404113123e-05,  9.0029550483e-04,  1.9937535399e-04],\n           [ 5.0524962717e-05,  8.6871004896e-04,  2.3240798328e-04],\n           [ 8.3706181613e-05,  9.2819152633e-04,  2.2645581339e-04]],\n \n          ...,\n \n          [[ 4.1966217756e-01,  4.1503274441e-01,  4.2720890045e-01],\n           [ 4.4667497277e-01,  4.4058805704e-01,  4.5565807819e-01],\n           [ 4.3739888072e-01,  4.3336212635e-01,  4.4216537476e-01]],\n \n          [[ 4.1600787640e-01,  4.2047366500e-01,  4.1596630216e-01],\n           [ 4.0563187003e-01,  4.1159081459e-01,  4.0916952491e-01],\n           [ 4.1349631548e-01,  4.2299801111e-01,  4.2060521245e-01]],\n \n          [[ 2.5556576252e-01,  2.5255548954e-01,  2.5036233664e-01],\n           [ 2.5633147359e-01,  2.4857196212e-01,  2.4819576740e-01],\n           [ 2.5306141376e-01,  2.4605341256e-01,  2.4579161406e-01]]],\n \n \n         [[[-1.3337336481e-02, -1.4528517611e-02, -1.3292290270e-02],\n           [-2.3546595126e-02, -2.5035837665e-02, -2.3967208341e-02],\n           [-1.2690532953e-02, -1.4027134515e-02, -1.2985057198e-02]],\n \n          [[-3.6653138231e-03, -4.0426477790e-03, -3.9843204431e-03],\n           [-5.8775502257e-03, -6.2200045213e-03, -6.1856065877e-03],\n           [-3.7901848555e-03, -3.9741755463e-03, -3.9998283610e-03]],\n \n          [[-2.3876746127e-06, -2.1607134840e-05, -2.8283066058e-06],\n           [-3.3617769077e-05, -7.9339377407e-05, -4.9079601013e-05],\n           [ 0.0000000000e+00, -4.1830910050e-05, -2.7244323064e-06]],\n \n          ...,\n \n          [[-3.1533606816e-03, -3.1871532556e-03, -4.1285855696e-03],\n           [-4.5529576018e-03, -5.3214556538e-03, -5.2058156580e-03],\n           [-1.1493521743e-03, -1.7554233782e-03, -1.9744946621e-03]],\n \n          [[-3.6848848686e-03, -4.1642948054e-03, -4.2544817552e-03],\n           [-1.6855288413e-04, -6.2781252200e-04, -6.9474620977e-04],\n           [-3.3137141145e-04, -7.9870258924e-04, -8.5787620628e-04]],\n \n          [[-2.0923744887e-03, -2.3056352511e-03, -2.0096316002e-03],\n           [-2.4382830597e-03, -2.7853990905e-03, -2.5278148241e-03],\n           [-4.5152828097e-03, -4.8383753747e-03, -4.4773072004e-03]]],\n \n \n         [[[-6.3739680627e-06,  1.3921331265e-04,  1.0216975352e-04],\n           [-1.2924479961e-05,  1.2582991621e-04,  6.9799069024e-05],\n           [-8.4079001681e-06,  1.3768670033e-04,  6.2333987444e-05]],\n \n          [[-1.7619902337e-07,  1.6050964405e-05,  2.4869086701e-06],\n           [-2.7989553928e-06,  6.7761684477e-06,  1.8137587176e-05],\n           [-2.3208158382e-06,  8.4131797848e-06,  2.6648634957e-05]],\n \n          [[ 0.0000000000e+00,  7.7020968092e-07,  0.0000000000e+00],\n           [ 0.0000000000e+00, -5.1649544730e-07, -2.9217085284e-07],\n           [ 0.0000000000e+00,  0.0000000000e+00,  0.0000000000e+00]],\n \n          ...,\n \n          [[-2.1736959752e-06,  2.9677757993e-06, -6.3004081312e-06],\n           [ 0.0000000000e+00,  3.7287623854e-05,  3.5930894228e-05],\n           [-1.4334991647e-06,  6.5265245212e-05,  2.9615257517e-05]],\n \n          [[-2.3998927645e-06,  6.4540858148e-05,  4.1819130274e-05],\n           [ 0.0000000000e+00,  6.9526053267e-05,  4.7703037126e-05],\n           [ 0.0000000000e+00,  1.0251134518e-04,  5.4272451962e-05]],\n \n          [[-1.6413059711e-06,  3.5582812416e-05,  5.3093344832e-06],\n           [-1.0031735656e-06,  3.3605952922e-05,  6.2840854298e-06],\n           [-1.2045438780e-06,  3.8865917304e-05, -2.0743900677e-06]]],\n \n \n         ...,\n \n \n         [[[ 0.0000000000e+00,  0.0000000000e+00,  0.0000000000e+00],\n           [ 0.0000000000e+00,  0.0000000000e+00,  0.0000000000e+00],\n           [ 0.0000000000e+00,  0.0000000000e+00,  0.0000000000e+00]],\n \n          [[ 0.0000000000e+00,  0.0000000000e+00,  0.0000000000e+00],\n           [ 0.0000000000e+00,  0.0000000000e+00,  0.0000000000e+00],\n           [ 0.0000000000e+00,  0.0000000000e+00,  0.0000000000e+00]],\n \n          [[ 0.0000000000e+00,  0.0000000000e+00,  0.0000000000e+00],\n           [ 0.0000000000e+00,  0.0000000000e+00,  0.0000000000e+00],\n           [ 0.0000000000e+00,  0.0000000000e+00,  0.0000000000e+00]],\n \n          ...,\n \n          [[ 0.0000000000e+00,  0.0000000000e+00,  0.0000000000e+00],\n           [ 0.0000000000e+00,  0.0000000000e+00,  0.0000000000e+00],\n           [ 0.0000000000e+00,  0.0000000000e+00,  0.0000000000e+00]],\n \n          [[ 0.0000000000e+00,  0.0000000000e+00,  0.0000000000e+00],\n           [ 0.0000000000e+00,  0.0000000000e+00,  0.0000000000e+00],\n           [ 0.0000000000e+00,  0.0000000000e+00,  0.0000000000e+00]],\n \n          [[ 0.0000000000e+00,  0.0000000000e+00,  0.0000000000e+00],\n           [ 0.0000000000e+00,  0.0000000000e+00,  0.0000000000e+00],\n           [ 0.0000000000e+00,  0.0000000000e+00,  0.0000000000e+00]]],\n \n \n         [[[-1.3471551938e-03, -1.6519820783e-03, -1.4329178957e-03],\n           [-2.0900841337e-03, -2.2868418600e-03, -2.3147356696e-03],\n           [-1.0248564649e-03, -1.4918176457e-03, -1.3247568859e-03]],\n \n          [[-4.1827175301e-04, -5.5487151258e-04, -5.4095243104e-04],\n           [-6.8412430119e-04, -7.6145434286e-04, -7.9122383613e-04],\n           [-3.5414556623e-04, -4.0887595969e-04, -4.9899262376e-04]],\n \n          [[-1.4802481019e-06, -6.0560887505e-06, -2.2059139155e-06],\n           [-2.2844023988e-05, -1.4493434719e-05, -2.9947745134e-05],\n           [ 0.0000000000e+00, -4.6293480409e-06, -3.4661952668e-06]],\n \n          ...,\n \n          [[-1.5284463007e-04, -3.2490160083e-04, -3.0044608866e-04],\n           [-4.3328152969e-04, -4.2399132508e-04, -5.7156139519e-04],\n           [-2.3712312395e-04, -2.2036745213e-04, -2.9375089798e-04]],\n \n          [[-2.8515022132e-04, -3.8010670687e-04, -3.6740821088e-04],\n           [-5.7382203522e-06, -1.4058493252e-04, -1.6183331900e-04],\n           [-9.6205658338e-06, -1.5436696413e-04, -1.0970440781e-04]],\n \n          [[-6.3957588281e-05, -2.3584539304e-04, -2.7770147426e-04],\n           [-8.2879232650e-05, -2.5307163014e-04, -3.0708638951e-04],\n           [-4.0349975461e-04, -5.2627024706e-04, -5.1156745758e-04]]],\n \n \n         [[[ 2.7026224881e-02,  2.6247285306e-02,  2.4802653119e-02],\n           [ 2.7927115560e-02,  2.7849806473e-02,  2.7335541323e-02],\n           [ 2.6174962521e-02,  2.6870263740e-02,  2.6544623077e-02]],\n \n          [[ 7.7970130369e-03,  8.3107426763e-03,  9.4468351454e-03],\n           [ 7.4627515860e-03,  8.9747086167e-03,  1.0147201829e-02],\n           [ 7.5640194118e-03,  9.0664708987e-03,  9.8868217319e-03]],\n \n          [[ 0.0000000000e+00,  7.8656070400e-05,  1.1249958334e-05],\n           [ 5.2199197853e-07,  1.0024111543e-04,  1.4267531697e-05],\n           [-1.5056494931e-06,  8.5834486526e-05,  1.3648479580e-05]],\n \n          ...,\n \n          [[ 8.1090079620e-03,  6.4136097208e-03,  7.1371770464e-03],\n           [ 6.9804093800e-03,  6.3297152519e-03,  6.3672643155e-03],\n           [ 7.3211225681e-03,  7.2724265046e-03,  7.7899219468e-03]],\n \n          [[ 6.8571283482e-03,  6.8473634310e-03,  6.7359912209e-03],\n           [ 6.0297762975e-03,  6.0689863749e-03,  6.0604340397e-03],\n           [ 5.3810104728e-03,  5.6199468672e-03,  5.8329734020e-03]],\n \n          [[ 3.4821580630e-03,  3.6501407158e-03,  3.9271027781e-03],\n           [ 3.2923875842e-03,  3.7151840515e-03,  4.1659050621e-03],\n           [ 4.4653173536e-03,  4.7057513148e-03,  4.9087158404e-03]]]],\n        device='cuda:0'),\n tensor([[[[ 1.5610047616e-02,  1.5069014393e-02,  1.3078386895e-02],\n           [ 1.7846435308e-02,  1.7146896571e-02,  1.3020107523e-02],\n           [ 1.8433915451e-02,  1.7908647656e-02,  1.3862688094e-02]],\n \n          [[ 0.0000000000e+00,  0.0000000000e+00,  0.0000000000e+00],\n           [ 0.0000000000e+00,  0.0000000000e+00,  0.0000000000e+00],\n           [ 8.0613826867e-06,  0.0000000000e+00,  0.0000000000e+00]],\n \n          [[ 0.0000000000e+00,  0.0000000000e+00,  0.0000000000e+00],\n           [ 0.0000000000e+00,  0.0000000000e+00,  0.0000000000e+00],\n           [ 0.0000000000e+00,  0.0000000000e+00,  0.0000000000e+00]],\n \n          ...,\n \n          [[ 0.0000000000e+00,  0.0000000000e+00,  0.0000000000e+00],\n           [ 0.0000000000e+00,  0.0000000000e+00,  0.0000000000e+00],\n           [ 0.0000000000e+00,  0.0000000000e+00,  0.0000000000e+00]],\n \n          [[ 1.0415518773e-05,  0.0000000000e+00,  0.0000000000e+00],\n           [ 8.4831553977e-06,  0.0000000000e+00,  0.0000000000e+00],\n           [ 0.0000000000e+00,  0.0000000000e+00,  0.0000000000e+00]],\n \n          [[ 2.9451827868e-04,  2.9927177820e-04,  1.3274393859e-04],\n           [ 3.5219616257e-04,  4.4100164087e-04,  1.4056550572e-04],\n           [ 2.5216513313e-04,  2.4738497450e-04,  1.7499510432e-04]]],\n \n \n         [[[ 5.1692267880e-04,  6.0031068278e-04,  6.4207904506e-04],\n           [ 5.4866814753e-04,  8.1231392687e-04,  9.8872999661e-04],\n           [ 8.0696993973e-04,  6.7373941420e-04,  6.3568109181e-04]],\n \n          [[ 0.0000000000e+00,  0.0000000000e+00,  0.0000000000e+00],\n           [ 0.0000000000e+00,  0.0000000000e+00,  0.0000000000e+00],\n           [ 0.0000000000e+00,  0.0000000000e+00,  0.0000000000e+00]],\n \n          [[ 0.0000000000e+00,  0.0000000000e+00,  0.0000000000e+00],\n           [ 0.0000000000e+00,  0.0000000000e+00,  0.0000000000e+00],\n           [ 0.0000000000e+00,  0.0000000000e+00,  0.0000000000e+00]],\n \n          ...,\n \n          [[ 0.0000000000e+00,  0.0000000000e+00,  0.0000000000e+00],\n           [ 0.0000000000e+00,  0.0000000000e+00,  0.0000000000e+00],\n           [ 0.0000000000e+00,  0.0000000000e+00,  0.0000000000e+00]],\n \n          [[ 0.0000000000e+00,  0.0000000000e+00,  0.0000000000e+00],\n           [ 0.0000000000e+00,  0.0000000000e+00,  0.0000000000e+00],\n           [ 0.0000000000e+00,  0.0000000000e+00,  0.0000000000e+00]],\n \n          [[ 2.8262416890e-05,  0.0000000000e+00,  0.0000000000e+00],\n           [ 4.2732186557e-05,  8.4392617282e-05,  5.1049057220e-05],\n           [ 0.0000000000e+00,  0.0000000000e+00,  8.8439701358e-06]]],\n \n \n         [[[-6.1782647390e-04, -7.5510708848e-04, -6.9490878377e-04],\n           [-7.7913049608e-04, -7.3771964526e-04, -3.9357578498e-04],\n           [-9.2362187570e-04, -7.7842501923e-04, -5.4236390861e-04]],\n \n          [[ 0.0000000000e+00,  0.0000000000e+00,  0.0000000000e+00],\n           [ 0.0000000000e+00,  0.0000000000e+00,  0.0000000000e+00],\n           [ 2.7015921660e-05,  1.0319563444e-05,  2.4163455237e-05]],\n \n          [[ 0.0000000000e+00,  0.0000000000e+00,  0.0000000000e+00],\n           [ 0.0000000000e+00,  0.0000000000e+00,  0.0000000000e+00],\n           [ 0.0000000000e+00,  0.0000000000e+00,  0.0000000000e+00]],\n \n          ...,\n \n          [[ 0.0000000000e+00,  0.0000000000e+00,  0.0000000000e+00],\n           [ 0.0000000000e+00,  0.0000000000e+00,  0.0000000000e+00],\n           [ 0.0000000000e+00,  0.0000000000e+00,  0.0000000000e+00]],\n \n          [[ 0.0000000000e+00,  0.0000000000e+00,  0.0000000000e+00],\n           [ 0.0000000000e+00,  0.0000000000e+00,  0.0000000000e+00],\n           [ 0.0000000000e+00,  0.0000000000e+00,  0.0000000000e+00]],\n \n          [[-1.3930439309e-05, -5.2984787544e-06, -6.7948167271e-06],\n           [ 1.4197806195e-05, -2.1133393602e-05, -1.3333819879e-06],\n           [ 3.4849901567e-05, -2.2912226996e-06,  8.0572835941e-06]]],\n \n \n         ...,\n \n \n         [[[ 1.1513453501e-05,  8.4122031694e-05,  4.4352527766e-05],\n           [ 4.5211898396e-05,  7.1821646998e-05,  4.8038615205e-05],\n           [ 8.3498671302e-05,  6.9662914029e-05,  5.6529359426e-05]],\n \n          [[ 0.0000000000e+00,  0.0000000000e+00,  0.0000000000e+00],\n           [ 0.0000000000e+00,  0.0000000000e+00,  0.0000000000e+00],\n           [ 0.0000000000e+00,  0.0000000000e+00,  0.0000000000e+00]],\n \n          [[ 0.0000000000e+00,  0.0000000000e+00,  0.0000000000e+00],\n           [ 0.0000000000e+00,  0.0000000000e+00,  0.0000000000e+00],\n           [ 0.0000000000e+00,  0.0000000000e+00,  0.0000000000e+00]],\n \n          ...,\n \n          [[ 0.0000000000e+00,  0.0000000000e+00,  0.0000000000e+00],\n           [ 0.0000000000e+00,  0.0000000000e+00,  0.0000000000e+00],\n           [ 0.0000000000e+00,  0.0000000000e+00,  0.0000000000e+00]],\n \n          [[ 0.0000000000e+00,  0.0000000000e+00,  0.0000000000e+00],\n           [ 0.0000000000e+00,  0.0000000000e+00,  0.0000000000e+00],\n           [ 0.0000000000e+00,  0.0000000000e+00,  0.0000000000e+00]],\n \n          [[ 0.0000000000e+00,  1.4658267901e-05,  0.0000000000e+00],\n           [ 4.2302799557e-06,  0.0000000000e+00,  0.0000000000e+00],\n           [ 0.0000000000e+00,  0.0000000000e+00,  0.0000000000e+00]]],\n \n \n         [[[ 0.0000000000e+00,  0.0000000000e+00,  0.0000000000e+00],\n           [ 0.0000000000e+00,  0.0000000000e+00,  0.0000000000e+00],\n           [ 0.0000000000e+00,  0.0000000000e+00,  0.0000000000e+00]],\n \n          [[ 0.0000000000e+00,  0.0000000000e+00,  0.0000000000e+00],\n           [ 0.0000000000e+00,  0.0000000000e+00,  0.0000000000e+00],\n           [ 0.0000000000e+00,  0.0000000000e+00,  0.0000000000e+00]],\n \n          [[ 0.0000000000e+00,  0.0000000000e+00,  0.0000000000e+00],\n           [ 0.0000000000e+00,  0.0000000000e+00,  0.0000000000e+00],\n           [ 0.0000000000e+00,  0.0000000000e+00,  0.0000000000e+00]],\n \n          ...,\n \n          [[ 0.0000000000e+00,  0.0000000000e+00,  0.0000000000e+00],\n           [ 0.0000000000e+00,  0.0000000000e+00,  0.0000000000e+00],\n           [ 0.0000000000e+00,  0.0000000000e+00,  0.0000000000e+00]],\n \n          [[ 0.0000000000e+00,  0.0000000000e+00,  0.0000000000e+00],\n           [ 0.0000000000e+00,  0.0000000000e+00,  0.0000000000e+00],\n           [ 0.0000000000e+00,  0.0000000000e+00,  0.0000000000e+00]],\n \n          [[ 0.0000000000e+00,  0.0000000000e+00,  0.0000000000e+00],\n           [ 0.0000000000e+00,  0.0000000000e+00,  0.0000000000e+00],\n           [ 0.0000000000e+00,  0.0000000000e+00,  0.0000000000e+00]]],\n \n \n         [[[ 3.0980994925e-02,  2.6408994570e-02,  2.5890501216e-02],\n           [ 3.6153268069e-02,  3.0341409147e-02,  2.4440228939e-02],\n           [ 3.1635332853e-02,  3.0121441931e-02,  2.4101685733e-02]],\n \n          [[ 1.0134943295e-05, -8.8547230916e-06,  7.1678923632e-06],\n           [-5.6425557705e-04, -5.7273841230e-04, -6.5387989162e-04],\n           [-9.3979637313e-05, -1.3569713337e-04, -8.2639482571e-05]],\n \n          [[ 0.0000000000e+00,  0.0000000000e+00,  0.0000000000e+00],\n           [ 1.0624746210e-05, -4.9628425813e-07,  0.0000000000e+00],\n           [ 0.0000000000e+00, -1.8153397150e-06, -2.8301114980e-06]],\n \n          ...,\n \n          [[ 0.0000000000e+00,  0.0000000000e+00,  0.0000000000e+00],\n           [ 0.0000000000e+00,  0.0000000000e+00,  0.0000000000e+00],\n           [ 0.0000000000e+00,  0.0000000000e+00,  0.0000000000e+00]],\n \n          [[ 0.0000000000e+00,  1.5261139197e-07, -5.4334668675e-07],\n           [ 1.8755054043e-06, -3.6318568164e-05, -2.1059644496e-05],\n           [ 0.0000000000e+00, -2.0284030597e-06, -3.7007400806e-06]],\n \n          [[ 5.6461611530e-04,  8.0580497161e-04,  5.3936231416e-04],\n           [ 5.9158651857e-04,  8.7584962603e-04,  5.8606552193e-04],\n           [ 2.9629416531e-04,  5.7697115699e-04,  4.2104106979e-04]]]],\n        device='cuda:0'),\n tensor([[[[ 3.4953977913e-02]],\n \n          [[ 1.2757977471e-02]],\n \n          [[ 0.0000000000e+00]],\n \n          ...,\n \n          [[ 9.5888916403e-03]],\n \n          [[ 7.6345866546e-03]],\n \n          [[ 4.1130343452e-03]]],\n \n \n         [[[ 2.5495463051e-03]],\n \n          [[ 7.8582629794e-04]],\n \n          [[ 0.0000000000e+00]],\n \n          ...,\n \n          [[ 2.4429254699e-04]],\n \n          [[ 5.7621335145e-04]],\n \n          [[ 4.0599645581e-04]]],\n \n \n         [[[-2.3977241945e-03]],\n \n          [[-5.6089967256e-04]],\n \n          [[ 0.0000000000e+00]],\n \n          ...,\n \n          [[-4.5691471314e-04]],\n \n          [[-6.0870748712e-04]],\n \n          [[-3.3247488318e-04]]],\n \n \n         ...,\n \n \n         [[[ 1.3205938740e-04]],\n \n          [[ 5.7054305216e-05]],\n \n          [[ 0.0000000000e+00]],\n \n          ...,\n \n          [[ 2.0634674001e-05]],\n \n          [[ 1.3366516214e-05]],\n \n          [[ 7.2333205026e-06]]],\n \n \n         [[[ 0.0000000000e+00]],\n \n          [[ 0.0000000000e+00]],\n \n          [[ 0.0000000000e+00]],\n \n          ...,\n \n          [[ 0.0000000000e+00]],\n \n          [[ 0.0000000000e+00]],\n \n          [[ 0.0000000000e+00]]],\n \n \n         [[[ 7.8189678490e-02]],\n \n          [[ 2.1581660956e-02]],\n \n          [[ 4.9609803682e-05]],\n \n          ...,\n \n          [[ 2.0106868818e-02]],\n \n          [[ 1.7138998955e-02]],\n \n          [[ 9.9326707423e-03]]]], device='cuda:0'),\n tensor([[[[-3.4448941733e-05, -5.9514692111e-05, -3.6996152630e-05],\n           [-7.7803451859e-06, -1.7960352125e-05, -3.1802468584e-05],\n           [-5.7373068557e-05, -4.7102003009e-05, -3.6346875277e-05]],\n \n          [[-3.9848964661e-06, -2.2237349185e-05, -2.7767484426e-05],\n           [-8.9399109129e-06,  0.0000000000e+00, -2.0505613065e-06],\n           [ 0.0000000000e+00,  0.0000000000e+00,  0.0000000000e+00]],\n \n          [[-1.2199921912e-05, -1.6214185962e-05, -4.6051427489e-06],\n           [ 0.0000000000e+00, -5.5132422858e-06,  0.0000000000e+00],\n           [ 0.0000000000e+00, -8.5193605628e-06, -1.0148252841e-05]],\n \n          ...,\n \n          [[ 0.0000000000e+00,  0.0000000000e+00,  0.0000000000e+00],\n           [ 0.0000000000e+00,  0.0000000000e+00,  0.0000000000e+00],\n           [ 0.0000000000e+00,  0.0000000000e+00,  0.0000000000e+00]],\n \n          [[ 0.0000000000e+00,  0.0000000000e+00,  0.0000000000e+00],\n           [ 0.0000000000e+00,  0.0000000000e+00,  0.0000000000e+00],\n           [ 0.0000000000e+00,  0.0000000000e+00,  0.0000000000e+00]],\n \n          [[-1.1747978715e-04, -1.5669720597e-04, -1.7172635125e-04],\n           [-1.3643386774e-04, -2.2318219999e-04, -2.1799263777e-04],\n           [-7.2688140790e-05, -1.2046920165e-04, -1.6222357226e-04]]],\n \n \n         [[[-2.8751215432e-03, -3.2803947106e-03, -3.4700040706e-03],\n           [-3.0457633547e-03, -3.3828841988e-03, -3.6751572043e-03],\n           [-3.6631594412e-03, -4.4255582616e-03, -4.2879385874e-03]],\n \n          [[-4.6619778004e-05, -1.4264229685e-04, -8.9539127657e-05],\n           [-9.8940094176e-05, -1.0867189121e-04, -9.6892777947e-05],\n           [-2.0689210942e-05, -5.3100269724e-05, -8.5414263594e-05]],\n \n          [[-3.8859926281e-04, -2.6937431539e-04, -4.0283729322e-04],\n           [-3.9342197124e-04, -1.9906995294e-04, -4.9870484509e-04],\n           [-6.0299038887e-04, -5.6579924421e-04, -6.9481052924e-04]],\n \n          ...,\n \n          [[-1.9028317183e-05, -1.8769176677e-05, -2.2099737180e-05],\n           [-1.6760837752e-05, -1.6871897969e-05, -2.0213510652e-05],\n           [-1.4215707779e-05, -4.2454776121e-06, -4.2880219553e-06]],\n \n          [[ 0.0000000000e+00,  0.0000000000e+00,  0.0000000000e+00],\n           [ 0.0000000000e+00,  0.0000000000e+00,  0.0000000000e+00],\n           [ 0.0000000000e+00,  0.0000000000e+00,  0.0000000000e+00]],\n \n          [[-2.2979751229e-02, -2.3404153064e-02, -2.0070038736e-02],\n           [-2.3833421990e-02, -2.7123695239e-02, -2.4153584614e-02],\n           [-2.0960375667e-02, -2.3622989655e-02, -2.3002414033e-02]]],\n \n \n         [[[-1.2412248907e-05, -2.8285912776e-05, -5.3813735576e-05],\n           [-2.2073614673e-05, -5.7915145590e-05, -5.0920600188e-05],\n           [-2.5866689612e-05, -6.5193707997e-05, -6.2532781158e-05]],\n \n          [[ 0.0000000000e+00,  0.0000000000e+00,  0.0000000000e+00],\n           [-2.2543164960e-05, -1.2695381884e-05, -7.8450721048e-06],\n           [ 0.0000000000e+00, -3.1496460906e-07,  0.0000000000e+00]],\n \n          [[-1.0039064364e-05, -1.6827383661e-05, -3.2905634725e-05],\n           [-4.0218310460e-06, -2.7691212381e-05, -3.7068184611e-05],\n           [-7.7649374361e-06,  0.0000000000e+00, -2.0335066893e-06]],\n \n          ...,\n \n          [[ 0.0000000000e+00,  0.0000000000e+00,  0.0000000000e+00],\n           [ 0.0000000000e+00,  0.0000000000e+00,  0.0000000000e+00],\n           [ 0.0000000000e+00, -9.8971577245e-07, -1.0165858839e-06]],\n \n          [[ 0.0000000000e+00,  0.0000000000e+00,  0.0000000000e+00],\n           [ 0.0000000000e+00,  0.0000000000e+00,  0.0000000000e+00],\n           [ 0.0000000000e+00,  0.0000000000e+00,  0.0000000000e+00]],\n \n          [[-2.6555059594e-04, -5.1562214503e-04, -3.3261830686e-04],\n           [-4.1035702452e-04, -4.8714727745e-04, -3.0553006218e-04],\n           [-3.8043991663e-04, -4.9803091679e-04, -1.8618557078e-04]]],\n \n \n         ...,\n \n \n         [[[-1.3986580307e-03, -1.3077881886e-03, -1.4218534343e-03],\n           [-1.3489226112e-03, -1.3406681828e-03, -1.4662569156e-03],\n           [-1.4625843614e-03, -1.7169133062e-03, -1.7088208115e-03]],\n \n          [[-4.3193678721e-05, -4.4364991481e-05, -3.9316895709e-05],\n           [-1.9241024347e-05, -2.3255463020e-05, -3.1982075598e-05],\n           [-1.4095950974e-05, -2.2836171411e-05, -2.9484417610e-05]],\n \n          [[-3.0082007288e-04, -2.4759580265e-04, -2.7624086943e-04],\n           [-2.2703400464e-04, -1.5805326984e-04, -2.6206183247e-04],\n           [-2.4508830393e-04, -2.5532653672e-04, -3.4760529525e-04]],\n \n          ...,\n \n          [[-4.6113127610e-06, -6.0530596784e-06,  0.0000000000e+00],\n           [ 0.0000000000e+00, -5.8330533648e-07, -6.9897573667e-06],\n           [-6.3072948251e-06,  0.0000000000e+00,  0.0000000000e+00]],\n \n          [[ 0.0000000000e+00,  0.0000000000e+00,  0.0000000000e+00],\n           [ 0.0000000000e+00,  0.0000000000e+00,  0.0000000000e+00],\n           [ 0.0000000000e+00,  0.0000000000e+00,  0.0000000000e+00]],\n \n          [[-8.8366912678e-03, -1.0192503221e-02, -8.7960204110e-03],\n           [-9.3906717375e-03, -1.1076185852e-02, -9.1198785231e-03],\n           [-8.0564329401e-03, -9.6576102078e-03, -7.2814775631e-03]]],\n \n \n         [[[ 2.6562645871e-05,  2.4598833988e-05,  8.1395519373e-05],\n           [ 7.0670896093e-05,  8.5348030552e-05,  5.1236926083e-05],\n           [ 4.4821041229e-05,  5.1151939260e-05,  7.3182171036e-05]],\n \n          [[ 0.0000000000e+00,  0.0000000000e+00,  8.6371619545e-06],\n           [ 1.8616119632e-05,  1.8045480829e-05,  1.0619871318e-05],\n           [ 0.0000000000e+00,  0.0000000000e+00,  0.0000000000e+00]],\n \n          [[ 3.9425685827e-07,  6.2316121330e-07,  2.2298854674e-06],\n           [ 1.3492011931e-05,  1.4092292986e-06,  1.1913123672e-05],\n           [ 9.2937407317e-06,  1.9835651983e-06,  0.0000000000e+00]],\n \n          ...,\n \n          [[ 0.0000000000e+00,  0.0000000000e+00,  0.0000000000e+00],\n           [ 0.0000000000e+00,  0.0000000000e+00,  0.0000000000e+00],\n           [ 0.0000000000e+00,  0.0000000000e+00,  0.0000000000e+00]],\n \n          [[ 0.0000000000e+00,  0.0000000000e+00,  0.0000000000e+00],\n           [ 0.0000000000e+00,  0.0000000000e+00,  0.0000000000e+00],\n           [ 0.0000000000e+00,  0.0000000000e+00,  0.0000000000e+00]],\n \n          [[ 2.4410670449e-04,  3.9221986663e-04,  1.7451796157e-04],\n           [ 3.9428679156e-04,  5.6953227613e-04,  3.3547508065e-04],\n           [ 2.4858646793e-04,  4.3095665751e-04,  1.7876351194e-04]]],\n \n \n         [[[ 2.0374209271e-04,  2.9476056807e-04,  2.3977954697e-04],\n           [ 2.3068017617e-04,  3.6572435056e-04,  2.4560591555e-04],\n           [ 1.7192415544e-04,  3.3364165574e-04,  2.8661719989e-04]],\n \n          [[ 6.5404492489e-07,  9.6404164651e-07,  8.2065298557e-06],\n           [ 4.6936393119e-06,  3.5732609831e-06,  9.2266418505e-06],\n           [ 3.8918351493e-06,  3.2020363960e-06,  1.7990989363e-05]],\n \n          [[ 4.5777414925e-06,  2.1423520593e-06,  8.1575599324e-06],\n           [ 1.2922928363e-05,  3.5242737795e-05,  3.6796533095e-05],\n           [ 2.8267742891e-05,  4.5961554861e-05,  3.1479019526e-05]],\n \n          ...,\n \n          [[ 0.0000000000e+00,  1.0417766134e-06,  2.7772398425e-06],\n           [ 0.0000000000e+00,  0.0000000000e+00,  0.0000000000e+00],\n           [ 0.0000000000e+00,  0.0000000000e+00,  0.0000000000e+00]],\n \n          [[ 0.0000000000e+00,  0.0000000000e+00,  0.0000000000e+00],\n           [ 0.0000000000e+00,  0.0000000000e+00,  0.0000000000e+00],\n           [ 0.0000000000e+00,  0.0000000000e+00,  0.0000000000e+00]],\n \n          [[ 1.6943592345e-03,  2.3809170816e-03,  1.4671471436e-03],\n           [ 1.9844828639e-03,  2.8849758673e-03,  1.8676994368e-03],\n           [ 1.7065170687e-03,  2.3958820384e-03,  1.4805902028e-03]]]],\n        device='cuda:0'),\n tensor([[[[-5.3351795941e-05, -8.7978740339e-05, -6.9409230491e-05],\n           [-9.7767129773e-05, -1.0618734814e-04, -1.1246409849e-04],\n           [-9.7300420748e-05, -9.6644216683e-05, -1.0557987844e-04]],\n \n          [[-3.7351576611e-03, -3.5909751896e-03, -3.4697316587e-03],\n           [-5.3374529816e-03, -5.3163273260e-03, -5.0740828738e-03],\n           [-5.4108412005e-03, -5.5051334202e-03, -5.1757418551e-03]],\n \n          [[-1.3033067808e-04, -1.3187236618e-04, -1.1490160250e-04],\n           [-2.2770508076e-04, -2.3591246281e-04, -2.2535253083e-04],\n           [-1.6785357730e-04, -2.0141064306e-04, -1.9260324189e-04]],\n \n          ...,\n \n          [[-3.0127638020e-03, -3.1235064380e-03, -2.9478867073e-03],\n           [-3.6063878797e-03, -3.7134999875e-03, -3.6929629277e-03],\n           [-3.7987260148e-03, -3.9523374289e-03, -3.8903644308e-03]],\n \n          [[-1.9423858612e-04, -1.9219834940e-04, -1.8000375712e-04],\n           [-4.5502325520e-04, -4.6551800915e-04, -4.4182251440e-04],\n           [-2.8387378552e-04, -2.9036425985e-04, -2.7679846971e-04]],\n \n          [[-2.7874141233e-04, -3.0350711313e-04, -3.0299270293e-04],\n           [-3.7782068830e-04, -4.0763951256e-04, -4.1249956121e-04],\n           [-3.8835554733e-04, -4.2503030272e-04, -4.2549904902e-04]]],\n \n \n         [[[ 0.0000000000e+00,  0.0000000000e+00,  0.0000000000e+00],\n           [-3.4443041841e-06, -5.4777715377e-06,  0.0000000000e+00],\n           [-8.1574762589e-07, -7.5597640716e-06,  0.0000000000e+00]],\n \n          [[-2.8949073749e-04, -3.7050805986e-04, -3.1702517299e-04],\n           [-2.9653622187e-04, -3.7959049223e-04, -3.0039899866e-04],\n           [-2.9481959064e-04, -3.3760396764e-04, -3.0145948404e-04]],\n \n          [[ 0.0000000000e+00, -3.9607039071e-06, -3.0721685107e-06],\n           [-6.7856562964e-06, -1.9813918698e-05, -1.4205982552e-05],\n           [-2.3187167244e-06, -1.7405129711e-06, -4.4630769480e-06]],\n \n          ...,\n \n          [[-2.5944667868e-04, -3.5998548265e-04, -3.3252936555e-04],\n           [-3.0650597182e-04, -3.9619294694e-04, -3.3148273360e-04],\n           [-2.9746544897e-04, -2.8179708170e-04, -2.6613846421e-04]],\n \n          [[ 0.0000000000e+00,  0.0000000000e+00,  0.0000000000e+00],\n           [-1.8518258003e-06, -5.0780945458e-06, -4.1757884901e-06],\n           [-2.9006910154e-06,  0.0000000000e+00, -2.0655988919e-06]],\n \n          [[-2.6934425478e-05, -2.8940177799e-05, -4.1242223233e-05],\n           [-4.0981329221e-05, -5.0402919442e-05, -5.2540559409e-05],\n           [-2.5574172469e-05, -5.7635945268e-05, -4.9833801313e-05]]],\n \n \n         [[[-4.6340421250e-05, -3.8754784327e-05, -3.4919994505e-05],\n           [-3.6127818021e-05, -3.6978344724e-05, -3.9820035454e-05],\n           [-3.7658253859e-05, -3.5184624721e-05, -3.5792851122e-05]],\n \n          [[-3.7071532570e-03, -3.4015630372e-03, -3.4099053591e-03],\n           [-3.7974417210e-03, -3.5140574910e-03, -3.4875301644e-03],\n           [-4.6737887897e-03, -4.3235807680e-03, -4.0589547716e-03]],\n \n          [[-5.4191667004e-05, -4.3000247388e-05, -8.1590238551e-05],\n           [-4.8682482884e-05, -3.9058624679e-05, -6.6893939220e-05],\n           [-7.1346054028e-05, -6.9022680691e-05, -8.5181658505e-05]],\n \n          ...,\n \n          [[-3.3886823803e-03, -2.6654466055e-03, -3.2544329297e-03],\n           [-3.4748406615e-03, -2.8801043518e-03, -3.4267765004e-03],\n           [-4.0899282321e-03, -3.5352741834e-03, -3.9743981324e-03]],\n \n          [[-2.1153013222e-04, -7.2858965723e-05, -3.0551535019e-05],\n           [-2.3114623036e-04, -1.0273385851e-04, -5.9331243392e-05],\n           [-3.6514722160e-04, -2.4364877027e-04, -1.5928772336e-04]],\n \n          [[-4.4895760948e-04, -3.7111120764e-04, -4.7442730283e-04],\n           [-4.9933342962e-04, -4.1140778922e-04, -4.6288035810e-04],\n           [-5.7903269771e-04, -5.0222431310e-04, -4.9444707111e-04]]],\n \n \n         ...,\n \n \n         [[[-1.1893336341e-04, -1.2830499327e-04, -1.2768605666e-04],\n           [-1.3312297233e-04, -1.4666764764e-04, -1.3723738084e-04],\n           [-1.1633404210e-04, -1.2182772480e-04, -1.2113604316e-04]],\n \n          [[-1.3699584641e-02, -1.3637063093e-02, -1.3709183782e-02],\n           [-1.4697686769e-02, -1.4642436057e-02, -1.4706889167e-02],\n           [-1.4793707989e-02, -1.4739982784e-02, -1.4829196967e-02]],\n \n          [[-2.4948068312e-04, -2.5237162481e-04, -2.8918744647e-04],\n           [-2.8242616099e-04, -2.8594874311e-04, -3.3573366818e-04],\n           [-2.8247173759e-04, -2.9126642039e-04, -3.3581251046e-04]],\n \n          ...,\n \n          [[-1.2712961994e-02, -1.2442250736e-02, -1.3139607385e-02],\n           [-1.3313955627e-02, -1.3061687350e-02, -1.3809865341e-02],\n           [-1.3599776663e-02, -1.3347202912e-02, -1.4066166244e-02]],\n \n          [[-4.0740100667e-04, -2.7369562304e-04, -2.9226249899e-04],\n           [-5.2354804939e-04, -4.1957737994e-04, -4.5201723697e-04],\n           [-4.7884415835e-04, -3.5781614133e-04, -3.7469863310e-04]],\n \n          [[-1.4665529598e-03, -1.4238721924e-03, -1.5437105903e-03],\n           [-1.5414148802e-03, -1.5057532582e-03, -1.6298580449e-03],\n           [-1.5607113019e-03, -1.5265718102e-03, -1.6363634495e-03]]],\n \n \n         [[[-6.5783147875e-05, -4.6144217777e-05, -5.8243829699e-05],\n           [-3.3250536944e-05, -2.9872542655e-05, -3.9493083023e-05],\n           [-4.3667518185e-05, -3.3814809285e-05, -2.5645345886e-05]],\n \n          [[-1.0873803869e-02, -1.0830132291e-02, -1.1132813990e-02],\n           [-1.1130801402e-02, -1.0890698992e-02, -1.1201534420e-02],\n           [-1.1942984536e-02, -1.1686426587e-02, -1.1785212904e-02]],\n \n          [[-1.4755492157e-04, -1.0320609726e-04, -1.2055778643e-04],\n           [-1.3543720706e-04, -9.2349851911e-05, -1.1948265455e-04],\n           [-1.9302303554e-04, -1.6354859690e-04, -1.6911428247e-04]],\n \n          ...,\n \n          [[-1.0552302934e-02, -1.0205078870e-02, -1.0312172584e-02],\n           [-1.0609383695e-02, -1.0097905062e-02, -1.0265155695e-02],\n           [-1.0771286674e-02, -1.0365431197e-02, -1.0443773121e-02]],\n \n          [[-9.1026318842e-05, -8.6413092504e-05, -7.0880763815e-05],\n           [-1.0411239782e-04, -9.4201939646e-05, -9.0145753347e-05],\n           [-1.7150100030e-04, -1.6557944764e-04, -1.6154258628e-04]],\n \n          [[-1.0586756980e-03, -1.1152498191e-03, -1.1264487403e-03],\n           [-1.1114145163e-03, -1.1573228985e-03, -1.1510505574e-03],\n           [-1.1549416231e-03, -1.1734768050e-03, -1.1481968686e-03]]],\n \n \n         [[[-1.3397499970e-05, -5.8635887399e-06,  0.0000000000e+00],\n           [-5.1703045756e-06,  0.0000000000e+00,  0.0000000000e+00],\n           [ 0.0000000000e+00,  0.0000000000e+00,  0.0000000000e+00]],\n \n          [[-1.8743627152e-05, -2.2562122467e-05, -1.8613964130e-05],\n           [-3.3728454582e-05, -4.5590284572e-05, -1.1849561815e-05],\n           [-1.3404552010e-04, -1.5417888062e-04, -1.2937592692e-04]],\n \n          [[-8.1460859747e-07, -1.6186866560e-05, -5.6909880186e-06],\n           [-6.6439993134e-06, -1.0327727068e-05,  0.0000000000e+00],\n           [-1.7073429262e-05, -2.2164065740e-05, -1.8238961275e-07]],\n \n          ...,\n \n          [[-2.8747042961e-05, -1.4159129933e-04, -6.8017427111e-05],\n           [-3.9912811189e-05, -1.6525584215e-04, -7.5630989159e-05],\n           [-8.1065067207e-05, -2.1018367261e-04, -1.2378857355e-04]],\n \n          [[ 0.0000000000e+00, -3.5854136513e-06, -2.9629836718e-07],\n           [-5.7822253439e-06, -1.6807982320e-05,  0.0000000000e+00],\n           [-2.8383619792e-05, -3.8539128582e-05, -2.8233098419e-05]],\n \n          [[-3.2091079447e-06, -7.1742174441e-06, -2.5527765501e-06],\n           [-8.1512562247e-06, -1.8935636035e-05, -3.1606289213e-06],\n           [-2.9709843147e-05, -4.7287048801e-05, -1.6723399312e-05]]]],\n        device='cuda:0')]"
     },
     "execution_count": 21,
     "metadata": {},
     "output_type": "execute_result"
    }
   ],
   "source": [
    "sCNN.disable()\n",
    "\n",
    "streaming_conv_gradients\n"
   ],
   "metadata": {
    "collapsed": false,
    "ExecuteTime": {
     "end_time": "2023-10-20T08:28:43.329866900Z",
     "start_time": "2023-10-20T08:28:42.940468800Z"
    }
   },
   "id": "9caf49cce06c5f0e"
  },
  {
   "cell_type": "markdown",
   "source": [
    "## Compare to conventional training"
   ],
   "metadata": {
    "collapsed": false
   },
   "id": "74e7c24c47c0bfcb"
  },
  {
   "cell_type": "code",
   "execution_count": 22,
   "outputs": [],
   "source": [
    "resnet = resnet18(weights=\"IMAGENET1K_V1\")\n",
    "stream_net, head = split_model(resnet)\n",
    "\n",
    "stream_net, head = split_model(resnet)\n",
    "\n",
    "def freeze_bn_layers(model):\n",
    "    for mod in model.modules():\n",
    "        if isinstance(mod, torch.nn.BatchNorm2d):\n",
    "            mod.eval()\n",
    "\n",
    "freeze_bn_layers(stream_net)\n",
    "stream_net.type(dtype)\n",
    "if cuda: stream_net.cuda()\n",
    "\n",
    "\n",
    "for i, layer in enumerate(stream_net.modules()):\n",
    "    if isinstance(layer, torch.nn.Conv2d):\n",
    "        if layer.weight.grad is not None:\n",
    "            layer.weight.grad.data.zero_()\n",
    "            layer.bias.grad.data.zero_()\n",
    "            \n"
   ],
   "metadata": {
    "collapsed": false,
    "ExecuteTime": {
     "end_time": "2023-10-20T08:28:44.371650100Z",
     "start_time": "2023-10-20T08:28:44.134837600Z"
    }
   },
   "id": "f570eb5063cdd391"
  },
  {
   "cell_type": "code",
   "execution_count": 23,
   "outputs": [],
   "source": [
    "conventional_gradients = []\n",
    "inps = []\n",
    "\n",
    "def save_grad(module, grad_in, grad_out):\n",
    "    global conventional_gradients\n",
    "    conventional_gradients.append(grad_out[0].clone())\n",
    "        \n",
    "for i, layer in enumerate(stream_net.modules()):\n",
    "    if isinstance(layer, torch.nn.Conv2d):\n",
    "        layer.register_backward_hook(save_grad)"
   ],
   "metadata": {
    "collapsed": false,
    "ExecuteTime": {
     "end_time": "2023-10-20T08:28:44.621245500Z",
     "start_time": "2023-10-20T08:28:44.571790700Z"
    }
   },
   "id": "3b31e08e29427099"
  },
  {
   "cell_type": "markdown",
   "source": [
    "This output should be the same as the streaming output, if so, the loss will also be the same:\n",
    "\n"
   ],
   "metadata": {
    "collapsed": false
   },
   "id": "76e88ba324844ae5"
  },
  {
   "cell_type": "code",
   "execution_count": 24,
   "outputs": [
    {
     "name": "stderr",
     "output_type": "stream",
     "text": [
      "/usr/local/lib/python3.11/site-packages/torch/nn/modules/module.py:1344: UserWarning: Using a non-full backward hook when the forward contains multiple autograd Nodes is deprecated and will be removed in future versions. This hook will be missing some grad_input. Please use register_full_backward_hook to get the documented behavior.\n",
      "  warnings.warn(\"Using a non-full backward hook when the forward contains multiple autograd Nodes \"\n"
     ]
    },
    {
     "data": {
      "text/plain": "torch.Size([1, 512, 94, 94])"
     },
     "execution_count": 24,
     "metadata": {},
     "output_type": "execute_result"
    }
   ],
   "source": [
    "image.requires_grad = True\n",
    "stream_net.to('cpu')\n",
    "conventional_output = stream_net(image[None].to('cpu')); conventional_output.max()\n",
    "conventional_output.shape"
   ],
   "metadata": {
    "collapsed": false,
    "ExecuteTime": {
     "end_time": "2023-10-20T08:28:47.865417400Z",
     "start_time": "2023-10-20T08:28:45.387544600Z"
    }
   },
   "id": "f6974420d6615a1e"
  },
  {
   "cell_type": "code",
   "execution_count": 25,
   "outputs": [
    {
     "name": "stdout",
     "output_type": "stream",
     "text": [
      "torch.Size([1, 512, 94, 94])\n"
     ]
    },
    {
     "data": {
      "text/plain": "torch.Size([1, 512, 93, 93])"
     },
     "execution_count": 25,
     "metadata": {},
     "output_type": "execute_result"
    }
   ],
   "source": [
    "print(conventional_output.shape)\n",
    "stream_output.shape"
   ],
   "metadata": {
    "collapsed": false,
    "ExecuteTime": {
     "end_time": "2023-10-20T08:28:47.866426400Z",
     "start_time": "2023-10-20T08:28:47.855897200Z"
    }
   },
   "id": "c29f896aa692a1b"
  },
  {
   "cell_type": "code",
   "execution_count": 30,
   "outputs": [
    {
     "name": "stdout",
     "output_type": "stream",
     "text": [
      "torch.Size([1, 512, 93, 93]) torch.Size([1, 512, 94, 94])\n",
      "NOT equal output to streaming\n",
      "error: 4.265669822692871\n"
     ]
    }
   ],
   "source": [
    "# NOTE: sometimes output can be slightly bigger \n",
    "# (if tiles do not fit nicely on input image according to output stride)\n",
    "# In that case this check may fail.\n",
    "print(stream_output.shape, conventional_output.shape)\n",
    "max_error = torch.abs(stream_output.detach().cpu() - conventional_output).max().item()\n",
    "\n",
    "if max_error < 1e-7:\n",
    "    print(\"Equal output to streaming\")\n",
    "else:\n",
    "    print(\"NOT equal output to streaming\"),\n",
    "    print(\"error:\", max_error)"
   ],
   "metadata": {
    "collapsed": false,
    "ExecuteTime": {
     "end_time": "2023-10-20T08:30:22.785705400Z",
     "start_time": "2023-10-20T08:30:22.767497300Z"
    }
   },
   "id": "54e6961142a52c24"
  },
  {
   "cell_type": "code",
   "execution_count": 49,
   "outputs": [
    {
     "data": {
      "text/plain": "tensor(0.6056637677, device='cuda:0', dtype=torch.float64,\n       grad_fn=<SigmoidBackward0>)"
     },
     "execution_count": 49,
     "metadata": {},
     "output_type": "execute_result"
    }
   ],
   "source": [
    "output = torch.sigmoid(torch.mean(conventional_output)); output"
   ],
   "metadata": {
    "collapsed": false,
    "ExecuteTime": {
     "end_time": "2023-10-08T15:55:38.652058Z",
     "start_time": "2023-10-08T15:55:38.642052Z"
    }
   },
   "id": "dab0ce2d17f05bb8"
  },
  {
   "cell_type": "code",
   "execution_count": 50,
   "outputs": [
    {
     "data": {
      "text/plain": "tensor(2439.8004518320, device='cuda:0', dtype=torch.float64,\n       grad_fn=<MseLossBackward0>)"
     },
     "execution_count": 50,
     "metadata": {},
     "output_type": "execute_result"
    }
   ],
   "source": [
    "loss = criterion(output, target); loss"
   ],
   "metadata": {
    "collapsed": false,
    "ExecuteTime": {
     "end_time": "2023-10-08T15:55:39.451135Z",
     "start_time": "2023-10-08T15:55:39.431131400Z"
    }
   },
   "id": "c48adcad2f38750a"
  },
  {
   "cell_type": "code",
   "execution_count": 51,
   "outputs": [],
   "source": [
    "loss.backward()"
   ],
   "metadata": {
    "collapsed": false,
    "ExecuteTime": {
     "end_time": "2023-10-08T15:55:40.345657Z",
     "start_time": "2023-10-08T15:55:40.337640600Z"
    }
   },
   "id": "fbb061cb856557d6"
  },
  {
   "cell_type": "code",
   "execution_count": 52,
   "outputs": [
    {
     "data": {
      "text/plain": "torch.Size([1, 64, 752, 752])"
     },
     "execution_count": 52,
     "metadata": {},
     "output_type": "execute_result"
    }
   ],
   "source": [
    "conventional_gradients[-1].shape"
   ],
   "metadata": {
    "collapsed": false,
    "ExecuteTime": {
     "end_time": "2023-10-08T15:55:42.100067300Z",
     "start_time": "2023-10-08T15:55:42.086072500Z"
    }
   },
   "id": "39c710f3672801ab"
  },
  {
   "cell_type": "markdown",
   "source": [
    "## Compare the gradients of the input image\n",
    "Using the saliency argument, we can compute the gradient w.r.t to the input image. If streaming is the same as conventional training, these gradients should be roughly equal"
   ],
   "metadata": {
    "collapsed": false
   },
   "id": "6161a9b953a30d5c"
  },
  {
   "cell_type": "code",
   "execution_count": 53,
   "outputs": [
    {
     "name": "stdout",
     "output_type": "stream",
     "text": [
      "0.0020155576469186457\n"
     ]
    }
   ],
   "source": [
    "diff = image.grad.detach().cpu().numpy() - sCNN.saliency_map[0].numpy()\n",
    "print(diff.max())"
   ],
   "metadata": {
    "collapsed": false,
    "ExecuteTime": {
     "end_time": "2023-10-08T15:55:43.431441200Z",
     "start_time": "2023-10-08T15:55:43.388378800Z"
    }
   },
   "id": "f5e23077c982b5"
  },
  {
   "cell_type": "markdown",
   "source": [
    "## Compare the gradients of the conv2d layers"
   ],
   "metadata": {
    "collapsed": false
   },
   "id": "3fb109b0b711f846"
  },
  {
   "cell_type": "code",
   "execution_count": 54,
   "outputs": [
    {
     "name": "stdout",
     "output_type": "stream",
     "text": [
      "Conv layer 0 \t Conv2d(3, 64, kernel_size=(7, 7), stride=(2, 2), padding=(3, 3), bias=False)\n",
      "Conv layer 1 \t Conv2d(64, 64, kernel_size=(3, 3), stride=(1, 1), padding=(1, 1), bias=False)\n",
      "Conv layer 2 \t Conv2d(64, 64, kernel_size=(3, 3), stride=(1, 1), padding=(1, 1), bias=False)\n",
      "Conv layer 3 \t Conv2d(64, 64, kernel_size=(3, 3), stride=(1, 1), padding=(1, 1), bias=False)\n",
      "Conv layer 4 \t Conv2d(64, 64, kernel_size=(3, 3), stride=(1, 1), padding=(1, 1), bias=False)\n",
      "Conv layer 5 \t Conv2d(64, 128, kernel_size=(3, 3), stride=(2, 2), padding=(1, 1), bias=False)\n",
      "Conv layer 6 \t Conv2d(128, 128, kernel_size=(3, 3), stride=(1, 1), padding=(1, 1), bias=False)\n",
      "Conv layer 7 \t Conv2d(64, 128, kernel_size=(1, 1), stride=(2, 2), bias=False)\n",
      "Conv layer 8 \t Conv2d(128, 128, kernel_size=(3, 3), stride=(1, 1), padding=(1, 1), bias=False)\n",
      "Conv layer 9 \t Conv2d(128, 128, kernel_size=(3, 3), stride=(1, 1), padding=(1, 1), bias=False)\n",
      "Conv layer 10 \t Conv2d(128, 256, kernel_size=(3, 3), stride=(2, 2), padding=(1, 1), bias=False)\n",
      "Conv layer 11 \t Conv2d(256, 256, kernel_size=(3, 3), stride=(1, 1), padding=(1, 1), bias=False)\n",
      "Conv layer 12 \t Conv2d(128, 256, kernel_size=(1, 1), stride=(2, 2), bias=False)\n",
      "Conv layer 13 \t Conv2d(256, 256, kernel_size=(3, 3), stride=(1, 1), padding=(1, 1), bias=False)\n",
      "Conv layer 14 \t Conv2d(256, 256, kernel_size=(3, 3), stride=(1, 1), padding=(1, 1), bias=False)\n",
      "Conv layer 15 \t Conv2d(256, 512, kernel_size=(3, 3), stride=(2, 2), padding=(1, 1), bias=False)\n",
      "Conv layer 16 \t Conv2d(512, 512, kernel_size=(3, 3), stride=(1, 1), padding=(1, 1), bias=False)\n",
      "Conv layer 17 \t Conv2d(256, 512, kernel_size=(1, 1), stride=(2, 2), bias=False)\n",
      "Conv layer 18 \t Conv2d(512, 512, kernel_size=(3, 3), stride=(1, 1), padding=(1, 1), bias=False)\n",
      "Conv layer 19 \t Conv2d(512, 512, kernel_size=(3, 3), stride=(1, 1), padding=(1, 1), bias=False)\n"
     ]
    }
   ],
   "source": [
    "normal_conv_gradients = []\n",
    "j = 0\n",
    "for i, layer in enumerate(stream_net.modules()):\n",
    "    if isinstance(layer, torch.nn.Conv2d):\n",
    "        if layer.weight.grad is not None:\n",
    "            normal_conv_gradients.append(layer.weight.grad) \n",
    "            print('Conv layer', j, '\\t', layer)\n",
    "            j += 1"
   ],
   "metadata": {
    "collapsed": false,
    "ExecuteTime": {
     "end_time": "2023-10-08T15:55:44.680653700Z",
     "start_time": "2023-10-08T15:55:44.668599500Z"
    }
   },
   "id": "df05ee0e7443ea52"
  },
  {
   "cell_type": "code",
   "execution_count": 55,
   "outputs": [
    {
     "name": "stdout",
     "output_type": "stream",
     "text": [
      "Conventional \n",
      "\n",
      "Conv layer 0 \t average gradient size: 0.025278384389962636\n",
      "Conv layer 1 \t average gradient size: 0.1965582114937199\n",
      "Conv layer 2 \t average gradient size: 0.13338380764486021\n",
      "Conv layer 3 \t average gradient size: 0.21788707053958006\n",
      "Conv layer 4 \t average gradient size: 0.12211251266994495\n",
      "Conv layer 5 \t average gradient size: 0.27629812906776163\n",
      "Conv layer 6 \t average gradient size: 0.1499612032093409\n",
      "Conv layer 7 \t average gradient size: 0.5234610677786308\n",
      "Conv layer 8 \t average gradient size: 0.16657202504835927\n",
      "Conv layer 9 \t average gradient size: 0.07438151845975027\n",
      "Conv layer 10 \t average gradient size: 0.06905372369649644\n",
      "Conv layer 11 \t average gradient size: 0.03219021375690993\n",
      "Conv layer 12 \t average gradient size: 0.08026865727058952\n",
      "Conv layer 13 \t average gradient size: 0.055126688412476296\n",
      "Conv layer 14 \t average gradient size: 0.028606464769841595\n",
      "Conv layer 15 \t average gradient size: 0.021730748478855963\n",
      "Conv layer 16 \t average gradient size: 0.005808344896697414\n",
      "Conv layer 17 \t average gradient size: 0.047249270348701855\n",
      "Conv layer 18 \t average gradient size: 0.0065361244369155505\n",
      "Conv layer 19 \t average gradient size: 0.004171739768432276\n"
     ]
    }
   ],
   "source": [
    "print('Conventional', '\\n')\n",
    "\n",
    "for i in range(len(streaming_conv_gradients)):\n",
    "    print(\"Conv layer\", i, \"\\t average gradient size:\", \n",
    "          float(torch.mean(torch.abs(streaming_conv_gradients[i].data))))"
   ],
   "metadata": {
    "collapsed": false,
    "ExecuteTime": {
     "end_time": "2023-10-08T15:55:47.500583600Z",
     "start_time": "2023-10-08T15:55:47.426583Z"
    }
   },
   "id": "7a564fe7a995e37b"
  },
  {
   "cell_type": "code",
   "execution_count": 56,
   "outputs": [
    {
     "name": "stdout",
     "output_type": "stream",
     "text": [
      "Streaming \n",
      "\n",
      "Conv layer 0 \t average gradient size: 0.025278384389962643\n",
      "Conv layer 1 \t average gradient size: 0.19655821149371994\n",
      "Conv layer 2 \t average gradient size: 0.13338380764486021\n",
      "Conv layer 3 \t average gradient size: 0.21788707053958\n",
      "Conv layer 4 \t average gradient size: 0.12211251266994494\n",
      "Conv layer 5 \t average gradient size: 0.27629812906776163\n",
      "Conv layer 6 \t average gradient size: 0.14996120320934092\n",
      "Conv layer 7 \t average gradient size: 0.5234610677786309\n",
      "Conv layer 8 \t average gradient size: 0.16657202504835927\n",
      "Conv layer 9 \t average gradient size: 0.07438151845975027\n",
      "Conv layer 10 \t average gradient size: 0.06905372369649644\n",
      "Conv layer 11 \t average gradient size: 0.03219021375690993\n",
      "Conv layer 12 \t average gradient size: 0.08026865727058952\n",
      "Conv layer 13 \t average gradient size: 0.0551266884124763\n",
      "Conv layer 14 \t average gradient size: 0.028606464769841595\n",
      "Conv layer 15 \t average gradient size: 0.021730748478855963\n",
      "Conv layer 16 \t average gradient size: 0.005808344896697414\n",
      "Conv layer 17 \t average gradient size: 0.047249270348701855\n",
      "Conv layer 18 \t average gradient size: 0.0065361244369155505\n",
      "Conv layer 19 \t average gradient size: 0.004171739768432276\n"
     ]
    }
   ],
   "source": [
    "\n",
    "print('Streaming', '\\n')\n",
    "for i in range(len(normal_conv_gradients)):\n",
    "    print(\"Conv layer\", i, \"\\t average gradient size:\", \n",
    "          float(torch.mean(torch.abs(normal_conv_gradients[i].data))))"
   ],
   "metadata": {
    "collapsed": false,
    "ExecuteTime": {
     "end_time": "2023-10-08T15:55:49.316604700Z",
     "start_time": "2023-10-08T15:55:49.293698300Z"
    }
   },
   "id": "e7e4bd209a2a575b"
  },
  {
   "cell_type": "code",
   "execution_count": 57,
   "outputs": [
    {
     "name": "stdout",
     "output_type": "stream",
     "text": [
      "Conv layer 0 \t max difference between kernel gradients: 5.995204332975845e-15\n",
      "Conv layer 1 \t max difference between kernel gradients: 1.9095836023552692e-13\n",
      "Conv layer 2 \t max difference between kernel gradients: 7.061018436615996e-14\n",
      "Conv layer 3 \t max difference between kernel gradients: 1.6608936448392342e-13\n",
      "Conv layer 4 \t max difference between kernel gradients: 1.0835776720341528e-13\n",
      "Conv layer 5 \t max difference between kernel gradients: 4.574118861455645e-14\n",
      "Conv layer 6 \t max difference between kernel gradients: 1.1546319456101628e-13\n",
      "Conv layer 7 \t max difference between kernel gradients: 6.483702463810914e-14\n",
      "Conv layer 8 \t max difference between kernel gradients: 6.483702463810914e-14\n",
      "Conv layer 9 \t max difference between kernel gradients: 7.016609515630989e-14\n",
      "Conv layer 10 \t max difference between kernel gradients: 2.3092638912203256e-14\n",
      "Conv layer 11 \t max difference between kernel gradients: 1.554312234475219e-14\n",
      "Conv layer 12 \t max difference between kernel gradients: 2.042810365310288e-14\n",
      "Conv layer 13 \t max difference between kernel gradients: 1.9539925233402755e-14\n",
      "Conv layer 14 \t max difference between kernel gradients: 1.8207657603852567e-14\n",
      "Conv layer 15 \t max difference between kernel gradients: 3.9968028886505635e-15\n",
      "Conv layer 16 \t max difference between kernel gradients: 8.881784197001252e-15\n",
      "Conv layer 17 \t max difference between kernel gradients: 9.769962616701378e-15\n",
      "Conv layer 18 \t max difference between kernel gradients: 8.43769498715119e-15\n",
      "Conv layer 19 \t max difference between kernel gradients: 6.106226635438361e-16\n"
     ]
    }
   ],
   "source": [
    "for i in range(len(streaming_conv_gradients)):\n",
    "    diff = torch.abs(streaming_conv_gradients[i].data - normal_conv_gradients[i].data)\n",
    "    max_diff = diff.max()\n",
    "    print(\"Conv layer\", i, \"\\t max difference between kernel gradients:\", \n",
    "          float(max_diff))"
   ],
   "metadata": {
    "collapsed": false,
    "ExecuteTime": {
     "end_time": "2023-10-08T15:55:51.542838200Z",
     "start_time": "2023-10-08T15:55:51.460830500Z"
    }
   },
   "id": "c91a1edbfbd9e631"
  },
  {
   "cell_type": "code",
   "execution_count": 36,
   "outputs": [],
   "source": [],
   "metadata": {
    "collapsed": false,
    "ExecuteTime": {
     "end_time": "2023-10-08T15:52:53.466304700Z",
     "start_time": "2023-10-08T15:52:53.447303Z"
    }
   },
   "id": "de5d1b6202263776"
  },
  {
   "cell_type": "code",
   "execution_count": null,
   "outputs": [],
   "source": [],
   "metadata": {
    "collapsed": false
   },
   "id": "9bdf7f31cf821a38"
  }
 ],
 "metadata": {
  "kernelspec": {
   "display_name": "Python 3",
   "language": "python",
   "name": "python3"
  },
  "language_info": {
   "codemirror_mode": {
    "name": "ipython",
    "version": 2
   },
   "file_extension": ".py",
   "mimetype": "text/x-python",
   "name": "python",
   "nbconvert_exporter": "python",
   "pygments_lexer": "ipython2",
   "version": "2.7.6"
  }
 },
 "nbformat": 4,
 "nbformat_minor": 5
}
