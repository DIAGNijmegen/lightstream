{
 "cells": [
  {
   "cell_type": "markdown",
   "source": [],
   "metadata": {
    "collapsed": false
   },
   "id": "55beb66a623793bd"
  },
  {
   "cell_type": "code",
   "execution_count": 1,
   "outputs": [],
   "source": [
    "import torch\n",
    "import torch.nn as nn\n",
    "from lightstream.scnn import StreamingCNN, StreamingConv2d\n",
    "from torchvision.models import resnet18, resnet34, resnet50"
   ],
   "metadata": {
    "collapsed": false,
    "ExecuteTime": {
     "end_time": "2024-01-12T13:41:42.389693500Z",
     "start_time": "2024-01-12T13:41:41.091346900Z"
    }
   },
   "id": "821154fb6c154597"
  },
  {
   "cell_type": "code",
   "execution_count": 2,
   "outputs": [],
   "source": [
    "torch.set_printoptions(precision=10)"
   ],
   "metadata": {
    "collapsed": false,
    "ExecuteTime": {
     "end_time": "2024-01-12T13:41:43.069208Z",
     "start_time": "2024-01-12T13:41:42.392689Z"
    }
   },
   "id": "ce68884f32700708"
  },
  {
   "cell_type": "markdown",
   "source": [
    "## Model definition"
   ],
   "metadata": {
    "collapsed": false
   },
   "id": "95718ab1767415d4"
  },
  {
   "cell_type": "code",
   "execution_count": 3,
   "outputs": [],
   "source": [
    "resnet = resnet18(weights=\"IMAGENET1K_V1\")\n",
    "\n",
    "def split_model(model):\n",
    "    model.layer4 = torch.nn.Sequential()\n",
    "    stream_net = nn.Sequential(\n",
    "        model.conv1,\n",
    "        model.bn1,\n",
    "        model.relu,\n",
    "        model.maxpool,\n",
    "        model.layer1,\n",
    "        model.layer2,\n",
    "        model.layer3,\n",
    "        model.layer4,\n",
    "        torch.nn.MaxPool2d(8, stride=8, ceil_mode=False)\n",
    "    )\n",
    "    head = nn.Sequential(model.avgpool, nn.Flatten(), model.fc)\n",
    "    return stream_net, head"
   ],
   "metadata": {
    "collapsed": false,
    "ExecuteTime": {
     "end_time": "2024-01-12T13:41:44.618969900Z",
     "start_time": "2024-01-12T13:41:43.064593600Z"
    }
   },
   "id": "a284519901de2ba9"
  },
  {
   "cell_type": "code",
   "execution_count": 4,
   "outputs": [],
   "source": [
    "stream_net, head = split_model(resnet)\n",
    "\n",
    "def freeze_bn_layers(model):\n",
    "    for mod in model.modules():\n",
    "        if isinstance(mod, torch.nn.BatchNorm2d):\n",
    "            mod.eval()\n",
    "\n",
    "freeze_bn_layers(stream_net)"
   ],
   "metadata": {
    "collapsed": false,
    "ExecuteTime": {
     "end_time": "2024-01-12T13:41:44.831720800Z",
     "start_time": "2024-01-12T13:41:44.621359300Z"
    }
   },
   "id": "532ffc4af7d148f4"
  },
  {
   "cell_type": "code",
   "execution_count": 5,
   "outputs": [
    {
     "data": {
      "text/plain": "'\\npadding = 0\\n\\nstream_net = torch.nn.Sequential(\\n    torch.nn.Conv2d(3, 16, kernel_size=3, padding=padding), torch.nn.ReLU(),\\n    torch.nn.Conv2d(16, 16, kernel_size=3, padding=padding), torch.nn.ReLU(),\\n    torch.nn.MaxPool2d(2),\\n    torch.nn.Conv2d(16, 16, kernel_size=3, padding=padding), torch.nn.ReLU(),\\n    torch.nn.Conv2d(16, 16, kernel_size=3, padding=padding), torch.nn.ReLU(),\\n    torch.nn.MaxPool2d(2),\\n    torch.nn.Conv2d(16, 16, kernel_size=3, padding=padding), torch.nn.ReLU(),\\n    torch.nn.Conv2d(16, 16, kernel_size=3, padding=padding), torch.nn.ReLU(),\\n    torch.nn.MaxPool2d(2))\\n'"
     },
     "execution_count": 5,
     "metadata": {},
     "output_type": "execute_result"
    }
   ],
   "source": [
    "\"\"\"\n",
    "padding = 0\n",
    "\n",
    "stream_net = torch.nn.Sequential(\n",
    "    torch.nn.Conv2d(3, 16, kernel_size=3, padding=padding), torch.nn.ReLU(),\n",
    "    torch.nn.Conv2d(16, 16, kernel_size=3, padding=padding), torch.nn.ReLU(),\n",
    "    torch.nn.MaxPool2d(2),\n",
    "    torch.nn.Conv2d(16, 16, kernel_size=3, padding=padding), torch.nn.ReLU(),\n",
    "    torch.nn.Conv2d(16, 16, kernel_size=3, padding=padding), torch.nn.ReLU(),\n",
    "    torch.nn.MaxPool2d(2),\n",
    "    torch.nn.Conv2d(16, 16, kernel_size=3, padding=padding), torch.nn.ReLU(),\n",
    "    torch.nn.Conv2d(16, 16, kernel_size=3, padding=padding), torch.nn.ReLU(),\n",
    "    torch.nn.MaxPool2d(2))\n",
    "\"\"\""
   ],
   "metadata": {
    "collapsed": false,
    "ExecuteTime": {
     "end_time": "2024-01-12T13:41:45.508289Z",
     "start_time": "2024-01-12T13:41:44.837216Z"
    }
   },
   "id": "bd6f8d91181799c8"
  },
  {
   "cell_type": "code",
   "execution_count": 6,
   "outputs": [],
   "source": [
    "for i, layer in enumerate(stream_net.modules()):\n",
    "    if isinstance(layer, torch.nn.Conv2d):\n",
    "        layer.weight.data *= 1.0\n",
    "        \n",
    "        if layer.bias is not None:\n",
    "            layer.bias.data.zero_()"
   ],
   "metadata": {
    "collapsed": false,
    "ExecuteTime": {
     "end_time": "2024-01-12T13:41:46.195730100Z",
     "start_time": "2024-01-12T13:41:45.510328700Z"
    }
   },
   "id": "65a3d6c1f50a4d37"
  },
  {
   "cell_type": "code",
   "execution_count": 7,
   "outputs": [
    {
     "name": "stdout",
     "output_type": "stream",
     "text": [
      "Sequential(\n",
      "  (0): Conv2d(3, 64, kernel_size=(7, 7), stride=(2, 2), padding=(3, 3), bias=False)\n",
      "  (1): BatchNorm2d(64, eps=1e-05, momentum=0.1, affine=True, track_running_stats=True)\n",
      "  (2): ReLU(inplace=True)\n",
      "  (3): MaxPool2d(kernel_size=3, stride=2, padding=1, dilation=1, ceil_mode=False)\n",
      "  (4): Sequential(\n",
      "    (0): BasicBlock(\n",
      "      (conv1): Conv2d(64, 64, kernel_size=(3, 3), stride=(1, 1), padding=(1, 1), bias=False)\n",
      "      (bn1): BatchNorm2d(64, eps=1e-05, momentum=0.1, affine=True, track_running_stats=True)\n",
      "      (relu): ReLU(inplace=True)\n",
      "      (conv2): Conv2d(64, 64, kernel_size=(3, 3), stride=(1, 1), padding=(1, 1), bias=False)\n",
      "      (bn2): BatchNorm2d(64, eps=1e-05, momentum=0.1, affine=True, track_running_stats=True)\n",
      "    )\n",
      "    (1): BasicBlock(\n",
      "      (conv1): Conv2d(64, 64, kernel_size=(3, 3), stride=(1, 1), padding=(1, 1), bias=False)\n",
      "      (bn1): BatchNorm2d(64, eps=1e-05, momentum=0.1, affine=True, track_running_stats=True)\n",
      "      (relu): ReLU(inplace=True)\n",
      "      (conv2): Conv2d(64, 64, kernel_size=(3, 3), stride=(1, 1), padding=(1, 1), bias=False)\n",
      "      (bn2): BatchNorm2d(64, eps=1e-05, momentum=0.1, affine=True, track_running_stats=True)\n",
      "    )\n",
      "  )\n",
      "  (5): Sequential(\n",
      "    (0): BasicBlock(\n",
      "      (conv1): Conv2d(64, 128, kernel_size=(3, 3), stride=(2, 2), padding=(1, 1), bias=False)\n",
      "      (bn1): BatchNorm2d(128, eps=1e-05, momentum=0.1, affine=True, track_running_stats=True)\n",
      "      (relu): ReLU(inplace=True)\n",
      "      (conv2): Conv2d(128, 128, kernel_size=(3, 3), stride=(1, 1), padding=(1, 1), bias=False)\n",
      "      (bn2): BatchNorm2d(128, eps=1e-05, momentum=0.1, affine=True, track_running_stats=True)\n",
      "      (downsample): Sequential(\n",
      "        (0): Conv2d(64, 128, kernel_size=(1, 1), stride=(2, 2), bias=False)\n",
      "        (1): BatchNorm2d(128, eps=1e-05, momentum=0.1, affine=True, track_running_stats=True)\n",
      "      )\n",
      "    )\n",
      "    (1): BasicBlock(\n",
      "      (conv1): Conv2d(128, 128, kernel_size=(3, 3), stride=(1, 1), padding=(1, 1), bias=False)\n",
      "      (bn1): BatchNorm2d(128, eps=1e-05, momentum=0.1, affine=True, track_running_stats=True)\n",
      "      (relu): ReLU(inplace=True)\n",
      "      (conv2): Conv2d(128, 128, kernel_size=(3, 3), stride=(1, 1), padding=(1, 1), bias=False)\n",
      "      (bn2): BatchNorm2d(128, eps=1e-05, momentum=0.1, affine=True, track_running_stats=True)\n",
      "    )\n",
      "  )\n",
      "  (6): Sequential(\n",
      "    (0): BasicBlock(\n",
      "      (conv1): Conv2d(128, 256, kernel_size=(3, 3), stride=(2, 2), padding=(1, 1), bias=False)\n",
      "      (bn1): BatchNorm2d(256, eps=1e-05, momentum=0.1, affine=True, track_running_stats=True)\n",
      "      (relu): ReLU(inplace=True)\n",
      "      (conv2): Conv2d(256, 256, kernel_size=(3, 3), stride=(1, 1), padding=(1, 1), bias=False)\n",
      "      (bn2): BatchNorm2d(256, eps=1e-05, momentum=0.1, affine=True, track_running_stats=True)\n",
      "      (downsample): Sequential(\n",
      "        (0): Conv2d(128, 256, kernel_size=(1, 1), stride=(2, 2), bias=False)\n",
      "        (1): BatchNorm2d(256, eps=1e-05, momentum=0.1, affine=True, track_running_stats=True)\n",
      "      )\n",
      "    )\n",
      "    (1): BasicBlock(\n",
      "      (conv1): Conv2d(256, 256, kernel_size=(3, 3), stride=(1, 1), padding=(1, 1), bias=False)\n",
      "      (bn1): BatchNorm2d(256, eps=1e-05, momentum=0.1, affine=True, track_running_stats=True)\n",
      "      (relu): ReLU(inplace=True)\n",
      "      (conv2): Conv2d(256, 256, kernel_size=(3, 3), stride=(1, 1), padding=(1, 1), bias=False)\n",
      "      (bn2): BatchNorm2d(256, eps=1e-05, momentum=0.1, affine=True, track_running_stats=True)\n",
      "    )\n",
      "  )\n",
      "  (7): Sequential()\n",
      "  (8): MaxPool2d(kernel_size=8, stride=8, padding=0, dilation=1, ceil_mode=False)\n",
      ")\n"
     ]
    }
   ],
   "source": [
    "print(stream_net)"
   ],
   "metadata": {
    "collapsed": false,
    "ExecuteTime": {
     "end_time": "2024-01-12T13:41:46.745677900Z",
     "start_time": "2024-01-12T13:41:46.191391200Z"
    }
   },
   "id": "2206f8e70f1d06de"
  },
  {
   "cell_type": "markdown",
   "source": [
    "## Configurations"
   ],
   "metadata": {
    "collapsed": false
   },
   "id": "f6664c577e2c5beb"
  },
  {
   "cell_type": "code",
   "execution_count": 8,
   "outputs": [],
   "source": [
    "tile_size = 128*15\n",
    "img_size = 128*25\n",
    "\n",
    "cuda = True  # execute this notebook on the GPU\n",
    "verbose = True   # enable / disable logging\n",
    "dtype = torch.float64  # test with double precision"
   ],
   "metadata": {
    "collapsed": false,
    "ExecuteTime": {
     "end_time": "2024-01-12T13:42:08.173248500Z",
     "start_time": "2024-01-12T13:42:08.155178400Z"
    }
   },
   "id": "7a0f0baa666c29c8"
  },
  {
   "cell_type": "code",
   "execution_count": 9,
   "outputs": [],
   "source": [
    "\n",
    "stream_net.type(dtype)\n",
    "if cuda: stream_net.cuda()"
   ],
   "metadata": {
    "collapsed": false,
    "ExecuteTime": {
     "end_time": "2024-01-12T13:42:09.105469500Z",
     "start_time": "2024-01-12T13:42:08.564787100Z"
    }
   },
   "id": "f478abffc3ce9fdb"
  },
  {
   "cell_type": "markdown",
   "source": [
    "## Configure streamingCNN\n",
    "IMPORTANT: setting gather_gradients to True makes the class save all the gradients of the intermediate feature maps. This is needed because we want to compare the feature map gradients between streaming and conventional backpropagation. However this also counteracts the memory gains by StreamingCNN. If you want to test the memory efficiency, set gather_gradients to False"
   ],
   "metadata": {
    "collapsed": false
   },
   "id": "d37d70c0d3421f13"
  },
  {
   "cell_type": "code",
   "execution_count": 10,
   "outputs": [
    {
     "name": "stdout",
     "output_type": "stream",
     "text": [
      "Conv2d(3, 64, kernel_size=(7, 7), stride=(2, 2), padding=(3, 3), bias=False) \n",
      " Lost(top:2.0, left:2.0, bottom:1.0, right:1.0)\n",
      "MaxPool2d(kernel_size=3, stride=2, padding=1, dilation=1, ceil_mode=False) \n",
      " Lost(top:2.0, left:2.0, bottom:1.0, right:1.0)\n",
      "Conv2d(64, 64, kernel_size=(3, 3), stride=(1, 1), padding=(1, 1), bias=False) \n",
      " Lost(top:3.0, left:3.0, bottom:2.0, right:2.0)\n",
      "Conv2d(64, 64, kernel_size=(3, 3), stride=(1, 1), padding=(1, 1), bias=False) \n",
      " Lost(top:4.0, left:4.0, bottom:3.0, right:3.0)\n",
      "Conv2d(64, 64, kernel_size=(3, 3), stride=(1, 1), padding=(1, 1), bias=False) \n",
      " Lost(top:5.0, left:5.0, bottom:4.0, right:4.0)\n",
      "Conv2d(64, 64, kernel_size=(3, 3), stride=(1, 1), padding=(1, 1), bias=False) \n",
      " Lost(top:6.0, left:6.0, bottom:5.0, right:5.0)\n",
      "Conv2d(64, 128, kernel_size=(3, 3), stride=(2, 2), padding=(1, 1), bias=False) \n",
      " Lost(top:4.0, left:4.0, bottom:3.0, right:3.0)\n",
      "Conv2d(128, 128, kernel_size=(3, 3), stride=(1, 1), padding=(1, 1), bias=False) \n",
      " Lost(top:5.0, left:5.0, bottom:4.0, right:4.0)\n",
      "Conv2d(64, 128, kernel_size=(1, 1), stride=(2, 2), bias=False) \n",
      " Lost(top:3.0, left:3.0, bottom:2.0, right:2.0)\n",
      "Conv2d(128, 128, kernel_size=(3, 3), stride=(1, 1), padding=(1, 1), bias=False) \n",
      " Lost(top:6.0, left:6.0, bottom:5.0, right:5.0)\n",
      "Conv2d(128, 128, kernel_size=(3, 3), stride=(1, 1), padding=(1, 1), bias=False) \n",
      " Lost(top:7.0, left:7.0, bottom:6.0, right:6.0)\n",
      "Conv2d(128, 256, kernel_size=(3, 3), stride=(2, 2), padding=(1, 1), bias=False) \n",
      " Lost(top:4.0, left:4.0, bottom:3.0, right:3.0)\n",
      "Conv2d(256, 256, kernel_size=(3, 3), stride=(1, 1), padding=(1, 1), bias=False) \n",
      " Lost(top:5.0, left:5.0, bottom:4.0, right:4.0)\n",
      "Conv2d(128, 256, kernel_size=(1, 1), stride=(2, 2), bias=False) \n",
      " Lost(top:4.0, left:4.0, bottom:3.0, right:3.0)\n",
      "Conv2d(256, 256, kernel_size=(3, 3), stride=(1, 1), padding=(1, 1), bias=False) \n",
      " Lost(top:6.0, left:6.0, bottom:5.0, right:5.0)\n",
      "Conv2d(256, 256, kernel_size=(3, 3), stride=(1, 1), padding=(1, 1), bias=False) \n",
      " Lost(top:7.0, left:7.0, bottom:6.0, right:6.0)\n",
      "MaxPool2d(kernel_size=8, stride=8, padding=0, dilation=1, ceil_mode=False) \n",
      " Lost(top:1.0, left:1.0, bottom:1.0, right:1.0)\n",
      "\n",
      " Output lost Lost(top:1.0, left:1.0, bottom:1.0, right:1.0)\n",
      "testing shape gradient fix\n",
      "MaxPool2d(kernel_size=8, stride=8, padding=0, dilation=1, ceil_mode=False) \n",
      " Lost(top:1.0, left:1.0, bottom:1.0, right:1.0)\n",
      "Conv2d(256, 256, kernel_size=(3, 3), stride=(1, 1), padding=(1, 1), bias=False) \n",
      " Lost(top:8.0, left:8.0, bottom:8.0, right:8.0)\n",
      "Conv2d(256, 256, kernel_size=(3, 3), stride=(1, 1), padding=(1, 1), bias=False) \n",
      " Lost(top:9.0, left:9.0, bottom:9.0, right:9.0)\n",
      "Conv2d(128, 256, kernel_size=(1, 1), stride=(2, 2), bias=False) \n",
      " Lost(top:10.0, left:10.0, bottom:10.0, right:10.0)\n",
      "Conv2d(256, 256, kernel_size=(3, 3), stride=(1, 1), padding=(1, 1), bias=False) \n",
      " Lost(top:10.0, left:10.0, bottom:10.0, right:10.0)\n",
      "Conv2d(128, 256, kernel_size=(3, 3), stride=(2, 2), padding=(1, 1), bias=False) \n",
      " Lost(top:11.0, left:11.0, bottom:11.0, right:11.0)\n",
      "Conv2d(128, 128, kernel_size=(3, 3), stride=(1, 1), padding=(1, 1), bias=False) \n",
      " Lost(top:24.0, left:24.0, bottom:25.0, right:25.0)\n",
      "Conv2d(128, 128, kernel_size=(3, 3), stride=(1, 1), padding=(1, 1), bias=False) \n",
      " Lost(top:25.0, left:25.0, bottom:26.0, right:26.0)\n",
      "Conv2d(64, 128, kernel_size=(1, 1), stride=(2, 2), bias=False) \n",
      " Lost(top:26.0, left:26.0, bottom:27.0, right:27.0)\n",
      "Conv2d(128, 128, kernel_size=(3, 3), stride=(1, 1), padding=(1, 1), bias=False) \n",
      " Lost(top:26.0, left:26.0, bottom:27.0, right:27.0)\n",
      "Conv2d(64, 128, kernel_size=(3, 3), stride=(2, 2), padding=(1, 1), bias=False) \n",
      " Lost(top:27.0, left:27.0, bottom:28.0, right:28.0)\n",
      "Conv2d(64, 64, kernel_size=(3, 3), stride=(1, 1), padding=(1, 1), bias=False) \n",
      " Lost(top:56.0, left:56.0, bottom:59.0, right:59.0)\n",
      "Conv2d(64, 64, kernel_size=(3, 3), stride=(1, 1), padding=(1, 1), bias=False) \n",
      " Lost(top:56.0, left:56.0, bottom:59.0, right:59.0)\n",
      "Conv2d(64, 64, kernel_size=(3, 3), stride=(1, 1), padding=(1, 1), bias=False) \n",
      " Lost(top:60.0, left:60.0, bottom:63.0, right:63.0)\n",
      "Conv2d(64, 64, kernel_size=(3, 3), stride=(1, 1), padding=(1, 1), bias=False) \n",
      " Lost(top:59.0, left:59.0, bottom:62.0, right:62.0)\n",
      "testing shape gradient fix\n",
      "MaxPool2d(kernel_size=3, stride=2, padding=1, dilation=1, ceil_mode=False) \n",
      " Lost(top:60.0, left:60.0, bottom:63.0, right:63.0)\n",
      "Conv2d(3, 64, kernel_size=(7, 7), stride=(2, 2), padding=(3, 3), bias=False) \n",
      " Lost(top:121.0, left:121.0, bottom:127.0, right:127.0)\n",
      "\n",
      " Input gradient lost Lost(top:250.0, left:250.0, bottom:263.0, right:263.0)\n"
     ]
    }
   ],
   "source": [
    "sCNN = StreamingCNN(stream_net, \n",
    "                    tile_shape=(1, 3, tile_size, tile_size), \n",
    "                    verbose=True,\n",
    "                    saliency=True)"
   ],
   "metadata": {
    "collapsed": false,
    "ExecuteTime": {
     "end_time": "2024-01-12T13:42:11.750906Z",
     "start_time": "2024-01-12T13:42:10.987280100Z"
    }
   },
   "id": "2cd870206b255a89"
  },
  {
   "cell_type": "markdown",
   "source": [
    "If the verbose flag is True than StreamingCNN will print for every layer in the network the required overlap that is needed to reconstruct the feature maps and gradients. The higher this is, the more tiles are needed to be inferences. It is always beneficial to increase the tile size as much as possible to make use of all the GPU memory."
   ],
   "metadata": {
    "collapsed": false
   },
   "id": "3cad5bbd0be54b30"
  },
  {
   "cell_type": "markdown",
   "source": [
    "## Generate random image and fake label"
   ],
   "metadata": {
    "collapsed": false
   },
   "id": "667550f1a8f6d206"
  },
  {
   "cell_type": "code",
   "execution_count": 11,
   "outputs": [],
   "source": [
    "image = torch.FloatTensor(3, img_size, img_size).normal_(0, 1)\n",
    "target = torch.tensor(50.)  # large value so we get larger gradients\n",
    "\n",
    "image = image.type(dtype)\n",
    "target = target.type(dtype)\n",
    "\n",
    "if cuda:\n",
    "    target = target.cuda()\n",
    "    image = image.cuda()"
   ],
   "metadata": {
    "collapsed": false,
    "ExecuteTime": {
     "end_time": "2024-01-12T13:42:18.612792500Z",
     "start_time": "2024-01-12T13:42:18.320438900Z"
    }
   },
   "id": "cc4e388db2427829"
  },
  {
   "cell_type": "code",
   "execution_count": 12,
   "outputs": [],
   "source": [
    "criterion = torch.nn.MSELoss()"
   ],
   "metadata": {
    "collapsed": false,
    "ExecuteTime": {
     "end_time": "2024-01-12T13:42:20.118458500Z",
     "start_time": "2024-01-12T13:42:18.880315100Z"
    }
   },
   "id": "1b9bc232937996ea"
  },
  {
   "cell_type": "markdown",
   "source": [
    "## Run through network using streaming"
   ],
   "metadata": {
    "collapsed": false
   },
   "id": "c92cc440cd75645d"
  },
  {
   "cell_type": "code",
   "execution_count": 13,
   "outputs": [
    {
     "name": "stdout",
     "output_type": "stream",
     "text": [
      "torch.Size([1, 256, 25, 25])\n"
     ]
    },
    {
     "data": {
      "text/plain": "tensor(1.6426521601, device='cuda:0', dtype=torch.float64)"
     },
     "execution_count": 13,
     "metadata": {},
     "output_type": "execute_result"
    }
   ],
   "source": [
    "stream_output = sCNN.forward(image[None])\n",
    "print(stream_output.shape)\n",
    "stream_output.max()"
   ],
   "metadata": {
    "collapsed": false,
    "ExecuteTime": {
     "end_time": "2024-01-12T13:42:22.443342800Z",
     "start_time": "2024-01-12T13:42:20.122969500Z"
    }
   },
   "id": "14ee58248a07a1af"
  },
  {
   "cell_type": "code",
   "execution_count": 14,
   "outputs": [],
   "source": [
    "stream_output.requires_grad = True"
   ],
   "metadata": {
    "collapsed": false,
    "ExecuteTime": {
     "end_time": "2024-01-12T13:42:23.314685700Z",
     "start_time": "2024-01-12T13:42:22.443342800Z"
    }
   },
   "id": "762fdcf9850c4c7b"
  },
  {
   "cell_type": "code",
   "execution_count": 15,
   "outputs": [
    {
     "data": {
      "text/plain": "tensor(0.5622967603, device='cuda:0', dtype=torch.float64,\n       grad_fn=<SigmoidBackward0>)"
     },
     "execution_count": 15,
     "metadata": {},
     "output_type": "execute_result"
    }
   ],
   "source": [
    "output = torch.sigmoid(torch.mean(stream_output)); output"
   ],
   "metadata": {
    "collapsed": false,
    "ExecuteTime": {
     "end_time": "2024-01-12T13:42:24.514255800Z",
     "start_time": "2024-01-12T13:42:23.322747200Z"
    }
   },
   "id": "a833c157e215563c"
  },
  {
   "cell_type": "code",
   "execution_count": 16,
   "outputs": [
    {
     "data": {
      "text/plain": "tensor(2444.0865016126, device='cuda:0', dtype=torch.float64,\n       grad_fn=<MseLossBackward0>)"
     },
     "execution_count": 16,
     "metadata": {},
     "output_type": "execute_result"
    }
   ],
   "source": [
    "loss = criterion(output, target)\n",
    "loss"
   ],
   "metadata": {
    "collapsed": false,
    "ExecuteTime": {
     "end_time": "2024-01-12T13:42:25.279831500Z",
     "start_time": "2024-01-12T13:42:24.514255800Z"
    }
   },
   "id": "6081081438ef32f5"
  },
  {
   "cell_type": "code",
   "execution_count": 17,
   "outputs": [],
   "source": [
    "loss.backward()"
   ],
   "metadata": {
    "collapsed": false,
    "ExecuteTime": {
     "end_time": "2024-01-12T13:42:26.908041800Z",
     "start_time": "2024-01-12T13:42:25.254953400Z"
    }
   },
   "id": "555dd52023b8fad8"
  },
  {
   "cell_type": "code",
   "execution_count": 18,
   "outputs": [
    {
     "name": "stdout",
     "output_type": "stream",
     "text": [
      "torch.Size([1, 256, 25, 25])\n",
      "torch.Size([1, 256, 25, 25])\n"
     ]
    }
   ],
   "source": [
    "print(stream_output.shape)\n",
    "print(stream_output.grad.shape)\n",
    "full_gradients = sCNN.backward(image[None], stream_output.grad)"
   ],
   "metadata": {
    "collapsed": false,
    "ExecuteTime": {
     "end_time": "2024-01-12T13:42:29.086849800Z",
     "start_time": "2024-01-12T13:42:26.911519500Z"
    }
   },
   "id": "c2d36b3edafb4e6b"
  },
  {
   "cell_type": "code",
   "execution_count": 19,
   "outputs": [
    {
     "data": {
      "text/plain": "torch.Size([1, 3, 3200, 3200])"
     },
     "execution_count": 19,
     "metadata": {},
     "output_type": "execute_result"
    }
   ],
   "source": [
    "sCNN.saliency_map.shape"
   ],
   "metadata": {
    "collapsed": false,
    "ExecuteTime": {
     "end_time": "2024-01-12T13:42:29.087847700Z",
     "start_time": "2024-01-12T13:42:29.083858100Z"
    }
   },
   "id": "1acf48d6ac39e88b"
  },
  {
   "cell_type": "code",
   "execution_count": 20,
   "outputs": [],
   "source": [
    "streaming_conv_gradients = []\n",
    "\n",
    "for i, layer in enumerate(stream_net.modules()):\n",
    "    if isinstance(layer, StreamingConv2d):\n",
    "        if layer.weight.grad is not None:\n",
    "            streaming_conv_gradients.append(layer.weight.grad.clone()) "
   ],
   "metadata": {
    "collapsed": false,
    "ExecuteTime": {
     "end_time": "2024-01-12T13:42:30.740576100Z",
     "start_time": "2024-01-12T13:42:29.085852600Z"
    }
   },
   "id": "9b4c6c1f339fa2e2"
  },
  {
   "cell_type": "code",
   "execution_count": 21,
   "outputs": [
    {
     "data": {
      "text/plain": "[tensor([[[[-6.1936418192e-03,  1.4930331229e-03,  3.0730868068e-03,\n             ...,  2.3383312697e-04,  1.9941525800e-03,\n             1.0957454993e-02],\n           [-3.1255359912e-03, -2.2401213888e-04, -1.0065916789e-03,\n             ...,  1.4354475930e-02,  1.8567064770e-03,\n             5.0425057378e-03],\n           [-4.8022448455e-03,  6.6527715808e-04, -5.8017796134e-03,\n             ..., -8.8509797163e-03, -6.0979249873e-03,\n            -1.9851248127e-05],\n           ...,\n           [-1.5625450686e-03,  5.1801123736e-04, -2.9995581110e-03,\n             ...,  6.4762936050e-03,  2.6887309108e-03,\n             2.2248721719e-03],\n           [-1.2896846083e-03,  2.4186087204e-03, -1.1747042747e-04,\n             ..., -4.3508782937e-03, -7.3422008318e-03,\n            -2.5769987889e-03],\n           [ 1.3542124476e-03, -7.4192189357e-05,  2.4177188221e-03,\n             ...,  4.4700808766e-03, -2.4847236489e-03,\n            -1.9376310044e-03]],\n \n          [[-7.3105460966e-03, -9.9925389354e-04,  5.8753741141e-03,\n             ..., -2.7528438187e-03, -2.9160754078e-03,\n            -2.4309988769e-03],\n           [ 6.4830973304e-04,  4.7333876115e-03,  5.1790642103e-03,\n             ...,  1.2970233134e-02,  7.7798386018e-03,\n             9.0905376906e-04],\n           [-3.5396145693e-03,  5.7203269888e-03, -3.3219575983e-03,\n             ..., -9.0593474953e-03, -4.5707493424e-03,\n            -7.3647586650e-03],\n           ...,\n           [-5.4076555149e-03, -5.5968586622e-03,  5.3319719177e-04,\n             ...,  7.1738012608e-03,  1.1790020159e-02,\n             7.4562141990e-03],\n           [-1.9702609711e-03, -1.1675003957e-03, -4.1213023546e-03,\n             ..., -1.0996518213e-02, -6.7041865555e-03,\n            -3.5582049426e-03],\n           [ 5.9010946938e-03, -2.9806766371e-03,  1.8072104535e-04,\n             ...,  5.2310538787e-03,  4.3988488961e-03,\n            -9.2732441164e-04]],\n \n          [[ 3.6828265802e-03,  2.4837331745e-03, -2.8790711860e-03,\n             ..., -9.0342553000e-04, -1.8652466083e-03,\n             2.4963472214e-03],\n           [ 4.7041564490e-03, -2.9536361357e-03,  7.7333006478e-03,\n             ...,  8.3946184647e-03,  8.3161741589e-03,\n             3.8750977018e-05],\n           [ 4.2275552503e-03,  5.5225365986e-04, -3.5167374872e-03,\n             ..., -9.4550763120e-03, -1.1047135702e-03,\n            -4.3380825925e-03],\n           ...,\n           [ 1.3962018516e-05,  1.7236329321e-03,  4.3427402408e-04,\n             ...,  3.0211911867e-06,  4.2333772990e-03,\n            -6.0334867969e-03],\n           [ 4.8102496874e-04, -1.4402479842e-03, -2.4159442997e-03,\n             ..., -1.2744086075e-02, -8.9770175696e-03,\n            -1.5885089141e-03],\n           [ 2.9254425028e-03, -1.9190005328e-03,  1.4668934499e-03,\n             ...,  4.2605789217e-03,  2.8948167642e-03,\n            -4.2353494390e-03]]],\n \n \n         [[[-2.8511634098e-05, -2.7120738936e-03, -2.8191309302e-03,\n             ..., -3.5578429416e-03, -1.8831491684e-03,\n            -4.8324914162e-03],\n           [ 3.0488425484e-04, -2.7967841512e-03, -2.1212462028e-03,\n             ..., -6.5617869878e-03, -5.0715686586e-03,\n            -6.6023208589e-03],\n           [ 2.0163916845e-03,  1.1216335328e-03,  2.1893309475e-03,\n             ...,  8.2923208888e-04, -4.7398970277e-04,\n            -2.9662969091e-04],\n           ...,\n           [ 8.3735126666e-03,  1.2150512583e-02,  8.1954092580e-03,\n             ...,  1.2259155112e-02,  1.1021718186e-02,\n             9.0129479436e-03],\n           [ 4.2537873008e-03,  7.8045332362e-03,  3.2583413202e-03,\n             ...,  4.6297888275e-03,  4.7918116325e-03,\n             5.7544826692e-03],\n           [ 4.9743601357e-03,  6.1906606049e-03,  5.9294560824e-03,\n             ...,  2.3567619434e-03,  6.4803858185e-03,\n             4.6693824175e-03]],\n \n          [[ 4.9187345921e-04, -1.6418845605e-03, -1.1832932064e-03,\n             ..., -5.2535482959e-03, -1.4546317528e-03,\n            -2.7272585833e-03],\n           [ 4.4169442751e-03, -2.1179671985e-03, -4.0996672613e-03,\n             ..., -3.4927780738e-03, -3.5576993204e-03,\n            -6.0037974159e-03],\n           [ 6.9721503758e-03,  6.5488016508e-03,  3.9158357451e-03,\n             ..., -1.2502812159e-03, -3.0841940146e-03,\n            -1.2545084243e-03],\n           ...,\n           [ 1.2217129676e-02,  9.5005489162e-03,  1.3149873245e-02,\n             ...,  1.5187078071e-02,  9.4960903383e-03,\n             9.5853647341e-04],\n           [ 8.9757269683e-03,  9.1211361932e-03,  7.8559194631e-03,\n             ...,  1.1304088449e-02,  7.3201254842e-03,\n             5.4967350177e-03],\n           [ 4.8108656357e-03,  8.7963248671e-03,  4.0823554170e-03,\n             ...,  2.7658659163e-03,  4.5854116894e-03,\n             7.6288340302e-03]],\n \n          [[-1.5430867362e-03, -2.3462446628e-03, -2.2654167169e-04,\n             ...,  1.1088201875e-03, -1.2764153467e-03,\n            -1.1376305150e-03],\n           [-9.7162445030e-04, -4.1527716356e-03, -1.4106972415e-03,\n             ..., -5.4107352073e-03,  7.7416186174e-04,\n            -3.2910904602e-03],\n           [ 2.4665704622e-03,  9.8808795980e-05, -2.7846902617e-03,\n             ...,  4.0140099321e-04,  3.3125319314e-03,\n             3.9639308034e-04],\n           ...,\n           [ 3.5984973915e-04,  4.7825289793e-03,  4.9014803821e-03,\n             ...,  1.5203643930e-03,  1.9725930297e-03,\n             2.9503961571e-03],\n           [ 4.1903071972e-04,  5.0569312435e-04, -1.4951227934e-03,\n             ..., -2.2247954189e-04, -4.9766719653e-04,\n             1.3877118890e-03],\n           [ 3.1690533151e-03,  8.4312826936e-04,  2.5990353640e-03,\n             ...,  3.9822233601e-03,  1.0973460361e-03,\n             1.3078655450e-03]]],\n \n \n         [[[ 0.0000000000e+00,  0.0000000000e+00,  0.0000000000e+00,\n             ...,  0.0000000000e+00,  0.0000000000e+00,\n             0.0000000000e+00],\n           [ 0.0000000000e+00,  0.0000000000e+00,  0.0000000000e+00,\n             ...,  0.0000000000e+00,  0.0000000000e+00,\n             0.0000000000e+00],\n           [ 0.0000000000e+00,  0.0000000000e+00,  0.0000000000e+00,\n             ...,  0.0000000000e+00,  0.0000000000e+00,\n             0.0000000000e+00],\n           ...,\n           [ 0.0000000000e+00,  0.0000000000e+00,  0.0000000000e+00,\n             ...,  0.0000000000e+00,  0.0000000000e+00,\n             0.0000000000e+00],\n           [ 0.0000000000e+00,  0.0000000000e+00,  0.0000000000e+00,\n             ...,  0.0000000000e+00,  0.0000000000e+00,\n             0.0000000000e+00],\n           [ 0.0000000000e+00,  0.0000000000e+00,  0.0000000000e+00,\n             ...,  0.0000000000e+00,  0.0000000000e+00,\n             0.0000000000e+00]],\n \n          [[ 0.0000000000e+00,  0.0000000000e+00,  0.0000000000e+00,\n             ...,  0.0000000000e+00,  0.0000000000e+00,\n             0.0000000000e+00],\n           [ 0.0000000000e+00,  0.0000000000e+00,  0.0000000000e+00,\n             ...,  0.0000000000e+00,  0.0000000000e+00,\n             0.0000000000e+00],\n           [ 0.0000000000e+00,  0.0000000000e+00,  0.0000000000e+00,\n             ...,  0.0000000000e+00,  0.0000000000e+00,\n             0.0000000000e+00],\n           ...,\n           [ 0.0000000000e+00,  0.0000000000e+00,  0.0000000000e+00,\n             ...,  0.0000000000e+00,  0.0000000000e+00,\n             0.0000000000e+00],\n           [ 0.0000000000e+00,  0.0000000000e+00,  0.0000000000e+00,\n             ...,  0.0000000000e+00,  0.0000000000e+00,\n             0.0000000000e+00],\n           [ 0.0000000000e+00,  0.0000000000e+00,  0.0000000000e+00,\n             ...,  0.0000000000e+00,  0.0000000000e+00,\n             0.0000000000e+00]],\n \n          [[ 0.0000000000e+00,  0.0000000000e+00,  0.0000000000e+00,\n             ...,  0.0000000000e+00,  0.0000000000e+00,\n             0.0000000000e+00],\n           [ 0.0000000000e+00,  0.0000000000e+00,  0.0000000000e+00,\n             ...,  0.0000000000e+00,  0.0000000000e+00,\n             0.0000000000e+00],\n           [ 0.0000000000e+00,  0.0000000000e+00,  0.0000000000e+00,\n             ...,  0.0000000000e+00,  0.0000000000e+00,\n             0.0000000000e+00],\n           ...,\n           [ 0.0000000000e+00,  0.0000000000e+00,  0.0000000000e+00,\n             ...,  0.0000000000e+00,  0.0000000000e+00,\n             0.0000000000e+00],\n           [ 0.0000000000e+00,  0.0000000000e+00,  0.0000000000e+00,\n             ...,  0.0000000000e+00,  0.0000000000e+00,\n             0.0000000000e+00],\n           [ 0.0000000000e+00,  0.0000000000e+00,  0.0000000000e+00,\n             ...,  0.0000000000e+00,  0.0000000000e+00,\n             0.0000000000e+00]]],\n \n \n         ...,\n \n \n         [[[-1.0658457469e-02, -1.0257895178e-02, -6.1899624607e-03,\n             ..., -5.3850638995e-03, -1.2652344715e-02,\n            -1.3673909661e-02],\n           [-6.8348672912e-03, -7.5375447371e-03, -3.8412706314e-04,\n             ...,  2.4723440187e-03, -1.4914490634e-04,\n            -6.3858416594e-03],\n           [-8.2051867399e-03, -9.2175610987e-03, -9.6648055437e-03,\n             ..., -6.5452951334e-03, -7.5655747145e-03,\n            -2.6572478040e-03],\n           ...,\n           [-3.4847137041e-03, -3.6191192337e-03, -5.0368671623e-03,\n             ..., -6.3098510089e-03, -1.0430140378e-02,\n            -1.3798992142e-02],\n           [-1.0258153278e-02, -1.4288009894e-02, -1.1690572985e-02,\n             ..., -2.0266986114e-03, -1.0605559332e-02,\n            -1.6593757085e-02],\n           [-8.1047000229e-03, -1.3798414915e-02, -7.1361023889e-03,\n             ...,  3.6992043645e-03, -1.1211441344e-02,\n            -1.0247030990e-02]],\n \n          [[-1.7099500082e-02, -1.8157867286e-02, -1.2738196702e-02,\n             ..., -1.4857322152e-02, -2.0970550728e-02,\n            -1.7356525915e-02],\n           [-1.9132920507e-02, -1.8368927923e-02, -1.5072338448e-02,\n             ..., -9.8264829348e-03, -1.3474207829e-02,\n            -1.5372307091e-02],\n           [-1.9552075873e-02, -2.0435961926e-02, -1.7123140298e-02,\n             ..., -1.5513531905e-02, -1.6901972902e-02,\n            -1.2166335789e-02],\n           ...,\n           [-1.4234171169e-02, -1.4256863379e-02, -1.5949979135e-02,\n             ..., -2.1485235183e-02, -1.8267058623e-02,\n            -1.8349857836e-02],\n           [-2.1454615651e-02, -2.3998907319e-02, -2.1556843743e-02,\n             ..., -2.0720980166e-02, -2.1105159443e-02,\n            -2.5171033346e-02],\n           [-1.7167038430e-02, -1.8830296747e-02, -1.4636569263e-02,\n             ..., -6.7949568907e-03, -1.6196292100e-02,\n            -2.3408018652e-02]],\n \n          [[-1.2141989175e-02, -8.1302958811e-03,  5.7381127740e-04,\n             ..., -1.8481191464e-03, -9.9236418789e-03,\n            -6.2319701140e-03],\n           [-6.2270121271e-03, -6.1953398594e-03, -1.5896593688e-03,\n             ...,  5.7900771225e-03,  1.6660359717e-03,\n             2.5027663215e-04],\n           [-8.9031224304e-03, -3.9182602926e-03,  2.0123354886e-03,\n             ...,  2.1988912808e-03, -8.0717566076e-04,\n            -2.7762863043e-04],\n           ...,\n           [-9.8137809243e-04,  1.3478430979e-03, -1.3594897613e-03,\n             ...,  5.3215931066e-04, -3.7196089695e-03,\n            -4.6498173982e-03],\n           [-6.9701067532e-03, -4.8218034102e-03, -2.0990032184e-03,\n             ...,  3.0458651143e-04, -8.3604177749e-03,\n            -8.7547751079e-03],\n           [-3.5337457077e-03, -2.4436496751e-03,  8.0345280427e-04,\n             ...,  6.8611951400e-03, -2.4215153233e-03,\n            -3.4382325899e-03]]],\n \n \n         [[[ 1.1839980290e-04, -7.4213107693e-05, -1.5400853222e-04,\n             ..., -2.1647793259e-04,  1.3160847812e-04,\n            -1.5040984310e-04],\n           [-1.6431031753e-04,  2.4233998531e-04,  3.4098853515e-04,\n             ..., -2.4491211556e-04, -3.4455035911e-04,\n            -3.2104871870e-04],\n           [ 1.3442766754e-04,  9.8907540893e-04,  8.4408208451e-04,\n             ..., -3.4360981564e-05,  5.1869867158e-05,\n            -1.9763612848e-04],\n           ...,\n           [-8.8167921741e-05,  1.5356603267e-04,  2.0110358195e-04,\n             ...,  3.6765955467e-04,  4.7462747682e-05,\n            -2.0834440843e-04],\n           [ 2.2657255289e-06, -1.0459627200e-04, -3.8004052978e-04,\n             ...,  1.3369929613e-04, -8.3357684241e-05,\n            -7.9183019758e-05],\n           [-1.7066052620e-04, -4.4791634741e-05, -8.9285072934e-05,\n             ...,  3.2043474260e-05, -1.2712257923e-04,\n            -2.4140465698e-04]],\n \n          [[ 2.4133531579e-04,  2.9700543647e-04, -1.7490133335e-04,\n             ...,  1.3480574148e-05,  3.2871716161e-05,\n            -3.6134465581e-06],\n           [ 2.8108576246e-04,  7.4675268457e-04,  4.5916319272e-04,\n             ..., -2.0406417915e-04, -2.4226622038e-04,\n            -2.6368154954e-04],\n           [ 2.4101793400e-04,  1.1253660836e-03,  1.2140712693e-03,\n             ..., -1.7614752991e-06, -2.3255986267e-04,\n             9.1592091037e-05],\n           ...,\n           [ 1.5494322776e-04,  5.2456272026e-05,  3.7767608086e-04,\n             ...,  2.4980091519e-04,  1.6572984301e-05,\n            -1.6326695072e-04],\n           [ 6.5470872086e-05,  5.7064078999e-05,  1.3214611498e-05,\n             ...,  2.7536605894e-06, -1.1308776026e-04,\n            -7.8460576994e-05],\n           [-4.2487039542e-05,  1.4969358887e-05, -1.1990979152e-04,\n             ...,  1.2982461716e-04,  1.8958511029e-05,\n            -2.5753827707e-04]],\n \n          [[-1.9806033020e-04,  4.4067573639e-04,  8.8273261819e-05,\n             ...,  4.3866732613e-04,  1.5525606898e-04,\n             2.6374547796e-04],\n           [ 2.0598444751e-04,  4.3198883750e-04,  3.6236099345e-04,\n             ...,  3.3687765054e-05,  1.6703010830e-05,\n             1.0522103080e-04],\n           [ 9.7709043226e-05,  7.9464772861e-04,  6.6497645531e-04,\n             ..., -8.3260453980e-06,  1.3544845442e-04,\n             1.2844467633e-04],\n           ...,\n           [-2.1563263156e-04, -6.6748499001e-06,  6.1368797037e-05,\n             ...,  1.3636827295e-04,  2.4001493251e-04,\n             3.2785771434e-04],\n           [-7.7941128547e-05,  1.5055947525e-04,  1.8034833422e-04,\n             ..., -8.1868681170e-05,  7.9442006668e-05,\n            -3.3338008486e-04],\n           [ 2.4646314332e-04, -5.3395250658e-05, -9.9901825496e-05,\n             ...,  1.4425405514e-04,  3.9131781245e-05,\n             1.0596042519e-05]]],\n \n \n         [[[-7.1609015379e-05,  1.0284753093e-03,  3.6488972168e-03,\n             ...,  3.9218182572e-03,  5.3847962279e-03,\n             1.4207267719e-03],\n           [ 4.2850894716e-03,  5.3254472973e-03,  3.2067441199e-03,\n             ...,  5.7134165000e-03,  1.5613455749e-03,\n             1.6098882913e-03],\n           [ 6.4848048528e-03,  7.8425220079e-03,  6.0659814486e-03,\n             ...,  1.0282724305e-03,  1.9567378788e-03,\n             6.1632591863e-04],\n           ...,\n           [ 1.2096111603e-03,  6.2556176165e-03, -1.2762746788e-03,\n             ...,  9.3038868531e-03,  4.6026364696e-03,\n             1.2505349980e-03],\n           [ 3.3553637628e-03,  4.2119802982e-03,  2.9530594391e-03,\n             ...,  6.1572655716e-03,  1.3037518147e-03,\n             3.3234143883e-03],\n           [ 7.7173333209e-04, -6.7702462820e-04,  2.8052064498e-03,\n             ...,  9.7219152631e-04, -2.8583904230e-03,\n            -3.9114033015e-03]],\n \n          [[ 3.8815800579e-03,  2.8071244732e-03,  7.7355361261e-03,\n             ...,  2.2210401668e-03,  2.2047632405e-03,\n             3.4056658306e-03],\n           [ 6.4968264389e-03,  6.1893601885e-03,  1.2772423922e-02,\n             ...,  6.8341014464e-03,  7.7019568696e-03,\n             6.8505351610e-03],\n           [ 8.0979207174e-03,  1.5087198019e-02,  1.0700181550e-02,\n             ...,  6.5511488530e-03,  4.5277091051e-03,\n             2.3297530534e-03],\n           ...,\n           [ 9.3860917008e-03,  2.3707112460e-03,  3.1007439012e-03,\n             ...,  1.6694344870e-02,  1.0516722090e-02,\n             1.8308148204e-03],\n           [ 9.1298635470e-03,  7.1831139216e-03,  6.6833301341e-03,\n             ...,  1.0336437940e-02,  5.8411672701e-03,\n             1.3636862930e-03],\n           [-1.9678923078e-03,  1.2066185935e-03,  3.2786328733e-03,\n             ..., -1.6178259778e-04,  1.3378659653e-03,\n            -1.5193412841e-03]],\n \n          [[-2.8972183316e-03,  1.7209011853e-03, -8.0689186289e-04,\n             ...,  2.0273347332e-03,  2.2304765665e-03,\n             5.0697178002e-04],\n           [ 7.5743770215e-04,  3.3195405488e-03,  1.8131899513e-03,\n             ...,  3.1478947242e-03,  1.2474819388e-03,\n             2.0829216806e-03],\n           [ 1.6156592161e-03,  4.1339718400e-03, -5.2552451059e-04,\n             ..., -3.4725100033e-03, -2.3287032814e-04,\n            -3.8061884526e-03],\n           ...,\n           [ 3.7760828429e-03,  2.8073059082e-03,  2.2570410652e-03,\n             ...,  6.6570655553e-03,  6.6493579128e-04,\n             2.4068074943e-03],\n           [ 2.5021599479e-03,  3.8298998928e-03, -3.5768452497e-05,\n             ...,  6.0445020340e-03,  1.5609933305e-03,\n             2.5172346980e-03],\n           [ 9.9679682466e-04, -1.8085627688e-03, -6.2722114155e-04,\n             ...,  2.3266026932e-03, -4.5338350831e-04,\n             2.4337359316e-04]]]], device='cuda:0', dtype=torch.float64),\n tensor([[[[ 2.1977666840e-02,  3.0319234151e-02,  2.3758876874e-02],\n           [ 1.8763047779e-02,  2.3736555571e-02,  1.9950833166e-02],\n           [ 2.3815002284e-02,  2.8856526800e-02,  2.1103177400e-02]],\n \n          [[ 8.0179771718e-03,  1.0549271249e-02,  1.0255101056e-02],\n           [ 5.5143092587e-03,  6.5059213635e-03,  7.9715539777e-03],\n           [ 7.7589547101e-03,  9.5208162017e-03,  8.5967934948e-03]],\n \n          [[ 0.0000000000e+00,  0.0000000000e+00,  0.0000000000e+00],\n           [ 0.0000000000e+00,  0.0000000000e+00,  0.0000000000e+00],\n           [ 0.0000000000e+00,  0.0000000000e+00,  0.0000000000e+00]],\n \n          ...,\n \n          [[ 9.0096125212e-03,  8.2822320101e-03,  8.8399371417e-03],\n           [ 9.4190999605e-03,  9.1306263602e-03,  9.1637645346e-03],\n           [ 9.8158950551e-03,  9.3819881137e-03,  8.8816000596e-03]],\n \n          [[-8.3744377996e-06, -4.6090551898e-07, -9.0328108613e-06],\n           [-1.1078277952e-05, -6.6275860002e-06, -4.6374388897e-06],\n           [-1.5890073728e-05, -2.0076347125e-05, -2.1623598050e-06]],\n \n          [[ 1.0250432593e-02,  1.4301464465e-02,  1.3498277570e-02],\n           [ 1.1872819132e-02,  1.3653710406e-02,  9.8144992819e-03],\n           [ 1.2535930146e-02,  1.2914679591e-02,  1.5352456915e-02]]],\n \n \n         [[[ 3.2673056640e-01,  3.2870165323e-01,  3.3608014526e-01],\n           [ 3.2036220526e-01,  3.3288390226e-01,  3.2888174048e-01],\n           [ 3.2495158497e-01,  3.3619391591e-01,  3.3489535648e-01]],\n \n          [[ 1.5939001426e-01,  1.6054672100e-01,  1.6179142283e-01],\n           [ 1.6499808412e-01,  1.7520507235e-01,  1.7555432661e-01],\n           [ 1.4235522592e-01,  1.4472809134e-01,  1.5036187484e-01]],\n \n          [[ 0.0000000000e+00,  0.0000000000e+00,  0.0000000000e+00],\n           [ 0.0000000000e+00,  0.0000000000e+00,  0.0000000000e+00],\n           [ 0.0000000000e+00,  0.0000000000e+00,  0.0000000000e+00]],\n \n          ...,\n \n          [[ 1.8399692937e-01,  1.8264834389e-01,  1.8567992386e-01],\n           [ 1.7865739869e-01,  1.7561250593e-01,  1.8111692719e-01],\n           [ 1.8014870350e-01,  1.7895934192e-01,  1.8310864917e-01]],\n \n          [[ 4.5256360177e-05,  2.2270400452e-05,  1.1983392102e-05],\n           [ 4.3835381578e-05,  9.0902146834e-05,  6.8165254195e-05],\n           [ 1.3191451486e-05,  9.8182329436e-05,  7.1356609479e-05]],\n \n          [[ 2.3819128899e-01,  2.3011291686e-01,  2.4423369419e-01],\n           [ 2.4258666645e-01,  2.5806891057e-01,  2.6211567032e-01],\n           [ 2.4480111624e-01,  2.5607506434e-01,  2.4960443618e-01]]],\n \n \n         [[[ 1.2234238071e-01,  1.2611632438e-01,  1.2595320870e-01],\n           [ 1.2342097912e-01,  1.2044333140e-01,  1.2414431670e-01],\n           [ 1.2396475411e-01,  1.2387737177e-01,  1.2613505039e-01]],\n \n          [[ 5.9665832024e-02,  5.8512941554e-02,  5.7322247524e-02],\n           [ 5.9986993895e-02,  5.5371319195e-02,  5.5144811286e-02],\n           [ 6.1911840526e-02,  6.2461780929e-02,  6.1292127092e-02]],\n \n          [[ 0.0000000000e+00,  0.0000000000e+00,  0.0000000000e+00],\n           [ 0.0000000000e+00,  0.0000000000e+00,  0.0000000000e+00],\n           [ 0.0000000000e+00,  0.0000000000e+00,  0.0000000000e+00]],\n \n          ...,\n \n          [[ 6.9676047401e-02,  6.9833010393e-02,  7.0402464191e-02],\n           [ 6.8241162327e-02,  6.9934790060e-02,  7.0299498074e-02],\n           [ 6.8877940889e-02,  7.0197137581e-02,  7.0095033968e-02]],\n \n          [[-1.5334118720e-05, -1.1703726832e-05, -9.2959606691e-06],\n           [ 2.5545824786e-05, -1.7204199058e-05, -2.0208244421e-05],\n           [ 2.8095333539e-05,  6.6769489470e-06, -1.1714099335e-05]],\n \n          [[ 9.5658581297e-02,  9.7228966474e-02,  9.7417425037e-02],\n           [ 9.6582099465e-02,  9.1985637374e-02,  8.7162404845e-02],\n           [ 9.3840255211e-02,  9.0629225823e-02,  9.2716023394e-02]]],\n \n \n         ...,\n \n \n         [[[-7.7825953359e-05, -5.8847073363e-05,  0.0000000000e+00],\n           [-8.4927484671e-05, -7.7258406198e-05,  0.0000000000e+00],\n           [-1.0354949086e-04, -1.0145466315e-04,  0.0000000000e+00]],\n \n          [[-3.4037918176e-05, -3.0789986369e-05,  0.0000000000e+00],\n           [-3.7357420764e-05, -3.4102389428e-05,  0.0000000000e+00],\n           [-4.0026062573e-05, -4.1099634433e-05,  0.0000000000e+00]],\n \n          [[ 0.0000000000e+00,  0.0000000000e+00,  0.0000000000e+00],\n           [ 0.0000000000e+00,  0.0000000000e+00,  0.0000000000e+00],\n           [ 0.0000000000e+00,  0.0000000000e+00,  0.0000000000e+00]],\n \n          ...,\n \n          [[-3.8740931257e-05, -3.7624251855e-05,  0.0000000000e+00],\n           [-3.8662484582e-05, -3.8917952174e-05,  0.0000000000e+00],\n           [-3.9596894486e-05, -3.9370691536e-05,  0.0000000000e+00]],\n \n          [[ 0.0000000000e+00,  0.0000000000e+00,  0.0000000000e+00],\n           [ 0.0000000000e+00,  0.0000000000e+00,  0.0000000000e+00],\n           [ 0.0000000000e+00,  0.0000000000e+00,  0.0000000000e+00]],\n \n          [[-4.8641213640e-05, -5.8233785309e-05,  0.0000000000e+00],\n           [-5.7322098864e-05, -6.7787038711e-05,  0.0000000000e+00],\n           [-6.9498182211e-05, -6.8684187419e-05,  0.0000000000e+00]]],\n \n \n         [[[ 7.5264561117e-02,  6.8658734591e-02,  8.2434107907e-02],\n           [ 6.5628281156e-02,  5.8776488244e-02,  7.9327582913e-02],\n           [ 7.4899474346e-02,  6.6270791905e-02,  8.3850777652e-02]],\n \n          [[ 4.3403719065e-02,  4.2795818110e-02,  4.2740868001e-02],\n           [ 4.0005129019e-02,  4.0151594355e-02,  4.2911896114e-02],\n           [ 3.5536715329e-02,  3.2746927225e-02,  3.5957335068e-02]],\n \n          [[ 0.0000000000e+00,  0.0000000000e+00,  0.0000000000e+00],\n           [ 0.0000000000e+00,  0.0000000000e+00,  0.0000000000e+00],\n           [ 0.0000000000e+00,  0.0000000000e+00,  0.0000000000e+00]],\n \n          ...,\n \n          [[ 4.8944719788e-02,  4.8114571615e-02,  4.7624578335e-02],\n           [ 4.8228889251e-02,  4.6902875902e-02,  4.6156503606e-02],\n           [ 4.8442478730e-02,  4.7929758283e-02,  4.7028104842e-02]],\n \n          [[ 5.4969213567e-06,  5.6393806797e-07,  7.7908045586e-06],\n           [ 1.4802159716e-05,  9.1223863749e-06,  2.8532131705e-05],\n           [ 1.9655087616e-05, -7.1508378574e-07,  2.4862216526e-05]],\n \n          [[ 5.8021156858e-02,  5.6994523987e-02,  5.9491056580e-02],\n           [ 6.1668055914e-02,  6.4365899091e-02,  6.9113049420e-02],\n           [ 6.0694619682e-02,  5.7004956157e-02,  6.1200321778e-02]]],\n \n \n         [[[-9.3654442125e-03, -9.9828722201e-03, -9.2694046733e-03],\n           [-8.6404776200e-03, -1.0517453344e-02, -9.2628084436e-03],\n           [-8.6490276034e-03, -9.3425604962e-03, -8.5159089864e-03]],\n \n          [[-4.0520058451e-03, -4.6809349008e-03, -4.6112887667e-03],\n           [-3.7526343435e-03, -4.5647314877e-03, -4.4041361669e-03],\n           [-4.0196261851e-03, -4.3881490243e-03, -4.4447349712e-03]],\n \n          [[ 0.0000000000e+00,  0.0000000000e+00,  0.0000000000e+00],\n           [ 0.0000000000e+00,  0.0000000000e+00,  0.0000000000e+00],\n           [ 0.0000000000e+00,  0.0000000000e+00,  0.0000000000e+00]],\n \n          ...,\n \n          [[-4.6616794575e-03, -5.2099098534e-03, -5.1873516389e-03],\n           [-4.6522115966e-03, -5.1220558770e-03, -5.2640601225e-03],\n           [-4.6442481168e-03, -5.2258521071e-03, -5.2915236486e-03]],\n \n          [[-1.1352470626e-06, -1.7362126780e-07,  7.3159871720e-07],\n           [ 9.8139341703e-09, -4.6530910658e-06, -4.8967373429e-06],\n           [-4.9978589913e-07, -3.8692739530e-06, -5.7926866732e-06]],\n \n          [[-6.3787036709e-03, -6.6691369226e-03, -7.1665859317e-03],\n           [-5.8681120546e-03, -7.5761385720e-03, -7.3586533523e-03],\n           [-6.5051128240e-03, -7.6195721843e-03, -7.0575323853e-03]]]],\n        device='cuda:0', dtype=torch.float64),\n tensor([[[[ 1.2822007370e-02,  2.2928352544e-02,  1.2030634734e-02],\n           [ 2.1666428039e-02,  3.7541813032e-02,  1.6556692466e-02],\n           [ 1.7355696941e-02,  2.6898266458e-02,  1.3011665085e-02]],\n \n          [[ 1.2231692861e-02,  9.4454829556e-03,  1.4330403373e-02],\n           [ 1.0754481709e-02,  9.9992741514e-03,  1.6611506688e-02],\n           [ 1.5649414049e-02,  1.2804004455e-02,  2.0725546316e-02]],\n \n          [[ 4.8347430594e-03,  1.3478206404e-02,  1.3589398631e-02],\n           [-2.7164868456e-03,  1.9621036720e-03,  1.1570656942e-02],\n           [-5.4558086715e-03, -7.9929343091e-03,  3.7178520995e-03]],\n \n          ...,\n \n          [[ 0.0000000000e+00,  2.3927825967e-06,  1.9967514438e-06],\n           [ 0.0000000000e+00,  1.6784351217e-06, -1.8910109074e-06],\n           [ 0.0000000000e+00,  2.7649002148e-06, -6.3575378312e-06]],\n \n          [[ 1.0109946441e-02,  1.2368768758e-02,  1.6210197623e-02],\n           [ 1.0141335774e-02,  6.2886089048e-03,  1.2146077551e-02],\n           [ 1.2497700218e-02,  6.3228449062e-03,  8.8855570610e-03]],\n \n          [[-5.5522558445e-05, -6.3171484812e-05,  7.3628018498e-05],\n           [-2.7443989100e-04, -3.8230752989e-04, -1.5030189548e-04],\n           [ 1.2447335750e-05, -1.4137126414e-04, -9.9813292214e-05]]],\n \n \n         [[[ 4.9223852549e-03,  6.6794296256e-03,  1.6403862950e-03],\n           [ 3.0181697465e-03,  6.7454473695e-03,  2.0449272218e-03],\n           [ 2.9350868540e-03,  4.0007212581e-03, -2.5325555114e-05]],\n \n          [[-1.7919950683e-02, -1.5019986624e-02, -1.2880893387e-02],\n           [-1.0388162204e-02, -7.0328560510e-03, -7.0301686215e-03],\n           [-1.4929344052e-02, -1.4286211657e-02, -1.2055382845e-02]],\n \n          [[-9.8675122245e-03, -6.5286529738e-03, -4.6291276102e-03],\n           [-1.2046721014e-02, -1.3526243591e-02, -1.1438683801e-02],\n           [-7.6414666928e-03, -1.4796332703e-02, -1.8327005993e-02]],\n \n          ...,\n \n          [[ 0.0000000000e+00,  3.0875116435e-06,  2.4411689955e-06],\n           [ 0.0000000000e+00,  4.0539282634e-06,  2.0205479758e-06],\n           [ 0.0000000000e+00,  3.4205085330e-06, -3.1528102698e-06]],\n \n          [[ 2.7148971012e-04,  3.7294426450e-04, -4.3022987319e-04],\n           [ 2.0624018703e-03,  9.3698073742e-04, -9.2450144363e-04],\n           [-1.5381737436e-03, -4.1485409730e-03, -4.5977547822e-03]],\n \n          [[-1.5536733643e-04, -4.4589291507e-04, -2.2143953350e-04],\n           [-3.5916737429e-04, -6.0498326914e-04, -3.8623811900e-04],\n           [-9.6401994419e-05, -2.4222130924e-04, -1.9280883752e-04]]],\n \n \n         [[[ 8.0959820676e-02,  8.4426894523e-02,  7.9035743158e-02],\n           [ 8.1746319532e-02,  8.7992313526e-02,  8.1829979128e-02],\n           [ 7.7847585228e-02,  8.0676179211e-02,  7.4438766207e-02]],\n \n          [[ 4.7854597302e-01,  4.7665676420e-01,  4.8182402430e-01],\n           [ 4.7540512713e-01,  4.7355421626e-01,  4.8064165579e-01],\n           [ 4.7393693078e-01,  4.7582189827e-01,  4.8148598117e-01]],\n \n          [[ 2.0695300015e-01,  1.5013553596e-01,  1.4381014138e-01],\n           [ 2.1715028914e-01,  1.4774097891e-01,  1.2887145286e-01],\n           [ 2.2285551786e-01,  1.5427818504e-01,  1.3371223922e-01]],\n \n          ...,\n \n          [[ 0.0000000000e+00,  1.3694201154e-06,  1.2611794921e-06],\n           [ 0.0000000000e+00,  5.4973710589e-07,  4.0227876260e-06],\n           [ 0.0000000000e+00,  4.0915148646e-06,  6.5590105126e-06]],\n \n          [[ 1.7279553349e-01,  1.7304541031e-01,  1.7535422825e-01],\n           [ 1.6997857323e-01,  1.6508000644e-01,  1.6674695907e-01],\n           [ 1.6980377816e-01,  1.6314980794e-01,  1.6219292926e-01]],\n \n          [[ 1.5648625745e-03,  1.1286526342e-03,  1.1545323568e-03],\n           [ 1.8136410152e-03,  1.5589580525e-03,  1.5534138074e-03],\n           [ 2.0834866886e-03,  1.6739762936e-03,  1.6967454540e-03]]],\n \n \n         ...,\n \n \n         [[[ 3.2247938477e-02,  3.0979886592e-02,  3.0783061500e-02],\n           [ 3.0485753747e-02,  2.8144804229e-02,  2.8368768383e-02],\n           [ 2.9189579502e-02,  2.4953406281e-02,  2.5529793224e-02]],\n \n          [[ 1.7132436352e-01,  1.6851349512e-01,  1.7208880380e-01],\n           [ 1.6471193347e-01,  1.5760429973e-01,  1.6595552157e-01],\n           [ 1.6729011568e-01,  1.6280919987e-01,  1.6930973429e-01]],\n \n          [[ 9.3396282561e-02,  5.6228602302e-02,  1.8232738498e-02],\n           [ 1.0946662947e-01,  6.2368167676e-02,  1.2986867348e-02],\n           [ 1.1268868690e-01,  7.0541824726e-02,  2.6939162593e-02]],\n \n          ...,\n \n          [[ 0.0000000000e+00,  6.6662807050e-07, -6.0295738501e-07],\n           [ 0.0000000000e+00, -1.0324314158e-07,  1.9260959186e-06],\n           [ 0.0000000000e+00,  2.9179626875e-07,  7.3275231974e-06]],\n \n          [[ 5.6340278363e-02,  5.9433950566e-02,  6.2396926746e-02],\n           [ 5.8337890974e-02,  6.4770237177e-02,  6.6886312578e-02],\n           [ 5.8831367261e-02,  6.6959852479e-02,  6.6939945081e-02]],\n \n          [[ 4.0329649271e-04,  3.2412085359e-04,  4.5051238687e-04],\n           [ 5.3691364408e-04,  5.3569152329e-04,  4.3643682139e-04],\n           [ 5.0511634740e-04,  4.6544614486e-04,  4.0786884592e-04]]],\n \n \n         [[[-2.5827307971e-02, -3.4525794961e-02, -3.8872629472e-02],\n           [-1.4000083225e-02, -3.0519693385e-02, -4.7832495935e-02],\n           [-2.2969754096e-02, -2.8837274711e-02, -3.3930989664e-02]],\n \n          [[-1.6286570511e-01, -1.5858529305e-01, -1.5922593500e-01],\n           [-1.6539214077e-01, -1.5554376086e-01, -1.5490167389e-01],\n           [-1.6872212475e-01, -1.6040912840e-01, -1.5634268913e-01]],\n \n          [[-5.8762780075e-02, -3.3017252058e-02, -3.2295622456e-02],\n           [-7.9742180523e-02, -2.8101437957e-02, -1.5573612125e-02],\n           [-9.3026672061e-02, -3.7574028939e-02, -1.8867808849e-02]],\n \n          ...,\n \n          [[ 0.0000000000e+00,  1.8441565597e-06, -4.4368513120e-08],\n           [ 0.0000000000e+00,  3.5045637875e-06, -9.2510219226e-07],\n           [ 0.0000000000e+00,  4.0302549411e-07,  3.2088862387e-06]],\n \n          [[-5.4863294510e-02, -5.5885746827e-02, -5.1687901723e-02],\n           [-7.3630610979e-02, -6.3567234838e-02, -4.2612471341e-02],\n           [-7.0256740736e-02, -6.4750900447e-02, -4.5588875686e-02]],\n \n          [[-5.2661214212e-04, -4.6825017282e-04, -4.8681692080e-04],\n           [-8.2055453881e-04, -5.4426010048e-04, -7.4563645983e-04],\n           [-1.0655747924e-03, -1.0884826270e-03, -1.0320226552e-03]]],\n \n \n         [[[ 9.3171860147e-03,  4.7834954765e-03, -1.3445681387e-03],\n           [ 3.4750910879e-03,  1.7683141857e-02, -2.7759411118e-03],\n           [ 7.1535241444e-03,  1.1019977308e-02, -1.2044501903e-02]],\n \n          [[ 4.2785090303e-02,  6.4702733805e-02,  5.3315576710e-02],\n           [ 6.3581468394e-02,  6.5128322886e-02,  4.3218979506e-02],\n           [ 6.1443745324e-02,  4.4689417754e-02,  6.8102682279e-02]],\n \n          [[ 2.1962892588e-02,  1.7773796435e-02,  1.7217259239e-02],\n           [ 1.6522119787e-02,  2.8130077017e-02,  9.7532092522e-03],\n           [ 4.0513235633e-02,  2.3230331199e-02, -6.1326733932e-03]],\n \n          ...,\n \n          [[ 0.0000000000e+00,  5.3274496668e-06, -4.5717641855e-06],\n           [ 0.0000000000e+00, -5.9832037333e-07, -2.5519354464e-06],\n           [ 0.0000000000e+00, -9.3119599644e-06,  2.0579014640e-06]],\n \n          [[ 2.7852170182e-02,  2.0444650703e-02,  2.0517679915e-02],\n           [ 2.1795771116e-02,  1.7766584331e-03,  2.0564515290e-02],\n           [ 1.9358538550e-02,  1.1231211155e-02,  2.6459416982e-02]],\n \n          [[ 2.5298078794e-04, -6.0106272890e-04,  1.3120444426e-04],\n           [ 4.8322880264e-04, -3.7777051460e-04,  4.4289497423e-04],\n           [-7.7696460988e-05, -1.4106003118e-04, -7.6694356412e-05]]]],\n        device='cuda:0', dtype=torch.float64),\n tensor([[[[-3.7087046216e-06, -4.3858139370e-03, -8.9369127173e-03],\n           [-9.9448144016e-03, -1.7948804858e-02, -1.1879608503e-02],\n           [-4.6908884641e-03, -1.3885918288e-02, -1.5968708030e-03]],\n \n          [[ 5.4318895547e-03,  3.3017404089e-03, -2.7832542125e-03],\n           [ 3.6155178340e-06, -4.8519288800e-03, -6.5770375818e-03],\n           [-1.1124839390e-03, -5.2994975653e-03, -6.6641787614e-03]],\n \n          [[-7.6628251065e-03, -5.2357987442e-03, -4.6739442539e-03],\n           [-3.4775473105e-03, -4.2074797827e-03, -5.0576425174e-04],\n           [-4.2202917262e-04,  2.3655794759e-04,  3.2102637731e-03]],\n \n          ...,\n \n          [[-1.1517606602e-02, -8.0820868283e-03, -7.9848805234e-03],\n           [-8.7902307999e-03, -5.5568920274e-03, -9.7534367795e-03],\n           [ 1.2041523061e-03,  3.6418715481e-03, -1.9047772819e-03]],\n \n          [[ 4.2691926080e-03,  8.3663985625e-04, -4.0694485377e-03],\n           [ 2.9463897571e-03,  2.1772973952e-03, -2.6446900125e-03],\n           [ 3.1210712321e-03,  1.7558324134e-03,  3.2884850170e-05]],\n \n          [[-1.6339636367e-02, -1.1038075310e-02, -7.0353434167e-03],\n           [ 1.6423432500e-03,  1.6808724603e-02, -5.2949667442e-03],\n           [ 2.5396472510e-03, -2.3732043669e-03, -8.0125844463e-03]]],\n \n \n         [[[ 5.9118938406e-02,  5.0212136095e-02,  4.8328455662e-02],\n           [ 5.3314091466e-02,  4.5163789211e-02,  5.2379038489e-02],\n           [ 5.0776713766e-02,  5.0993238762e-02,  5.7751058486e-02]],\n \n          [[ 7.1425986299e-03,  6.0998246216e-03,  7.9056520449e-03],\n           [ 6.7823239637e-03,  8.5011202236e-03,  1.1233135511e-02],\n           [ 4.9341428398e-03,  7.8990824827e-03,  9.9710576498e-03]],\n \n          [[ 2.8553394287e-02,  2.8456362227e-02,  2.6530147939e-02],\n           [ 2.7113488407e-02,  2.9040675733e-02,  3.1046099038e-02],\n           [ 2.5359526626e-02,  2.8945905586e-02,  3.1084592197e-02]],\n \n          ...,\n \n          [[ 2.9146028787e-02,  2.8150099972e-02,  2.6324029064e-02],\n           [ 2.8180483230e-02,  2.8828929707e-02,  2.8257084829e-02],\n           [ 2.6245384158e-02,  2.9094508119e-02,  2.9990231827e-02]],\n \n          [[ 8.3404408035e-03,  6.0579702247e-03,  5.3003119237e-03],\n           [ 8.9183423620e-03,  6.0844375866e-03,  2.2385005224e-03],\n           [ 8.6741491088e-03,  4.8637308374e-03,  2.8453731190e-03]],\n \n          [[ 2.4029230840e-02,  2.8729849559e-02,  4.0911262017e-02],\n           [ 3.5733631369e-02,  2.6633088941e-02,  1.9231535092e-02],\n           [ 4.3884275280e-02,  2.3841880993e-02,  1.3956064688e-02]]],\n \n \n         [[[-7.3602938474e-02, -7.8928779531e-02, -6.2358531427e-02],\n           [-7.6191915323e-02, -8.7304980916e-02, -6.0055438152e-02],\n           [-7.4212785740e-02, -8.0286193592e-02, -6.3679594417e-02]],\n \n          [[ 9.5270382036e-04, -8.6817783331e-04, -5.4417626690e-03],\n           [-1.6197357464e-03, -2.5003135195e-03, -2.7359622232e-03],\n           [-1.5360153380e-02, -8.5267824588e-03, -1.4759740198e-03]],\n \n          [[-2.4310901019e-02, -1.9683710443e-02, -2.3549358365e-02],\n           [-2.8378001703e-02, -2.5328439122e-02, -3.3364237760e-02],\n           [-3.1520927259e-02, -3.1539831830e-02, -3.9125508693e-02]],\n \n          ...,\n \n          [[-1.3854163203e-02, -1.6433227165e-02, -3.6192490791e-02],\n           [-1.6579259897e-02, -1.4852587972e-02, -3.0475520755e-02],\n           [-3.1166157119e-02, -3.0995537777e-02, -3.9434893189e-02]],\n \n          [[-1.5357588638e-03, -2.7608922689e-03, -3.8476681552e-03],\n           [ 1.2755683371e-03, -8.1882432787e-03, -7.1408799682e-03],\n           [-5.6670339088e-03, -9.3159744922e-03, -3.3213822635e-03]],\n \n          [[-3.3633951240e-02, -3.9961056060e-02, -3.9232559402e-02],\n           [-2.6559165644e-02, -6.8149199381e-02, -4.5092158868e-02],\n           [-2.8167542401e-02, -3.3422813512e-02, -2.1340963848e-02]]],\n \n \n         ...,\n \n \n         [[[ 3.3885819050e-02,  3.5705109585e-02,  3.3764564493e-02],\n           [ 3.4613592606e-02,  3.4024366636e-02,  3.1844020042e-02],\n           [ 3.3198532392e-02,  3.3208790807e-02,  2.9597147986e-02]],\n \n          [[ 1.3847851879e-03,  2.3317391813e-03,  2.5804448520e-03],\n           [ 1.9779999485e-03,  2.6855713936e-03,  3.1574063755e-03],\n           [ 2.0494885998e-03,  2.3471727490e-03,  2.9383793174e-03]],\n \n          [[ 1.5897034463e-02,  1.6163777428e-02,  1.5121144205e-02],\n           [ 1.4483934804e-02,  1.3847959676e-02,  1.2585491564e-02],\n           [ 1.2761866932e-02,  1.1370236805e-02,  1.0687207603e-02]],\n \n          ...,\n \n          [[ 1.6012156371e-02,  1.6577733732e-02,  1.6837215138e-02],\n           [ 1.5499811917e-02,  1.5911507802e-02,  1.6755994337e-02],\n           [ 1.4355868767e-02,  1.4588868051e-02,  1.5410139705e-02]],\n \n          [[ 1.3400603406e-03,  7.8875552409e-04,  9.0946534239e-04],\n           [ 3.8006731971e-03,  1.9990337108e-03,  4.8709104917e-04],\n           [ 1.8116209859e-03,  2.7841582449e-03,  2.4664786051e-03]],\n \n          [[ 1.6966008241e-02,  1.8048879914e-02,  1.6239813735e-02],\n           [ 1.6352613262e-02,  1.3031480590e-02,  1.6666064253e-02],\n           [ 1.6377368423e-02,  1.8617174788e-02,  1.7508573112e-02]]],\n \n \n         [[[ 6.7658792073e-02,  6.6259393630e-02,  6.9948314551e-02],\n           [ 6.9784529119e-02,  6.7570676951e-02,  6.8922579170e-02],\n           [ 6.5429488590e-02,  6.7763894292e-02,  7.0027455840e-02]],\n \n          [[ 6.0017595783e-03,  5.3524025175e-03,  6.5828673022e-03],\n           [ 8.1865049937e-03,  7.3570548362e-03,  6.5406808881e-03],\n           [ 8.3921934682e-03,  8.6020199888e-03,  7.3637421051e-03]],\n \n          [[ 2.8616325617e-02,  3.1127946701e-02,  3.0415538609e-02],\n           [ 3.0909413683e-02,  3.0079642194e-02,  3.0152362172e-02],\n           [ 3.1223508144e-02,  2.9503044010e-02,  2.9515681009e-02]],\n \n          ...,\n \n          [[ 3.3805111385e-02,  3.4971131154e-02,  3.4550765628e-02],\n           [ 3.4153827341e-02,  3.4234197870e-02,  3.3799456740e-02],\n           [ 3.4930542143e-02,  3.4177929427e-02,  3.3453129340e-02]],\n \n          [[ 3.0973211295e-03,  3.2207497949e-03,  2.1566784417e-03],\n           [ 2.5435219433e-03,  2.4645902283e-03,  2.2457183534e-03],\n           [ 3.5889050151e-03,  1.3093053017e-03,  2.6872278552e-03]],\n \n          [[ 3.8275550833e-02,  3.1274710611e-02,  3.7089361320e-02],\n           [ 3.3331222997e-02,  2.8300124862e-02,  3.7677045278e-02],\n           [ 3.7644188736e-02,  3.1170574424e-02,  3.5927481193e-02]]],\n \n \n         [[[-3.6706156000e-02, -3.6133870057e-02, -3.4459838552e-02],\n           [-3.7403622527e-02, -3.5869185374e-02, -3.4413545020e-02],\n           [-3.5765282268e-02, -3.4860609697e-02, -3.1334703840e-02]],\n \n          [[-4.4998432049e-03, -4.1726796488e-03, -3.3816837216e-03],\n           [-4.2062377119e-03, -3.9388173610e-03, -3.2753342567e-03],\n           [-3.7146710217e-03, -4.1237992428e-03, -3.7016038368e-03]],\n \n          [[-1.5309663126e-02, -1.6898672577e-02, -1.6878453738e-02],\n           [-1.4869799138e-02, -1.6982302324e-02, -1.7026154521e-02],\n           [-1.4718021876e-02, -1.5338798127e-02, -1.4505717193e-02]],\n \n          ...,\n \n          [[-1.7829408292e-02, -1.8998119968e-02, -1.7938636914e-02],\n           [-1.8291318855e-02, -1.9525546065e-02, -1.7762278367e-02],\n           [-1.6620836232e-02, -1.7247242008e-02, -1.5785006855e-02]],\n \n          [[-2.3444990682e-03, -1.3504619649e-03, -2.1423031983e-03],\n           [-2.0694159403e-03, -2.3112738403e-03, -1.7493557539e-03],\n           [-2.1149448933e-03, -3.6698452156e-03, -2.2740328190e-03]],\n \n          [[-1.7903528402e-02, -1.6267946320e-02, -2.1129295375e-02],\n           [-2.0696248956e-02, -1.5433557941e-02, -1.3264629525e-02],\n           [-1.7454635081e-02, -1.7467842676e-02, -1.2501171449e-02]]]],\n        device='cuda:0', dtype=torch.float64),\n tensor([[[[-1.0827716251e-02, -1.3397598501e-02, -1.3499063031e-02],\n           [-2.3703412742e-03, -4.4908027922e-03, -9.3172544129e-03],\n           [-3.7458407169e-03,  3.2371240110e-04, -2.8966162833e-03]],\n \n          [[-1.9873340146e-03, -1.8719934369e-04,  1.2623782282e-03],\n           [ 3.1078340989e-04,  1.1702115910e-03,  3.4388451896e-03],\n           [ 1.1958646482e-03,  1.6578510419e-03,  2.8414388228e-03]],\n \n          [[-1.7457208761e-02, -1.9414149268e-02, -1.4005151494e-02],\n           [-1.5973691349e-02, -2.3393841844e-02, -2.2849145180e-02],\n           [-1.5766932544e-02, -2.2156789407e-02, -2.3620145465e-02]],\n \n          ...,\n \n          [[ 1.5712394605e-03,  1.0542254631e-03, -3.8052144819e-04],\n           [ 1.2657453561e-03,  2.1384483941e-03,  2.7987432016e-04],\n           [-4.1617296757e-04,  1.2389580383e-05, -3.4607082244e-04]],\n \n          [[ 5.6720399565e-05,  1.8164177845e-03,  2.5276258236e-03],\n           [ 3.6482950962e-04, -1.2440281208e-03, -5.0186050519e-04],\n           [ 4.8078480836e-04,  1.0867737502e-03,  7.7345972542e-04]],\n \n          [[-1.2197888539e-04, -3.7930732816e-04, -3.0767610402e-04],\n           [-5.1096389826e-04, -6.6921423243e-04, -6.5143201699e-04],\n           [-4.6628149558e-04, -6.0467072598e-04, -2.9386485415e-04]]],\n \n \n         [[[-9.5293601683e-03, -6.0899951244e-03, -8.4673592991e-03],\n           [-1.6162637741e-02, -1.3567635985e-02, -1.2345422980e-02],\n           [-1.7302546833e-02, -1.7270640491e-02, -1.5496978155e-02]],\n \n          [[-1.0235344881e-02, -1.0897122490e-02, -1.1040836130e-02],\n           [-9.3166683445e-03, -8.9960202757e-03, -9.3201602609e-03],\n           [-1.1441049237e-02, -1.0318651441e-02, -1.0621869732e-02]],\n \n          [[-2.2549801247e-02, -2.9312424373e-02, -3.8424417953e-02],\n           [-2.4475539982e-02, -2.6363479511e-02, -3.2416159104e-02],\n           [-3.1070830817e-02, -2.7011169593e-02, -2.6582616618e-02]],\n \n          ...,\n \n          [[-3.0650050813e-03, -3.3043264574e-03, -3.2156537906e-03],\n           [-3.6361366696e-03, -3.6479233771e-03, -3.2279767543e-03],\n           [-3.6000008192e-03, -3.6483311158e-03, -3.7480445148e-03]],\n \n          [[-4.3733630420e-03, -3.8367343184e-03, -4.1838469310e-03],\n           [-3.1273517600e-03, -4.0530570364e-03, -4.2818050045e-03],\n           [-3.4871357868e-03, -4.8071951372e-03, -4.8176517009e-03]],\n \n          [[-4.8088815904e-04, -4.9104553624e-04, -8.6366110003e-04],\n           [-2.5552293976e-04, -5.3100008466e-04, -8.5713554158e-04],\n           [-9.0355361962e-04, -1.1518974648e-03, -1.5309789117e-03]]],\n \n \n         [[[ 4.0639117509e-02,  3.9041904667e-02,  4.1738962681e-02],\n           [ 3.7115107312e-02,  3.7954450908e-02,  3.9323445601e-02],\n           [ 3.8854498871e-02,  4.5991833338e-02,  4.3736527514e-02]],\n \n          [[ 1.7753316977e-02,  1.8701487041e-02,  2.3832442517e-02],\n           [ 1.7638168816e-02,  1.4535075973e-02,  1.5816989749e-02],\n           [ 2.2092128401e-02,  1.8729440769e-02,  1.6468404096e-02]],\n \n          [[ 6.6447637352e-02,  7.4494964765e-02,  7.0101904946e-02],\n           [ 6.6188012825e-02,  7.5156127782e-02,  7.4922361203e-02],\n           [ 7.2750516586e-02,  7.6973189725e-02,  7.4397406404e-02]],\n \n          ...,\n \n          [[ 5.7780096888e-03,  6.5849653072e-03,  7.0069307217e-03],\n           [ 5.5830285095e-03,  7.0548148874e-03,  7.8989808363e-03],\n           [ 5.1747264626e-03,  5.5250733808e-03,  5.8328619250e-03]],\n \n          [[ 9.8527384051e-03,  7.9235375258e-03,  7.6893645831e-03],\n           [ 9.1151775444e-03,  7.8956807329e-03,  8.6294649543e-03],\n           [ 9.1496966931e-03,  8.7469519098e-03,  9.7746100174e-03]],\n \n          [[ 1.7072853430e-03,  1.4588890920e-03,  1.2981117171e-03],\n           [ 2.0137124737e-03,  2.1078248653e-03,  1.7503983139e-03],\n           [ 1.3456682845e-03,  2.1873723205e-03,  2.2379404857e-03]]],\n \n \n         ...,\n \n \n         [[[ 1.1652727153e-02,  1.5889551602e-02,  1.8238295291e-02],\n           [ 3.7034624453e-03,  5.3693983182e-03,  1.1467166135e-02],\n           [ 3.2817831315e-03,  2.7878464243e-03,  7.0653627972e-03]],\n \n          [[ 5.9057801828e-03,  6.0707142685e-03,  5.7810397899e-03],\n           [ 6.5438633828e-03,  7.1035464871e-03,  7.0072703262e-03],\n           [ 6.2913006998e-03,  6.8313209018e-03,  5.4964997083e-03]],\n \n          [[ 1.3626531682e-02,  2.2334435925e-02,  2.6460086068e-02],\n           [ 9.9081315825e-03,  2.6037586082e-02,  3.2956183043e-02],\n           [ 9.2931462641e-03,  2.6818103984e-02,  3.8142644120e-02]],\n \n          ...,\n \n          [[ 1.5065683810e-03,  7.7174042827e-04,  1.5915176935e-03],\n           [ 1.2488547154e-03,  8.8550590117e-04,  1.5437098373e-03],\n           [ 1.9359022386e-03,  1.3895835921e-03,  1.8476067390e-03]],\n \n          [[ 2.2074868936e-03,  1.7140615825e-03,  1.7615329303e-03],\n           [ 2.7228405710e-03,  1.3974876819e-03,  1.5743060748e-03],\n           [ 2.1413357975e-03,  1.5556512081e-03,  1.0781151874e-03]],\n \n          [[ 4.2245296051e-04,  2.8367934130e-04,  4.5967889700e-04],\n           [ 3.3862461369e-04,  1.7750479420e-04,  5.7851068105e-04],\n           [ 3.6254625837e-04,  4.7657478192e-04,  8.4245430278e-04]]],\n \n \n         [[[-5.8986017049e-02, -6.3856908210e-02, -6.0727046467e-02],\n           [-4.6586698165e-02, -5.7218493123e-02, -6.3642424239e-02],\n           [-4.1044225421e-02, -5.0105574724e-02, -5.8263556465e-02]],\n \n          [[-2.5042155773e-02, -2.8040236166e-02, -2.6706783564e-02],\n           [-3.4609192507e-02, -3.0291667140e-02, -2.4605300095e-02],\n           [-3.2952378230e-02, -2.8203521600e-02, -2.5360202145e-02]],\n \n          [[-1.0435906675e-01, -1.0061064257e-01, -8.5536394827e-02],\n           [-1.0945608193e-01, -1.1388048624e-01, -9.4798920145e-02],\n           [-1.0305538346e-01, -1.1073476711e-01, -1.0162696748e-01]],\n \n          ...,\n \n          [[-7.5497412666e-03, -8.5459039946e-03, -1.0107562562e-02],\n           [-7.0425305360e-03, -8.1550928059e-03, -9.1422961442e-03],\n           [-9.6871997653e-03, -8.4725290954e-03, -6.9180595748e-03]],\n \n          [[-1.2923538882e-02, -1.0830706312e-02, -9.7505990295e-03],\n           [-1.4381685343e-02, -1.1724623133e-02, -9.7301091202e-03],\n           [-8.5747064558e-03, -1.0475292042e-02, -1.1967261659e-02]],\n \n          [[-2.0541417926e-03, -2.1916834245e-03, -2.1033770353e-03],\n           [-2.2521275579e-03, -2.8774554025e-03, -3.1558907488e-03],\n           [-2.2316299980e-03, -2.7913469720e-03, -2.9661214224e-03]]],\n \n \n         [[[-8.9294839410e-03,  1.4876010868e-03, -4.1384230573e-03],\n           [-2.4852848511e-03, -1.0513750682e-02, -2.6621563468e-02],\n           [ 3.6756151526e-03, -6.7938114068e-03, -8.7583647175e-03]],\n \n          [[ 6.9573391212e-03, -5.2066084078e-03, -2.3705136700e-02],\n           [-3.0015378301e-05, -4.2382672568e-02, -7.3041763524e-03],\n           [-1.9437260699e-02, -1.9919417332e-02,  4.4570258406e-03]],\n \n          [[-2.6915491514e-03, -4.7309371929e-03,  2.3008385284e-03],\n           [-3.6226754162e-03, -4.7169650239e-03,  1.6462241060e-02],\n           [-5.5476250632e-04, -1.1142405281e-02, -3.3187302535e-03]],\n \n          ...,\n \n          [[-1.5602595694e-03, -1.0513697238e-04, -2.9937316551e-03],\n           [ 2.1117818966e-05, -2.4820292898e-03, -6.7058915927e-03],\n           [ 1.4954579527e-03, -4.5720735024e-03, -5.4528099756e-03]],\n \n          [[-8.3192678326e-04, -3.7523317365e-03, -1.5651442031e-03],\n           [-3.2016489032e-03,  4.0848113225e-03,  1.0345337368e-03],\n           [-3.1971423023e-03, -1.4165252940e-03,  7.4102224944e-04]],\n \n          [[ 6.3901787295e-04,  1.2023568971e-04, -6.8234036919e-04],\n           [ 9.5007038236e-05, -5.0540167656e-04, -1.9087871742e-03],\n           [-3.2882549974e-04, -3.8775459989e-04, -8.9311250413e-04]]]],\n        device='cuda:0', dtype=torch.float64),\n tensor([[[[-3.0827426908e-02, -2.9214409632e-02, -3.1478852816e-02],\n           [-3.3085827243e-02, -2.9805354476e-02, -2.9553051160e-02],\n           [-3.4730419687e-02, -3.3381539313e-02, -3.0173437569e-02]],\n \n          [[-3.3824192426e-03, -3.2359224741e-03, -3.5570432362e-03],\n           [-2.5047715704e-03, -1.9351261515e-03, -1.7953061401e-03],\n           [-4.4912522768e-03, -3.8811942962e-03, -3.4368686533e-03]],\n \n          [[-4.7464053782e-03, -4.9425302936e-03, -4.5692875107e-03],\n           [-5.5087918786e-03, -5.8656473680e-03, -5.1156780042e-03],\n           [-4.7503299572e-03, -4.8653867509e-03, -4.6476148831e-03]],\n \n          ...,\n \n          [[-2.1378508977e-02, -2.1551591241e-02, -2.1459902391e-02],\n           [-2.0782033566e-02, -2.0592705451e-02, -2.0598485501e-02],\n           [-2.0827327637e-02, -2.0191668556e-02, -1.9767680775e-02]],\n \n          [[-6.7724088050e-03, -6.6352760547e-03, -6.0017545257e-03],\n           [-6.0882401940e-03, -7.7844154751e-03, -8.0608806072e-03],\n           [-4.5030432281e-03, -6.8961369583e-03, -9.2129757546e-03]],\n \n          [[-1.8970253812e-02, -1.9523559391e-02, -1.9558141475e-02],\n           [-1.7674990549e-02, -2.0827875829e-02, -2.1959633710e-02],\n           [-1.6294068157e-02, -1.9989456652e-02, -1.7450524852e-02]]],\n \n \n         [[[ 1.1918261944e-01,  1.1922878283e-01,  1.2205624508e-01],\n           [ 1.1299161841e-01,  1.1107028415e-01,  1.1064627515e-01],\n           [ 1.1438820353e-01,  1.1079221241e-01,  1.1391316728e-01]],\n \n          [[ 1.7275800989e-02,  1.6370508176e-02,  1.9262235048e-02],\n           [ 2.0786057498e-02,  1.9393757586e-02,  1.8613475519e-02],\n           [ 2.5173671434e-02,  2.2107178517e-02,  2.0926165013e-02]],\n \n          [[ 1.5586462502e-02,  1.6369113572e-02,  1.5607707494e-02],\n           [ 1.5978626390e-02,  1.7171749601e-02,  1.7151020462e-02],\n           [ 1.5006460333e-02,  1.5645210174e-02,  1.5969214721e-02]],\n \n          ...,\n \n          [[ 7.5049436155e-02,  7.3537705547e-02,  7.5262920949e-02],\n           [ 7.1324305716e-02,  6.9658330055e-02,  7.0905243848e-02],\n           [ 7.3531479777e-02,  7.1678650837e-02,  7.2209537508e-02]],\n \n          [[ 2.2281730075e-02,  3.1840075918e-02,  3.4980357337e-02],\n           [ 2.1363648541e-02,  3.1340861756e-02,  3.3408765962e-02],\n           [ 2.2589792520e-02,  2.7763171047e-02,  2.9214647381e-02]],\n \n          [[ 6.4010190945e-02,  6.7132852985e-02,  6.0273359599e-02],\n           [ 6.1087546825e-02,  5.9062892552e-02,  5.7793803469e-02],\n           [ 5.5642714928e-02,  5.3353144163e-02,  5.1608418295e-02]]],\n \n \n         [[[-3.6535185685e-01, -3.6943384628e-01, -3.7035580219e-01],\n           [-3.6264428529e-01, -3.6663513791e-01, -3.6893223125e-01],\n           [-3.5543537035e-01, -3.5774288484e-01, -3.6068863112e-01]],\n \n          [[-7.3144926000e-02, -5.6727408192e-02, -4.6634173825e-02],\n           [-9.3477125980e-02, -8.8470106760e-02, -6.5926228243e-02],\n           [-9.0338266137e-02, -9.5951187495e-02, -8.1379265374e-02]],\n \n          [[-4.5935319133e-02, -4.6865803888e-02, -4.6440383181e-02],\n           [-4.3863403304e-02, -4.5209111451e-02, -4.6170687608e-02],\n           [-4.0087165919e-02, -4.0949814667e-02, -4.3217265499e-02]],\n \n          ...,\n \n          [[-2.3080668643e-01, -2.2405342532e-01, -2.2318995094e-01],\n           [-2.3925427943e-01, -2.3352611794e-01, -2.2712918101e-01],\n           [-2.4382644305e-01, -2.4493024804e-01, -2.3752930030e-01]],\n \n          [[-5.2378704719e-02, -6.0545791183e-02, -7.3469021310e-02],\n           [-5.6256075986e-02, -5.2717502500e-02, -5.9850740990e-02],\n           [-6.5948267442e-02, -5.2890267338e-02, -5.1610475005e-02]],\n \n          [[-1.9224449083e-01, -1.8446364319e-01, -1.8261272869e-01],\n           [-1.8600938867e-01, -1.7987153714e-01, -1.9189130983e-01],\n           [-1.8277957147e-01, -1.9752602828e-01, -1.8907851688e-01]]],\n \n \n         ...,\n \n \n         [[[-7.1538017577e-03, -8.6867945440e-03, -9.8848637941e-03],\n           [ 1.5551104790e-03, -2.3826824944e-04, -3.2657212019e-03],\n           [ 2.3207809662e-03, -1.7219392088e-06, -4.4250172908e-03]],\n \n          [[-3.8095060690e-03, -3.0424808939e-04,  1.8133186790e-03],\n           [-6.2727696620e-04,  1.2538564349e-03,  2.2909212511e-03],\n           [ 6.2371689685e-04,  3.4866015289e-04, -4.4011146815e-04]],\n \n          [[-3.2291262652e-03, -4.3453046066e-03, -4.2082283909e-03],\n           [-4.0489294993e-03, -5.1719639881e-03, -6.3540366198e-03],\n           [-2.9516372980e-03, -3.8946348131e-03, -5.2479072613e-03]],\n \n          ...,\n \n          [[-4.9361462531e-03, -5.2666936570e-03, -5.2574107166e-03],\n           [-5.1671289994e-04, -7.5312111412e-04,  6.2260516470e-05],\n           [-2.3754103127e-04, -5.4175591434e-04,  6.7303915740e-05]],\n \n          [[-5.0861296564e-03, -3.6677530980e-03, -4.2055331616e-03],\n           [-3.5428395770e-03, -1.5510170966e-03, -3.2935280271e-03],\n           [-3.2599204451e-03, -2.8338440013e-03, -6.2626059197e-03]],\n \n          [[-7.4861610727e-05, -5.5763089991e-03, -7.7668200271e-03],\n           [-1.2577744331e-03, -6.6015045474e-03, -6.2343179283e-03],\n           [ 6.1684098927e-04, -2.6439976761e-03, -6.6220766198e-04]]],\n \n \n         [[[-3.1228206994e-02, -3.0095782394e-02, -3.1725601449e-02],\n           [-2.9479811633e-02, -2.7668288493e-02, -2.7708488694e-02],\n           [-3.2849528794e-02, -3.3403964008e-02, -3.2568897091e-02]],\n \n          [[-4.2399903969e-03, -4.6524858475e-03, -4.4571370046e-03],\n           [-3.1510164670e-03, -2.7297091104e-03, -2.7722799331e-03],\n           [-4.1681193194e-03, -3.6434238961e-03, -3.7950478710e-03]],\n \n          [[-3.8655911392e-03, -3.6644762673e-03, -3.5328081383e-03],\n           [-5.1571456874e-03, -5.2689284657e-03, -4.6770719375e-03],\n           [-4.0716558134e-03, -4.0342729633e-03, -3.9601534503e-03]],\n \n          ...,\n \n          [[-2.0435857893e-02, -2.0451123821e-02, -2.0151743745e-02],\n           [-1.8368614562e-02, -1.8521043894e-02, -1.8559857335e-02],\n           [-1.8396132122e-02, -1.8290560095e-02, -1.8271444828e-02]],\n \n          [[-4.8535467550e-03, -4.6788229040e-03, -4.5560282873e-03],\n           [-4.0550739655e-03, -4.9047098951e-03, -5.9398347513e-03],\n           [-3.0346747878e-03, -4.1100190492e-03, -5.8611901608e-03]],\n \n          [[-1.8497623685e-02, -1.5607302089e-02, -1.6956192025e-02],\n           [-1.5355827887e-02, -1.7586293085e-02, -2.0152849988e-02],\n           [-1.3480860109e-02, -1.1226670566e-02, -1.0944152610e-02]]],\n \n \n         [[[ 7.8365834816e-02,  7.8256471071e-02,  7.5793213262e-02],\n           [ 8.1594069311e-02,  8.1311484377e-02,  8.0078180847e-02],\n           [ 7.9905629096e-02,  8.1128254221e-02,  8.0265015637e-02]],\n \n          [[ 1.1744212762e-02,  1.1499580283e-02,  1.2087735034e-02],\n           [ 1.2602310005e-02,  1.2970315202e-02,  1.3900274418e-02],\n           [ 1.2862853803e-02,  1.4213775219e-02,  1.4685704410e-02]],\n \n          [[ 8.4655580676e-03,  9.2137499215e-03,  8.8399637671e-03],\n           [ 8.0738749480e-03,  9.0956558930e-03,  8.6127217925e-03],\n           [ 8.3180556995e-03,  9.1852328213e-03,  9.5862273206e-03]],\n \n          ...,\n \n          [[ 4.7639543657e-02,  4.6901143276e-02,  4.6642898313e-02],\n           [ 4.8704492339e-02,  4.7512827710e-02,  4.7521101619e-02],\n           [ 4.9356375742e-02,  4.8106434274e-02,  4.7400989021e-02]],\n \n          [[ 7.8758584691e-03,  1.0006313032e-02,  1.3571511836e-02],\n           [ 7.6303917852e-03,  1.1022419291e-02,  1.5407373081e-02],\n           [ 8.8308653756e-03,  1.0399306330e-02,  1.1789918446e-02]],\n \n          [[ 3.7910785118e-02,  3.7443209529e-02,  3.4877859299e-02],\n           [ 4.0518335225e-02,  3.1633546470e-02,  3.6925656064e-02],\n           [ 3.6446297651e-02,  3.7215680174e-02,  3.6808645317e-02]]]],\n        device='cuda:0', dtype=torch.float64),\n tensor([[[[ 1.3498453269e-03,  1.1851583227e-03,  1.0177217527e-03],\n           [ 1.3832232101e-03,  7.9721686991e-04,  4.3400347356e-04],\n           [ 2.2990742264e-03,  1.9517453017e-03,  1.9180391076e-03]],\n \n          [[ 8.5646046218e-03,  7.7529105103e-03,  8.7761395251e-03],\n           [ 9.9948966042e-03,  1.1033565845e-02,  1.0700211287e-02],\n           [ 1.0594838891e-02,  1.2445651769e-02,  9.9947647573e-03]],\n \n          [[ 4.6292955171e-03,  4.0271493195e-03,  4.6904618591e-03],\n           [ 3.5732053438e-03,  4.1391152391e-03,  5.0055549658e-03],\n           [ 3.7093047580e-03,  5.0612154711e-03,  4.8510607158e-03]],\n \n          ...,\n \n          [[ 3.9292477115e-03,  4.1180518811e-03,  4.1801083769e-03],\n           [ 5.4921311999e-03,  5.1326989795e-03,  5.6787370232e-03],\n           [ 4.0974266703e-03,  3.6290676095e-03,  4.3223432140e-03]],\n \n          [[ 9.6517331713e-04,  7.2100887006e-04,  9.1059174911e-04],\n           [ 1.1876735933e-03,  8.5153785293e-04,  1.0167283777e-03],\n           [ 1.4863272342e-03,  1.2342356228e-03,  1.1673831558e-03]],\n \n          [[ 3.3416076500e-03,  3.3765838527e-03,  3.6210314105e-03],\n           [ 3.3563290853e-03,  5.0791316471e-03,  2.3326434001e-03],\n           [ 4.5846290880e-03,  3.9465146249e-03,  4.2348552818e-03]]],\n \n \n         [[[ 9.3683766486e-03,  1.0166288166e-02,  7.9534096467e-03],\n           [ 9.7066525093e-03,  1.2710956836e-02,  8.5954184244e-03],\n           [ 7.6322802428e-03,  7.7220184858e-03,  6.6868859636e-03]],\n \n          [[ 3.6017052071e-02,  3.4001229082e-02,  4.4955533034e-02],\n           [ 2.9891045136e-02,  2.7028268113e-02,  3.0316506787e-02],\n           [ 4.0594569772e-02,  3.5405278437e-02,  2.5292643457e-02]],\n \n          [[ 1.8925898990e-02,  2.1814580702e-02,  2.0144914715e-02],\n           [ 1.7166916293e-02,  1.6513678068e-02,  1.9671029304e-02],\n           [ 1.9754472824e-02,  1.3336241124e-02,  1.2662590712e-02]],\n \n          ...,\n \n          [[ 1.7976122608e-02,  2.3997463607e-02,  2.1051815659e-02],\n           [ 1.9613714906e-02,  2.4187209171e-02,  1.9352137749e-02],\n           [ 1.8006401253e-02,  2.2944801587e-02,  1.5523612097e-02]],\n \n          [[ 6.6958152986e-03,  6.1845178223e-03,  6.0102189229e-03],\n           [ 6.3055034729e-03,  6.7026102317e-03,  7.9302479868e-03],\n           [ 4.2883352669e-03,  4.8099548610e-03,  6.3188801360e-03]],\n \n          [[ 1.9762206105e-02,  2.2002988688e-02,  1.9239762606e-02],\n           [ 1.9892748669e-02,  2.1025910682e-02,  2.1843517977e-02],\n           [ 1.8320078426e-02,  1.8398686863e-02,  2.1255545273e-02]]],\n \n \n         [[[-3.4511999346e-03, -3.9177345589e-03, -1.7858018296e-03],\n           [-2.8056537676e-03, -2.1998537500e-03,  1.5400656383e-05],\n           [-2.7249920656e-03, -3.1062857737e-03, -1.8315736339e-03]],\n \n          [[-1.2361095567e-02, -1.3354703261e-02, -1.4847373502e-02],\n           [-1.4539672883e-02, -2.0742043607e-02, -1.3128287353e-02],\n           [-2.2636202627e-02, -1.8183324157e-02, -1.3100678893e-02]],\n \n          [[-7.6240159349e-03, -6.0395320648e-03, -5.7517241381e-03],\n           [-7.6859959767e-03, -6.9869339157e-03, -5.5356289410e-03],\n           [-6.2109853906e-03, -6.6924287440e-03, -5.5842500316e-03]],\n \n          ...,\n \n          [[-4.7309501762e-03, -7.0471196187e-03, -3.4434191089e-03],\n           [-5.7252431879e-03, -4.2542863036e-03, -4.5042951250e-03],\n           [-4.4816372807e-03, -7.2428254716e-03, -8.8170811300e-03]],\n \n          [[-2.2451439976e-03, -1.8423243163e-03, -2.0771190727e-03],\n           [-1.2059175947e-03, -7.6128566222e-04, -4.0149679647e-04],\n           [-1.2390060549e-03, -1.4913062837e-03, -9.3057461128e-04]],\n \n          [[-5.9141787997e-03, -9.0391371628e-03, -6.6626912063e-03],\n           [-7.6564397649e-03, -6.6143995012e-03, -9.0712499066e-03],\n           [-6.9255595840e-03, -3.7371214077e-03, -9.3397129390e-03]]],\n \n \n         ...,\n \n \n         [[[-1.0581341042e-03, -1.1430130962e-03, -1.0830705746e-03],\n           [-1.0141606759e-03, -7.8297924429e-04, -1.0406132291e-03],\n           [-1.0512486542e-03, -8.8657865533e-04, -1.1906183361e-03]],\n \n          [[-5.0897037093e-03, -5.1368705170e-03, -4.2451243176e-03],\n           [-5.4069181052e-03, -6.1646029779e-03, -4.6250574169e-03],\n           [-4.9590450196e-03, -4.5654009903e-03, -5.0513536108e-03]],\n \n          [[-2.6128527612e-03, -3.1732170153e-03, -2.7635526451e-03],\n           [-2.4707249595e-03, -2.7973285326e-03, -2.4650546643e-03],\n           [-2.0437828746e-03, -2.4736941138e-03, -2.8469795665e-03]],\n \n          ...,\n \n          [[-1.7074231417e-03, -2.0393417022e-03, -1.9873638382e-03],\n           [-2.9493515350e-03, -3.6895927983e-03, -1.9861924912e-03],\n           [-2.8105862745e-03, -1.7816947222e-03, -1.9875107315e-03]],\n \n          [[-9.0415398712e-04, -8.5748385647e-04, -8.1000289072e-04],\n           [-7.1033246140e-04, -6.3218759235e-04, -1.0340640565e-03],\n           [-1.0977397715e-03, -6.9087252557e-04, -6.4038368558e-04]],\n \n          [[-2.1670653932e-03, -1.9623081508e-03, -2.3638243144e-03],\n           [-2.0444200341e-03, -1.1015933099e-03, -2.4006127182e-03],\n           [-2.0112670065e-03, -2.1741459468e-03, -1.9882604002e-03]]],\n \n \n         [[[ 3.8119788697e-03,  3.8580135932e-03,  4.6410472693e-03],\n           [ 5.2024106193e-03,  4.7395293325e-03,  5.0120791806e-03],\n           [ 4.0828793186e-03,  3.7316860519e-03,  4.1111269105e-03]],\n \n          [[ 2.6880323774e-02,  2.2832120724e-02,  2.2691361098e-02],\n           [ 2.3996689821e-02,  2.2605848499e-02,  2.3829518347e-02],\n           [ 2.1519429207e-02,  2.3097693640e-02,  2.2405426709e-02]],\n \n          [[ 1.0019307889e-02,  9.3218860595e-03,  8.0108630366e-03],\n           [ 1.0484553507e-02,  1.0259391475e-02,  9.5984158893e-03],\n           [ 1.1069711883e-02,  1.0650898845e-02,  1.0658901352e-02]],\n \n          ...,\n \n          [[ 7.4124105487e-03,  7.9043333157e-03,  9.1603193529e-03],\n           [ 5.0631307469e-03,  4.6536580474e-03,  5.1448751233e-03],\n           [ 9.5531533377e-03,  7.3676831095e-03,  9.7158792627e-03]],\n \n          [[ 2.6527913970e-03,  2.7321444962e-03,  3.0899663316e-03],\n           [ 3.6938240438e-03,  3.7868797100e-03,  3.4544679047e-03],\n           [ 2.8449724144e-03,  2.3833591580e-03,  2.5987599796e-03]],\n \n          [[ 1.0826587744e-02,  1.0340494022e-02,  9.8879611845e-03],\n           [ 1.0541640136e-02,  1.0117240048e-02,  9.3584234954e-03],\n           [ 1.0505760225e-02,  1.0844383689e-02,  8.8017023091e-03]]],\n \n \n         [[[-8.7307347351e-04, -2.1182974433e-04, -6.7129883542e-04],\n           [-9.1029448157e-04, -8.0904513267e-04, -6.7497998733e-04],\n           [-5.7323597592e-04, -7.5212900642e-04, -5.1874548032e-04]],\n \n          [[-3.9363219522e-03, -4.7548365780e-03, -5.2453957557e-03],\n           [-6.6176002078e-03, -8.9838373229e-03, -5.2230377189e-03],\n           [-3.3660786603e-03, -3.4657261467e-03, -6.9697008128e-04]],\n \n          [[-1.0621106119e-03, -1.0056522763e-03, -1.0537579810e-03],\n           [-1.1821205662e-03, -1.2224997805e-03, -1.5063312138e-03],\n           [-8.3341860876e-04, -9.3303947839e-04, -5.2975717240e-04]],\n \n          ...,\n \n          [[-1.1311957263e-03, -1.3999800805e-03, -9.8331248896e-04],\n           [-1.6039071057e-03, -1.3468137250e-03, -1.0404069331e-03],\n           [-1.0343228029e-03, -1.4632373298e-03, -5.6796161345e-04]],\n \n          [[-2.0404374051e-04, -2.4560501536e-04, -1.5332399949e-04],\n           [-4.2835110580e-04, -3.4386262243e-05, -5.6889482095e-04],\n           [-3.2551273008e-04, -5.8036640160e-04, -6.2795722392e-04]],\n \n          [[-8.2129555908e-04, -1.4712321700e-03, -1.5506920489e-03],\n           [-2.2533289401e-03, -2.2798450410e-03, -2.0917282567e-03],\n           [-8.7746541264e-04, -7.9617498351e-04, -1.9815547313e-03]]]],\n        device='cuda:0', dtype=torch.float64),\n tensor([[[[ 0.1084552851]],\n \n          [[ 0.0083166294]],\n \n          [[ 0.0100413447]],\n \n          ...,\n \n          [[ 0.0643653811]],\n \n          [[ 0.0130391253]],\n \n          [[ 0.0433188240]]],\n \n \n         [[[ 0.1202704925]],\n \n          [[ 0.0242114350]],\n \n          [[ 0.0217914387]],\n \n          ...,\n \n          [[ 0.0811846052]],\n \n          [[ 0.0442854695]],\n \n          [[ 0.0707501325]]],\n \n \n         [[[-0.0464641172]],\n \n          [[-0.0090695928]],\n \n          [[-0.0070526999]],\n \n          ...,\n \n          [[-0.0326703505]],\n \n          [[-0.0126480684]],\n \n          [[-0.0374007351]]],\n \n \n         ...,\n \n \n         [[[-0.0224350305]],\n \n          [[-0.0037401339]],\n \n          [[-0.0023147152]],\n \n          ...,\n \n          [[-0.0147889275]],\n \n          [[-0.0024955735]],\n \n          [[-0.0110098117]]],\n \n \n         [[[ 0.2804782402]],\n \n          [[ 0.0431185380]],\n \n          [[ 0.0360458064]],\n \n          ...,\n \n          [[ 0.1810863966]],\n \n          [[ 0.0411361879]],\n \n          [[ 0.1586891369]]],\n \n \n         [[[-0.0102730948]],\n \n          [[-0.0011598592]],\n \n          [[-0.0026380750]],\n \n          ...,\n \n          [[-0.0068903683]],\n \n          [[-0.0032533954]],\n \n          [[-0.0062063133]]]], device='cuda:0', dtype=torch.float64),\n tensor([[[[-5.6634038758e-02, -5.4067985482e-02, -5.9573112523e-02],\n           [-6.8582999904e-02, -4.4675540429e-02, -5.7403201943e-02],\n           [-5.9742733086e-02, -5.6733427310e-02, -6.4278109967e-02]],\n \n          [[-1.1083850124e-01, -1.1246472950e-01, -1.1186961587e-01],\n           [-1.0445580994e-01, -1.0927904073e-01, -1.1089026881e-01],\n           [-1.0871614025e-01, -1.0491418613e-01, -1.0193675179e-01]],\n \n          [[-4.5918045390e-02, -5.7186466590e-02, -5.6342211768e-02],\n           [-4.4926685488e-02, -4.6633894646e-02, -4.7670136391e-02],\n           [-5.2354416237e-02, -3.6746206551e-02, -3.7495842406e-02]],\n \n          ...,\n \n          [[-3.3022246517e-03, -3.2467069005e-03, -3.2885229229e-03],\n           [-3.3891376734e-03, -3.6220783110e-03, -3.6780903162e-03],\n           [-3.3380350253e-03, -3.6274398338e-03, -3.3256412194e-03]],\n \n          [[-1.6301021939e-02, -1.4669065351e-02, -1.5857475157e-02],\n           [-1.7360941943e-02, -1.7376149359e-02, -1.7534195839e-02],\n           [-1.4648137793e-02, -1.5336523711e-02, -1.8178556536e-02]],\n \n          [[-5.6814342273e-03, -6.1122738269e-03, -6.4233162522e-03],\n           [-4.0493724691e-03, -4.2744584614e-03, -5.9935750025e-03],\n           [-5.1517938680e-03, -6.1480329959e-03, -4.0905726517e-03]]],\n \n \n         [[[-2.8782511653e-02, -3.5549704537e-02, -1.3205921037e-02],\n           [-2.6452895909e-02, -2.4890909690e-02, -6.9767894582e-03],\n           [-1.6178009494e-02, -1.1227255143e-02, -1.2148667422e-02]],\n \n          [[-3.4840638545e-02, -3.5861601740e-02, -3.2041809023e-02],\n           [-3.1964999291e-02, -3.3031935544e-02, -3.4282856977e-02],\n           [-3.3676385769e-02, -3.6122193244e-02, -3.9956433689e-02]],\n \n          [[-1.8076456775e-02, -2.1342391324e-02, -2.1136664467e-02],\n           [-1.8141206632e-02, -1.9318517159e-02, -2.0683276984e-02],\n           [-1.6595264400e-02, -1.6382880476e-02, -1.8273637397e-02]],\n \n          ...,\n \n          [[-1.7028841943e-03, -2.1355147271e-03, -1.0913764831e-03],\n           [-2.1021832914e-03, -1.8910044553e-03, -1.0143937439e-03],\n           [-1.5025869552e-03, -1.5975050286e-03, -1.4246378806e-03]],\n \n          [[-5.7430219133e-03, -5.8276673983e-03, -4.5474665643e-03],\n           [-5.5082488599e-03, -5.3559702270e-03, -4.2783944182e-03],\n           [-5.7204019190e-03, -5.8979676542e-03, -5.5728748298e-03]],\n \n          [[-2.8070115367e-03, -2.9267123811e-03, -2.0501657682e-03],\n           [-2.7445583226e-03, -1.9983590973e-03, -1.9595583720e-03],\n           [-2.4703213986e-03, -2.0171171765e-03, -2.2484508972e-03]]],\n \n \n         [[[ 7.6457606816e-03,  9.7691649411e-03,  4.9362979572e-03],\n           [ 9.1333366301e-03,  6.6044863184e-03,  5.2693562825e-03],\n           [ 5.9717281988e-03,  7.7741374452e-03,  7.8379638451e-03]],\n \n          [[ 1.4918241062e-02,  1.3030918255e-02,  1.3400524464e-02],\n           [ 1.3911671697e-02,  1.3632306564e-02,  1.5176436768e-02],\n           [ 1.4409833916e-02,  1.4933627963e-02,  1.5236468224e-02]],\n \n          [[ 4.8729324408e-03,  8.2247248005e-03,  9.7223047575e-03],\n           [ 4.9437658280e-03,  9.7399220402e-03,  8.3914762528e-03],\n           [ 4.6959925996e-03,  6.7942670319e-03,  6.0799990827e-03]],\n \n          ...,\n \n          [[ 4.9822489326e-04,  3.3080210598e-04,  4.0916963876e-04],\n           [ 4.8616343178e-04,  2.3307173262e-04,  4.2623919645e-04],\n           [ 4.6606923859e-04,  4.9975686601e-04,  4.5492425646e-04]],\n \n          [[ 1.8489300277e-03,  2.1619405276e-03,  1.5242630930e-03],\n           [ 2.0295138675e-03,  2.3754435271e-03,  2.1267559055e-03],\n           [ 2.0122900736e-03,  2.1038788511e-03,  2.1577737165e-03]],\n \n          [[ 5.3531483391e-04,  7.4539793296e-04,  5.7592083992e-04],\n           [ 6.5166692592e-04,  7.5458246144e-04,  6.3286246686e-04],\n           [ 7.2526525611e-04,  1.0489743482e-03,  9.6873971149e-04]]],\n \n \n         ...,\n \n \n         [[[-3.2936705387e-03, -2.8976020341e-03, -5.2668953181e-03],\n           [-5.2868074816e-03, -2.1969881807e-03, -5.5967752944e-03],\n           [-4.2454225593e-03, -2.9371118380e-03, -3.9709492367e-03]],\n \n          [[-6.2039960007e-03, -6.9094882842e-03, -6.6789518301e-03],\n           [-7.1422300521e-03, -6.9188456388e-03, -6.4425958440e-03],\n           [-5.1203487522e-03, -4.8092676092e-03, -4.9484367238e-03]],\n \n          [[-2.4756657644e-03, -1.5984712082e-03, -2.4702648987e-03],\n           [-3.0869132167e-03, -2.3831196298e-03, -3.1516556223e-03],\n           [-1.7783710191e-03, -1.4755197763e-03, -2.1966827780e-03]],\n \n          ...,\n \n          [[-2.6266272138e-04, -4.7184036947e-04, -3.6305669566e-04],\n           [-5.4531558732e-04, -6.6396690454e-04, -7.6501286751e-04],\n           [-4.2936871737e-05, -2.2802298241e-04, -2.2654110870e-04]],\n \n          [[-9.7503553550e-04, -1.1096759332e-03, -8.7459777183e-04],\n           [-2.6329211846e-03, -2.2677034475e-03, -2.4189622742e-03],\n           [-1.0330710641e-03, -1.1202204235e-03, -8.1359711156e-04]],\n \n          [[-1.5387609479e-04, -1.8718148477e-04, -2.3340766654e-04],\n           [-5.0767926338e-04, -3.5043596247e-04, -3.1850099444e-04],\n           [-1.2852334505e-04, -6.1940785080e-05, -1.1534320886e-04]]],\n \n \n         [[[ 3.9085856246e-06, -1.1768608083e-05, -5.9667181427e-06],\n           [ 3.4403798632e-06,  3.0931592993e-05,  0.0000000000e+00],\n           [ 1.2650259053e-05,  9.3420915886e-06,  4.2318631839e-06]],\n \n          [[ 7.4129882188e-06,  2.5295397349e-06,  1.3340354118e-06],\n           [ 4.5483606039e-05,  2.0528077187e-05,  2.5222668915e-05],\n           [ 3.2391190926e-05,  2.5298721462e-05,  3.3753331733e-05]],\n \n          [[ 2.2521879641e-06, -2.9221052548e-06, -8.4932521025e-07],\n           [ 3.6866276935e-05, -1.6310072315e-06,  4.8490726294e-06],\n           [ 2.3974582749e-05,  1.8899615355e-07,  3.4188916661e-06]],\n \n          ...,\n \n          [[ 0.0000000000e+00, -3.7796226125e-07,  0.0000000000e+00],\n           [ 8.4636606775e-06,  4.1611022508e-06,  0.0000000000e+00],\n           [ 0.0000000000e+00,  0.0000000000e+00, -1.4062133191e-07]],\n \n          [[ 1.4813178967e-06, -8.6250526028e-06,  6.0166833239e-07],\n           [ 1.8891409580e-05,  2.3645815205e-05,  1.6047073208e-05],\n           [ 2.8213687383e-06, -1.8943428356e-06,  2.0694068179e-06]],\n \n          [[ 0.0000000000e+00,  0.0000000000e+00,  9.1570279826e-07],\n           [ 7.1323304494e-07,  0.0000000000e+00,  0.0000000000e+00],\n           [ 0.0000000000e+00,  0.0000000000e+00,  1.6479262608e-06]]],\n \n \n         [[[ 1.7563659391e-01,  1.7539334491e-01,  1.7507875906e-01],\n           [ 1.9102066968e-01,  1.3728600985e-01,  1.6828951494e-01],\n           [ 1.7067358910e-01,  1.7251089735e-01,  1.5298365339e-01]],\n \n          [[ 3.0661160132e-01,  2.9805107644e-01,  3.1159006281e-01],\n           [ 2.9910126990e-01,  2.9048634968e-01,  3.0470071385e-01],\n           [ 3.0377543082e-01,  3.0610957478e-01,  3.0248734744e-01]],\n \n          [[ 1.4772153189e-01,  1.4420796729e-01,  1.5724035630e-01],\n           [ 1.4473478563e-01,  1.4859995354e-01,  1.4637195311e-01],\n           [ 1.4881942897e-01,  1.5666511971e-01,  1.4139849148e-01]],\n \n          ...,\n \n          [[ 1.0034646171e-02,  1.0861233341e-02,  9.6425963011e-03],\n           [ 1.0503963211e-02,  1.0439031977e-02,  9.9273628227e-03],\n           [ 9.8460576241e-03,  1.0596082754e-02,  9.4626071134e-03]],\n \n          [[ 4.7532939367e-02,  4.7211909004e-02,  4.3936823736e-02],\n           [ 4.7049008073e-02,  4.9297411307e-02,  4.8579885381e-02],\n           [ 4.6649460935e-02,  4.9095119113e-02,  5.0019513546e-02]],\n \n          [[ 1.6865258242e-02,  1.7616242194e-02,  1.7142612791e-02],\n           [ 1.9074009563e-02,  1.7645895209e-02,  1.7514278632e-02],\n           [ 1.7722645085e-02,  1.9263791736e-02,  1.8775309618e-02]]]],\n        device='cuda:0', dtype=torch.float64),\n tensor([[[[ 3.7571676368e-04,  3.5310140431e-04,  5.2080499277e-05],\n           [ 6.8621548653e-04,  3.1206005991e-04,  3.1915678755e-04],\n           [ 9.3551191484e-04,  9.6491764326e-04,  1.1724732950e-03]],\n \n          [[ 6.8280487736e-04,  1.2043174429e-03,  4.3629095889e-04],\n           [ 3.8413355691e-04, -6.2257759832e-04, -7.1642281559e-04],\n           [ 5.2068367599e-04, -1.5226418795e-03, -1.4753719716e-03]],\n \n          [[ 7.9036225798e-06, -1.5861838414e-05,  6.1766306527e-05],\n           [ 5.1160513873e-07, -1.0313467784e-05,  1.4556780636e-05],\n           [ 8.5299726578e-06,  3.8383231042e-06, -1.2964903030e-05]],\n \n          ...,\n \n          [[ 7.2647481867e-05, -3.1515264539e-04, -5.2281830284e-04],\n           [ 3.2974431267e-04,  6.2871522567e-05, -7.1434642030e-05],\n           [ 4.1693752431e-04,  2.1867853970e-04,  8.0738013169e-05]],\n \n          [[-3.1134439479e-07, -4.3769351694e-07,  4.1533270180e-07],\n           [ 0.0000000000e+00,  2.0504349491e-06, -5.8051549294e-07],\n           [-1.4669104356e-06, -2.0486876190e-06,  1.6078801152e-08]],\n \n          [[ 2.5476862200e-03,  3.7366909739e-03,  3.1420171013e-03],\n           [ 5.0157610347e-03,  1.9438078013e-03,  5.5579864803e-03],\n           [ 2.1130490718e-03,  3.5837428516e-03,  2.8137121967e-03]]],\n \n \n         [[[-7.7105978258e-03, -8.9005699877e-03, -9.0380471924e-03],\n           [-1.0253060912e-02, -1.0559650384e-02, -9.1932477633e-03],\n           [-1.0253539583e-02, -1.0743402103e-02, -1.0031507362e-02]],\n \n          [[-1.7095669831e-02, -1.6108212488e-02, -1.4769151314e-02],\n           [-1.5914209881e-02, -1.6863897921e-02, -1.5406891188e-02],\n           [-1.4683490517e-02, -1.6929421713e-02, -1.6262383810e-02]],\n \n          [[-4.5589522204e-04, -4.1285999875e-04, -3.6524331941e-04],\n           [-4.6745649890e-04, -4.0480820591e-04, -3.5756523920e-04],\n           [-3.6806769066e-04, -3.6345308136e-04, -4.3979538701e-04]],\n \n          ...,\n \n          [[-2.9653116086e-03, -3.1640234866e-03, -3.2163496782e-03],\n           [-3.8380491859e-03, -3.7629057122e-03, -3.5216860959e-03],\n           [-4.0046992569e-03, -3.8532522112e-03, -3.9467734566e-03]],\n \n          [[ 5.4896462370e-07, -5.6441538248e-08,  4.5133044140e-07],\n           [-1.5288351980e-06, -4.2713202715e-06, -2.4138224307e-06],\n           [ 7.1775721702e-07,  8.0691849010e-07, -4.1224224357e-08]],\n \n          [[-5.6781229358e-02, -6.4387380688e-02, -6.2804357613e-02],\n           [-6.3179386122e-02, -6.1095326637e-02, -6.4375459675e-02],\n           [-6.3732369678e-02, -6.0555474203e-02, -6.4337771591e-02]]],\n \n \n         [[[-7.5926440878e-04, -6.8870894849e-04, -1.9548423113e-03],\n           [-1.6463598371e-03, -1.8060822680e-03, -1.7629668449e-03],\n           [-2.6331199665e-03, -2.5937769915e-03, -1.1946645946e-03]],\n \n          [[-3.1699940395e-03, -3.4581504854e-03, -3.8754053647e-03],\n           [-4.2997939901e-03, -4.4564113425e-03, -3.9015115817e-03],\n           [-4.8787853434e-03, -5.4592910528e-03, -3.7853063984e-03]],\n \n          [[-1.1362166905e-04, -2.5669013128e-04, -1.2216433246e-04],\n           [-1.5930010883e-04, -4.1690222306e-04, -9.2588064449e-05],\n           [-2.5301925953e-04, -3.7193570971e-04, -3.5975936786e-05]],\n \n          ...,\n \n          [[-5.8463370312e-04, -4.7484957144e-04, -5.8621783625e-04],\n           [-2.7884926369e-04, -3.8961245481e-04, -9.0207065721e-04],\n           [-2.2030933677e-04, -1.5385054025e-04, -6.8117723423e-04]],\n \n          [[ 0.0000000000e+00,  0.0000000000e+00, -1.0900899064e-06],\n           [-1.1296997012e-07,  0.0000000000e+00, -2.1702745189e-06],\n           [-3.9517757369e-06,  0.0000000000e+00,  0.0000000000e+00]],\n \n          [[-9.9669010433e-03, -1.2781110318e-02, -1.1277215917e-02],\n           [-9.8673789907e-03, -1.0053689447e-02, -1.0056289044e-02],\n           [-1.1947335387e-02, -8.5397318823e-03, -9.5407407600e-03]]],\n \n \n         ...,\n \n \n         [[[-1.0702995083e-04, -1.4208407615e-04, -1.3574822305e-05],\n           [-6.6915589371e-05, -1.0930047278e-04, -9.8777271975e-05],\n           [-2.5065256992e-05, -1.5032691970e-04, -9.4654695080e-05]],\n \n          [[-3.5144344972e-04, -1.8183649601e-04, -2.5998817149e-04],\n           [-5.4229353236e-05, -1.2271866390e-04, -2.1292382703e-04],\n           [-5.6643968944e-05, -6.7455999457e-05, -3.5471580113e-04]],\n \n          [[-2.8314275044e-05, -1.4315583269e-05, -1.9799647109e-05],\n           [-6.7985936463e-08,  3.7694230771e-06, -2.2697160849e-05],\n           [-3.9989475910e-06,  6.4861647666e-06, -2.4984432299e-06]],\n \n          ...,\n \n          [[-5.0816130499e-05, -6.6057244401e-05, -1.6734289670e-04],\n           [-5.3683634776e-05, -7.4009099581e-05,  4.9590347535e-05],\n           [-5.3407816754e-05, -7.0798298225e-06, -4.5445632906e-05]],\n \n          [[ 0.0000000000e+00,  0.0000000000e+00,  0.0000000000e+00],\n           [ 0.0000000000e+00, -2.1633803599e-07,  3.4109291987e-07],\n           [ 0.0000000000e+00, -4.6500934424e-08,  0.0000000000e+00]],\n \n          [[-7.5599897797e-04, -5.0572740118e-04, -8.4512917969e-04],\n           [-3.6907063060e-04, -5.8009788482e-04, -3.8222055444e-04],\n           [-4.8394153416e-04, -3.7595256898e-04, -4.8878917129e-04]]],\n \n \n         [[[ 4.1728248825e-03,  4.3636875357e-03,  4.4180266287e-03],\n           [ 4.3457926240e-03,  4.3579931860e-03,  4.4565306940e-03],\n           [ 3.7600937613e-03,  3.9491055962e-03,  4.3319732925e-03]],\n \n          [[ 7.2642427593e-03,  6.7681336403e-03,  7.6111054580e-03],\n           [ 7.0848886106e-03,  6.4357648298e-03,  7.8144571262e-03],\n           [ 7.2409231628e-03,  7.2227073507e-03,  8.3698765721e-03]],\n \n          [[ 1.4960948103e-04,  1.0100124885e-04,  1.0677391930e-04],\n           [ 1.1867075414e-04,  9.2811380280e-05,  1.5730445543e-04],\n           [ 1.3997888597e-04,  1.4074230366e-04,  1.7113595730e-04]],\n \n          ...,\n \n          [[ 1.3122436088e-03,  1.0952692627e-03,  1.1215726651e-03],\n           [ 1.4307847806e-03,  1.4730267475e-03,  1.2137338971e-03],\n           [ 1.5621441947e-03,  1.5079357145e-03,  1.4199641426e-03]],\n \n          [[-1.9275353171e-06, -2.8255317257e-07, -6.2852396375e-07],\n           [-1.7839865180e-06, -1.7643750880e-06, -2.2555820277e-06],\n           [-5.8158064128e-08, -5.2137476147e-07, -7.7409407841e-08]],\n \n          [[ 2.5982529353e-02,  2.5588964027e-02,  2.6153765699e-02],\n           [ 2.1829573842e-02,  2.2116234883e-02,  2.2180997608e-02],\n           [ 2.3689071567e-02,  2.2900552535e-02,  2.3460818416e-02]]],\n \n \n         [[[ 2.5760421090e-03,  2.9945967159e-03,  2.5452995802e-03],\n           [ 2.1545892449e-03,  1.4396560722e-03,  1.6476218902e-03],\n           [ 2.6386005543e-03,  2.9519859008e-03,  2.1875004047e-03]],\n \n          [[ 5.8949583376e-03,  4.6869532153e-03,  4.1465320945e-03],\n           [ 5.8965735218e-03,  4.2333633614e-03,  5.3246553170e-03],\n           [ 5.3463798151e-03,  5.4879378727e-03,  6.0758092875e-03]],\n \n          [[ 1.3436576802e-04,  1.1716191478e-04,  9.3757533881e-05],\n           [-3.2883541605e-05,  7.6638031180e-05,  1.2063399623e-04],\n           [ 2.6758949400e-05,  1.2399154965e-04,  1.3629459260e-04]],\n \n          ...,\n \n          [[ 8.0942486807e-04,  9.9207071670e-04,  8.7241482650e-04],\n           [ 8.7257938639e-04,  9.7434685435e-04,  7.3305519408e-04],\n           [ 1.4825653696e-03,  1.0878044788e-03,  7.3023533543e-04]],\n \n          [[ 0.0000000000e+00,  0.0000000000e+00,  3.0941189143e-07],\n           [ 0.0000000000e+00,  0.0000000000e+00, -6.0558153748e-07],\n           [ 3.0615148662e-06, -7.6525489251e-07,  0.0000000000e+00]],\n \n          [[ 1.7852297968e-02,  1.9373764069e-02,  1.9468804702e-02],\n           [ 1.7689760496e-02,  2.1125233058e-02,  2.0192641225e-02],\n           [ 1.9442769207e-02,  1.9552567382e-02,  1.8424641184e-02]]]],\n        device='cuda:0', dtype=torch.float64),\n tensor([[[[-1.8602608898e-02, -1.7325271413e-02, -1.8157855714e-02],\n           [-1.8916167119e-02, -1.8999357027e-02, -1.7652797193e-02],\n           [-1.8906584640e-02, -1.8991938479e-02, -1.8275120150e-02]],\n \n          [[-2.0417713837e-02, -2.0308765546e-02, -2.1559754944e-02],\n           [-2.1116233753e-02, -2.0797588758e-02, -2.0801424750e-02],\n           [-2.0878269738e-02, -1.9853971060e-02, -2.0628701970e-02]],\n \n          [[-5.0035756639e-03, -5.9578519466e-03, -5.5798434595e-03],\n           [-5.3531524041e-03, -5.4822320974e-03, -4.9484269483e-03],\n           [-4.9148645347e-03, -4.2745737087e-03, -4.7093672339e-03]],\n \n          ...,\n \n          [[-8.5258722114e-04, -9.2873207564e-04, -9.9079411622e-04],\n           [-9.1825911078e-04, -1.0657547826e-03, -9.8658538414e-04],\n           [-1.0616487336e-03, -1.0491284703e-03, -1.1516227195e-03]],\n \n          [[-3.1070808133e-02, -3.0120063497e-02, -2.9823212552e-02],\n           [-3.0878926944e-02, -2.9448171111e-02, -2.9664091339e-02],\n           [-3.0188344673e-02, -2.9364096384e-02, -2.9735756631e-02]],\n \n          [[-1.0435578060e-02, -1.1320745181e-02, -9.4707094301e-03],\n           [-9.4712806257e-03, -9.3183662347e-03, -8.0234239931e-03],\n           [-6.1845984783e-03, -5.6035978546e-03, -5.0409276813e-03]]],\n \n \n         [[[-1.5766572067e-02, -1.6495874567e-02, -1.6790789246e-02],\n           [-1.8536296754e-02, -1.7167089250e-02, -1.9312669077e-02],\n           [-1.8689121332e-02, -1.8364255767e-02, -1.8672961316e-02]],\n \n          [[-2.1133637180e-02, -2.2128620239e-02, -2.2329968333e-02],\n           [-2.2574659525e-02, -2.4375531203e-02, -2.4627508664e-02],\n           [-2.2523660774e-02, -2.2882865868e-02, -2.3042624760e-02]],\n \n          [[-4.3730621673e-03, -4.7904491552e-03, -4.5940372225e-03],\n           [-5.0257740849e-03, -5.5492642953e-03, -5.0243032286e-03],\n           [-4.8755592143e-03, -4.9987493765e-03, -4.6948027010e-03]],\n \n          ...,\n \n          [[-9.6761932017e-04, -1.0655418979e-03, -9.7957490338e-04],\n           [-9.9113010623e-04, -1.1349220860e-03, -9.5782078313e-04],\n           [-1.1068454625e-03, -1.2149704126e-03, -9.7365517391e-04]],\n \n          [[-3.2154025268e-02, -3.2286229419e-02, -3.2598154906e-02],\n           [-3.2077578741e-02, -3.2548990854e-02, -3.2735321172e-02],\n           [-3.1434088349e-02, -3.1946540962e-02, -3.2604877576e-02]],\n \n          [[-6.8920831596e-03, -7.4178873120e-03, -6.8521631765e-03],\n           [-7.7333742390e-03, -8.0859934447e-03, -7.0937026641e-03],\n           [-6.9646096903e-03, -8.1724433789e-03, -6.2636321447e-03]]],\n \n \n         [[[-2.9679212392e-02, -3.2961702955e-02, -3.0078592734e-02],\n           [-2.6970526672e-02, -3.4204048985e-02, -2.9978865265e-02],\n           [-2.7991474608e-02, -2.9491494385e-02, -2.9669452641e-02]],\n \n          [[-3.6430792494e-02, -3.6781136969e-02, -3.4962998573e-02],\n           [-3.5181545418e-02, -3.6205881517e-02, -3.4930866204e-02],\n           [-3.5602386348e-02, -3.4776578516e-02, -3.6466281643e-02]],\n \n          [[-7.0939346762e-03, -8.5125549521e-03, -8.3918373993e-03],\n           [-6.9315572624e-03, -8.4180865354e-03, -8.5114211872e-03],\n           [-7.1553844650e-03, -8.0387726289e-03, -7.9310731143e-03]],\n \n          ...,\n \n          [[-2.3619134328e-03, -2.8378197039e-03, -2.2536892467e-03],\n           [-1.8411504896e-03, -2.6059358151e-03, -2.1577415797e-03],\n           [-1.6471676655e-03, -1.8546416646e-03, -1.6558795534e-03]],\n \n          [[-5.0711902442e-02, -4.9756150186e-02, -4.9975316970e-02],\n           [-4.6631519847e-02, -4.7958365299e-02, -4.8521528702e-02],\n           [-5.1570478769e-02, -5.2841419947e-02, -5.3917280277e-02]],\n \n          [[-1.2704436076e-02, -1.2477711454e-02, -1.1326786851e-02],\n           [-1.0735411139e-02, -1.1012356595e-02, -1.2539831339e-02],\n           [-9.9630588957e-03, -1.1086251449e-02, -1.2330594391e-02]]],\n \n \n         ...,\n \n \n         [[[-3.8835392199e-05, -7.0747597284e-05, -4.9860119034e-05],\n           [-5.0704454962e-05, -1.4881883332e-04, -1.2133066967e-04],\n           [-1.3883102979e-04, -4.5330332639e-05, -1.3716826625e-04]],\n \n          [[-7.0117362147e-05, -1.4997758157e-04, -1.1427441559e-04],\n           [-9.5408168688e-05, -1.2075167187e-04, -1.8670034544e-04],\n           [-5.5690224935e-05, -4.5031456301e-05, -1.6319716315e-04]],\n \n          [[-3.2272726284e-05, -2.6205573599e-05, -2.3526330046e-05],\n           [-2.4170684096e-07, -3.7262863094e-05, -1.5018992266e-05],\n           [-1.9851841607e-05, -9.5239795896e-06, -7.5215291659e-06]],\n \n          ...,\n \n          [[ 0.0000000000e+00, -1.6364566008e-05,  0.0000000000e+00],\n           [-8.3999597290e-06, -1.5033786341e-05, -4.4693537073e-07],\n           [-2.8605051080e-06, -1.6230376069e-05, -9.8878525073e-06]],\n \n          [[-1.0910365786e-04, -8.1235249637e-05, -8.8043103798e-05],\n           [-1.0187591352e-04, -8.7295957679e-05, -8.3230796177e-05],\n           [-1.3467605270e-04, -1.0082604109e-04, -1.1677654407e-04]],\n \n          [[-2.5069451217e-05, -9.1047749101e-06, -1.9309615343e-05],\n           [-5.1025456835e-05, -1.3748915787e-05, -4.4646785942e-05],\n           [-4.7741268949e-05, -3.4434057532e-05, -5.8365969540e-05]]],\n \n \n         [[[-1.2991651510e-02, -1.5409130595e-02, -1.5164230386e-02],\n           [-1.0400952662e-02, -1.6699422171e-02, -1.5103126755e-02],\n           [-1.2836663382e-02, -1.6587906098e-02, -1.6165787712e-02]],\n \n          [[-1.3220773225e-02, -1.4676470992e-02, -1.4522989748e-02],\n           [-1.2383167220e-02, -1.5249294117e-02, -1.3991712596e-02],\n           [-1.3110733624e-02, -1.4905042972e-02, -1.4505070378e-02]],\n \n          [[-2.6935045497e-03, -2.9552793032e-03, -2.9096351621e-03],\n           [-2.4935464875e-03, -2.7404936158e-03, -2.5065170204e-03],\n           [-2.5164858132e-03, -2.4952449998e-03, -2.4510770175e-03]],\n \n          ...,\n \n          [[-7.6697151228e-04, -7.4588866938e-04, -5.1719238759e-04],\n           [-5.3377586916e-04, -5.3349309779e-04, -4.3509226990e-04],\n           [-6.4227074575e-04, -6.7957029457e-04, -5.9133230332e-04]],\n \n          [[-2.1839088044e-02, -2.1953706350e-02, -2.2390992550e-02],\n           [-1.8971596102e-02, -1.8981516235e-02, -1.9996188989e-02],\n           [-2.0198269443e-02, -2.0868583461e-02, -2.0959792766e-02]],\n \n          [[-3.3381951025e-03, -4.9306366241e-03, -4.7503579173e-03],\n           [-3.9979366102e-03, -5.1959647322e-03, -4.7020326377e-03],\n           [-3.6631102252e-03, -4.4753213821e-03, -4.3683744381e-03]]],\n \n \n         [[[ 3.0535726939e-02,  2.9765038327e-02,  3.1222442503e-02],\n           [ 2.6872559893e-02,  2.9833564959e-02,  2.3389691035e-02],\n           [ 3.0761548124e-02,  2.7347026457e-02,  3.0903546731e-02]],\n \n          [[ 2.9566786269e-02,  3.0032484514e-02,  3.0340174282e-02],\n           [ 2.7933303682e-02,  2.7846100563e-02,  2.8947010311e-02],\n           [ 2.9511447649e-02,  2.9044284262e-02,  3.1048792953e-02]],\n \n          [[ 9.5442435825e-03,  1.0985262886e-02,  1.0377481126e-02],\n           [ 9.9458802428e-03,  1.2046329116e-02,  1.0263575305e-02],\n           [ 9.0718377702e-03,  1.1145581426e-02,  9.3780755442e-03]],\n \n          ...,\n \n          [[ 1.5244067102e-03,  1.8186480556e-03,  1.9753448249e-03],\n           [ 1.3561925909e-03,  2.1794673883e-03,  1.5049818758e-03],\n           [ 1.3662595958e-03,  1.5306656373e-03,  1.9086067169e-03]],\n \n          [[ 4.4799370192e-02,  4.2311927656e-02,  4.3546638974e-02],\n           [ 4.2500998166e-02,  4.0093503876e-02,  4.0719133527e-02],\n           [ 4.2723782804e-02,  4.0519211934e-02,  4.2775413637e-02]],\n \n          [[ 1.4257955813e-02,  1.5300769443e-02,  1.3426844911e-02],\n           [ 1.3704020794e-02,  1.4438682771e-02,  1.2635360739e-02],\n           [ 1.0937165486e-02,  1.0933960308e-02,  1.1049195960e-02]]]],\n        device='cuda:0', dtype=torch.float64),\n tensor([[[[ 2.9722592900e-02,  2.9700596491e-02,  2.9333887164e-02],\n           [ 2.8656778388e-02,  3.0587808015e-02,  3.2197019581e-02],\n           [ 2.8945838204e-02,  3.1179616707e-02,  3.2603538830e-02]],\n \n          [[ 4.4326408101e-02,  4.3743018154e-02,  4.4063779201e-02],\n           [ 4.4989948899e-02,  4.5041506354e-02,  4.6726630708e-02],\n           [ 4.5585544557e-02,  4.7634469385e-02,  4.4384372754e-02]],\n \n          [[ 2.5830091633e-02,  2.7474288595e-02,  2.6019523684e-02],\n           [ 2.8663053824e-02,  3.2930153393e-02,  2.9200926361e-02],\n           [ 2.8876893752e-02,  3.4807279976e-02,  3.0150348734e-02]],\n \n          ...,\n \n          [[ 3.9333371212e-05,  1.3915769176e-05, -1.4927720257e-05],\n           [ 3.7876063549e-05,  6.8128181864e-05,  5.0224658741e-05],\n           [ 3.1490351031e-05,  4.6154819161e-05,  3.4029765488e-05]],\n \n          [[ 5.6504045141e-02,  5.6107580935e-02,  5.3558577999e-02],\n           [ 5.6462463198e-02,  5.7535449250e-02,  5.4092236793e-02],\n           [ 5.4830521001e-02,  5.5637907352e-02,  5.1908683938e-02]],\n \n          [[ 2.0529776690e-01,  2.0174739087e-01,  2.0854201424e-01],\n           [ 2.0246795102e-01,  1.9548139050e-01,  2.0413765477e-01],\n           [ 2.0057470534e-01,  1.9659396588e-01,  2.0217357597e-01]]],\n \n \n         [[[ 8.1802562784e-03,  8.4274553024e-03,  8.6684819495e-03],\n           [ 8.3854736627e-03,  8.2478934171e-03,  7.8260005040e-03],\n           [ 8.0018623667e-03,  7.2487368147e-03,  6.8502694014e-03]],\n \n          [[ 1.1485223785e-02,  1.1971166321e-02,  1.1911657473e-02],\n           [ 1.1580194282e-02,  1.2896919767e-02,  1.1872903481e-02],\n           [ 1.2157661688e-02,  1.2896025078e-02,  1.2934168567e-02]],\n \n          [[ 7.3802211479e-03,  6.7079144776e-03,  7.5112458611e-03],\n           [ 4.8416973434e-03,  3.3237811858e-03,  5.6311429752e-03],\n           [ 6.4184835101e-03,  5.3779604416e-03,  6.2705932029e-03]],\n \n          ...,\n \n          [[ 3.3993124518e-06, -4.1173001018e-06,  9.8147329471e-06],\n           [-2.0549974820e-06, -7.4649109992e-06,  9.3786790322e-06],\n           [ 1.0066978318e-05,  3.3558017649e-06,  1.2738013836e-05]],\n \n          [[ 1.4257894329e-02,  1.6574946429e-02,  1.5692921712e-02],\n           [ 1.5152242867e-02,  1.8473707886e-02,  1.7037123574e-02],\n           [ 1.5480912832e-02,  1.7195360646e-02,  1.6368259468e-02]],\n \n          [[ 5.7341497157e-02,  5.9340289175e-02,  5.5541598550e-02],\n           [ 5.8333185001e-02,  5.9431842981e-02,  5.5681155622e-02],\n           [ 5.5578917402e-02,  5.6929962443e-02,  5.5790549827e-02]]],\n \n \n         [[[ 0.0000000000e+00,  0.0000000000e+00,  0.0000000000e+00],\n           [ 0.0000000000e+00,  0.0000000000e+00,  0.0000000000e+00],\n           [ 0.0000000000e+00,  0.0000000000e+00,  0.0000000000e+00]],\n \n          [[ 0.0000000000e+00,  0.0000000000e+00,  0.0000000000e+00],\n           [ 0.0000000000e+00,  0.0000000000e+00,  0.0000000000e+00],\n           [ 0.0000000000e+00,  0.0000000000e+00,  0.0000000000e+00]],\n \n          [[ 0.0000000000e+00,  0.0000000000e+00,  0.0000000000e+00],\n           [ 0.0000000000e+00,  0.0000000000e+00,  0.0000000000e+00],\n           [ 0.0000000000e+00,  0.0000000000e+00,  0.0000000000e+00]],\n \n          ...,\n \n          [[ 0.0000000000e+00,  0.0000000000e+00,  0.0000000000e+00],\n           [ 0.0000000000e+00,  0.0000000000e+00,  0.0000000000e+00],\n           [ 0.0000000000e+00,  0.0000000000e+00,  0.0000000000e+00]],\n \n          [[ 0.0000000000e+00,  0.0000000000e+00,  0.0000000000e+00],\n           [ 0.0000000000e+00,  0.0000000000e+00,  0.0000000000e+00],\n           [ 0.0000000000e+00,  0.0000000000e+00,  0.0000000000e+00]],\n \n          [[ 0.0000000000e+00,  0.0000000000e+00,  0.0000000000e+00],\n           [ 0.0000000000e+00,  0.0000000000e+00,  0.0000000000e+00],\n           [ 0.0000000000e+00,  0.0000000000e+00,  0.0000000000e+00]]],\n \n \n         ...,\n \n \n         [[[ 1.3411888860e-02,  1.3373859768e-02,  1.1963840456e-02],\n           [ 1.4737797482e-02,  1.4894068603e-02,  1.2264180858e-02],\n           [ 1.4176816816e-02,  1.5968179295e-02,  1.5007496666e-02]],\n \n          [[ 1.8825791174e-02,  1.5856384123e-02,  1.6705554881e-02],\n           [ 2.0240176315e-02,  2.1478846522e-02,  2.0102890323e-02],\n           [ 2.1212112013e-02,  2.2808831164e-02,  2.1878313836e-02]],\n \n          [[ 1.0468999156e-02,  9.0746851833e-03,  9.2185932564e-03],\n           [ 9.8970966363e-03,  1.1751752810e-02,  9.8890082563e-03],\n           [ 1.2905360112e-02,  1.7606690725e-02,  1.3736834901e-02]],\n \n          ...,\n \n          [[ 3.1629538509e-05, -4.7956424589e-05,  1.2630204838e-05],\n           [ 2.2153506586e-05,  1.8371010273e-05,  7.8915892901e-06],\n           [ 3.2658207745e-05,  2.4833343020e-05,  1.8006595210e-05]],\n \n          [[ 2.5001456968e-02,  2.2664157850e-02,  2.4360346728e-02],\n           [ 2.5182710379e-02,  2.3099376918e-02,  2.1970152947e-02],\n           [ 2.7823905073e-02,  2.7213684030e-02,  2.4073948785e-02]],\n \n          [[ 9.5609152927e-02,  9.2126649168e-02,  9.8182325996e-02],\n           [ 9.2102459150e-02,  8.6135916355e-02,  9.5185627525e-02],\n           [ 9.3358097240e-02,  8.6723451742e-02,  9.3757188898e-02]]],\n \n \n         [[[-1.8544513420e-03, -2.2923260587e-03, -2.3112758764e-03],\n           [-1.7242591429e-03, -2.3187900602e-03, -2.1676495682e-03],\n           [-1.7373868433e-03, -2.0359663708e-03, -1.7615193324e-03]],\n \n          [[-3.0614474307e-03, -5.7969963015e-03, -4.1308334400e-03],\n           [-2.7534385351e-03, -4.3246067266e-03, -2.7162725929e-03],\n           [-2.5353817312e-03, -2.6708356971e-03, -2.3267763759e-03]],\n \n          [[-1.5682405929e-03, -3.8875019008e-03, -2.3033136814e-03],\n           [-7.4298192184e-04, -2.6543436479e-03, -1.5170052882e-03],\n           [-1.8078522937e-03, -1.5570152665e-03, -1.1403002488e-03]],\n \n          ...,\n \n          [[-9.2459069094e-07, -1.0821498482e-05, -3.6500558678e-06],\n           [ 0.0000000000e+00, -5.8680168893e-07, -1.2290835740e-06],\n           [-1.4357592582e-06, -1.2771380083e-07,  1.0523243729e-10]],\n \n          [[-4.2694888082e-03, -6.9103259177e-03, -4.4294484246e-03],\n           [-2.4978522134e-03, -4.9859787665e-03, -3.1352213258e-03],\n           [-3.2953971248e-03, -3.4115063922e-03, -3.2604589074e-03]],\n \n          [[-1.4528104262e-02, -1.3910982757e-02, -1.3980268642e-02],\n           [-1.3096617178e-02, -1.5039976221e-02, -1.3391681108e-02],\n           [-1.3981847511e-02, -1.6376720972e-02, -1.4738460803e-02]]],\n \n \n         [[[-1.2668998649e-05, -1.4599384762e-05, -4.6316108437e-05],\n           [-3.3177721355e-05, -1.4242605554e-05, -2.3704555300e-05],\n           [-3.5843954307e-05, -1.2940702341e-05, -1.6448273557e-05]],\n \n          [[-4.3975337875e-05, -2.8951566092e-05, -6.8162293492e-05],\n           [-6.1848054099e-05, -2.4002080854e-05, -5.2202780897e-05],\n           [-5.6386681323e-05, -4.3949196879e-05, -8.2544406531e-05]],\n \n          [[-8.4495156188e-05, -9.6632734093e-06, -3.1629216449e-05],\n           [-1.8622615120e-05, -4.0383493491e-05, -1.1094646187e-04],\n           [-2.4034572517e-05, -4.5360943855e-05,  1.5550787188e-06]],\n \n          ...,\n \n          [[ 0.0000000000e+00,  0.0000000000e+00,  0.0000000000e+00],\n           [ 0.0000000000e+00,  0.0000000000e+00,  0.0000000000e+00],\n           [ 0.0000000000e+00,  0.0000000000e+00,  0.0000000000e+00]],\n \n          [[-4.8687622253e-05, -6.2365616352e-05, -1.0649567994e-04],\n           [-3.4002138044e-05, -3.8255659770e-05, -9.0180962063e-06],\n           [-1.9126609875e-05, -5.3787816666e-05, -1.8991287621e-06]],\n \n          [[-1.3114468169e-04, -1.3974203661e-04, -1.3258639287e-04],\n           [-5.4950225023e-05, -6.4619916034e-05, -1.0445292149e-04],\n           [-8.2982413029e-05, -1.1212334718e-04, -1.1774877345e-04]]]],\n        device='cuda:0', dtype=torch.float64),\n tensor([[[[ 4.5613518478e-02]],\n \n          [[ 5.2566882967e-02]],\n \n          [[ 1.2057058940e-02]],\n \n          ...,\n \n          [[ 2.6164683521e-03]],\n \n          [[ 7.3978782650e-02]],\n \n          [[ 1.8361595267e-02]]],\n \n \n         [[[ 1.6285138828e-02]],\n \n          [[ 1.8843456542e-02]],\n \n          [[ 2.7359723812e-03]],\n \n          ...,\n \n          [[ 3.5072916083e-04]],\n \n          [[ 2.5546521835e-02]],\n \n          [[ 4.0147596367e-03]]],\n \n \n         [[[ 0.0000000000e+00]],\n \n          [[ 0.0000000000e+00]],\n \n          [[ 0.0000000000e+00]],\n \n          ...,\n \n          [[ 0.0000000000e+00]],\n \n          [[ 0.0000000000e+00]],\n \n          [[ 0.0000000000e+00]]],\n \n \n         ...,\n \n \n         [[[ 1.9411483159e-02]],\n \n          [[ 2.7241620021e-02]],\n \n          [[ 6.3410134696e-03]],\n \n          ...,\n \n          [[ 1.5276651002e-03]],\n \n          [[ 3.5916636546e-02]],\n \n          [[ 1.1706259244e-02]]],\n \n \n         [[[-3.5498438017e-03]],\n \n          [[-4.1340203564e-03]],\n \n          [[-8.4426836045e-04]],\n \n          ...,\n \n          [[-2.7371591302e-04]],\n \n          [[-6.1786497040e-03]],\n \n          [[-1.2420901392e-03]]],\n \n \n         [[[-8.3575746231e-05]],\n \n          [[-9.9824707254e-05]],\n \n          [[-2.4555778848e-05]],\n \n          ...,\n \n          [[-4.7953375604e-05]],\n \n          [[-8.9621319075e-05]],\n \n          [[-2.3595576718e-05]]]], device='cuda:0', dtype=torch.float64),\n tensor([[[[-1.2996389135e-04, -1.9102659286e-03, -6.0805474592e-04],\n           [ 1.6447445485e-03,  1.7324996992e-03,  1.5324291027e-03],\n           [ 7.8424426550e-03,  9.4880813752e-03,  7.6351305846e-03]],\n \n          [[ 4.7233172724e-03,  4.8712126339e-03,  4.0040067285e-03],\n           [ 2.9379893148e-03,  3.1556940155e-03,  2.9516375596e-03],\n           [ 2.7743466518e-03,  2.6046824979e-03,  3.0888496995e-03]],\n \n          [[ 0.0000000000e+00,  0.0000000000e+00,  0.0000000000e+00],\n           [ 0.0000000000e+00,  0.0000000000e+00,  0.0000000000e+00],\n           [ 0.0000000000e+00,  0.0000000000e+00,  0.0000000000e+00]],\n \n          ...,\n \n          [[ 6.7690964296e-04, -6.4858875710e-04, -5.2840978687e-04],\n           [ 4.4208202727e-03,  4.8496300810e-03,  3.3417434744e-03],\n           [ 7.4079587270e-03,  9.2453056878e-03,  7.8512692403e-03]],\n \n          [[ 2.1226110783e-04,  1.5429985205e-04,  1.6982534540e-04],\n           [-1.9802732517e-04, -2.0516583556e-04, -2.6791342162e-04],\n           [ 1.1146763104e-04,  1.3956442551e-04,  1.0760406845e-04]],\n \n          [[ 1.1361968561e-06,  6.3018383174e-06,  2.2201424892e-06],\n           [ 1.5877093068e-06,  2.2186612495e-06,  4.0589600583e-06],\n           [ 5.6911205268e-07,  4.2004404878e-08,  3.3361192834e-07]]],\n \n \n         [[[ 2.9911151251e-03,  3.3386779969e-03,  3.3432080881e-03],\n           [ 2.9851086933e-03,  3.1807299871e-03,  3.3874228662e-03],\n           [ 3.1780396200e-03,  3.4752925816e-03,  3.5077643997e-03]],\n \n          [[ 2.7918532007e-03,  2.8886124441e-03,  2.7043178074e-03],\n           [ 3.0309893686e-03,  3.1413924015e-03,  2.8366378136e-03],\n           [ 2.8808914485e-03,  3.0595109721e-03,  2.8365606015e-03]],\n \n          [[ 0.0000000000e+00,  0.0000000000e+00,  0.0000000000e+00],\n           [ 0.0000000000e+00,  0.0000000000e+00,  0.0000000000e+00],\n           [ 0.0000000000e+00,  0.0000000000e+00,  0.0000000000e+00]],\n \n          ...,\n \n          [[ 1.6236317427e-03,  1.7417480911e-03,  1.8172348080e-03],\n           [ 1.8608868652e-03,  2.0682120716e-03,  2.0582158663e-03],\n           [ 1.9377664280e-03,  1.9664447850e-03,  1.9843844993e-03]],\n \n          [[-1.5163823507e-04, -1.2793366406e-04, -1.2729272723e-04],\n           [ 1.6130757822e-05,  5.7332997912e-05,  3.8575920200e-05],\n           [ 7.0761351851e-05,  6.1868784113e-05,  3.7195265572e-05]],\n \n          [[ 0.0000000000e+00,  1.8399362517e-08,  2.0271177566e-07],\n           [ 2.0793203652e-07,  4.7962960453e-07, -8.3651211687e-08],\n           [ 3.4252782772e-07, -2.2701868915e-08, -1.1213822103e-06]]],\n \n \n         [[[ 8.0411301228e-06,  5.1554377179e-06,  5.4065520388e-06],\n           [ 5.9003889032e-06,  3.8179608011e-06,  3.7448801721e-06],\n           [ 4.6246791371e-06,  4.3432652492e-06,  3.0202463886e-06]],\n \n          [[ 4.7923834358e-06,  3.7328519404e-06,  4.0159626492e-06],\n           [ 4.1569171098e-06,  3.4634453661e-06,  3.9074880420e-06],\n           [ 4.7940489258e-06,  5.1263428208e-06,  4.5148693144e-06]],\n \n          [[ 0.0000000000e+00,  0.0000000000e+00,  0.0000000000e+00],\n           [ 0.0000000000e+00,  0.0000000000e+00,  0.0000000000e+00],\n           [ 0.0000000000e+00,  0.0000000000e+00,  0.0000000000e+00]],\n \n          ...,\n \n          [[ 3.8420542945e-06,  4.2252706113e-06,  2.6115205136e-06],\n           [ 1.1872846553e-06,  2.1962809700e-06,  5.4511067312e-06],\n           [ 3.8351635424e-06,  3.4825240918e-06,  3.6319023190e-06]],\n \n          [[ 0.0000000000e+00,  0.0000000000e+00,  0.0000000000e+00],\n           [ 0.0000000000e+00,  2.3410715496e-08,  0.0000000000e+00],\n           [ 0.0000000000e+00,  9.8513269057e-07,  0.0000000000e+00]],\n \n          [[ 0.0000000000e+00,  0.0000000000e+00,  0.0000000000e+00],\n           [ 0.0000000000e+00,  0.0000000000e+00,  0.0000000000e+00],\n           [ 0.0000000000e+00,  0.0000000000e+00,  0.0000000000e+00]]],\n \n \n         ...,\n \n \n         [[[-4.1417240879e-02, -4.0310280112e-02, -3.7409095944e-02],\n           [-3.9678271036e-02, -3.9277123696e-02, -3.8190476094e-02],\n           [-3.7390375825e-02, -3.8902447198e-02, -3.9255405851e-02]],\n \n          [[-3.3723592620e-02, -3.4087331810e-02, -3.4195706495e-02],\n           [-3.5197852741e-02, -3.4589025439e-02, -3.3737795248e-02],\n           [-3.4950636945e-02, -3.4133058950e-02, -3.3311250102e-02]],\n \n          [[ 0.0000000000e+00,  0.0000000000e+00,  0.0000000000e+00],\n           [ 0.0000000000e+00,  0.0000000000e+00,  0.0000000000e+00],\n           [ 0.0000000000e+00,  0.0000000000e+00,  0.0000000000e+00]],\n \n          ...,\n \n          [[-2.5941889381e-02, -2.5159929376e-02, -2.5183051608e-02],\n           [-2.2205392959e-02, -2.3547100377e-02, -2.5420740016e-02],\n           [-2.3364578407e-02, -2.4344732389e-02, -2.4961315836e-02]],\n \n          [[-4.5584316899e-04, -3.7308029656e-04, -3.5478905590e-04],\n           [-2.2968289952e-04, -3.3020633538e-04, -3.1803348344e-04],\n           [-1.9250759068e-04, -2.8296376386e-04, -3.8683884373e-04]],\n \n          [[ 0.0000000000e+00, -1.2221876309e-07, -4.7341968776e-07],\n           [-3.0200627627e-07,  4.8726054831e-07,  1.7853612807e-06],\n           [-2.9169917637e-07, -1.2954262234e-08, -1.9292518943e-06]]],\n \n \n         [[[-2.3803596039e-02, -1.8683466330e-02, -2.1500176290e-02],\n           [-2.9226721406e-02, -2.6992911690e-02, -2.7882557444e-02],\n           [-3.5535877767e-02, -3.7312271066e-02, -3.3031779257e-02]],\n \n          [[-2.6312386247e-02, -2.9359152722e-02, -2.7115720227e-02],\n           [-2.6878112850e-02, -2.8570400606e-02, -2.7810674985e-02],\n           [-2.5883883769e-02, -2.6770393673e-02, -2.5869238618e-02]],\n \n          [[ 0.0000000000e+00,  0.0000000000e+00,  0.0000000000e+00],\n           [ 0.0000000000e+00,  0.0000000000e+00,  0.0000000000e+00],\n           [ 0.0000000000e+00,  0.0000000000e+00,  0.0000000000e+00]],\n \n          ...,\n \n          [[-1.7074229281e-02, -1.1025827152e-02, -1.4386957113e-02],\n           [-2.6261746841e-02, -2.4685420785e-02, -2.3248146088e-02],\n           [-3.0560325074e-02, -3.1904427406e-02, -2.6867607190e-02]],\n \n          [[ 4.8279392846e-05, -6.6166392319e-05, -5.4626483715e-05],\n           [-1.6269799290e-03, -1.7401577661e-03, -1.4321900829e-03],\n           [-4.3219469459e-04, -6.1564567866e-04, -1.3936402339e-04]],\n \n          [[-5.8043520697e-06, -4.9811598485e-06,  4.6075419459e-07],\n           [ 2.3165016926e-07, -4.3583973139e-07, -3.1190797403e-07],\n           [-1.2248643576e-06,  3.9672490612e-06, -9.8713296634e-07]]],\n \n \n         [[[ 9.9513986507e-04,  1.5150081056e-03,  1.9947005612e-03],\n           [-2.2497654245e-03, -2.2521646519e-03, -1.9758718086e-03],\n           [-1.7951441351e-03, -2.0774606729e-03, -2.0207158331e-03]],\n \n          [[ 1.1779916025e-03,  2.6751122576e-04,  6.9954113032e-04],\n           [-9.4935489059e-04, -1.6618548407e-03, -1.5503859393e-03],\n           [-8.4237125378e-04, -1.1054409457e-03, -9.3401427436e-04]],\n \n          [[ 0.0000000000e+00,  0.0000000000e+00,  0.0000000000e+00],\n           [ 0.0000000000e+00,  0.0000000000e+00,  0.0000000000e+00],\n           [ 0.0000000000e+00,  0.0000000000e+00,  0.0000000000e+00]],\n \n          ...,\n \n          [[-5.1720489821e-04,  4.0113806767e-04,  8.2970130303e-04],\n           [-3.6142085611e-03, -4.2563578680e-03, -3.0989066804e-03],\n           [-2.1418990962e-03, -2.3819255970e-03, -1.5290901075e-03]],\n \n          [[-1.7796550667e-04, -1.9779082564e-04, -5.5073849973e-05],\n           [-1.4556077303e-03, -1.5695847215e-03, -1.3161301202e-03],\n           [-2.9042775883e-05, -6.8904953624e-05,  1.2653448690e-05]],\n \n          [[ 3.6793716648e-07, -7.4657239816e-07,  2.7507960579e-07],\n           [ 0.0000000000e+00,  0.0000000000e+00, -8.1660323021e-07],\n           [ 1.6720771089e-06,  0.0000000000e+00, -2.4884877261e-07]]]],\n        device='cuda:0', dtype=torch.float64),\n tensor([[[[-4.8678349948e-03, -5.1749749465e-03, -5.1596507566e-03],\n           [-7.0603528537e-03, -7.9153189294e-03, -7.4619083188e-03],\n           [-8.4726095341e-03, -9.2549817285e-03, -8.3715450944e-03]],\n \n          [[-4.5189544978e-04, -3.7851435742e-04, -3.0226116192e-04],\n           [-1.4358655854e-04, -1.0062027997e-04, -1.2564362524e-04],\n           [-1.2981938313e-04, -6.3270257520e-05, -1.2162463389e-04]],\n \n          [[ 0.0000000000e+00,  0.0000000000e+00,  0.0000000000e+00],\n           [ 0.0000000000e+00,  0.0000000000e+00,  0.0000000000e+00],\n           [ 0.0000000000e+00,  0.0000000000e+00,  0.0000000000e+00]],\n \n          ...,\n \n          [[-2.3585866728e-03, -2.0481118991e-03, -1.3062752090e-03],\n           [-1.7136914234e-03, -1.9065757946e-03, -1.8290727021e-03],\n           [-1.1425480633e-03, -1.7709038236e-03, -2.2520196029e-03]],\n \n          [[-1.0940684071e-02, -1.1654781005e-02, -1.2279847769e-02],\n           [-1.0023579688e-02, -9.8887650820e-03, -1.0614420037e-02],\n           [-9.5387191358e-03, -9.1721238302e-03, -9.9587967067e-03]],\n \n          [[-1.2666150283e-03, -1.4112646579e-03, -1.3928607581e-03],\n           [-1.7677395494e-03, -3.3576973710e-03, -2.8181340912e-03],\n           [-2.0476501601e-03, -3.3118907996e-03, -2.4272239193e-03]]],\n \n \n         [[[-4.2707390789e-03, -4.1774243910e-03, -4.5427339190e-03],\n           [-3.7491131346e-03, -2.8728739047e-03, -3.4479276054e-03],\n           [-4.8804463838e-03, -3.8318587030e-03, -4.2554388252e-03]],\n \n          [[-3.4629090244e-04, -4.2378619598e-04, -4.6106012639e-04],\n           [-1.9395885634e-04, -1.9557277481e-04, -2.6016217098e-04],\n           [-1.6867650470e-04, -1.4434834789e-04, -2.3191323589e-04]],\n \n          [[ 0.0000000000e+00,  0.0000000000e+00,  0.0000000000e+00],\n           [ 0.0000000000e+00,  0.0000000000e+00,  0.0000000000e+00],\n           [ 0.0000000000e+00,  0.0000000000e+00,  0.0000000000e+00]],\n \n          ...,\n \n          [[-9.3209128998e-04, -1.2575773934e-03, -1.6347066429e-03],\n           [-1.2383687231e-03, -1.5570131995e-03, -1.7280688440e-03],\n           [-1.5890721747e-03, -9.5992600770e-04, -6.4919505232e-04]],\n \n          [[-6.3975209017e-03, -4.8791304382e-03, -6.2166864377e-03],\n           [-7.3789195491e-03, -7.2236063854e-03, -8.0269384450e-03],\n           [-8.0182304701e-03, -8.8203426180e-03, -8.6236638514e-03]],\n \n          [[-1.4810560349e-03, -1.3620915357e-03, -1.0682054292e-03],\n           [-9.2100135128e-04, -7.1154128657e-04, -7.4289622780e-04],\n           [-1.0683087519e-03, -1.0040453866e-03, -1.1200330349e-03]]],\n \n \n         [[[-3.1128092662e-04, -9.2912599367e-04, -5.5935918884e-04],\n           [-1.5158118305e-04, -8.2661003335e-04, -5.1346048184e-04],\n           [-2.1037398746e-04, -8.5240668467e-04, -5.0657586191e-04]],\n \n          [[-7.2520422359e-05, -6.5446387814e-05, -1.5235157225e-04],\n           [-4.7953338578e-05, -6.7560214395e-05, -1.5053424461e-04],\n           [-6.5428541261e-05, -1.1185292323e-04, -1.7893567451e-04]],\n \n          [[ 0.0000000000e+00,  0.0000000000e+00,  0.0000000000e+00],\n           [ 0.0000000000e+00,  0.0000000000e+00,  0.0000000000e+00],\n           [ 0.0000000000e+00,  0.0000000000e+00,  0.0000000000e+00]],\n \n          ...,\n \n          [[-2.2379006805e-04, -1.7682735227e-04, -1.0519268910e-04],\n           [-3.1350218812e-04, -2.6320136861e-04, -1.0181821040e-04],\n           [-1.4688914005e-04, -1.4643860595e-04, -3.7975057175e-05]],\n \n          [[-5.4625667419e-04, -6.7912054143e-04, -1.4518696071e-03],\n           [-6.6709734786e-04, -8.4247642407e-04, -1.4894452184e-03],\n           [-9.2458919072e-04, -1.1176425118e-03, -1.6015491940e-03]],\n \n          [[-1.9055763401e-04, -2.8630385742e-04, -2.1651930920e-04],\n           [-1.0207329298e-04, -2.2353701046e-04, -2.0444017695e-04],\n           [-9.7251238862e-05, -1.8514512275e-04, -2.1010927433e-04]]],\n \n \n         ...,\n \n \n         [[[-5.8726594587e-03, -5.2978972413e-03, -5.2549976302e-03],\n           [-1.1517779241e-02, -1.2227168842e-02, -1.0920003305e-02],\n           [-9.3941089952e-03, -1.0367133718e-02, -8.5685532041e-03]],\n \n          [[-2.8578927429e-04, -2.9575827296e-04, -2.0734806582e-04],\n           [-7.5877793313e-04, -8.1285157037e-04, -8.1391796499e-04],\n           [-4.5400342915e-04, -4.8546386613e-04, -4.4309176979e-04]],\n \n          [[ 0.0000000000e+00,  0.0000000000e+00,  0.0000000000e+00],\n           [ 0.0000000000e+00,  0.0000000000e+00,  0.0000000000e+00],\n           [ 0.0000000000e+00,  0.0000000000e+00,  0.0000000000e+00]],\n \n          ...,\n \n          [[-1.7232199366e-03, -1.8363953487e-03, -1.7313578809e-03],\n           [-2.5068389575e-03, -1.6137567302e-03, -8.5807952164e-04],\n           [-3.1175175017e-03, -2.1541200906e-03, -1.5823158294e-03]],\n \n          [[-1.3053399724e-02, -1.4645657761e-02, -1.4120014917e-02],\n           [-1.4071937995e-02, -1.5173119865e-02, -1.5001445150e-02],\n           [-1.3688234726e-02, -1.4690883832e-02, -1.4582691387e-02]],\n \n          [[-1.3933437014e-03, -1.4518095950e-03, -9.1815893933e-04],\n           [-5.8870549138e-03, -7.1802370459e-03, -5.4804139946e-03],\n           [-3.7731423264e-03, -4.3029931622e-03, -3.7378490896e-03]]],\n \n \n         [[[-7.0099186263e-03, -7.6217888750e-03, -7.3467773555e-03],\n           [-4.8254195954e-03, -5.4644996976e-03, -5.2951958341e-03],\n           [-5.8070110565e-03, -7.0074399967e-03, -6.0277717762e-03]],\n \n          [[-1.0424984964e-03, -1.1378586850e-03, -8.9624442351e-04],\n           [-8.4253511480e-04, -9.2741101034e-04, -8.6369570478e-04],\n           [-3.6302507456e-04, -5.6827398003e-04, -5.0685782642e-04]],\n \n          [[ 0.0000000000e+00,  0.0000000000e+00,  0.0000000000e+00],\n           [ 0.0000000000e+00,  0.0000000000e+00,  0.0000000000e+00],\n           [ 0.0000000000e+00,  0.0000000000e+00,  0.0000000000e+00]],\n \n          ...,\n \n          [[-1.0743033217e-03, -1.1866544372e-03, -1.6075039025e-03],\n           [-1.2889035321e-03, -1.1065658643e-03, -1.3676841400e-03],\n           [-1.1211595893e-03, -1.2262228890e-03, -1.5401513612e-03]],\n \n          [[-1.0482584357e-02, -1.1606746533e-02, -1.0489650001e-02],\n           [-9.5283905440e-03, -1.0291531881e-02, -8.7895016926e-03],\n           [-9.9444776544e-03, -1.0975652633e-02, -9.8869687481e-03]],\n \n          [[-3.3538296631e-03, -3.8495599974e-03, -3.5288287765e-03],\n           [-1.5653189557e-03, -1.7978706960e-03, -1.4695741487e-03],\n           [-1.7755067618e-03, -1.9937322989e-03, -1.4077333007e-03]]],\n \n \n         [[[-7.1057667244e-03, -8.0533545585e-03, -7.8864456129e-03],\n           [-9.3005800496e-03, -1.0500552997e-02, -1.0953663855e-02],\n           [-8.3895040796e-03, -9.8567065262e-03, -9.7585432422e-03]],\n \n          [[-6.7605635405e-04, -7.0125788741e-04, -4.7031336393e-04],\n           [-7.4039814988e-04, -8.5413944745e-04, -6.5087402288e-04],\n           [-3.6422461837e-04, -5.3632837897e-04, -4.2446586105e-04]],\n \n          [[ 0.0000000000e+00,  0.0000000000e+00,  0.0000000000e+00],\n           [ 0.0000000000e+00,  0.0000000000e+00,  0.0000000000e+00],\n           [ 0.0000000000e+00,  0.0000000000e+00,  0.0000000000e+00]],\n \n          ...,\n \n          [[-2.8507813237e-03, -1.7919769506e-03, -9.6721102693e-04],\n           [-2.2369179129e-03, -1.3379493048e-03, -5.9260974476e-04],\n           [-1.5884317705e-03, -1.5500696844e-03, -1.6319495785e-03]],\n \n          [[-1.4791528979e-02, -1.6818873403e-02, -1.6960592136e-02],\n           [-1.4128643994e-02, -1.5123413994e-02, -1.4364627540e-02],\n           [-1.1229681341e-02, -1.0319479149e-02, -1.0475445718e-02]],\n \n          [[-1.1517963385e-03, -1.2074413842e-03, -1.8208740121e-03],\n           [-2.5621344215e-03, -1.9391640510e-03, -2.0261135103e-03],\n           [-2.3053347749e-03, -1.7027657279e-03, -1.5278768548e-03]]]],\n        device='cuda:0', dtype=torch.float64)]"
     },
     "execution_count": 21,
     "metadata": {},
     "output_type": "execute_result"
    }
   ],
   "source": [
    "sCNN.disable()\n",
    "\n",
    "streaming_conv_gradients\n"
   ],
   "metadata": {
    "collapsed": false,
    "ExecuteTime": {
     "end_time": "2024-01-12T13:42:32.837013Z",
     "start_time": "2024-01-12T13:42:30.746586500Z"
    }
   },
   "id": "9caf49cce06c5f0e"
  },
  {
   "cell_type": "markdown",
   "source": [
    "## Compare to conventional training"
   ],
   "metadata": {
    "collapsed": false
   },
   "id": "74e7c24c47c0bfcb"
  },
  {
   "cell_type": "code",
   "execution_count": 22,
   "outputs": [],
   "source": [
    "resnet = resnet18(weights=\"IMAGENET1K_V1\")\n",
    "stream_net, head = split_model(resnet)\n",
    "\n",
    "stream_net, head = split_model(resnet)\n",
    "\n",
    "def freeze_bn_layers(model):\n",
    "    for mod in model.modules():\n",
    "        if isinstance(mod, torch.nn.BatchNorm2d):\n",
    "            mod.eval()\n",
    "\n",
    "freeze_bn_layers(stream_net)\n",
    "stream_net.type(dtype)\n",
    "if cuda: stream_net.cuda()\n",
    "\n",
    "\n",
    "for i, layer in enumerate(stream_net.modules()):\n",
    "    if isinstance(layer, torch.nn.Conv2d):\n",
    "        if layer.weight.grad is not None:\n",
    "            layer.weight.grad.data.zero_()\n",
    "            layer.bias.grad.data.zero_()\n",
    "            \n"
   ],
   "metadata": {
    "collapsed": false,
    "ExecuteTime": {
     "end_time": "2024-01-12T13:42:35.162019100Z",
     "start_time": "2024-01-12T13:42:32.831035100Z"
    }
   },
   "id": "f570eb5063cdd391"
  },
  {
   "cell_type": "code",
   "execution_count": 23,
   "outputs": [],
   "source": [
    "conventional_gradients = []\n",
    "inps = []\n",
    "\n",
    "def save_grad(module, grad_in, grad_out):\n",
    "    global conventional_gradients\n",
    "    conventional_gradients.append(grad_out[0].clone())\n",
    "        \n",
    "for i, layer in enumerate(stream_net.modules()):\n",
    "    if isinstance(layer, torch.nn.Conv2d):\n",
    "        layer.register_backward_hook(save_grad)"
   ],
   "metadata": {
    "collapsed": false,
    "ExecuteTime": {
     "end_time": "2024-01-12T13:42:35.743196100Z",
     "start_time": "2024-01-12T13:42:35.158708400Z"
    }
   },
   "id": "3b31e08e29427099"
  },
  {
   "cell_type": "markdown",
   "source": [
    "This output should be the same as the streaming output, if so, the loss will also be the same:\n",
    "\n"
   ],
   "metadata": {
    "collapsed": false
   },
   "id": "76e88ba324844ae5"
  },
  {
   "cell_type": "code",
   "execution_count": 24,
   "outputs": [
    {
     "name": "stderr",
     "output_type": "stream",
     "text": [
      "/usr/local/lib/python3.11/site-packages/torch/nn/modules/module.py:1344: UserWarning: Using a non-full backward hook when the forward contains multiple autograd Nodes is deprecated and will be removed in future versions. This hook will be missing some grad_input. Please use register_full_backward_hook to get the documented behavior.\n",
      "  warnings.warn(\"Using a non-full backward hook when the forward contains multiple autograd Nodes \"\n"
     ]
    },
    {
     "data": {
      "text/plain": "torch.Size([1, 256, 25, 25])"
     },
     "execution_count": 24,
     "metadata": {},
     "output_type": "execute_result"
    }
   ],
   "source": [
    "image.requires_grad = True\n",
    "stream_net.to('cpu')\n",
    "conventional_output = stream_net(image[None].to('cpu')); conventional_output.max()\n",
    "conventional_output.shape"
   ],
   "metadata": {
    "collapsed": false,
    "ExecuteTime": {
     "end_time": "2024-01-12T13:42:49.099355400Z",
     "start_time": "2024-01-12T13:42:44.944983700Z"
    }
   },
   "id": "f6974420d6615a1e"
  },
  {
   "cell_type": "code",
   "execution_count": 25,
   "outputs": [
    {
     "name": "stdout",
     "output_type": "stream",
     "text": [
      "torch.Size([1, 256, 25, 25])\n"
     ]
    },
    {
     "data": {
      "text/plain": "torch.Size([1, 256, 25, 25])"
     },
     "execution_count": 25,
     "metadata": {},
     "output_type": "execute_result"
    }
   ],
   "source": [
    "print(conventional_output.shape)\n",
    "stream_output.shape"
   ],
   "metadata": {
    "collapsed": false,
    "ExecuteTime": {
     "end_time": "2024-01-12T13:42:49.105542500Z",
     "start_time": "2024-01-12T13:42:49.100356900Z"
    }
   },
   "id": "c29f896aa692a1b"
  },
  {
   "cell_type": "code",
   "execution_count": 26,
   "outputs": [
    {
     "name": "stdout",
     "output_type": "stream",
     "text": [
      "torch.Size([1, 256, 25, 25]) torch.Size([1, 256, 25, 25])\n",
      "Equal output to streaming\n"
     ]
    }
   ],
   "source": [
    "# NOTE: sometimes output can be slightly bigger \n",
    "# (if tiles do not fit nicely on input image according to output stride)\n",
    "# In that case this check may fail.\n",
    "print(stream_output.shape, conventional_output.shape)\n",
    "max_error = torch.abs(stream_output.detach().cpu() - conventional_output).max().item()\n",
    "\n",
    "if max_error < 1e-7:\n",
    "    print(\"Equal output to streaming\")\n",
    "else:\n",
    "    print(\"NOT equal output to streaming\"),\n",
    "    print(\"error:\", max_error)"
   ],
   "metadata": {
    "collapsed": false,
    "ExecuteTime": {
     "end_time": "2024-01-12T13:42:52.075871900Z",
     "start_time": "2024-01-12T13:42:49.103393100Z"
    }
   },
   "id": "54e6961142a52c24"
  },
  {
   "cell_type": "code",
   "execution_count": 27,
   "outputs": [
    {
     "data": {
      "text/plain": "tensor(0.5622967603, dtype=torch.float64, grad_fn=<SigmoidBackward0>)"
     },
     "execution_count": 27,
     "metadata": {},
     "output_type": "execute_result"
    }
   ],
   "source": [
    "output = torch.sigmoid(torch.mean(conventional_output)); output"
   ],
   "metadata": {
    "collapsed": false,
    "ExecuteTime": {
     "end_time": "2024-01-12T13:42:53.586269400Z",
     "start_time": "2024-01-12T13:42:52.068120700Z"
    }
   },
   "id": "dab0ce2d17f05bb8"
  },
  {
   "cell_type": "code",
   "execution_count": 28,
   "outputs": [
    {
     "ename": "RuntimeError",
     "evalue": "iter.device(arg).is_cuda() INTERNAL ASSERT FAILED at \"../aten/src/ATen/native/cuda/Loops.cuh\":89, please report a bug to PyTorch. argument 1: expected a CUDA device but found cpu",
     "output_type": "error",
     "traceback": [
      "\u001B[0;31m---------------------------------------------------------------------------\u001B[0m",
      "\u001B[0;31mRuntimeError\u001B[0m                              Traceback (most recent call last)",
      "Cell \u001B[0;32mIn[28], line 1\u001B[0m\n\u001B[0;32m----> 1\u001B[0m loss \u001B[38;5;241m=\u001B[39m criterion(output, target); loss\n",
      "File \u001B[0;32m/usr/local/lib/python3.11/site-packages/torch/nn/modules/module.py:1501\u001B[0m, in \u001B[0;36mModule._call_impl\u001B[0;34m(self, *args, **kwargs)\u001B[0m\n\u001B[1;32m   1496\u001B[0m \u001B[38;5;66;03m# If we don't have any hooks, we want to skip the rest of the logic in\u001B[39;00m\n\u001B[1;32m   1497\u001B[0m \u001B[38;5;66;03m# this function, and just call forward.\u001B[39;00m\n\u001B[1;32m   1498\u001B[0m \u001B[38;5;28;01mif\u001B[39;00m \u001B[38;5;129;01mnot\u001B[39;00m (\u001B[38;5;28mself\u001B[39m\u001B[38;5;241m.\u001B[39m_backward_hooks \u001B[38;5;129;01mor\u001B[39;00m \u001B[38;5;28mself\u001B[39m\u001B[38;5;241m.\u001B[39m_backward_pre_hooks \u001B[38;5;129;01mor\u001B[39;00m \u001B[38;5;28mself\u001B[39m\u001B[38;5;241m.\u001B[39m_forward_hooks \u001B[38;5;129;01mor\u001B[39;00m \u001B[38;5;28mself\u001B[39m\u001B[38;5;241m.\u001B[39m_forward_pre_hooks\n\u001B[1;32m   1499\u001B[0m         \u001B[38;5;129;01mor\u001B[39;00m _global_backward_pre_hooks \u001B[38;5;129;01mor\u001B[39;00m _global_backward_hooks\n\u001B[1;32m   1500\u001B[0m         \u001B[38;5;129;01mor\u001B[39;00m _global_forward_hooks \u001B[38;5;129;01mor\u001B[39;00m _global_forward_pre_hooks):\n\u001B[0;32m-> 1501\u001B[0m     \u001B[38;5;28;01mreturn\u001B[39;00m \u001B[43mforward_call\u001B[49m\u001B[43m(\u001B[49m\u001B[38;5;241;43m*\u001B[39;49m\u001B[43margs\u001B[49m\u001B[43m,\u001B[49m\u001B[43m \u001B[49m\u001B[38;5;241;43m*\u001B[39;49m\u001B[38;5;241;43m*\u001B[39;49m\u001B[43mkwargs\u001B[49m\u001B[43m)\u001B[49m\n\u001B[1;32m   1502\u001B[0m \u001B[38;5;66;03m# Do not call functions when jit is used\u001B[39;00m\n\u001B[1;32m   1503\u001B[0m full_backward_hooks, non_full_backward_hooks \u001B[38;5;241m=\u001B[39m [], []\n",
      "File \u001B[0;32m/usr/local/lib/python3.11/site-packages/torch/nn/modules/loss.py:536\u001B[0m, in \u001B[0;36mMSELoss.forward\u001B[0;34m(self, input, target)\u001B[0m\n\u001B[1;32m    535\u001B[0m \u001B[38;5;28;01mdef\u001B[39;00m \u001B[38;5;21mforward\u001B[39m(\u001B[38;5;28mself\u001B[39m, \u001B[38;5;28minput\u001B[39m: Tensor, target: Tensor) \u001B[38;5;241m-\u001B[39m\u001B[38;5;241m>\u001B[39m Tensor:\n\u001B[0;32m--> 536\u001B[0m     \u001B[38;5;28;01mreturn\u001B[39;00m \u001B[43mF\u001B[49m\u001B[38;5;241;43m.\u001B[39;49m\u001B[43mmse_loss\u001B[49m\u001B[43m(\u001B[49m\u001B[38;5;28;43minput\u001B[39;49m\u001B[43m,\u001B[49m\u001B[43m \u001B[49m\u001B[43mtarget\u001B[49m\u001B[43m,\u001B[49m\u001B[43m \u001B[49m\u001B[43mreduction\u001B[49m\u001B[38;5;241;43m=\u001B[39;49m\u001B[38;5;28;43mself\u001B[39;49m\u001B[38;5;241;43m.\u001B[39;49m\u001B[43mreduction\u001B[49m\u001B[43m)\u001B[49m\n",
      "File \u001B[0;32m/usr/local/lib/python3.11/site-packages/torch/nn/functional.py:3295\u001B[0m, in \u001B[0;36mmse_loss\u001B[0;34m(input, target, size_average, reduce, reduction)\u001B[0m\n\u001B[1;32m   3292\u001B[0m     reduction \u001B[38;5;241m=\u001B[39m _Reduction\u001B[38;5;241m.\u001B[39mlegacy_get_string(size_average, reduce)\n\u001B[1;32m   3294\u001B[0m expanded_input, expanded_target \u001B[38;5;241m=\u001B[39m torch\u001B[38;5;241m.\u001B[39mbroadcast_tensors(\u001B[38;5;28minput\u001B[39m, target)\n\u001B[0;32m-> 3295\u001B[0m \u001B[38;5;28;01mreturn\u001B[39;00m \u001B[43mtorch\u001B[49m\u001B[38;5;241;43m.\u001B[39;49m\u001B[43m_C\u001B[49m\u001B[38;5;241;43m.\u001B[39;49m\u001B[43m_nn\u001B[49m\u001B[38;5;241;43m.\u001B[39;49m\u001B[43mmse_loss\u001B[49m\u001B[43m(\u001B[49m\u001B[43mexpanded_input\u001B[49m\u001B[43m,\u001B[49m\u001B[43m \u001B[49m\u001B[43mexpanded_target\u001B[49m\u001B[43m,\u001B[49m\u001B[43m \u001B[49m\u001B[43m_Reduction\u001B[49m\u001B[38;5;241;43m.\u001B[39;49m\u001B[43mget_enum\u001B[49m\u001B[43m(\u001B[49m\u001B[43mreduction\u001B[49m\u001B[43m)\u001B[49m\u001B[43m)\u001B[49m\n",
      "\u001B[0;31mRuntimeError\u001B[0m: iter.device(arg).is_cuda() INTERNAL ASSERT FAILED at \"../aten/src/ATen/native/cuda/Loops.cuh\":89, please report a bug to PyTorch. argument 1: expected a CUDA device but found cpu"
     ]
    }
   ],
   "source": [
    "loss = criterion(output, target); loss"
   ],
   "metadata": {
    "collapsed": false,
    "ExecuteTime": {
     "end_time": "2024-01-12T13:42:55.194513100Z",
     "start_time": "2024-01-12T13:42:53.562771400Z"
    }
   },
   "id": "c48adcad2f38750a"
  },
  {
   "cell_type": "code",
   "execution_count": 51,
   "outputs": [],
   "source": [
    "loss.backward()"
   ],
   "metadata": {
    "collapsed": false,
    "ExecuteTime": {
     "end_time": "2023-10-08T15:55:40.345657Z",
     "start_time": "2023-10-08T15:55:40.337640600Z"
    }
   },
   "id": "fbb061cb856557d6"
  },
  {
   "cell_type": "code",
   "execution_count": 52,
   "outputs": [
    {
     "data": {
      "text/plain": "torch.Size([1, 64, 752, 752])"
     },
     "execution_count": 52,
     "metadata": {},
     "output_type": "execute_result"
    }
   ],
   "source": [
    "conventional_gradients[-1].shape"
   ],
   "metadata": {
    "collapsed": false,
    "ExecuteTime": {
     "end_time": "2023-10-08T15:55:42.100067300Z",
     "start_time": "2023-10-08T15:55:42.086072500Z"
    }
   },
   "id": "39c710f3672801ab"
  },
  {
   "cell_type": "markdown",
   "source": [
    "## Compare the gradients of the input image\n",
    "Using the saliency argument, we can compute the gradient w.r.t to the input image. If streaming is the same as conventional training, these gradients should be roughly equal"
   ],
   "metadata": {
    "collapsed": false
   },
   "id": "6161a9b953a30d5c"
  },
  {
   "cell_type": "code",
   "execution_count": 53,
   "outputs": [
    {
     "name": "stdout",
     "output_type": "stream",
     "text": [
      "0.0020155576469186457\n"
     ]
    }
   ],
   "source": [
    "diff = image.grad.detach().cpu().numpy() - sCNN.saliency_map[0].numpy()\n",
    "print(diff.max())"
   ],
   "metadata": {
    "collapsed": false,
    "ExecuteTime": {
     "end_time": "2023-10-08T15:55:43.431441200Z",
     "start_time": "2023-10-08T15:55:43.388378800Z"
    }
   },
   "id": "f5e23077c982b5"
  },
  {
   "cell_type": "markdown",
   "source": [
    "## Compare the gradients of the conv2d layers"
   ],
   "metadata": {
    "collapsed": false
   },
   "id": "3fb109b0b711f846"
  },
  {
   "cell_type": "code",
   "execution_count": 54,
   "outputs": [
    {
     "name": "stdout",
     "output_type": "stream",
     "text": [
      "Conv layer 0 \t Conv2d(3, 64, kernel_size=(7, 7), stride=(2, 2), padding=(3, 3), bias=False)\n",
      "Conv layer 1 \t Conv2d(64, 64, kernel_size=(3, 3), stride=(1, 1), padding=(1, 1), bias=False)\n",
      "Conv layer 2 \t Conv2d(64, 64, kernel_size=(3, 3), stride=(1, 1), padding=(1, 1), bias=False)\n",
      "Conv layer 3 \t Conv2d(64, 64, kernel_size=(3, 3), stride=(1, 1), padding=(1, 1), bias=False)\n",
      "Conv layer 4 \t Conv2d(64, 64, kernel_size=(3, 3), stride=(1, 1), padding=(1, 1), bias=False)\n",
      "Conv layer 5 \t Conv2d(64, 128, kernel_size=(3, 3), stride=(2, 2), padding=(1, 1), bias=False)\n",
      "Conv layer 6 \t Conv2d(128, 128, kernel_size=(3, 3), stride=(1, 1), padding=(1, 1), bias=False)\n",
      "Conv layer 7 \t Conv2d(64, 128, kernel_size=(1, 1), stride=(2, 2), bias=False)\n",
      "Conv layer 8 \t Conv2d(128, 128, kernel_size=(3, 3), stride=(1, 1), padding=(1, 1), bias=False)\n",
      "Conv layer 9 \t Conv2d(128, 128, kernel_size=(3, 3), stride=(1, 1), padding=(1, 1), bias=False)\n",
      "Conv layer 10 \t Conv2d(128, 256, kernel_size=(3, 3), stride=(2, 2), padding=(1, 1), bias=False)\n",
      "Conv layer 11 \t Conv2d(256, 256, kernel_size=(3, 3), stride=(1, 1), padding=(1, 1), bias=False)\n",
      "Conv layer 12 \t Conv2d(128, 256, kernel_size=(1, 1), stride=(2, 2), bias=False)\n",
      "Conv layer 13 \t Conv2d(256, 256, kernel_size=(3, 3), stride=(1, 1), padding=(1, 1), bias=False)\n",
      "Conv layer 14 \t Conv2d(256, 256, kernel_size=(3, 3), stride=(1, 1), padding=(1, 1), bias=False)\n",
      "Conv layer 15 \t Conv2d(256, 512, kernel_size=(3, 3), stride=(2, 2), padding=(1, 1), bias=False)\n",
      "Conv layer 16 \t Conv2d(512, 512, kernel_size=(3, 3), stride=(1, 1), padding=(1, 1), bias=False)\n",
      "Conv layer 17 \t Conv2d(256, 512, kernel_size=(1, 1), stride=(2, 2), bias=False)\n",
      "Conv layer 18 \t Conv2d(512, 512, kernel_size=(3, 3), stride=(1, 1), padding=(1, 1), bias=False)\n",
      "Conv layer 19 \t Conv2d(512, 512, kernel_size=(3, 3), stride=(1, 1), padding=(1, 1), bias=False)\n"
     ]
    }
   ],
   "source": [
    "normal_conv_gradients = []\n",
    "j = 0\n",
    "for i, layer in enumerate(stream_net.modules()):\n",
    "    if isinstance(layer, torch.nn.Conv2d):\n",
    "        if layer.weight.grad is not None:\n",
    "            normal_conv_gradients.append(layer.weight.grad) \n",
    "            print('Conv layer', j, '\\t', layer)\n",
    "            j += 1"
   ],
   "metadata": {
    "collapsed": false,
    "ExecuteTime": {
     "end_time": "2023-10-08T15:55:44.680653700Z",
     "start_time": "2023-10-08T15:55:44.668599500Z"
    }
   },
   "id": "df05ee0e7443ea52"
  },
  {
   "cell_type": "code",
   "execution_count": 55,
   "outputs": [
    {
     "name": "stdout",
     "output_type": "stream",
     "text": [
      "Conventional \n",
      "\n",
      "Conv layer 0 \t average gradient size: 0.025278384389962636\n",
      "Conv layer 1 \t average gradient size: 0.1965582114937199\n",
      "Conv layer 2 \t average gradient size: 0.13338380764486021\n",
      "Conv layer 3 \t average gradient size: 0.21788707053958006\n",
      "Conv layer 4 \t average gradient size: 0.12211251266994495\n",
      "Conv layer 5 \t average gradient size: 0.27629812906776163\n",
      "Conv layer 6 \t average gradient size: 0.1499612032093409\n",
      "Conv layer 7 \t average gradient size: 0.5234610677786308\n",
      "Conv layer 8 \t average gradient size: 0.16657202504835927\n",
      "Conv layer 9 \t average gradient size: 0.07438151845975027\n",
      "Conv layer 10 \t average gradient size: 0.06905372369649644\n",
      "Conv layer 11 \t average gradient size: 0.03219021375690993\n",
      "Conv layer 12 \t average gradient size: 0.08026865727058952\n",
      "Conv layer 13 \t average gradient size: 0.055126688412476296\n",
      "Conv layer 14 \t average gradient size: 0.028606464769841595\n",
      "Conv layer 15 \t average gradient size: 0.021730748478855963\n",
      "Conv layer 16 \t average gradient size: 0.005808344896697414\n",
      "Conv layer 17 \t average gradient size: 0.047249270348701855\n",
      "Conv layer 18 \t average gradient size: 0.0065361244369155505\n",
      "Conv layer 19 \t average gradient size: 0.004171739768432276\n"
     ]
    }
   ],
   "source": [
    "print('Conventional', '\\n')\n",
    "\n",
    "for i in range(len(streaming_conv_gradients)):\n",
    "    print(\"Conv layer\", i, \"\\t average gradient size:\", \n",
    "          float(torch.mean(torch.abs(streaming_conv_gradients[i].data))))"
   ],
   "metadata": {
    "collapsed": false,
    "ExecuteTime": {
     "end_time": "2023-10-08T15:55:47.500583600Z",
     "start_time": "2023-10-08T15:55:47.426583Z"
    }
   },
   "id": "7a564fe7a995e37b"
  },
  {
   "cell_type": "code",
   "execution_count": 56,
   "outputs": [
    {
     "name": "stdout",
     "output_type": "stream",
     "text": [
      "Streaming \n",
      "\n",
      "Conv layer 0 \t average gradient size: 0.025278384389962643\n",
      "Conv layer 1 \t average gradient size: 0.19655821149371994\n",
      "Conv layer 2 \t average gradient size: 0.13338380764486021\n",
      "Conv layer 3 \t average gradient size: 0.21788707053958\n",
      "Conv layer 4 \t average gradient size: 0.12211251266994494\n",
      "Conv layer 5 \t average gradient size: 0.27629812906776163\n",
      "Conv layer 6 \t average gradient size: 0.14996120320934092\n",
      "Conv layer 7 \t average gradient size: 0.5234610677786309\n",
      "Conv layer 8 \t average gradient size: 0.16657202504835927\n",
      "Conv layer 9 \t average gradient size: 0.07438151845975027\n",
      "Conv layer 10 \t average gradient size: 0.06905372369649644\n",
      "Conv layer 11 \t average gradient size: 0.03219021375690993\n",
      "Conv layer 12 \t average gradient size: 0.08026865727058952\n",
      "Conv layer 13 \t average gradient size: 0.0551266884124763\n",
      "Conv layer 14 \t average gradient size: 0.028606464769841595\n",
      "Conv layer 15 \t average gradient size: 0.021730748478855963\n",
      "Conv layer 16 \t average gradient size: 0.005808344896697414\n",
      "Conv layer 17 \t average gradient size: 0.047249270348701855\n",
      "Conv layer 18 \t average gradient size: 0.0065361244369155505\n",
      "Conv layer 19 \t average gradient size: 0.004171739768432276\n"
     ]
    }
   ],
   "source": [
    "\n",
    "print('Streaming', '\\n')\n",
    "for i in range(len(normal_conv_gradients)):\n",
    "    print(\"Conv layer\", i, \"\\t average gradient size:\", \n",
    "          float(torch.mean(torch.abs(normal_conv_gradients[i].data))))"
   ],
   "metadata": {
    "collapsed": false,
    "ExecuteTime": {
     "end_time": "2023-10-08T15:55:49.316604700Z",
     "start_time": "2023-10-08T15:55:49.293698300Z"
    }
   },
   "id": "e7e4bd209a2a575b"
  },
  {
   "cell_type": "code",
   "execution_count": 57,
   "outputs": [
    {
     "name": "stdout",
     "output_type": "stream",
     "text": [
      "Conv layer 0 \t max difference between kernel gradients: 5.995204332975845e-15\n",
      "Conv layer 1 \t max difference between kernel gradients: 1.9095836023552692e-13\n",
      "Conv layer 2 \t max difference between kernel gradients: 7.061018436615996e-14\n",
      "Conv layer 3 \t max difference between kernel gradients: 1.6608936448392342e-13\n",
      "Conv layer 4 \t max difference between kernel gradients: 1.0835776720341528e-13\n",
      "Conv layer 5 \t max difference between kernel gradients: 4.574118861455645e-14\n",
      "Conv layer 6 \t max difference between kernel gradients: 1.1546319456101628e-13\n",
      "Conv layer 7 \t max difference between kernel gradients: 6.483702463810914e-14\n",
      "Conv layer 8 \t max difference between kernel gradients: 6.483702463810914e-14\n",
      "Conv layer 9 \t max difference between kernel gradients: 7.016609515630989e-14\n",
      "Conv layer 10 \t max difference between kernel gradients: 2.3092638912203256e-14\n",
      "Conv layer 11 \t max difference between kernel gradients: 1.554312234475219e-14\n",
      "Conv layer 12 \t max difference between kernel gradients: 2.042810365310288e-14\n",
      "Conv layer 13 \t max difference between kernel gradients: 1.9539925233402755e-14\n",
      "Conv layer 14 \t max difference between kernel gradients: 1.8207657603852567e-14\n",
      "Conv layer 15 \t max difference between kernel gradients: 3.9968028886505635e-15\n",
      "Conv layer 16 \t max difference between kernel gradients: 8.881784197001252e-15\n",
      "Conv layer 17 \t max difference between kernel gradients: 9.769962616701378e-15\n",
      "Conv layer 18 \t max difference between kernel gradients: 8.43769498715119e-15\n",
      "Conv layer 19 \t max difference between kernel gradients: 6.106226635438361e-16\n"
     ]
    }
   ],
   "source": [
    "for i in range(len(streaming_conv_gradients)):\n",
    "    diff = torch.abs(streaming_conv_gradients[i].data - normal_conv_gradients[i].data)\n",
    "    max_diff = diff.max()\n",
    "    print(\"Conv layer\", i, \"\\t max difference between kernel gradients:\", \n",
    "          float(max_diff))"
   ],
   "metadata": {
    "collapsed": false,
    "ExecuteTime": {
     "end_time": "2023-10-08T15:55:51.542838200Z",
     "start_time": "2023-10-08T15:55:51.460830500Z"
    }
   },
   "id": "c91a1edbfbd9e631"
  },
  {
   "cell_type": "code",
   "execution_count": 36,
   "outputs": [],
   "source": [],
   "metadata": {
    "collapsed": false,
    "ExecuteTime": {
     "end_time": "2023-10-08T15:52:53.466304700Z",
     "start_time": "2023-10-08T15:52:53.447303Z"
    }
   },
   "id": "de5d1b6202263776"
  },
  {
   "cell_type": "code",
   "execution_count": null,
   "outputs": [],
   "source": [],
   "metadata": {
    "collapsed": false
   },
   "id": "9bdf7f31cf821a38"
  }
 ],
 "metadata": {
  "kernelspec": {
   "display_name": "Python 3",
   "language": "python",
   "name": "python3"
  },
  "language_info": {
   "codemirror_mode": {
    "name": "ipython",
    "version": 2
   },
   "file_extension": ".py",
   "mimetype": "text/x-python",
   "name": "python",
   "nbconvert_exporter": "python",
   "pygments_lexer": "ipython2",
   "version": "2.7.6"
  }
 },
 "nbformat": 4,
 "nbformat_minor": 5
}
